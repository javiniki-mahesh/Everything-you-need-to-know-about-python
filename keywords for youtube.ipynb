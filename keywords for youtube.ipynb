{
 "cells": [
  {
   "cell_type": "markdown",
   "id": "0c9c4211",
   "metadata": {},
   "source": [
    "# Everything you need to know about python:\n",
    "## In simplest possible way"
   ]
  },
  {
   "cell_type": "markdown",
   "id": "099aa64a",
   "metadata": {},
   "source": [
    "# keywords"
   ]
  },
  {
   "cell_type": "markdown",
   "id": "9e048a05",
   "metadata": {},
   "source": [
    "    In Python, keywords are predefined and reserved words that hold specific meanings within the language's syntax. These fundamental elements serve as building blocks for constructing programs and play a crucial role in defining the language's structure and behavior. Python keywords cannot be used as identifiers (variable names, function names, etc.) since they are reserved for their designated purposes. Understanding these keywords is essential for any Python programmer, as they enable the creation of efficient, concise, and expressive code. Some examples of Python keywords include \"if,\" \"else,\" \"for,\" \"while,\" \"def,\" \"import,\" and \"return.\" By grasping the significance of these reserved words, developers can harness the true potential of Python and write robust, functional programs for various applications and domains."
   ]
  },
  {
   "cell_type": "markdown",
   "id": "9da0e923",
   "metadata": {},
   "source": [
    "### We are not allowed to use keywords for other purposes"
   ]
  },
  {
   "cell_type": "code",
   "execution_count": 6,
   "id": "739a3df0",
   "metadata": {
    "scrolled": true
   },
   "outputs": [
    {
     "ename": "SyntaxError",
     "evalue": "invalid syntax (182722112.py, line 1)",
     "output_type": "error",
     "traceback": [
      "\u001b[1;36m  Input \u001b[1;32mIn [6]\u001b[1;36m\u001b[0m\n\u001b[1;33m    if = 10\u001b[0m\n\u001b[1;37m       ^\u001b[0m\n\u001b[1;31mSyntaxError\u001b[0m\u001b[1;31m:\u001b[0m invalid syntax\n"
     ]
    }
   ],
   "source": [
    "if = 10"
   ]
  },
  {
   "cell_type": "markdown",
   "id": "d1c3037d",
   "metadata": {},
   "source": [
    "## To see all keywords in python"
   ]
  },
  {
   "cell_type": "code",
   "execution_count": 7,
   "id": "21dae4da",
   "metadata": {},
   "outputs": [],
   "source": [
    "import keyword"
   ]
  },
  {
   "cell_type": "code",
   "execution_count": 8,
   "id": "4fde7e37",
   "metadata": {
    "scrolled": false
   },
   "outputs": [
    {
     "name": "stdout",
     "output_type": "stream",
     "text": [
      "['False', 'None', 'True', '__peg_parser__', 'and', 'as', 'assert', 'async', 'await', 'break', 'class', 'continue', 'def', 'del', 'elif', 'else', 'except', 'finally', 'for', 'from', 'global', 'if', 'import', 'in', 'is', 'lambda', 'nonlocal', 'not', 'or', 'pass', 'raise', 'return', 'try', 'while', 'with', 'yield']\n"
     ]
    }
   ],
   "source": [
    "print(keyword.kwlist)"
   ]
  },
  {
   "cell_type": "markdown",
   "id": "4fd2dbcb",
   "metadata": {},
   "source": [
    "## Number of keywords in python"
   ]
  },
  {
   "cell_type": "code",
   "execution_count": 9,
   "id": "4d6cf418",
   "metadata": {},
   "outputs": [
    {
     "data": {
      "text/plain": [
       "36"
      ]
     },
     "execution_count": 9,
     "metadata": {},
     "output_type": "execute_result"
    }
   ],
   "source": [
    "len(keyword.kwlist)"
   ]
  }
 ],
 "metadata": {
  "kernelspec": {
   "display_name": "Python 3 (ipykernel)",
   "language": "python",
   "name": "python3"
  },
  "language_info": {
   "codemirror_mode": {
    "name": "ipython",
    "version": 3
   },
   "file_extension": ".py",
   "mimetype": "text/x-python",
   "name": "python",
   "nbconvert_exporter": "python",
   "pygments_lexer": "ipython3",
   "version": "3.9.12"
  }
 },
 "nbformat": 4,
 "nbformat_minor": 5
}
