{
 "cells": [
  {
   "cell_type": "markdown",
   "id": "ad288b5d",
   "metadata": {},
   "source": [
    "# Everything you need to know about python:\n",
    "## In simplest possible way"
   ]
  },
  {
   "cell_type": "markdown",
   "id": "2d866ed5",
   "metadata": {},
   "source": [
    "# input()"
   ]
  },
  {
   "cell_type": "markdown",
   "id": "625e2d51",
   "metadata": {},
   "source": [
    "    Reading input from the user using input()"
   ]
  },
  {
   "cell_type": "code",
   "execution_count": 6,
   "id": "6c99ab18",
   "metadata": {},
   "outputs": [
    {
     "name": "stdout",
     "output_type": "stream",
     "text": [
      "Enter any input: Hai\n"
     ]
    }
   ],
   "source": [
    "input_var = input(\"Enter any input: \")"
   ]
  },
  {
   "cell_type": "code",
   "execution_count": 7,
   "id": "0781fd28",
   "metadata": {},
   "outputs": [
    {
     "data": {
      "text/plain": [
       "'Hai'"
      ]
     },
     "execution_count": 7,
     "metadata": {},
     "output_type": "execute_result"
    }
   ],
   "source": [
    "input_var"
   ]
  },
  {
   "cell_type": "code",
   "execution_count": 8,
   "id": "8b979b38",
   "metadata": {},
   "outputs": [
    {
     "data": {
      "text/plain": [
       "str"
      ]
     },
     "execution_count": 8,
     "metadata": {},
     "output_type": "execute_result"
    }
   ],
   "source": [
    "type(input_var)"
   ]
  },
  {
   "cell_type": "markdown",
   "id": "030cc83d",
   "metadata": {},
   "source": [
    "    By default python takes input as str type"
   ]
  },
  {
   "cell_type": "markdown",
   "id": "5afa8040",
   "metadata": {},
   "source": [
    "    To take input of our own desired type we do type casting"
   ]
  },
  {
   "cell_type": "code",
   "execution_count": 9,
   "id": "ba276c26",
   "metadata": {},
   "outputs": [
    {
     "name": "stdout",
     "output_type": "stream",
     "text": [
      "Enter any number: 4\n"
     ]
    }
   ],
   "source": [
    "int_var = int(input('Enter any number: ')) # Reading integer type by type casting to int"
   ]
  },
  {
   "cell_type": "code",
   "execution_count": 10,
   "id": "9ab86de1",
   "metadata": {
    "scrolled": true
   },
   "outputs": [
    {
     "data": {
      "text/plain": [
       "int"
      ]
     },
     "execution_count": 10,
     "metadata": {},
     "output_type": "execute_result"
    }
   ],
   "source": [
    "type(int_var)"
   ]
  },
  {
   "cell_type": "code",
   "execution_count": 11,
   "id": "75f7d703",
   "metadata": {},
   "outputs": [
    {
     "name": "stdout",
     "output_type": "stream",
     "text": [
      "Enter float value: 4.5\n"
     ]
    }
   ],
   "source": [
    "flaot_var = float(input(\"Enter float value: \")) # Reading float type by type casting to float"
   ]
  },
  {
   "cell_type": "code",
   "execution_count": 12,
   "id": "996fc0a3",
   "metadata": {},
   "outputs": [
    {
     "data": {
      "text/plain": [
       "float"
      ]
     },
     "execution_count": 12,
     "metadata": {},
     "output_type": "execute_result"
    }
   ],
   "source": [
    "type(flaot_var)"
   ]
  },
  {
   "cell_type": "code",
   "execution_count": 13,
   "id": "0e557a77",
   "metadata": {},
   "outputs": [
    {
     "name": "stdout",
     "output_type": "stream",
     "text": [
      "Enter list of values: 1234\n"
     ]
    }
   ],
   "source": [
    "list_var = list(input('Enter list of values: ')) # reading list of values by type casting to list"
   ]
  },
  {
   "cell_type": "code",
   "execution_count": 14,
   "id": "acdaec01",
   "metadata": {},
   "outputs": [
    {
     "data": {
      "text/plain": [
       "['1', '2', '3', '4']"
      ]
     },
     "execution_count": 14,
     "metadata": {},
     "output_type": "execute_result"
    }
   ],
   "source": [
    "list_var"
   ]
  },
  {
   "cell_type": "markdown",
   "id": "5b97a527",
   "metadata": {},
   "source": [
    "## Like this we can read any type of data by simply type casting"
   ]
  },
  {
   "cell_type": "markdown",
   "id": "ba0052ba",
   "metadata": {},
   "source": [
    "What if I tell you there is a method called eval() by using that you call read any type of datak that is uploaded in our youtube channel:https://www.youtube.com/@MaheshJaviniki"
   ]
  },
  {
   "cell_type": "code",
   "execution_count": null,
   "id": "003d39b2",
   "metadata": {},
   "outputs": [],
   "source": []
  }
 ],
 "metadata": {
  "kernelspec": {
   "display_name": "Python 3 (ipykernel)",
   "language": "python",
   "name": "python3"
  },
  "language_info": {
   "codemirror_mode": {
    "name": "ipython",
    "version": 3
   },
   "file_extension": ".py",
   "mimetype": "text/x-python",
   "name": "python",
   "nbconvert_exporter": "python",
   "pygments_lexer": "ipython3",
   "version": "3.9.12"
  }
 },
 "nbformat": 4,
 "nbformat_minor": 5
}
