{
 "cells": [
  {
   "cell_type": "markdown",
   "id": "f5f7880e",
   "metadata": {},
   "source": [
    "# Everything you need to know about python:\n",
    "## In simplest possible way"
   ]
  },
  {
   "cell_type": "markdown",
   "id": "a756bab7",
   "metadata": {},
   "source": [
    "# Taking multiple inputs using input()"
   ]
  },
  {
   "cell_type": "markdown",
   "id": "304c674b",
   "metadata": {},
   "source": [
    "    By using split() the input will be splited and stored the data as list"
   ]
  },
  {
   "cell_type": "code",
   "execution_count": 8,
   "id": "35a658c0",
   "metadata": {},
   "outputs": [
    {
     "name": "stdout",
     "output_type": "stream",
     "text": [
      "Enter any number of values: 1,2,3,4\n"
     ]
    }
   ],
   "source": [
    "input_var = input(\"Enter any number of values: \").split(',')"
   ]
  },
  {
   "cell_type": "code",
   "execution_count": 10,
   "id": "5043a95b",
   "metadata": {},
   "outputs": [
    {
     "data": {
      "text/plain": [
       "['1', '2', '3', '4']"
      ]
     },
     "execution_count": 10,
     "metadata": {},
     "output_type": "execute_result"
    }
   ],
   "source": [
    "input_var"
   ]
  },
  {
   "cell_type": "markdown",
   "id": "12bd57c2",
   "metadata": {},
   "source": [
    "    Each elements in the list are of str type"
   ]
  },
  {
   "cell_type": "code",
   "execution_count": 11,
   "id": "5d4f2d81",
   "metadata": {},
   "outputs": [
    {
     "data": {
      "text/plain": [
       "str"
      ]
     },
     "execution_count": 11,
     "metadata": {},
     "output_type": "execute_result"
    }
   ],
   "source": [
    "type(input_var[0])"
   ]
  },
  {
   "cell_type": "markdown",
   "id": "d4e8e0fc",
   "metadata": {},
   "source": [
    "## To convert of interested type we can use 3 approaches"
   ]
  },
  {
   "cell_type": "markdown",
   "id": "70558e6e",
   "metadata": {},
   "source": [
    "### 1. Using for loop"
   ]
  },
  {
   "cell_type": "code",
   "execution_count": 25,
   "id": "dd40abe4",
   "metadata": {},
   "outputs": [
    {
     "name": "stdout",
     "output_type": "stream",
     "text": [
      "Enter values: 9,8,7,6\n"
     ]
    }
   ],
   "source": [
    "input_var\n",
    "int_list = []\n",
    "for input_ in input('Enter values: ').split(','):\n",
    "    int_list.append(int(input_))"
   ]
  },
  {
   "cell_type": "code",
   "execution_count": 26,
   "id": "00a364ef",
   "metadata": {},
   "outputs": [
    {
     "data": {
      "text/plain": [
       "[9, 8, 7, 6]"
      ]
     },
     "execution_count": 26,
     "metadata": {},
     "output_type": "execute_result"
    }
   ],
   "source": [
    "int_list"
   ]
  },
  {
   "cell_type": "code",
   "execution_count": 15,
   "id": "9896cfc8",
   "metadata": {},
   "outputs": [
    {
     "data": {
      "text/plain": [
       "int"
      ]
     },
     "execution_count": 15,
     "metadata": {},
     "output_type": "execute_result"
    }
   ],
   "source": [
    "type(int_list[0])"
   ]
  },
  {
   "cell_type": "markdown",
   "id": "5939db84",
   "metadata": {},
   "source": [
    "### 2. Using list comprehension"
   ]
  },
  {
   "cell_type": "code",
   "execution_count": 23,
   "id": "84d486b8",
   "metadata": {},
   "outputs": [
    {
     "name": "stdout",
     "output_type": "stream",
     "text": [
      "enter values: 1 2 3 4\n"
     ]
    }
   ],
   "source": [
    "int_list = [float(input_) for input_ in input(\"enter values: \").split(' ') ]"
   ]
  },
  {
   "cell_type": "code",
   "execution_count": 24,
   "id": "ada14935",
   "metadata": {
    "scrolled": true
   },
   "outputs": [
    {
     "data": {
      "text/plain": [
       "[1.0, 2.0, 3.0, 4.0]"
      ]
     },
     "execution_count": 24,
     "metadata": {},
     "output_type": "execute_result"
    }
   ],
   "source": [
    "int_list"
   ]
  },
  {
   "cell_type": "markdown",
   "id": "d997a6fa",
   "metadata": {},
   "source": [
    "### 3. Using map"
   ]
  },
  {
   "cell_type": "code",
   "execution_count": 20,
   "id": "6096a055",
   "metadata": {},
   "outputs": [
    {
     "name": "stdout",
     "output_type": "stream",
     "text": [
      "enter values1 2 3 4\n"
     ]
    }
   ],
   "source": [
    "map_int = list(map(int, input(\"enter values\").split(' ')))"
   ]
  },
  {
   "cell_type": "code",
   "execution_count": 21,
   "id": "b82d1bae",
   "metadata": {},
   "outputs": [
    {
     "data": {
      "text/plain": [
       "[1, 2, 3, 4]"
      ]
     },
     "execution_count": 21,
     "metadata": {},
     "output_type": "execute_result"
    }
   ],
   "source": [
    "map_int"
   ]
  },
  {
   "cell_type": "code",
   "execution_count": null,
   "id": "09e88b3f",
   "metadata": {},
   "outputs": [],
   "source": []
  }
 ],
 "metadata": {
  "kernelspec": {
   "display_name": "Python 3 (ipykernel)",
   "language": "python",
   "name": "python3"
  },
  "language_info": {
   "codemirror_mode": {
    "name": "ipython",
    "version": 3
   },
   "file_extension": ".py",
   "mimetype": "text/x-python",
   "name": "python",
   "nbconvert_exporter": "python",
   "pygments_lexer": "ipython3",
   "version": "3.9.12"
  }
 },
 "nbformat": 4,
 "nbformat_minor": 5
}
