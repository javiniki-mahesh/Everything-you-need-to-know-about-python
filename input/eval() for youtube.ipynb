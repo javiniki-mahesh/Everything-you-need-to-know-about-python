{
 "cells": [
  {
   "cell_type": "markdown",
   "id": "85e8f4e1",
   "metadata": {},
   "source": [
    "# Everything you need to know about python:\n",
    "## In simplest possible way"
   ]
  },
  {
   "cell_type": "markdown",
   "id": "a9d51f95",
   "metadata": {},
   "source": [
    "# eval()"
   ]
  },
  {
   "cell_type": "markdown",
   "id": "f04fc085",
   "metadata": {},
   "source": [
    "\n",
    "eval() is a built-in Python function that allows you to evaluate and execute dynamic Python expressions from strings. It takes a string as input, interprets it as a Python expression, and returns the result of that expression.\n",
    "\n",
    "Some of the expression evaluations are below:"
   ]
  },
  {
   "cell_type": "code",
   "execution_count": 5,
   "id": "2313bc45",
   "metadata": {},
   "outputs": [
    {
     "data": {
      "text/plain": [
       "10"
      ]
     },
     "execution_count": 5,
     "metadata": {},
     "output_type": "execute_result"
    }
   ],
   "source": [
    "eval('4+6')"
   ]
  },
  {
   "cell_type": "code",
   "execution_count": 6,
   "id": "24b99a91",
   "metadata": {},
   "outputs": [
    {
     "data": {
      "text/plain": [
       "200"
      ]
     },
     "execution_count": 6,
     "metadata": {},
     "output_type": "execute_result"
    }
   ],
   "source": [
    "a = 10\n",
    "b = 20\n",
    "eval('a * b ')"
   ]
  },
  {
   "cell_type": "code",
   "execution_count": 7,
   "id": "f9b0eef2",
   "metadata": {},
   "outputs": [
    {
     "data": {
      "text/plain": [
       "3"
      ]
     },
     "execution_count": 7,
     "metadata": {},
     "output_type": "execute_result"
    }
   ],
   "source": [
    "l = [1,2,3,4]\n",
    "eval('l[2]')"
   ]
  },
  {
   "cell_type": "markdown",
   "id": "9e7d08fa",
   "metadata": {},
   "source": [
    "## Using eval() method to read any type of data"
   ]
  },
  {
   "cell_type": "code",
   "execution_count": 8,
   "id": "197c1e54",
   "metadata": {},
   "outputs": [
    {
     "name": "stdout",
     "output_type": "stream",
     "text": [
      "Enter a number4\n"
     ]
    }
   ],
   "source": [
    "int_var = eval(input('Enter a number'))"
   ]
  },
  {
   "cell_type": "code",
   "execution_count": 9,
   "id": "4ce01595",
   "metadata": {},
   "outputs": [
    {
     "data": {
      "text/plain": [
       "4"
      ]
     },
     "execution_count": 9,
     "metadata": {},
     "output_type": "execute_result"
    }
   ],
   "source": [
    "int_var"
   ]
  },
  {
   "cell_type": "code",
   "execution_count": 10,
   "id": "491cdab9",
   "metadata": {},
   "outputs": [
    {
     "data": {
      "text/plain": [
       "int"
      ]
     },
     "execution_count": 10,
     "metadata": {},
     "output_type": "execute_result"
    }
   ],
   "source": [
    "type(int_var)"
   ]
  },
  {
   "cell_type": "markdown",
   "id": "23fef765",
   "metadata": {},
   "source": [
    "str type directly can not be read by eval()"
   ]
  },
  {
   "cell_type": "code",
   "execution_count": 6,
   "id": "cbe0ca6f",
   "metadata": {
    "scrolled": true
   },
   "outputs": [
    {
     "name": "stdout",
     "output_type": "stream",
     "text": [
      "Enter anything: hello\n"
     ]
    },
    {
     "ename": "NameError",
     "evalue": "name 'hello' is not defined",
     "output_type": "error",
     "traceback": [
      "\u001b[1;31m---------------------------------------------------------------------------\u001b[0m",
      "\u001b[1;31mNameError\u001b[0m                                 Traceback (most recent call last)",
      "Input \u001b[1;32mIn [6]\u001b[0m, in \u001b[0;36m<cell line: 1>\u001b[1;34m()\u001b[0m\n\u001b[1;32m----> 1\u001b[0m input_var \u001b[38;5;241m=\u001b[39m \u001b[38;5;28;43meval\u001b[39;49m\u001b[43m(\u001b[49m\u001b[38;5;28;43minput\u001b[39;49m\u001b[43m(\u001b[49m\u001b[38;5;124;43m'\u001b[39;49m\u001b[38;5;124;43mEnter anything: \u001b[39;49m\u001b[38;5;124;43m'\u001b[39;49m\u001b[43m)\u001b[49m\u001b[43m)\u001b[49m\n",
      "File \u001b[1;32m<string>:1\u001b[0m, in \u001b[0;36m<module>\u001b[1;34m\u001b[0m\n",
      "\u001b[1;31mNameError\u001b[0m: name 'hello' is not defined"
     ]
    }
   ],
   "source": [
    "input_var = eval(input('Enter anything: '))"
   ]
  },
  {
   "cell_type": "markdown",
   "id": "bbb62b2c",
   "metadata": {},
   "source": [
    "### giving input of str"
   ]
  },
  {
   "cell_type": "code",
   "execution_count": 9,
   "id": "e478f0c7",
   "metadata": {},
   "outputs": [
    {
     "name": "stdout",
     "output_type": "stream",
     "text": [
      "enter str type: 'string data'\n"
     ]
    }
   ],
   "source": [
    "# by mentioning the input in single '' or double \" \"\n",
    "str_input = eval(input(\"enter str type: \"))"
   ]
  },
  {
   "cell_type": "code",
   "execution_count": 10,
   "id": "9ee0a4b1",
   "metadata": {},
   "outputs": [
    {
     "data": {
      "text/plain": [
       "str"
      ]
     },
     "execution_count": 10,
     "metadata": {},
     "output_type": "execute_result"
    }
   ],
   "source": [
    "type(input_var)"
   ]
  },
  {
   "cell_type": "markdown",
   "id": "5597ca8e",
   "metadata": {},
   "source": [
    "## Main Reasons why we should not use eval() for taking input\n",
    "## 1. code injection\n",
    "## 2. User may give any type of data that we are not expected"
   ]
  },
  {
   "cell_type": "code",
   "execution_count": 24,
   "id": "8e94183d",
   "metadata": {},
   "outputs": [
    {
     "name": "stdout",
     "output_type": "stream",
     "text": [
      "Enter list5\n"
     ]
    }
   ],
   "source": [
    "list_var = eval(input('Enter list'))"
   ]
  },
  {
   "cell_type": "code",
   "execution_count": 25,
   "id": "73edacd3",
   "metadata": {
    "scrolled": true
   },
   "outputs": [
    {
     "ename": "TypeError",
     "evalue": "'int' object is not subscriptable",
     "output_type": "error",
     "traceback": [
      "\u001b[1;31m---------------------------------------------------------------------------\u001b[0m",
      "\u001b[1;31mTypeError\u001b[0m                                 Traceback (most recent call last)",
      "Input \u001b[1;32mIn [25]\u001b[0m, in \u001b[0;36m<cell line: 1>\u001b[1;34m()\u001b[0m\n\u001b[1;32m----> 1\u001b[0m \u001b[43mlist_var\u001b[49m\u001b[43m[\u001b[49m\u001b[38;5;241;43m1\u001b[39;49m\u001b[43m]\u001b[49m\n",
      "\u001b[1;31mTypeError\u001b[0m: 'int' object is not subscriptable"
     ]
    }
   ],
   "source": [
    "list_var[1]"
   ]
  },
  {
   "cell_type": "markdown",
   "id": "126e2f72",
   "metadata": {},
   "source": [
    "How to take multiple inputs from user in single line discussed in our youtube channel: https://www.youtube.com/@MaheshJaviniki"
   ]
  }
 ],
 "metadata": {
  "kernelspec": {
   "display_name": "Python 3 (ipykernel)",
   "language": "python",
   "name": "python3"
  },
  "language_info": {
   "codemirror_mode": {
    "name": "ipython",
    "version": 3
   },
   "file_extension": ".py",
   "mimetype": "text/x-python",
   "name": "python",
   "nbconvert_exporter": "python",
   "pygments_lexer": "ipython3",
   "version": "3.9.12"
  }
 },
 "nbformat": 4,
 "nbformat_minor": 5
}
