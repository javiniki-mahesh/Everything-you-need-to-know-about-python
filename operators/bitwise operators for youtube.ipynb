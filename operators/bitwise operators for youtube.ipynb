{
 "cells": [
  {
   "cell_type": "markdown",
   "id": "53ce17f3",
   "metadata": {},
   "source": [
    "# Everything you need to know about python:\n",
    "## In simplest possible way"
   ]
  },
  {
   "cell_type": "markdown",
   "id": "f8526e94",
   "metadata": {},
   "source": [
    "# Bitwise operators"
   ]
  },
  {
   "cell_type": "markdown",
   "id": "f77c0d1d",
   "metadata": {},
   "source": [
    "    Bitwise operators in Python are used to perform operations on individual bits of integers. They treat numbers as sequences of binary digits and manipulate those digits at the bit level. These operators are particularly useful in situations where you need to work with binary data, perform low-level operations, or optimize certain algorithms."
   ]
  },
  {
   "cell_type": "code",
   "execution_count": 49,
   "id": "8fbcacfe",
   "metadata": {},
   "outputs": [
    {
     "data": {
      "text/plain": [
       "'0b111'"
      ]
     },
     "execution_count": 49,
     "metadata": {},
     "output_type": "execute_result"
    }
   ],
   "source": [
    "bin(7) # convertring an int value to bin value"
   ]
  },
  {
   "cell_type": "code",
   "execution_count": 50,
   "id": "f2cffca9",
   "metadata": {},
   "outputs": [
    {
     "data": {
      "text/plain": [
       "'0b101011'"
      ]
     },
     "execution_count": 50,
     "metadata": {},
     "output_type": "execute_result"
    }
   ],
   "source": [
    "bin(43) # 0b represents that this is a binary representation"
   ]
  },
  {
   "cell_type": "code",
   "execution_count": 51,
   "id": "e0a93cda",
   "metadata": {},
   "outputs": [
    {
     "data": {
      "text/plain": [
       "43"
      ]
     },
     "execution_count": 51,
     "metadata": {},
     "output_type": "execute_result"
    }
   ],
   "source": [
    "int('0b101011',2) # converting binary value to int value, for that we mention partameter 2 while passing it to int()"
   ]
  },
  {
   "cell_type": "markdown",
   "id": "2778b895",
   "metadata": {},
   "source": [
    "# & (AND)"
   ]
  },
  {
   "cell_type": "markdown",
   "id": "1485e976",
   "metadata": {},
   "source": [
    "    The bitwise AND operator performs a binary AND operation between the corresponding bits of two integers. If both bits are 1, the resulting bit will be 1; otherwise, it will be 0."
   ]
  },
  {
   "cell_type": "code",
   "execution_count": 52,
   "id": "043b6b48",
   "metadata": {},
   "outputs": [
    {
     "data": {
      "text/plain": [
       "42"
      ]
     },
     "execution_count": 52,
     "metadata": {},
     "output_type": "execute_result"
    }
   ],
   "source": [
    "43 & 58 # These 43 and 58 are converted to binary digits, then AND operation is performed on each bits"
   ]
  },
  {
   "cell_type": "code",
   "execution_count": 53,
   "id": "5e002174",
   "metadata": {},
   "outputs": [
    {
     "data": {
      "text/plain": [
       "'0b101011'"
      ]
     },
     "execution_count": 53,
     "metadata": {},
     "output_type": "execute_result"
    }
   ],
   "source": [
    "bin(43)"
   ]
  },
  {
   "cell_type": "code",
   "execution_count": 54,
   "id": "deb742cd",
   "metadata": {},
   "outputs": [
    {
     "data": {
      "text/plain": [
       "'0b111010'"
      ]
     },
     "execution_count": 54,
     "metadata": {},
     "output_type": "execute_result"
    }
   ],
   "source": [
    "bin(58)"
   ]
  },
  {
   "cell_type": "markdown",
   "id": "07fb3fce",
   "metadata": {},
   "source": [
    "    Understand the process by breaking the down\n",
    "\n",
    "    101011 - > 43\n",
    "    111010 - > 58\n",
    "    -------\n",
    "    101010---> Result of & between 43, 58 is --> 42"
   ]
  },
  {
   "cell_type": "code",
   "execution_count": 55,
   "id": "9db4e4c4",
   "metadata": {},
   "outputs": [
    {
     "data": {
      "text/plain": [
       "42"
      ]
     },
     "execution_count": 55,
     "metadata": {},
     "output_type": "execute_result"
    }
   ],
   "source": [
    "int('101010',2) # equivalent to 43 & 58"
   ]
  },
  {
   "cell_type": "markdown",
   "id": "7f9220d0",
   "metadata": {},
   "source": [
    " # | (OR)"
   ]
  },
  {
   "cell_type": "markdown",
   "id": "8dc93153",
   "metadata": {},
   "source": [
    "    The bitwise OR operator performs a binary OR operation between the corresponding bits of two integers. If at least one of the bits is 1, the resulting bit will be 1; otherwise, it will be 0."
   ]
  },
  {
   "cell_type": "code",
   "execution_count": 56,
   "id": "9ea4be5f",
   "metadata": {},
   "outputs": [
    {
     "data": {
      "text/plain": [
       "59"
      ]
     },
     "execution_count": 56,
     "metadata": {},
     "output_type": "execute_result"
    }
   ],
   "source": [
    "43 | 58"
   ]
  },
  {
   "cell_type": "code",
   "execution_count": 57,
   "id": "c556d99e",
   "metadata": {},
   "outputs": [
    {
     "data": {
      "text/plain": [
       "'0b101011'"
      ]
     },
     "execution_count": 57,
     "metadata": {},
     "output_type": "execute_result"
    }
   ],
   "source": [
    "bin(43)"
   ]
  },
  {
   "cell_type": "code",
   "execution_count": 58,
   "id": "67f16e2c",
   "metadata": {},
   "outputs": [
    {
     "data": {
      "text/plain": [
       "'0b111010'"
      ]
     },
     "execution_count": 58,
     "metadata": {},
     "output_type": "execute_result"
    }
   ],
   "source": [
    "bin(58)"
   ]
  },
  {
   "cell_type": "markdown",
   "id": "05defec5",
   "metadata": {},
   "source": [
    "    Understand the process by breaking the down\n",
    "\n",
    "    101011 ---> 43\n",
    "    111010 ---> 58\n",
    "    ------- |\n",
    "    111011 ---> 59 (| operation between 43, 58)"
   ]
  },
  {
   "cell_type": "code",
   "execution_count": 59,
   "id": "23119766",
   "metadata": {},
   "outputs": [
    {
     "data": {
      "text/plain": [
       "59"
      ]
     },
     "execution_count": 59,
     "metadata": {},
     "output_type": "execute_result"
    }
   ],
   "source": [
    "int('111011',2) # equivalent to 43 | 58"
   ]
  },
  {
   "cell_type": "markdown",
   "id": "800aa833",
   "metadata": {},
   "source": [
    "# ^ (XOR)"
   ]
  },
  {
   "cell_type": "code",
   "execution_count": 60,
   "id": "e544db4f",
   "metadata": {},
   "outputs": [
    {
     "data": {
      "text/plain": [
       "17"
      ]
     },
     "execution_count": 60,
     "metadata": {},
     "output_type": "execute_result"
    }
   ],
   "source": [
    "43 ^ 58"
   ]
  },
  {
   "cell_type": "markdown",
   "id": "bffb58d2",
   "metadata": {},
   "source": [
    "    The bitwise XOR operator performs a binary XOR (exclusive OR) operation between the corresponding bits of two integers. If the bits are different (one is 0 and the other is 1), the resulting bit will be 1; otherwise, it will be 0."
   ]
  },
  {
   "cell_type": "markdown",
   "id": "4509e20b",
   "metadata": {},
   "source": [
    "    Understand the process by breaking the down\n",
    "\n",
    "    101011 ---> 43\n",
    "    111010 ---> 58\n",
    "    ------- ^\n",
    "    010001 ---> 17"
   ]
  },
  {
   "cell_type": "code",
   "execution_count": 61,
   "id": "64dfd105",
   "metadata": {
    "scrolled": true
   },
   "outputs": [
    {
     "data": {
      "text/plain": [
       "17"
      ]
     },
     "execution_count": 61,
     "metadata": {},
     "output_type": "execute_result"
    }
   ],
   "source": [
    "int('010001',2) # equivalent to 43 ^ 58"
   ]
  },
  {
   "cell_type": "markdown",
   "id": "a4307181",
   "metadata": {},
   "source": [
    "# ~ (NOT)"
   ]
  },
  {
   "cell_type": "markdown",
   "id": "ef0724f0",
   "metadata": {},
   "source": [
    "The bitwise NOT operator performs a binary NOT operation, which inverts the bits of a single integer. It flips all the 0s to 1s and vice versa."
   ]
  },
  {
   "cell_type": "code",
   "execution_count": 62,
   "id": "f2f89efc",
   "metadata": {},
   "outputs": [
    {
     "data": {
      "text/plain": [
       "-44"
      ]
     },
     "execution_count": 62,
     "metadata": {},
     "output_type": "execute_result"
    }
   ],
   "source": [
    "~43"
   ]
  },
  {
   "cell_type": "code",
   "execution_count": 63,
   "id": "74b85d37",
   "metadata": {},
   "outputs": [
    {
     "data": {
      "text/plain": [
       "'0b101011'"
      ]
     },
     "execution_count": 63,
     "metadata": {},
     "output_type": "execute_result"
    }
   ],
   "source": [
    "bin(43)"
   ]
  },
  {
   "cell_type": "code",
   "execution_count": 64,
   "id": "39b0154c",
   "metadata": {},
   "outputs": [
    {
     "data": {
      "text/plain": [
       "'-0b101100'"
      ]
     },
     "execution_count": 64,
     "metadata": {},
     "output_type": "execute_result"
    }
   ],
   "source": [
    "bin(~43)"
   ]
  },
  {
   "cell_type": "markdown",
   "id": "0f44c1c7",
   "metadata": {},
   "source": [
    "     0b101  011 -> 43\n",
    "    -0b101  100 -> -44\n",
    "\n",
    "    +ve : --> When +ve value is given it travels from right to left and try to find the first 0 and convert that 0 to 1 and stops the process, in middle if any 1 is coming those will be converted to 0\n",
    "    \n",
    "    -ve : --> When -ve value is given it travels from right to left and try to find the first 1 and convert that 1 to 0 and stops the process, in middle if any 0 is coming those will be converted to 1"
   ]
  },
  {
   "cell_type": "code",
   "execution_count": 65,
   "id": "7a1293c6",
   "metadata": {
    "scrolled": true
   },
   "outputs": [
    {
     "data": {
      "text/plain": [
       "'-0b110101'"
      ]
     },
     "execution_count": 65,
     "metadata": {},
     "output_type": "execute_result"
    }
   ],
   "source": [
    "bin(-53)"
   ]
  },
  {
   "cell_type": "code",
   "execution_count": 66,
   "id": "a3200cee",
   "metadata": {},
   "outputs": [
    {
     "data": {
      "text/plain": [
       "'0b110100'"
      ]
     },
     "execution_count": 66,
     "metadata": {},
     "output_type": "execute_result"
    }
   ],
   "source": [
    "bin(~-53)"
   ]
  },
  {
   "cell_type": "code",
   "execution_count": 67,
   "id": "bd03aecd",
   "metadata": {},
   "outputs": [
    {
     "data": {
      "text/plain": [
       "52"
      ]
     },
     "execution_count": 67,
     "metadata": {},
     "output_type": "execute_result"
    }
   ],
   "source": [
    "~-53"
   ]
  },
  {
   "cell_type": "markdown",
   "id": "d0a7f1c6",
   "metadata": {},
   "source": [
    "    -0b11010  1--> -53\n",
    "     0b11010  0--> 52\n",
    "    \n",
    "    -ve value is give, so it tries to find first 1 and that is present in first occurence itself that is converted to 0 and stoped the process"
   ]
  },
  {
   "cell_type": "markdown",
   "id": "46053fac",
   "metadata": {},
   "source": [
    "# << (Left Shift)"
   ]
  },
  {
   "cell_type": "markdown",
   "id": "7be8c62a",
   "metadata": {},
   "source": [
    "    The left shift operator shifts the bits of an integer to the left by a specified number of positions. It is equivalent to multiplying the number by 2 raised to the power of the shift amount."
   ]
  },
  {
   "cell_type": "code",
   "execution_count": 68,
   "id": "f613cb34",
   "metadata": {},
   "outputs": [
    {
     "data": {
      "text/plain": [
       "672"
      ]
     },
     "execution_count": 68,
     "metadata": {},
     "output_type": "execute_result"
    }
   ],
   "source": [
    "84 << 3"
   ]
  },
  {
   "cell_type": "code",
   "execution_count": 69,
   "id": "578bbcba",
   "metadata": {
    "scrolled": true
   },
   "outputs": [
    {
     "data": {
      "text/plain": [
       "'0b1010100'"
      ]
     },
     "execution_count": 69,
     "metadata": {},
     "output_type": "execute_result"
    }
   ],
   "source": [
    "bin(84)"
   ]
  },
  {
   "cell_type": "code",
   "execution_count": 70,
   "id": "37d80c5a",
   "metadata": {},
   "outputs": [
    {
     "data": {
      "text/plain": [
       "'0b1010100000'"
      ]
     },
     "execution_count": 70,
     "metadata": {},
     "output_type": "execute_result"
    }
   ],
   "source": [
    "bin(84 << 3)"
   ]
  },
  {
   "cell_type": "code",
   "execution_count": 71,
   "id": "a7ad61ec",
   "metadata": {},
   "outputs": [
    {
     "data": {
      "text/plain": [
       "672"
      ]
     },
     "execution_count": 71,
     "metadata": {},
     "output_type": "execute_result"
    }
   ],
   "source": [
    "84  * 2 ** 3 # this expression is equivalent to 83 << 3"
   ]
  },
  {
   "cell_type": "markdown",
   "id": "4bab5f65",
   "metadata": {},
   "source": [
    "    0001010100---> input\n",
    "    1010100000---> output\n",
    "\n",
    "    sepecified no.of times(3) the bits will be shifted left"
   ]
  },
  {
   "cell_type": "code",
   "execution_count": 72,
   "id": "11879166",
   "metadata": {
    "scrolled": true
   },
   "outputs": [
    {
     "data": {
      "text/plain": [
       "672"
      ]
     },
     "execution_count": 72,
     "metadata": {},
     "output_type": "execute_result"
    }
   ],
   "source": [
    "int('1010100000',2)"
   ]
  },
  {
   "cell_type": "markdown",
   "id": "7348f31e",
   "metadata": {},
   "source": [
    "# >> (Right Shift)"
   ]
  },
  {
   "cell_type": "markdown",
   "id": "488500a4",
   "metadata": {},
   "source": [
    "    The right shift operator shifts the bits of an integer to the right by a specified number of positions. It is equivalent to dividing the number by 2 raised to the power of the shift amount (and taking the floor of the result)."
   ]
  },
  {
   "cell_type": "code",
   "execution_count": 73,
   "id": "0828b8eb",
   "metadata": {},
   "outputs": [
    {
     "data": {
      "text/plain": [
       "10"
      ]
     },
     "execution_count": 73,
     "metadata": {},
     "output_type": "execute_result"
    }
   ],
   "source": [
    "84 >> 3"
   ]
  },
  {
   "cell_type": "code",
   "execution_count": 74,
   "id": "b54bc7de",
   "metadata": {
    "scrolled": true
   },
   "outputs": [
    {
     "data": {
      "text/plain": [
       "10"
      ]
     },
     "execution_count": 74,
     "metadata": {},
     "output_type": "execute_result"
    }
   ],
   "source": [
    "84 // 2 ** 3 # this expression is equivalent to 84 >> 3"
   ]
  },
  {
   "cell_type": "code",
   "execution_count": 75,
   "id": "53b07b25",
   "metadata": {},
   "outputs": [
    {
     "data": {
      "text/plain": [
       "'0b1010100'"
      ]
     },
     "execution_count": 75,
     "metadata": {},
     "output_type": "execute_result"
    }
   ],
   "source": [
    "bin(84)"
   ]
  },
  {
   "cell_type": "code",
   "execution_count": 76,
   "id": "382f73c8",
   "metadata": {},
   "outputs": [
    {
     "data": {
      "text/plain": [
       "'0b1010'"
      ]
     },
     "execution_count": 76,
     "metadata": {},
     "output_type": "execute_result"
    }
   ],
   "source": [
    "bin(84 >> 3)"
   ]
  },
  {
   "cell_type": "markdown",
   "id": "d75545ef",
   "metadata": {},
   "source": [
    "    1010100 ---> input\n",
    "    0001010 ---> output\n",
    "\n",
    "    Specified no.of times the bits were shifted right"
   ]
  },
  {
   "cell_type": "markdown",
   "id": "073c2366",
   "metadata": {},
   "source": [
    "For more of this kind of basic and advanced content of python and data science explore my YouTube channel : https://www.youtube.com/@MaheshJaviniki"
   ]
  }
 ],
 "metadata": {
  "kernelspec": {
   "display_name": "Python 3 (ipykernel)",
   "language": "python",
   "name": "python3"
  },
  "language_info": {
   "codemirror_mode": {
    "name": "ipython",
    "version": 3
   },
   "file_extension": ".py",
   "mimetype": "text/x-python",
   "name": "python",
   "nbconvert_exporter": "python",
   "pygments_lexer": "ipython3",
   "version": "3.9.12"
  }
 },
 "nbformat": 4,
 "nbformat_minor": 5
}
