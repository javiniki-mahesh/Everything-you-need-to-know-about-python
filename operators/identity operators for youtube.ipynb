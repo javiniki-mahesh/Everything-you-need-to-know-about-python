{
 "cells": [
  {
   "cell_type": "markdown",
   "id": "a61138b5",
   "metadata": {},
   "source": [
    "# Everything you need to know about python:\n",
    "## In simplest possible way"
   ]
  },
  {
   "cell_type": "markdown",
   "id": "e0b803c9",
   "metadata": {},
   "source": [
    "## Memory optimization\n",
    "\n",
    "1. Small Integer Caching: Python pre-allocates a fixed set of small integers in the range of -5 to 256, and any variables assigned to these integers point to the same memory addresses. This small integer caching reduces memory overhead for frequently used integer values.\n",
    "\n",
    "2. String Interning: For certain string literals composed of only lowercase letters (a-z), uppercase letters (A-Z), or digits (0-9), Python uses string interning. This means that identical string literals in the same module share the same memory address, avoiding duplicate copies of the same string and saving memory.\n"
   ]
  },
  {
   "cell_type": "markdown",
   "id": "4e846800",
   "metadata": {},
   "source": [
    "# Identity operators\n",
    "# is\n",
    "# is not"
   ]
  },
  {
   "cell_type": "markdown",
   "id": "7ee4cea3",
   "metadata": {},
   "source": [
    "In Python, identity operators are used to compare the memory addresses of two objects to determine if they refer to the same object in memory. The two identity operators are `is` and `is not`.\n",
    "\n",
    "1. The `is` operator returns `True` if the two operands have the same memory address, indicating they are the same object. Otherwise, it returns `False`.\n",
    "\n",
    "2. The `is not` operator is the negation of the `is` operator. It returns `True` if the two operands have different memory addresses, indicating they are different objects. Otherwise, it returns `False`.\n"
   ]
  },
  {
   "cell_type": "markdown",
   "id": "6f049603",
   "metadata": {},
   "source": [
    "# int"
   ]
  },
  {
   "cell_type": "code",
   "execution_count": 69,
   "id": "133c7a9e",
   "metadata": {},
   "outputs": [],
   "source": [
    "# creating two variables(objects) with same value\n",
    "num1 = 10\n",
    "num2 = 10\n",
    "# In this case two variables points to the same memory location"
   ]
  },
  {
   "cell_type": "code",
   "execution_count": 70,
   "id": "d20b35b4",
   "metadata": {},
   "outputs": [
    {
     "data": {
      "text/plain": [
       "True"
      ]
     },
     "execution_count": 70,
     "metadata": {},
     "output_type": "execute_result"
    }
   ],
   "source": [
    "num1 is num2 # using 'is' to check whether two variables points to the same memory or not "
   ]
  },
  {
   "cell_type": "code",
   "execution_count": 71,
   "id": "17e54e76",
   "metadata": {},
   "outputs": [
    {
     "data": {
      "text/plain": [
       "1897516657232"
      ]
     },
     "execution_count": 71,
     "metadata": {},
     "output_type": "execute_result"
    }
   ],
   "source": [
    "id(num1) # checking the memory address"
   ]
  },
  {
   "cell_type": "code",
   "execution_count": 72,
   "id": "f7dd9905",
   "metadata": {},
   "outputs": [
    {
     "data": {
      "text/plain": [
       "1897516657232"
      ]
     },
     "execution_count": 72,
     "metadata": {},
     "output_type": "execute_result"
    }
   ],
   "source": [
    "id(num2) # checking the memory address"
   ]
  },
  {
   "cell_type": "code",
   "execution_count": 73,
   "id": "4db04aaf",
   "metadata": {
    "scrolled": true
   },
   "outputs": [
    {
     "data": {
      "text/plain": [
       "1897516657232"
      ]
     },
     "execution_count": 73,
     "metadata": {},
     "output_type": "execute_result"
    }
   ],
   "source": [
    "id(10) # checking the memory address"
   ]
  },
  {
   "cell_type": "code",
   "execution_count": 74,
   "id": "26c59661",
   "metadata": {},
   "outputs": [
    {
     "data": {
      "text/plain": [
       "True"
      ]
     },
     "execution_count": 74,
     "metadata": {},
     "output_type": "execute_result"
    }
   ],
   "source": [
    "num1 is num2 # using 'is' to check whether two variables points to the same memory or not "
   ]
  },
  {
   "cell_type": "code",
   "execution_count": 75,
   "id": "3b75e84e",
   "metadata": {},
   "outputs": [],
   "source": [
    "num3 = 20"
   ]
  },
  {
   "cell_type": "code",
   "execution_count": 76,
   "id": "e96a6b12",
   "metadata": {},
   "outputs": [
    {
     "data": {
      "text/plain": [
       "False"
      ]
     },
     "execution_count": 76,
     "metadata": {},
     "output_type": "execute_result"
    }
   ],
   "source": [
    "num2 is num3 # using 'is' to check whether two variables points to the same memory or not "
   ]
  },
  {
   "cell_type": "code",
   "execution_count": 77,
   "id": "f1f1718a",
   "metadata": {},
   "outputs": [
    {
     "data": {
      "text/plain": [
       "1897516657552"
      ]
     },
     "execution_count": 77,
     "metadata": {},
     "output_type": "execute_result"
    }
   ],
   "source": [
    "id(num3) # checking the memory address"
   ]
  },
  {
   "cell_type": "code",
   "execution_count": 78,
   "id": "807a7af3",
   "metadata": {},
   "outputs": [
    {
     "data": {
      "text/plain": [
       "True"
      ]
     },
     "execution_count": 78,
     "metadata": {},
     "output_type": "execute_result"
    }
   ],
   "source": [
    "num2 is not num3 # using 'is not' to check whether two variables points to the same memory or not "
   ]
  },
  {
   "cell_type": "code",
   "execution_count": 79,
   "id": "d6d8f38b",
   "metadata": {},
   "outputs": [
    {
     "data": {
      "text/plain": [
       "False"
      ]
     },
     "execution_count": 79,
     "metadata": {},
     "output_type": "execute_result"
    }
   ],
   "source": [
    "num1 is not num2 # using 'is not' to check whether two variables points to the same memory or not "
   ]
  },
  {
   "cell_type": "code",
   "execution_count": 80,
   "id": "a55c74a0",
   "metadata": {},
   "outputs": [],
   "source": [
    "n1 = 300\n",
    "n2 = 300"
   ]
  },
  {
   "cell_type": "code",
   "execution_count": 81,
   "id": "d2ac980d",
   "metadata": {},
   "outputs": [
    {
     "data": {
      "text/plain": [
       "False"
      ]
     },
     "execution_count": 81,
     "metadata": {},
     "output_type": "execute_result"
    }
   ],
   "source": [
    "n1 is n2 "
   ]
  },
  {
   "cell_type": "markdown",
   "id": "21396805",
   "metadata": {},
   "source": [
    "In the case of 300 we are getting False when we use 'is' operator\n",
    "\n",
    "Because Python pre-allocates a fixed set of small integers in the range of -5 to 256, and any variables assigned to these integers point to the same memory addresses."
   ]
  },
  {
   "cell_type": "code",
   "execution_count": 82,
   "id": "a1b0dad1",
   "metadata": {},
   "outputs": [],
   "source": [
    "num1 = -6\n",
    "num2 = -6"
   ]
  },
  {
   "cell_type": "code",
   "execution_count": 83,
   "id": "f9dbb265",
   "metadata": {},
   "outputs": [
    {
     "data": {
      "text/plain": [
       "False"
      ]
     },
     "execution_count": 83,
     "metadata": {},
     "output_type": "execute_result"
    }
   ],
   "source": [
    "num1 is num2 # In this case also"
   ]
  },
  {
   "cell_type": "code",
   "execution_count": 84,
   "id": "3ff2727d",
   "metadata": {},
   "outputs": [
    {
     "data": {
      "text/plain": [
       "1897631535312"
      ]
     },
     "execution_count": 84,
     "metadata": {},
     "output_type": "execute_result"
    }
   ],
   "source": [
    "id(num1)"
   ]
  },
  {
   "cell_type": "code",
   "execution_count": 85,
   "id": "845c6cf9",
   "metadata": {},
   "outputs": [
    {
     "data": {
      "text/plain": [
       "1897631535632"
      ]
     },
     "execution_count": 85,
     "metadata": {},
     "output_type": "execute_result"
    }
   ],
   "source": [
    "id(num2)"
   ]
  },
  {
   "cell_type": "markdown",
   "id": "edd1b2cb",
   "metadata": {},
   "source": [
    "We can see both num1 and num2 pointing to differnt memory addresses"
   ]
  },
  {
   "cell_type": "markdown",
   "id": "359bf86c",
   "metadata": {},
   "source": [
    "# str"
   ]
  },
  {
   "cell_type": "code",
   "execution_count": 86,
   "id": "0ea552e8",
   "metadata": {},
   "outputs": [],
   "source": [
    "# creating two variables(objects) with same value\n",
    "s1 = 'Like'\n",
    "s2 = 'Like'\n",
    "# In this case two variables points to the same memory location"
   ]
  },
  {
   "cell_type": "code",
   "execution_count": 87,
   "id": "6213e3ea",
   "metadata": {},
   "outputs": [
    {
     "data": {
      "text/plain": [
       "True"
      ]
     },
     "execution_count": 87,
     "metadata": {},
     "output_type": "execute_result"
    }
   ],
   "source": [
    "s1 is s2  # using 'is' to check whether two variables points to the same memory or not "
   ]
  },
  {
   "cell_type": "markdown",
   "id": "2e02e9b4",
   "metadata": {},
   "source": [
    "For certain string literals composed of only lowercase letters (a-z), uppercase letters (A-Z), or digits (0-9), Python uses string interning."
   ]
  },
  {
   "cell_type": "code",
   "execution_count": 88,
   "id": "229e226a",
   "metadata": {},
   "outputs": [],
   "source": [
    "s1 = 'Like@'\n",
    "s2 = 'Like@'"
   ]
  },
  {
   "cell_type": "code",
   "execution_count": 89,
   "id": "7312e1f2",
   "metadata": {},
   "outputs": [
    {
     "data": {
      "text/plain": [
       "False"
      ]
     },
     "execution_count": 89,
     "metadata": {},
     "output_type": "execute_result"
    }
   ],
   "source": [
    "s1 is s2 # In this case though we have got same strings but the address they were containting is different"
   ]
  },
  {
   "cell_type": "code",
   "execution_count": 90,
   "id": "265a8018",
   "metadata": {},
   "outputs": [
    {
     "data": {
      "text/plain": [
       "1897631288688"
      ]
     },
     "execution_count": 90,
     "metadata": {},
     "output_type": "execute_result"
    }
   ],
   "source": [
    "id(s1)"
   ]
  },
  {
   "cell_type": "code",
   "execution_count": 91,
   "id": "1ef9bb45",
   "metadata": {},
   "outputs": [
    {
     "data": {
      "text/plain": [
       "1897631208240"
      ]
     },
     "execution_count": 91,
     "metadata": {},
     "output_type": "execute_result"
    }
   ],
   "source": [
    "id(s2)"
   ]
  },
  {
   "cell_type": "markdown",
   "id": "a5d56e32",
   "metadata": {},
   "source": [
    "    In case of list, tuple, set and dict this expectation of having same content points to the same memory location does not work"
   ]
  },
  {
   "cell_type": "markdown",
   "id": "93c36794",
   "metadata": {},
   "source": [
    "# list"
   ]
  },
  {
   "cell_type": "code",
   "execution_count": 92,
   "id": "e538debb",
   "metadata": {},
   "outputs": [],
   "source": [
    "l1 = [1,2]\n",
    "l2 = [1,2]"
   ]
  },
  {
   "cell_type": "code",
   "execution_count": 93,
   "id": "ba35022e",
   "metadata": {},
   "outputs": [
    {
     "data": {
      "text/plain": [
       "False"
      ]
     },
     "execution_count": 93,
     "metadata": {},
     "output_type": "execute_result"
    }
   ],
   "source": [
    "l1 is l2"
   ]
  },
  {
   "cell_type": "code",
   "execution_count": 94,
   "id": "3f132d25",
   "metadata": {},
   "outputs": [
    {
     "data": {
      "text/plain": [
       "1897631485184"
      ]
     },
     "execution_count": 94,
     "metadata": {},
     "output_type": "execute_result"
    }
   ],
   "source": [
    "id(l1)"
   ]
  },
  {
   "cell_type": "code",
   "execution_count": 95,
   "id": "4970adfe",
   "metadata": {
    "scrolled": true
   },
   "outputs": [
    {
     "data": {
      "text/plain": [
       "1897631577344"
      ]
     },
     "execution_count": 95,
     "metadata": {},
     "output_type": "execute_result"
    }
   ],
   "source": [
    "id(l2)"
   ]
  },
  {
   "cell_type": "markdown",
   "id": "6b54f49a",
   "metadata": {},
   "source": [
    "# tuple"
   ]
  },
  {
   "cell_type": "code",
   "execution_count": 96,
   "id": "c0f0ff64",
   "metadata": {},
   "outputs": [],
   "source": [
    "t1 = (1,2)\n",
    "t2 = (1,2)"
   ]
  },
  {
   "cell_type": "code",
   "execution_count": 97,
   "id": "4b9d8629",
   "metadata": {},
   "outputs": [
    {
     "data": {
      "text/plain": [
       "False"
      ]
     },
     "execution_count": 97,
     "metadata": {},
     "output_type": "execute_result"
    }
   ],
   "source": [
    "t1 is t2"
   ]
  },
  {
   "cell_type": "markdown",
   "id": "591c810d",
   "metadata": {},
   "source": [
    "# set"
   ]
  },
  {
   "cell_type": "code",
   "execution_count": 98,
   "id": "f5770dba",
   "metadata": {},
   "outputs": [],
   "source": [
    "s1 = {1,2}\n",
    "s2 = {1,2}"
   ]
  },
  {
   "cell_type": "code",
   "execution_count": 99,
   "id": "6075c60c",
   "metadata": {},
   "outputs": [
    {
     "data": {
      "text/plain": [
       "False"
      ]
     },
     "execution_count": 99,
     "metadata": {},
     "output_type": "execute_result"
    }
   ],
   "source": [
    "s1 is s2"
   ]
  },
  {
   "cell_type": "markdown",
   "id": "cb245042",
   "metadata": {},
   "source": [
    "# dict"
   ]
  },
  {
   "cell_type": "code",
   "execution_count": 100,
   "id": "b255a223",
   "metadata": {},
   "outputs": [],
   "source": [
    "d1 = {1:10, 2:20}\n",
    "d2 = {1:10, 2:20}"
   ]
  },
  {
   "cell_type": "code",
   "execution_count": 101,
   "id": "6ec22cc0",
   "metadata": {},
   "outputs": [
    {
     "data": {
      "text/plain": [
       "False"
      ]
     },
     "execution_count": 101,
     "metadata": {},
     "output_type": "execute_result"
    }
   ],
   "source": [
    "d1 is d2"
   ]
  },
  {
   "cell_type": "markdown",
   "id": "8bfd4000",
   "metadata": {},
   "source": [
    "## Where can I use this identity operator effectively ?"
   ]
  },
  {
   "cell_type": "markdown",
   "id": "cf9f836b",
   "metadata": {},
   "source": [
    "    Identity operators (is and is not) can be used effectively in comparing against True, False, and None in Python."
   ]
  },
  {
   "cell_type": "code",
   "execution_count": 102,
   "id": "5d801673",
   "metadata": {},
   "outputs": [],
   "source": [
    "num1 = 10\n",
    "num2 = 20"
   ]
  },
  {
   "cell_type": "code",
   "execution_count": 103,
   "id": "86a0d44c",
   "metadata": {},
   "outputs": [
    {
     "data": {
      "text/plain": [
       "True"
      ]
     },
     "execution_count": 103,
     "metadata": {},
     "output_type": "execute_result"
    }
   ],
   "source": [
    "(num1 > num2) is False"
   ]
  },
  {
   "cell_type": "markdown",
   "id": "7f1a930c",
   "metadata": {},
   "source": [
    "    The answer for (num1 > num2) is False by using 'is' operator we are comparing the memory addresses of expression and False"
   ]
  },
  {
   "cell_type": "code",
   "execution_count": 104,
   "id": "fa50a1d8",
   "metadata": {},
   "outputs": [
    {
     "data": {
      "text/plain": [
       "140708976187528"
      ]
     },
     "execution_count": 104,
     "metadata": {},
     "output_type": "execute_result"
    }
   ],
   "source": [
    "id((num1 > num2))"
   ]
  },
  {
   "cell_type": "code",
   "execution_count": 105,
   "id": "c2daca2f",
   "metadata": {},
   "outputs": [
    {
     "data": {
      "text/plain": [
       "140708976187528"
      ]
     },
     "execution_count": 105,
     "metadata": {},
     "output_type": "execute_result"
    }
   ],
   "source": [
    "id(False)"
   ]
  },
  {
   "cell_type": "code",
   "execution_count": 106,
   "id": "ab4f3f07",
   "metadata": {},
   "outputs": [
    {
     "data": {
      "text/plain": [
       "True"
      ]
     },
     "execution_count": 106,
     "metadata": {},
     "output_type": "execute_result"
    }
   ],
   "source": [
    "(num1 < num2) is True"
   ]
  },
  {
   "cell_type": "markdown",
   "id": "77e77a4a",
   "metadata": {},
   "source": [
    "    The answer for (num1 < num2) is True by using 'is' operator we are comparing the memory addresses of expression and True"
   ]
  },
  {
   "cell_type": "code",
   "execution_count": 107,
   "id": "aa61cce4",
   "metadata": {},
   "outputs": [],
   "source": [
    "a = None"
   ]
  },
  {
   "cell_type": "code",
   "execution_count": 108,
   "id": "80548f3f",
   "metadata": {},
   "outputs": [
    {
     "data": {
      "text/plain": [
       "True"
      ]
     },
     "execution_count": 108,
     "metadata": {},
     "output_type": "execute_result"
    }
   ],
   "source": [
    "a is None"
   ]
  },
  {
   "cell_type": "markdown",
   "id": "ddd36b62",
   "metadata": {},
   "source": [
    "In summary identity operators are used to compare the memory addresses of two objects\n",
    "\n",
    "By any chance if you mistakenly using is operator to compare values you may get the wrong results, for comparing values we have '==' operator."
   ]
  },
  {
   "cell_type": "markdown",
   "id": "bd801776",
   "metadata": {},
   "source": [
    "If you find this content interesting and for more of this kind of content explore my YTChannel: https://www.youtube.com/@MaheshJaviniki"
   ]
  },
  {
   "cell_type": "code",
   "execution_count": null,
   "id": "e7f31b77",
   "metadata": {},
   "outputs": [],
   "source": []
  }
 ],
 "metadata": {
  "kernelspec": {
   "display_name": "Python 3 (ipykernel)",
   "language": "python",
   "name": "python3"
  },
  "language_info": {
   "codemirror_mode": {
    "name": "ipython",
    "version": 3
   },
   "file_extension": ".py",
   "mimetype": "text/x-python",
   "name": "python",
   "nbconvert_exporter": "python",
   "pygments_lexer": "ipython3",
   "version": "3.9.12"
  }
 },
 "nbformat": 4,
 "nbformat_minor": 5
}
