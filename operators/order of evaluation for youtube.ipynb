{
 "cells": [
  {
   "cell_type": "markdown",
   "id": "596f8e3b",
   "metadata": {},
   "source": [
    "# Everything you need to know about python:\n",
    "## In simplest possible way\n",
    "\n",
    "# Order of Evaluation"
   ]
  },
  {
   "cell_type": "code",
   "execution_count": 26,
   "id": "8a563381",
   "metadata": {},
   "outputs": [
    {
     "data": {
      "text/plain": [
       "3"
      ]
     },
     "execution_count": 26,
     "metadata": {},
     "output_type": "execute_result"
    }
   ],
   "source": [
    "2 + 3 * 5 // 15"
   ]
  },
  {
   "cell_type": "markdown",
   "id": "b2e862f2",
   "metadata": {},
   "source": [
    "In Python, expressions are evaluated based on a well-defined order of operations, also known as operator precedence. The order of evaluation ensures that expressions are computed correctly and consistently. Below is the order of evaluation for different types of operators, from highest to lowest precedence:\n",
    "\n",
    "1. Parentheses: `()`\n",
    "   - Parentheses have the highest precedence, and expressions inside them are evaluated first.\n",
    "\n",
    "2. Exponentiation: `**`\n",
    "   - Exponentiation is evaluated next, and it is right-associative (evaluated from right to left).\n",
    "\n",
    "3. Unary Positive and Negation: `+x`, `-x`\n",
    "   - Unary positive and negation operators are applied to values after parentheses and exponentiation.\n",
    "\n",
    "4. Multiplication, Division, and Floor Division: `*`, `/`, `//`\n",
    "   - Multiplication, division, and floor division operators are evaluated from left to right.\n",
    "\n",
    "5. Addition and Subtraction: `+`, `-`\n",
    "   - Addition and subtraction operators are evaluated from left to right.\n",
    "\n",
    "6. Bitwise Shifts: `<<`, `>>`\n",
    "   - Bitwise shift operators have the same precedence and are evaluated from left to right.\n",
    "\n",
    "7. Bitwise AND: `&`\n",
    "   - Bitwise AND operator is evaluated next.\n",
    "\n",
    "8. Bitwise XOR: `^`\n",
    "   - Bitwise XOR (exclusive OR) operator is evaluated next.\n",
    "\n",
    "9. Bitwise OR: `|`\n",
    "   - Bitwise OR operator is evaluated next.\n",
    "\n",
    "10. Comparison Operators: `<`, `<=`, `>`, `>=`, `==`, `!=`\n",
    "    - Comparison operators are evaluated from left to right.\n",
    "\n",
    "11. Membership Operators: `in`, `not in`\n",
    "    - Membership operators check for membership in a sequence and are evaluated from left to right.\n",
    "\n",
    "12. Identity Operators: `is`, `is not`\n",
    "    - Identity operators check for object identity and are evaluated from left to right.\n",
    "\n",
    "13. Logical NOT: `not`\n",
    "    - Logical NOT operator is evaluated next.\n",
    "\n",
    "14. Logical AND: `and`\n",
    "    - Logical AND operator is evaluated next.\n",
    "\n",
    "15. Logical OR: `or`\n",
    "    - Logical OR operator has the lowest precedence and is evaluated last.\n",
    "\n",
    "Operators with higher precedence are evaluated before operators with lower precedence. If there are multiple operators with the same precedence, the evaluation is performed from left to right.\n",
    "\n",
    "Keep in mind that parentheses can be used to override the default precedence and enforce a specific order of evaluation. Using explicit parentheses can make the code more readable and avoid any ambiguity in complex expressions.\n",
    "\n",
    "Let us try to understand order of evaluation with following expressions:\n",
    "\n",
    "2 + 3 * 2 - 3 // 2\n",
    "\n",
    "((4 + 6) * (15 // 3) + 8) - (5 ** 2) & (16 ^ 3)\n",
    "\n",
    "(3 * 5) + (8 % 3) - (4 // 2) > (6 & 7) or not (10 == 10)"
   ]
  },
  {
   "cell_type": "markdown",
   "id": "a2b1dae1",
   "metadata": {},
   "source": [
    "## 2 + 3 * 2 - 3 // 2"
   ]
  },
  {
   "cell_type": "code",
   "execution_count": 27,
   "id": "d64eb70b",
   "metadata": {},
   "outputs": [
    {
     "data": {
      "text/plain": [
       "7"
      ]
     },
     "execution_count": 27,
     "metadata": {},
     "output_type": "execute_result"
    }
   ],
   "source": [
    "2 + 3 * 2 - 3 // 2"
   ]
  },
  {
   "cell_type": "code",
   "execution_count": 28,
   "id": "3364e4ef",
   "metadata": {},
   "outputs": [
    {
     "data": {
      "text/plain": [
       "6"
      ]
     },
     "execution_count": 28,
     "metadata": {},
     "output_type": "execute_result"
    }
   ],
   "source": [
    "3 * 2"
   ]
  },
  {
   "cell_type": "code",
   "execution_count": 29,
   "id": "d286a990",
   "metadata": {},
   "outputs": [
    {
     "data": {
      "text/plain": [
       "7"
      ]
     },
     "execution_count": 29,
     "metadata": {},
     "output_type": "execute_result"
    }
   ],
   "source": [
    "2 + 6 - 3 // 2"
   ]
  },
  {
   "cell_type": "code",
   "execution_count": 30,
   "id": "d94aec35",
   "metadata": {},
   "outputs": [
    {
     "data": {
      "text/plain": [
       "1"
      ]
     },
     "execution_count": 30,
     "metadata": {},
     "output_type": "execute_result"
    }
   ],
   "source": [
    "3 // 2"
   ]
  },
  {
   "cell_type": "code",
   "execution_count": 31,
   "id": "f9842af5",
   "metadata": {},
   "outputs": [
    {
     "data": {
      "text/plain": [
       "7"
      ]
     },
     "execution_count": 31,
     "metadata": {},
     "output_type": "execute_result"
    }
   ],
   "source": [
    "8 - 1"
   ]
  },
  {
   "cell_type": "markdown",
   "id": "fa406959",
   "metadata": {},
   "source": [
    "## ((4 + 6) * (15 // 3) + 8) - (5 ** 2) & (16 ^ 3)"
   ]
  },
  {
   "cell_type": "code",
   "execution_count": 32,
   "id": "fd5c6489",
   "metadata": {},
   "outputs": [
    {
     "data": {
      "text/plain": [
       "1"
      ]
     },
     "execution_count": 32,
     "metadata": {},
     "output_type": "execute_result"
    }
   ],
   "source": [
    "((4 + 6) * (15 // 3) + 8) - (5 ** 2) & (16 ^ 3)"
   ]
  },
  {
   "cell_type": "code",
   "execution_count": 33,
   "id": "5aeb5ee0",
   "metadata": {},
   "outputs": [
    {
     "data": {
      "text/plain": [
       "58"
      ]
     },
     "execution_count": 33,
     "metadata": {},
     "output_type": "execute_result"
    }
   ],
   "source": [
    "((4 + 6) * (15 // 3) + 8)"
   ]
  },
  {
   "cell_type": "code",
   "execution_count": 34,
   "id": "cd7e6a28",
   "metadata": {},
   "outputs": [
    {
     "data": {
      "text/plain": [
       "50"
      ]
     },
     "execution_count": 34,
     "metadata": {},
     "output_type": "execute_result"
    }
   ],
   "source": [
    "10 * 5"
   ]
  },
  {
   "cell_type": "code",
   "execution_count": 35,
   "id": "9f153819",
   "metadata": {},
   "outputs": [
    {
     "data": {
      "text/plain": [
       "58"
      ]
     },
     "execution_count": 35,
     "metadata": {},
     "output_type": "execute_result"
    }
   ],
   "source": [
    "50 + 8"
   ]
  },
  {
   "cell_type": "code",
   "execution_count": 36,
   "id": "95898542",
   "metadata": {},
   "outputs": [
    {
     "data": {
      "text/plain": [
       "1"
      ]
     },
     "execution_count": 36,
     "metadata": {},
     "output_type": "execute_result"
    }
   ],
   "source": [
    "58 - (5 ** 2) & (16 ^ 3)"
   ]
  },
  {
   "cell_type": "code",
   "execution_count": 37,
   "id": "6bd9cd5a",
   "metadata": {},
   "outputs": [
    {
     "data": {
      "text/plain": [
       "19"
      ]
     },
     "execution_count": 37,
     "metadata": {},
     "output_type": "execute_result"
    }
   ],
   "source": [
    "(16 ^ 3)"
   ]
  },
  {
   "cell_type": "code",
   "execution_count": 38,
   "id": "42a88d95",
   "metadata": {},
   "outputs": [
    {
     "data": {
      "text/plain": [
       "1"
      ]
     },
     "execution_count": 38,
     "metadata": {},
     "output_type": "execute_result"
    }
   ],
   "source": [
    "58 - 25 & 19"
   ]
  },
  {
   "cell_type": "code",
   "execution_count": 39,
   "id": "1650faa1",
   "metadata": {},
   "outputs": [
    {
     "data": {
      "text/plain": [
       "33"
      ]
     },
     "execution_count": 39,
     "metadata": {},
     "output_type": "execute_result"
    }
   ],
   "source": [
    "58 - 25"
   ]
  },
  {
   "cell_type": "code",
   "execution_count": 40,
   "id": "7ca7a682",
   "metadata": {},
   "outputs": [
    {
     "data": {
      "text/plain": [
       "1"
      ]
     },
     "execution_count": 40,
     "metadata": {},
     "output_type": "execute_result"
    }
   ],
   "source": [
    "33 & 19"
   ]
  },
  {
   "cell_type": "markdown",
   "id": "7cb0f5da",
   "metadata": {},
   "source": [
    "## (3 * 5) + (8 % 3) - (4 // 2) > (6 & 7) or not (10 == 10)"
   ]
  },
  {
   "cell_type": "code",
   "execution_count": 41,
   "id": "8c7ea56f",
   "metadata": {},
   "outputs": [
    {
     "data": {
      "text/plain": [
       "True"
      ]
     },
     "execution_count": 41,
     "metadata": {},
     "output_type": "execute_result"
    }
   ],
   "source": [
    "(3 * 5) + (8 % 3) - (4 // 2) > (6 & 7) or not (10 == 10)"
   ]
  },
  {
   "cell_type": "code",
   "execution_count": 42,
   "id": "93ec1f9a",
   "metadata": {},
   "outputs": [
    {
     "data": {
      "text/plain": [
       "15"
      ]
     },
     "execution_count": 42,
     "metadata": {},
     "output_type": "execute_result"
    }
   ],
   "source": [
    "(3 * 5)"
   ]
  },
  {
   "cell_type": "code",
   "execution_count": 43,
   "id": "e31855da",
   "metadata": {},
   "outputs": [
    {
     "data": {
      "text/plain": [
       "2"
      ]
     },
     "execution_count": 43,
     "metadata": {},
     "output_type": "execute_result"
    }
   ],
   "source": [
    "(8 % 3)"
   ]
  },
  {
   "cell_type": "code",
   "execution_count": 44,
   "id": "f369bfbb",
   "metadata": {},
   "outputs": [
    {
     "data": {
      "text/plain": [
       "2"
      ]
     },
     "execution_count": 44,
     "metadata": {},
     "output_type": "execute_result"
    }
   ],
   "source": [
    "(4 // 2)"
   ]
  },
  {
   "cell_type": "code",
   "execution_count": 45,
   "id": "61398e02",
   "metadata": {},
   "outputs": [
    {
     "data": {
      "text/plain": [
       "6"
      ]
     },
     "execution_count": 45,
     "metadata": {},
     "output_type": "execute_result"
    }
   ],
   "source": [
    "(6 & 7)"
   ]
  },
  {
   "cell_type": "code",
   "execution_count": 46,
   "id": "1ae41798",
   "metadata": {},
   "outputs": [
    {
     "data": {
      "text/plain": [
       "True"
      ]
     },
     "execution_count": 46,
     "metadata": {},
     "output_type": "execute_result"
    }
   ],
   "source": [
    "(10 == 10)"
   ]
  },
  {
   "cell_type": "code",
   "execution_count": 47,
   "id": "90c47342",
   "metadata": {},
   "outputs": [
    {
     "data": {
      "text/plain": [
       "True"
      ]
     },
     "execution_count": 47,
     "metadata": {},
     "output_type": "execute_result"
    }
   ],
   "source": [
    "15 + 2 - 2 > 6 or not True"
   ]
  },
  {
   "cell_type": "code",
   "execution_count": 48,
   "id": "3888c99e",
   "metadata": {},
   "outputs": [
    {
     "data": {
      "text/plain": [
       "True"
      ]
     },
     "execution_count": 48,
     "metadata": {},
     "output_type": "execute_result"
    }
   ],
   "source": [
    "True or not True"
   ]
  },
  {
   "cell_type": "code",
   "execution_count": 49,
   "id": "afc324a3",
   "metadata": {},
   "outputs": [
    {
     "data": {
      "text/plain": [
       "True"
      ]
     },
     "execution_count": 49,
     "metadata": {},
     "output_type": "execute_result"
    }
   ],
   "source": [
    "True or False"
   ]
  },
  {
   "cell_type": "markdown",
   "id": "f686041a",
   "metadata": {},
   "source": [
    "If you find this content interesting and for more of this kind of content explore my YTChannel: https://www.youtube.com/@MaheshJaviniki"
   ]
  }
 ],
 "metadata": {
  "kernelspec": {
   "display_name": "Python 3 (ipykernel)",
   "language": "python",
   "name": "python3"
  },
  "language_info": {
   "codemirror_mode": {
    "name": "ipython",
    "version": 3
   },
   "file_extension": ".py",
   "mimetype": "text/x-python",
   "name": "python",
   "nbconvert_exporter": "python",
   "pygments_lexer": "ipython3",
   "version": "3.9.12"
  }
 },
 "nbformat": 4,
 "nbformat_minor": 5
}
