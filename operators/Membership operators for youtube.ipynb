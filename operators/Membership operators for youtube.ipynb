{
 "cells": [
  {
   "cell_type": "markdown",
   "id": "d2fc9e2b",
   "metadata": {},
   "source": [
    "# Everything you need to know about python:\n",
    "## In simplest possible way"
   ]
  },
  {
   "cell_type": "markdown",
   "id": "e2e25461",
   "metadata": {},
   "source": [
    "# Membership operators"
   ]
  },
  {
   "cell_type": "markdown",
   "id": "2f6c96b8",
   "metadata": {},
   "source": [
    "Membership operators in Python are used to test the membership of a value within a sequence or collection. There are two membership operators in Python:\n",
    "\n",
    "1. `in`: This operator returns `True` if the value exists in the sequence; otherwise, it returns `False`.\n",
    "\n",
    "2. `not in`: This operator returns `True` if the value does not exist in the sequence; otherwise, it returns `False`.\n",
    "\n",
    "Let's explore these operators in more detail:\n"
   ]
  },
  {
   "cell_type": "markdown",
   "id": "868fec5f",
   "metadata": {},
   "source": [
    "# 1. `in` Operator:"
   ]
  },
  {
   "cell_type": "markdown",
   "id": "fdd346b0",
   "metadata": {},
   "source": [
    "The `in` operator is used to check if a value is present in a given sequence such as a string, list, tuple, set, or dictionary. The syntax is:\n",
    "\n",
    "```python\n",
    "value in sequence\n",
    "```\n",
    "\n",
    "- If the `value` is found in the `sequence`, the operator returns `True`.\n",
    "- If the `value` is not found in the `sequence`, the operator returns `False`.\n"
   ]
  },
  {
   "cell_type": "code",
   "execution_count": 46,
   "id": "f0c9b75a",
   "metadata": {},
   "outputs": [],
   "source": [
    "string = \"Subscribe\" # taking string as string is considered as a sequence"
   ]
  },
  {
   "cell_type": "code",
   "execution_count": 47,
   "id": "1e46842b",
   "metadata": {},
   "outputs": [
    {
     "data": {
      "text/plain": [
       "True"
      ]
     },
     "execution_count": 47,
     "metadata": {},
     "output_type": "execute_result"
    }
   ],
   "source": [
    "'c' in string # using 'in' checking a character presnt in a string or not"
   ]
  },
  {
   "cell_type": "code",
   "execution_count": 48,
   "id": "60dc9fa0",
   "metadata": {},
   "outputs": [
    {
     "data": {
      "text/plain": [
       "False"
      ]
     },
     "execution_count": 48,
     "metadata": {},
     "output_type": "execute_result"
    }
   ],
   "source": [
    "'a' in string # using 'in' checking a character presnt in a string or not"
   ]
  },
  {
   "cell_type": "markdown",
   "id": "4be4bb95",
   "metadata": {},
   "source": [
    "# 2. `not in` Operator:"
   ]
  },
  {
   "cell_type": "markdown",
   "id": "2462826e",
   "metadata": {},
   "source": [
    "\n",
    "\n",
    "The `not in` operator is the negation of the `in` operator. It checks if a value is not present in the given sequence. The syntax is:\n",
    "\n",
    "```python\n",
    "value not in sequence\n",
    "```\n",
    "\n",
    "- If the `value` is not found in the `sequence`, the operator returns `True`.\n",
    "- If the `value` is found in the `sequence`, the operator returns `False`.\n"
   ]
  },
  {
   "cell_type": "code",
   "execution_count": 49,
   "id": "2f3c8c4e",
   "metadata": {},
   "outputs": [
    {
     "data": {
      "text/plain": [
       "'Subscribe'"
      ]
     },
     "execution_count": 49,
     "metadata": {},
     "output_type": "execute_result"
    }
   ],
   "source": [
    "string"
   ]
  },
  {
   "cell_type": "code",
   "execution_count": 50,
   "id": "4a60c78c",
   "metadata": {},
   "outputs": [
    {
     "data": {
      "text/plain": [
       "True"
      ]
     },
     "execution_count": 50,
     "metadata": {},
     "output_type": "execute_result"
    }
   ],
   "source": [
    "'a' not in string # using 'not in' checking a character presnt in a string or not"
   ]
  },
  {
   "cell_type": "code",
   "execution_count": 51,
   "id": "774d7db1",
   "metadata": {},
   "outputs": [
    {
     "data": {
      "text/plain": [
       "False"
      ]
     },
     "execution_count": 51,
     "metadata": {},
     "output_type": "execute_result"
    }
   ],
   "source": [
    "'s' not in string # using 'not in' checking a character presnt in a string or not"
   ]
  },
  {
   "cell_type": "markdown",
   "id": "0b1a5030",
   "metadata": {},
   "source": [
    "# list"
   ]
  },
  {
   "cell_type": "code",
   "execution_count": 52,
   "id": "a7536777",
   "metadata": {},
   "outputs": [],
   "source": [
    "fruits = ['apple', 'banana', 'cherry'] "
   ]
  },
  {
   "cell_type": "code",
   "execution_count": 53,
   "id": "1f3dcfb8",
   "metadata": {},
   "outputs": [
    {
     "data": {
      "text/plain": [
       "True"
      ]
     },
     "execution_count": 53,
     "metadata": {},
     "output_type": "execute_result"
    }
   ],
   "source": [
    "'apple' in fruits # using 'in' checking an element presnt in a list or not"
   ]
  },
  {
   "cell_type": "code",
   "execution_count": 54,
   "id": "ec7fec5b",
   "metadata": {},
   "outputs": [
    {
     "data": {
      "text/plain": [
       "False"
      ]
     },
     "execution_count": 54,
     "metadata": {},
     "output_type": "execute_result"
    }
   ],
   "source": [
    "'tomato' in fruits # using 'in' checking an element presnt in a list or not"
   ]
  },
  {
   "cell_type": "code",
   "execution_count": 55,
   "id": "13f907c0",
   "metadata": {},
   "outputs": [
    {
     "data": {
      "text/plain": [
       "True"
      ]
     },
     "execution_count": 55,
     "metadata": {},
     "output_type": "execute_result"
    }
   ],
   "source": [
    "'tomato' not in fruits # using 'not in' checking an element presnt in a list or not"
   ]
  },
  {
   "cell_type": "markdown",
   "id": "94fa7eef",
   "metadata": {},
   "source": [
    "# tuple"
   ]
  },
  {
   "cell_type": "code",
   "execution_count": 56,
   "id": "5bd96dce",
   "metadata": {},
   "outputs": [],
   "source": [
    "fruits_tuple = ('apple', 'banana', 'cherry')"
   ]
  },
  {
   "cell_type": "code",
   "execution_count": 57,
   "id": "010998c3",
   "metadata": {},
   "outputs": [
    {
     "data": {
      "text/plain": [
       "True"
      ]
     },
     "execution_count": 57,
     "metadata": {},
     "output_type": "execute_result"
    }
   ],
   "source": [
    "'apple' in fruits_tuple # using 'in' checking an element presnt in a tuple or not"
   ]
  },
  {
   "cell_type": "code",
   "execution_count": 58,
   "id": "3a54ffb8",
   "metadata": {},
   "outputs": [
    {
     "data": {
      "text/plain": [
       "False"
      ]
     },
     "execution_count": 58,
     "metadata": {},
     "output_type": "execute_result"
    }
   ],
   "source": [
    "'tomato' in fruits_tuple # using 'in' checking an element presnt in a tuple or not"
   ]
  },
  {
   "cell_type": "code",
   "execution_count": 59,
   "id": "49228d7f",
   "metadata": {},
   "outputs": [
    {
     "data": {
      "text/plain": [
       "True"
      ]
     },
     "execution_count": 59,
     "metadata": {},
     "output_type": "execute_result"
    }
   ],
   "source": [
    "'tomato' not in fruits_tuple # using 'not in' checking an element presnt in a tuple or not"
   ]
  },
  {
   "cell_type": "markdown",
   "id": "3caf1d22",
   "metadata": {},
   "source": [
    "# set"
   ]
  },
  {
   "cell_type": "code",
   "execution_count": 60,
   "id": "8a1c137e",
   "metadata": {},
   "outputs": [],
   "source": [
    "fruits_set = {'apple', 'banana', 'cherry'}"
   ]
  },
  {
   "cell_type": "code",
   "execution_count": 61,
   "id": "0d5b511a",
   "metadata": {},
   "outputs": [
    {
     "data": {
      "text/plain": [
       "True"
      ]
     },
     "execution_count": 61,
     "metadata": {},
     "output_type": "execute_result"
    }
   ],
   "source": [
    "'banana' in fruits_set # using 'in' checking an element presnt in a set or not"
   ]
  },
  {
   "cell_type": "code",
   "execution_count": 62,
   "id": "b559a5e0",
   "metadata": {},
   "outputs": [
    {
     "data": {
      "text/plain": [
       "False"
      ]
     },
     "execution_count": 62,
     "metadata": {},
     "output_type": "execute_result"
    }
   ],
   "source": [
    "'mango' in fruits_set # using 'in' checking an element presnt in a set or not"
   ]
  },
  {
   "cell_type": "code",
   "execution_count": 63,
   "id": "9a80199f",
   "metadata": {},
   "outputs": [
    {
     "data": {
      "text/plain": [
       "True"
      ]
     },
     "execution_count": 63,
     "metadata": {},
     "output_type": "execute_result"
    }
   ],
   "source": [
    "'mango' not in fruits_set # using 'not in' checking an element presnt in a set or not"
   ]
  },
  {
   "cell_type": "markdown",
   "id": "7f030f38",
   "metadata": {},
   "source": [
    "# dict"
   ]
  },
  {
   "cell_type": "code",
   "execution_count": 64,
   "id": "2afbd8b7",
   "metadata": {},
   "outputs": [],
   "source": [
    "num_dict = {1:'one', 2:'two', 3:'three'}"
   ]
  },
  {
   "cell_type": "code",
   "execution_count": 65,
   "id": "db13da8e",
   "metadata": {},
   "outputs": [
    {
     "data": {
      "text/plain": [
       "True"
      ]
     },
     "execution_count": 65,
     "metadata": {},
     "output_type": "execute_result"
    }
   ],
   "source": [
    "1 in num_dict # using 'in' checking a key presnt in a dict or not"
   ]
  },
  {
   "cell_type": "code",
   "execution_count": 66,
   "id": "1bf9efa6",
   "metadata": {},
   "outputs": [
    {
     "data": {
      "text/plain": [
       "True"
      ]
     },
     "execution_count": 66,
     "metadata": {},
     "output_type": "execute_result"
    }
   ],
   "source": [
    "2 in num_dict # using 'in' checking a key presnt in a dict or not"
   ]
  },
  {
   "cell_type": "code",
   "execution_count": 67,
   "id": "2ced1c65",
   "metadata": {},
   "outputs": [
    {
     "data": {
      "text/plain": [
       "False"
      ]
     },
     "execution_count": 67,
     "metadata": {},
     "output_type": "execute_result"
    }
   ],
   "source": [
    "'one' in num_dict"
   ]
  },
  {
   "cell_type": "markdown",
   "id": "50f77faf",
   "metadata": {},
   "source": [
    "If we directly use 'in' operator present in dict or not we get False\n",
    "\n",
    "Because directly it will only consider keys\n",
    "\n",
    "By using the following method we can know a value is present in dict or not"
   ]
  },
  {
   "cell_type": "code",
   "execution_count": 68,
   "id": "221fb376",
   "metadata": {},
   "outputs": [
    {
     "data": {
      "text/plain": [
       "True"
      ]
     },
     "execution_count": 68,
     "metadata": {},
     "output_type": "execute_result"
    }
   ],
   "source": [
    "'one' in num_dict.values()"
   ]
  },
  {
   "cell_type": "code",
   "execution_count": 69,
   "id": "c9ba02c2",
   "metadata": {
    "scrolled": true
   },
   "outputs": [
    {
     "data": {
      "text/plain": [
       "False"
      ]
     },
     "execution_count": 69,
     "metadata": {},
     "output_type": "execute_result"
    }
   ],
   "source": [
    "[1,'one'] in num_dict.items()"
   ]
  },
  {
   "cell_type": "code",
   "execution_count": 70,
   "id": "22e8469d",
   "metadata": {},
   "outputs": [
    {
     "data": {
      "text/plain": [
       "True"
      ]
     },
     "execution_count": 70,
     "metadata": {},
     "output_type": "execute_result"
    }
   ],
   "source": [
    "key_to_check = 1\n",
    "value_to_check = 'one'\n",
    "# to check key-value pair present in dict\n",
    "key_to_check in num_dict and num_dict[key_to_check] == value_to_check"
   ]
  },
  {
   "cell_type": "markdown",
   "id": "b92eee35",
   "metadata": {},
   "source": [
    "Important notes:\n",
    "\n",
    "- Membership operators can be used with different types of sequences, including strings, lists, tuples, sets, and dictionaries (to check for keys).\n",
    "- The complexity of the membership test depends on the type of sequence. For lists and tuples, it has linear complexity O(n), while for sets and dictionaries, it has constant complexity O(1) on average.\n",
    "\n",
    "Using membership operators can make your code more concise and readable when you need to check for the existence of specific elements in sequences."
   ]
  },
  {
   "cell_type": "markdown",
   "id": "bd52dd56",
   "metadata": {},
   "source": [
    "If you find this content interesting and for more of this kind of content explore my YTChannel: https://www.youtube.com/@MaheshJaviniki"
   ]
  }
 ],
 "metadata": {
  "kernelspec": {
   "display_name": "Python 3 (ipykernel)",
   "language": "python",
   "name": "python3"
  },
  "language_info": {
   "codemirror_mode": {
    "name": "ipython",
    "version": 3
   },
   "file_extension": ".py",
   "mimetype": "text/x-python",
   "name": "python",
   "nbconvert_exporter": "python",
   "pygments_lexer": "ipython3",
   "version": "3.9.12"
  }
 },
 "nbformat": 4,
 "nbformat_minor": 5
}
