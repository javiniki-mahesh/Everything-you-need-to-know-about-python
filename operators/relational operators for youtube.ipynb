{
 "cells": [
  {
   "cell_type": "markdown",
   "id": "02329ab1",
   "metadata": {},
   "source": [
    "# Everything you need to know about python:\n",
    "## In simplest possible way"
   ]
  },
  {
   "cell_type": "markdown",
   "id": "172b1567",
   "metadata": {},
   "source": [
    "# Relational Operators"
   ]
  },
  {
   "cell_type": "markdown",
   "id": "bbf17743",
   "metadata": {},
   "source": [
    "In Python, relational operators (also known as comparison operators) are used to compare values and determine the relationship between them. They return a Boolean value (True or False) based on the comparison result. Python provides the following relational operators:\n",
    "\n",
    "1. Equal to (==): This operator checks if the values on both sides are equal.\n",
    "2. Not equal to (!=): This operator checks if the values on both sides are not equal.\n",
    "3. Greater than (>): This operator checks if the value on the left is greater than the value on the right.\n",
    "4. Less than (<): This operator checks if the value on the left is less than the value on the right.\n",
    "5. Greater than or equal to (>=): This operator checks if the value on the left is greater than or equal to the value on the right.\n",
    "6. Less than or equal to (<=): This operator checks if the value on the left is less than or equal to the value on the right.\n"
   ]
  },
  {
   "cell_type": "markdown",
   "id": "ae432336",
   "metadata": {},
   "source": [
    "## Equal to (==)"
   ]
  },
  {
   "cell_type": "code",
   "execution_count": 15,
   "id": "6ec9d462",
   "metadata": {},
   "outputs": [
    {
     "data": {
      "text/plain": [
       "False"
      ]
     },
     "execution_count": 15,
     "metadata": {},
     "output_type": "execute_result"
    }
   ],
   "source": [
    "2 == 3"
   ]
  },
  {
   "cell_type": "code",
   "execution_count": 16,
   "id": "1624cfd4",
   "metadata": {},
   "outputs": [
    {
     "data": {
      "text/plain": [
       "True"
      ]
     },
     "execution_count": 16,
     "metadata": {},
     "output_type": "execute_result"
    }
   ],
   "source": [
    "2 == 2"
   ]
  },
  {
   "cell_type": "markdown",
   "id": "80be0f92",
   "metadata": {},
   "source": [
    "## Not equal to (!=)"
   ]
  },
  {
   "cell_type": "code",
   "execution_count": 17,
   "id": "e5a71cbe",
   "metadata": {},
   "outputs": [
    {
     "data": {
      "text/plain": [
       "True"
      ]
     },
     "execution_count": 17,
     "metadata": {},
     "output_type": "execute_result"
    }
   ],
   "source": [
    "2 != 3"
   ]
  },
  {
   "cell_type": "code",
   "execution_count": 18,
   "id": "bd06f19b",
   "metadata": {
    "scrolled": true
   },
   "outputs": [
    {
     "data": {
      "text/plain": [
       "False"
      ]
     },
     "execution_count": 18,
     "metadata": {},
     "output_type": "execute_result"
    }
   ],
   "source": [
    "2 != 2"
   ]
  },
  {
   "cell_type": "markdown",
   "id": "80e03c5d",
   "metadata": {},
   "source": [
    "## Greater than (>)"
   ]
  },
  {
   "cell_type": "code",
   "execution_count": 19,
   "id": "b59868df",
   "metadata": {},
   "outputs": [
    {
     "data": {
      "text/plain": [
       "False"
      ]
     },
     "execution_count": 19,
     "metadata": {},
     "output_type": "execute_result"
    }
   ],
   "source": [
    "2 > 3"
   ]
  },
  {
   "cell_type": "code",
   "execution_count": 20,
   "id": "685e2538",
   "metadata": {},
   "outputs": [
    {
     "data": {
      "text/plain": [
       "True"
      ]
     },
     "execution_count": 20,
     "metadata": {},
     "output_type": "execute_result"
    }
   ],
   "source": [
    "3 > 2"
   ]
  },
  {
   "cell_type": "markdown",
   "id": "46a900ff",
   "metadata": {},
   "source": [
    "## Greater than or equal to (>=)"
   ]
  },
  {
   "cell_type": "code",
   "execution_count": 21,
   "id": "8557aafb",
   "metadata": {},
   "outputs": [
    {
     "data": {
      "text/plain": [
       "False"
      ]
     },
     "execution_count": 21,
     "metadata": {},
     "output_type": "execute_result"
    }
   ],
   "source": [
    "2 >= 3"
   ]
  },
  {
   "cell_type": "code",
   "execution_count": 22,
   "id": "256f1bd4",
   "metadata": {},
   "outputs": [
    {
     "data": {
      "text/plain": [
       "True"
      ]
     },
     "execution_count": 22,
     "metadata": {},
     "output_type": "execute_result"
    }
   ],
   "source": [
    "2 >=2 "
   ]
  },
  {
   "cell_type": "code",
   "execution_count": 23,
   "id": "74bc9811",
   "metadata": {},
   "outputs": [
    {
     "data": {
      "text/plain": [
       "True"
      ]
     },
     "execution_count": 23,
     "metadata": {},
     "output_type": "execute_result"
    }
   ],
   "source": [
    "3 >= 2"
   ]
  },
  {
   "cell_type": "markdown",
   "id": "ddb8c404",
   "metadata": {},
   "source": [
    "## Less than (<)"
   ]
  },
  {
   "cell_type": "code",
   "execution_count": 24,
   "id": "b544c183",
   "metadata": {},
   "outputs": [
    {
     "data": {
      "text/plain": [
       "False"
      ]
     },
     "execution_count": 24,
     "metadata": {},
     "output_type": "execute_result"
    }
   ],
   "source": [
    "3 < 2"
   ]
  },
  {
   "cell_type": "markdown",
   "id": "02d676e8",
   "metadata": {},
   "source": [
    "## Less than or equal to (<=)"
   ]
  },
  {
   "cell_type": "code",
   "execution_count": 25,
   "id": "42a30a8c",
   "metadata": {},
   "outputs": [
    {
     "data": {
      "text/plain": [
       "True"
      ]
     },
     "execution_count": 25,
     "metadata": {},
     "output_type": "execute_result"
    }
   ],
   "source": [
    "2 <= 3"
   ]
  },
  {
   "cell_type": "code",
   "execution_count": 26,
   "id": "2c6e189d",
   "metadata": {},
   "outputs": [
    {
     "data": {
      "text/plain": [
       "True"
      ]
     },
     "execution_count": 26,
     "metadata": {},
     "output_type": "execute_result"
    }
   ],
   "source": [
    "2 <= 2"
   ]
  },
  {
   "cell_type": "code",
   "execution_count": 27,
   "id": "3d3bfaec",
   "metadata": {},
   "outputs": [
    {
     "data": {
      "text/plain": [
       "False"
      ]
     },
     "execution_count": 27,
     "metadata": {},
     "output_type": "execute_result"
    }
   ],
   "source": [
    "3 <= 2"
   ]
  },
  {
   "cell_type": "markdown",
   "id": "c6920acd",
   "metadata": {},
   "source": [
    "## Comparing two diffent types"
   ]
  },
  {
   "cell_type": "code",
   "execution_count": 28,
   "id": "ceeca65b",
   "metadata": {},
   "outputs": [
    {
     "data": {
      "text/plain": [
       "False"
      ]
     },
     "execution_count": 28,
     "metadata": {},
     "output_type": "execute_result"
    }
   ],
   "source": [
    "'abc' < str(5000000000000000000000000)"
   ]
  },
  {
   "cell_type": "markdown",
   "id": "12f9142a",
   "metadata": {},
   "source": [
    "## Finding the relation betweeen ordered collecions"
   ]
  },
  {
   "cell_type": "code",
   "execution_count": 29,
   "id": "2a08f237",
   "metadata": {},
   "outputs": [
    {
     "data": {
      "text/plain": [
       "False"
      ]
     },
     "execution_count": 29,
     "metadata": {},
     "output_type": "execute_result"
    }
   ],
   "source": [
    "'abc' == 'abd'"
   ]
  },
  {
   "cell_type": "code",
   "execution_count": 30,
   "id": "38d95eba",
   "metadata": {},
   "outputs": [
    {
     "data": {
      "text/plain": [
       "True"
      ]
     },
     "execution_count": 30,
     "metadata": {},
     "output_type": "execute_result"
    }
   ],
   "source": [
    "'abc' < 'b'"
   ]
  },
  {
   "cell_type": "code",
   "execution_count": 31,
   "id": "a9951359",
   "metadata": {},
   "outputs": [
    {
     "data": {
      "text/plain": [
       "False"
      ]
     },
     "execution_count": 31,
     "metadata": {},
     "output_type": "execute_result"
    }
   ],
   "source": [
    "'bc' < 'ab'"
   ]
  },
  {
   "cell_type": "code",
   "execution_count": 32,
   "id": "788034dd",
   "metadata": {},
   "outputs": [
    {
     "data": {
      "text/plain": [
       "True"
      ]
     },
     "execution_count": 32,
     "metadata": {},
     "output_type": "execute_result"
    }
   ],
   "source": [
    "l1 = [1,2,3]\n",
    "l2 = [1,2,3]\n",
    "\n",
    "l1 <= l2"
   ]
  },
  {
   "cell_type": "markdown",
   "id": "4dd3c172",
   "metadata": {},
   "source": [
    "## Finding the relation betweeen ordered collecions"
   ]
  },
  {
   "cell_type": "markdown",
   "id": "d6ffbadd",
   "metadata": {},
   "source": [
    "### Relational operators in sets"
   ]
  },
  {
   "cell_type": "markdown",
   "id": "3943e205",
   "metadata": {},
   "source": [
    "In Python, sets are unordered collections of unique elements. Relational operators work with sets in the same way they work with other data types, but with some differences due to the unique nature of sets. Let's explore how relational operators behave when used with sets:\n",
    "\n",
    "1. Equal to (==) and Not Equal to (!=):\n",
    "The equality operator (`==`) checks if two sets contain exactly the same elements, irrespective of their order. The inequality operator (`!=`) checks if two sets are not equal.\n",
    "\n",
    "```python\n",
    "set1 = {1, 2, 3}\n",
    "set2 = {3, 2, 1}\n",
    "set3 = {4, 5}\n",
    "\n",
    "print(set1 == set2)  # Output: True (Same elements in different order)\n",
    "print(set1 != set3)  # Output: True (Different elements)\n",
    "```\n",
    "\n",
    "2. Subset and Superset:\n",
    "The less than or equal to operator (`<=`) checks if all elements of one set are present in the other set, making the left set a subset of the right set. The greater than or equal to operator (`>=`) checks if all elements of one set are present in the other set, making the left set a superset of the right set.\n",
    "\n",
    "```python\n",
    "set4 = {1, 2}\n",
    "set5 = {1, 2, 3, 4}\n",
    "\n",
    "print(set4 <= set5)  # Output: True (set4 is a subset of set5)\n",
    "print(set5 >= set4)  # Output: True (set5 is a superset of set4)\n",
    "```\n",
    "\n",
    "3. Proper Subset and Proper Superset:\n",
    "The less than operator (`<`) checks if all elements of one set are present in the other set, making the left set a proper subset (a subset but not equal) of the right set. The greater than operator (`>`) checks if all elements of one set are present in the other set, making the left set a proper superset (a superset but not equal) of the right set.\n",
    "\n",
    "```python\n",
    "set6 = {1, 2}\n",
    "set7 = {1, 2, 3, 4}\n",
    "\n",
    "print(set6 < set7)  # Output: True (set6 is a proper subset of set7)\n",
    "print(set7 > set6)  # Output: True (set7 is a proper superset of set6)\n",
    "```\n",
    "\n",
    "4. Disjoint Sets:\n",
    "The `isdisjoint()` method checks if two sets have no common elements. If the sets are disjoint, it returns True; otherwise, it returns False.\n",
    "\n",
    "```python\n",
    "set8 = {1, 2, 3}\n",
    "set9 = {4, 5, 6}\n",
    "\n",
    "print(set8.isdisjoint(set9))  # Output: True (No common elements)\n",
    "```\n",
    "\n",
    "Relational operators and methods provide a powerful way to compare sets in Python, allowing you to check for equality, subset, superset, and disjointness between sets efficiently."
   ]
  },
  {
   "cell_type": "markdown",
   "id": "10761060",
   "metadata": {},
   "source": [
    "### Relational operators in dict"
   ]
  },
  {
   "cell_type": "code",
   "execution_count": 33,
   "id": "9f5508d5",
   "metadata": {},
   "outputs": [
    {
     "name": "stdout",
     "output_type": "stream",
     "text": [
      "True\n",
      "False\n",
      "True\n"
     ]
    }
   ],
   "source": [
    "dict1 = {\"a\": 1, \"b\": 2, \"c\": 3}\n",
    "dict2 = {\"b\": 2, \"c\": 3, \"a\": 1}\n",
    "dict3 = {\"a\": 1, \"b\": 2}\n",
    "dict4 = {\"a\": 1, \"b\": 2, \"c\": 4}\n",
    "\n",
    "print(dict1 == dict2)  # Output: True (Same content, order doesn't matter)\n",
    "print(dict1 == dict3)  # Output: False (Different keys, even though values are the same)\n",
    "print(dict1 != dict4)  # Output: True (Different value for key \"c\")"
   ]
  }
 ],
 "metadata": {
  "kernelspec": {
   "display_name": "Python 3 (ipykernel)",
   "language": "python",
   "name": "python3"
  },
  "language_info": {
   "codemirror_mode": {
    "name": "ipython",
    "version": 3
   },
   "file_extension": ".py",
   "mimetype": "text/x-python",
   "name": "python",
   "nbconvert_exporter": "python",
   "pygments_lexer": "ipython3",
   "version": "3.9.12"
  }
 },
 "nbformat": 4,
 "nbformat_minor": 5
}
