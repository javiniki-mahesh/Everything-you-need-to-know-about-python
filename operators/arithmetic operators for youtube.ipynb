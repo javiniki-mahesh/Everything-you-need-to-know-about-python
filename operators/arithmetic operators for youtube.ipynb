{
 "cells": [
  {
   "cell_type": "markdown",
   "id": "d125f0c5",
   "metadata": {},
   "source": [
    "# Everything you need to know about python:\n",
    "## In simplest possible way"
   ]
  },
  {
   "cell_type": "markdown",
   "id": "5f5131a3",
   "metadata": {},
   "source": [
    "# Arithmetic operators"
   ]
  },
  {
   "cell_type": "code",
   "execution_count": 23,
   "id": "6d188f8f",
   "metadata": {},
   "outputs": [],
   "source": [
    "num1 = 2\n",
    "num2 = 3"
   ]
  },
  {
   "cell_type": "markdown",
   "id": "d2dd3400",
   "metadata": {},
   "source": [
    "### Addition"
   ]
  },
  {
   "cell_type": "code",
   "execution_count": 24,
   "id": "9c7e2554",
   "metadata": {},
   "outputs": [],
   "source": [
    "addition = num1 + num2"
   ]
  },
  {
   "cell_type": "code",
   "execution_count": 25,
   "id": "9272d5dd",
   "metadata": {
    "scrolled": false
   },
   "outputs": [
    {
     "data": {
      "text/plain": [
       "5"
      ]
     },
     "execution_count": 25,
     "metadata": {},
     "output_type": "execute_result"
    }
   ],
   "source": [
    "addition"
   ]
  },
  {
   "cell_type": "markdown",
   "id": "8c4cfd8a",
   "metadata": {},
   "source": [
    "### subtracion"
   ]
  },
  {
   "cell_type": "code",
   "execution_count": 26,
   "id": "a9d0c6db",
   "metadata": {},
   "outputs": [],
   "source": [
    "sub = num1 - num2"
   ]
  },
  {
   "cell_type": "code",
   "execution_count": 27,
   "id": "0f152f5b",
   "metadata": {},
   "outputs": [
    {
     "data": {
      "text/plain": [
       "-1"
      ]
     },
     "execution_count": 27,
     "metadata": {},
     "output_type": "execute_result"
    }
   ],
   "source": [
    "sub"
   ]
  },
  {
   "cell_type": "markdown",
   "id": "f1740a06",
   "metadata": {},
   "source": [
    "### Multiplication"
   ]
  },
  {
   "cell_type": "code",
   "execution_count": 28,
   "id": "853efe61",
   "metadata": {},
   "outputs": [],
   "source": [
    "mul = num1 * num2"
   ]
  },
  {
   "cell_type": "code",
   "execution_count": 29,
   "id": "289eadb8",
   "metadata": {},
   "outputs": [
    {
     "data": {
      "text/plain": [
       "6"
      ]
     },
     "execution_count": 29,
     "metadata": {},
     "output_type": "execute_result"
    }
   ],
   "source": [
    "mul"
   ]
  },
  {
   "cell_type": "markdown",
   "id": "fa8e7ab5",
   "metadata": {},
   "source": [
    "### division"
   ]
  },
  {
   "cell_type": "code",
   "execution_count": 30,
   "id": "170b8052",
   "metadata": {},
   "outputs": [],
   "source": [
    "div = num1 / num2"
   ]
  },
  {
   "cell_type": "code",
   "execution_count": 31,
   "id": "fe52e633",
   "metadata": {
    "scrolled": true
   },
   "outputs": [
    {
     "data": {
      "text/plain": [
       "0.6666666666666666"
      ]
     },
     "execution_count": 31,
     "metadata": {},
     "output_type": "execute_result"
    }
   ],
   "source": [
    "div"
   ]
  },
  {
   "cell_type": "markdown",
   "id": "db64a80e",
   "metadata": {},
   "source": [
    "### floor division"
   ]
  },
  {
   "cell_type": "code",
   "execution_count": 32,
   "id": "234c1830",
   "metadata": {},
   "outputs": [],
   "source": [
    "floor_div = num1//num2"
   ]
  },
  {
   "cell_type": "code",
   "execution_count": 33,
   "id": "b9225a7c",
   "metadata": {
    "scrolled": true
   },
   "outputs": [
    {
     "data": {
      "text/plain": [
       "0"
      ]
     },
     "execution_count": 33,
     "metadata": {},
     "output_type": "execute_result"
    }
   ],
   "source": [
    "floor_div"
   ]
  },
  {
   "cell_type": "markdown",
   "id": "e3b134d3",
   "metadata": {},
   "source": [
    "### modulo division"
   ]
  },
  {
   "cell_type": "code",
   "execution_count": 34,
   "id": "e0c1ee57",
   "metadata": {},
   "outputs": [],
   "source": [
    "modulo = num1 % num2"
   ]
  },
  {
   "cell_type": "code",
   "execution_count": 35,
   "id": "37c2991a",
   "metadata": {},
   "outputs": [
    {
     "data": {
      "text/plain": [
       "2"
      ]
     },
     "execution_count": 35,
     "metadata": {},
     "output_type": "execute_result"
    }
   ],
   "source": [
    "modulo"
   ]
  },
  {
   "cell_type": "markdown",
   "id": "98789e3c",
   "metadata": {},
   "source": [
    "### Exponential (power)"
   ]
  },
  {
   "cell_type": "code",
   "execution_count": 36,
   "id": "8a26b39f",
   "metadata": {},
   "outputs": [],
   "source": [
    "expo = num1 ** num2"
   ]
  },
  {
   "cell_type": "code",
   "execution_count": 37,
   "id": "7fbbf36e",
   "metadata": {},
   "outputs": [
    {
     "data": {
      "text/plain": [
       "8"
      ]
     },
     "execution_count": 37,
     "metadata": {},
     "output_type": "execute_result"
    }
   ],
   "source": [
    "expo"
   ]
  },
  {
   "cell_type": "markdown",
   "id": "147152f8",
   "metadata": {},
   "source": [
    "### Order of evaluation"
   ]
  },
  {
   "cell_type": "markdown",
   "id": "e071ac2f",
   "metadata": {},
   "source": [
    "\n",
    "1. Parentheses `()`: The expressions within parentheses are evaluated first.\n",
    "\n",
    "2. Exponentiation `**`: The exponentiation operation is performed next.\n",
    "\n",
    "3. Multiplication `*`, Division `/`, Floor Division `//`, and Modulo `%`: These arithmetic operations are performed from left to right.\n",
    "\n",
    "4. Addition `+` and Subtraction `-`: These arithmetic operations are performed from left to right.\n"
   ]
  },
  {
   "cell_type": "code",
   "execution_count": 38,
   "id": "ee749a0c",
   "metadata": {},
   "outputs": [
    {
     "data": {
      "text/plain": [
       "11"
      ]
     },
     "execution_count": 38,
     "metadata": {},
     "output_type": "execute_result"
    }
   ],
   "source": [
    "2 + 3 * 3 # ---> Multiplication had more priority so we hot 11"
   ]
  },
  {
   "cell_type": "code",
   "execution_count": 39,
   "id": "9bae6e00",
   "metadata": {},
   "outputs": [
    {
     "data": {
      "text/plain": [
       "15"
      ]
     },
     "execution_count": 39,
     "metadata": {},
     "output_type": "execute_result"
    }
   ],
   "source": [
    "(2 + 3) * 3 # By adding () we have changed the priority so + executed first and ans is 15"
   ]
  },
  {
   "cell_type": "markdown",
   "id": "65757bc8",
   "metadata": {},
   "source": [
    "    In further coming videos in out YouTube channel : https://www.youtube.com/@MaheshJaviniki we will see more examples for this order of evaluation"
   ]
  }
 ],
 "metadata": {
  "kernelspec": {
   "display_name": "Python 3 (ipykernel)",
   "language": "python",
   "name": "python3"
  },
  "language_info": {
   "codemirror_mode": {
    "name": "ipython",
    "version": 3
   },
   "file_extension": ".py",
   "mimetype": "text/x-python",
   "name": "python",
   "nbconvert_exporter": "python",
   "pygments_lexer": "ipython3",
   "version": "3.9.12"
  }
 },
 "nbformat": 4,
 "nbformat_minor": 5
}
