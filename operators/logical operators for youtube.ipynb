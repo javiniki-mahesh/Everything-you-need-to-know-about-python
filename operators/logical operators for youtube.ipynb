{
 "cells": [
  {
   "cell_type": "markdown",
   "id": "21d6b440",
   "metadata": {},
   "source": [
    "# Everything you need to know about python:\n",
    "## In simplest possible way"
   ]
  },
  {
   "cell_type": "markdown",
   "id": "1b41a89a",
   "metadata": {},
   "source": [
    "# Logical Operators"
   ]
  },
  {
   "cell_type": "markdown",
   "id": "36c18cf6",
   "metadata": {},
   "source": [
    "    Logical operators in Python are used to perform logical operations on Boolean values (True or False). Python provides three main logical operators: and, or, and not. These operators are typically used to combine or modify the logical values of variables or expressions. The below is the table to understand logical operators."
   ]
  },
  {
   "attachments": {
    "Truth-Table.png": {
     "image/png": "[encoded data removed]"
    }
   },
   "cell_type": "markdown",
   "id": "d4eb08a4",
   "metadata": {},
   "source": [
    "![Truth-Table.png](attachment:Truth-Table.png)"
   ]
  },
  {
   "cell_type": "markdown",
   "id": "6d340a19",
   "metadata": {},
   "source": [
    "## and"
   ]
  },
  {
   "cell_type": "markdown",
   "id": "a1b77e6c",
   "metadata": {},
   "source": [
    "    Thumb Rules for and:\n",
    "        1. If the expression has atleast a single False value, the result would be False\n",
    "        2. If the expression has all True values then only the result would be True"
   ]
  },
  {
   "cell_type": "code",
   "execution_count": 9,
   "id": "f0b62ca2",
   "metadata": {},
   "outputs": [
    {
     "data": {
      "text/plain": [
       "True"
      ]
     },
     "execution_count": 9,
     "metadata": {},
     "output_type": "execute_result"
    }
   ],
   "source": [
    "True and True "
   ]
  },
  {
   "cell_type": "code",
   "execution_count": 10,
   "id": "c03c9918",
   "metadata": {},
   "outputs": [
    {
     "data": {
      "text/plain": [
       "1"
      ]
     },
     "execution_count": 10,
     "metadata": {},
     "output_type": "execute_result"
    }
   ],
   "source": [
    "int(True) # True can be represented as 1"
   ]
  },
  {
   "cell_type": "code",
   "execution_count": 11,
   "id": "47b4954b",
   "metadata": {},
   "outputs": [
    {
     "data": {
      "text/plain": [
       "0"
      ]
     },
     "execution_count": 11,
     "metadata": {},
     "output_type": "execute_result"
    }
   ],
   "source": [
    "int(False) # False can be represented as 0"
   ]
  },
  {
   "cell_type": "code",
   "execution_count": 12,
   "id": "9bf6ef08",
   "metadata": {},
   "outputs": [
    {
     "data": {
      "text/plain": [
       "1"
      ]
     },
     "execution_count": 12,
     "metadata": {},
     "output_type": "execute_result"
    }
   ],
   "source": [
    "1 and 1"
   ]
  },
  {
   "cell_type": "code",
   "execution_count": 13,
   "id": "dc58ab70",
   "metadata": {},
   "outputs": [
    {
     "data": {
      "text/plain": [
       "5"
      ]
     },
     "execution_count": 13,
     "metadata": {},
     "output_type": "execute_result"
    }
   ],
   "source": [
    "5 and 5"
   ]
  },
  {
   "cell_type": "code",
   "execution_count": 14,
   "id": "b73a28bb",
   "metadata": {},
   "outputs": [
    {
     "data": {
      "text/plain": [
       "False"
      ]
     },
     "execution_count": 14,
     "metadata": {},
     "output_type": "execute_result"
    }
   ],
   "source": [
    "True and False # The expression has a False value so, the result would be False"
   ]
  },
  {
   "cell_type": "code",
   "execution_count": 15,
   "id": "2904532f",
   "metadata": {},
   "outputs": [
    {
     "data": {
      "text/plain": [
       "0"
      ]
     },
     "execution_count": 15,
     "metadata": {},
     "output_type": "execute_result"
    }
   ],
   "source": [
    "1 and 0"
   ]
  },
  {
   "cell_type": "code",
   "execution_count": 16,
   "id": "17022ba1",
   "metadata": {},
   "outputs": [
    {
     "data": {
      "text/plain": [
       "False"
      ]
     },
     "execution_count": 16,
     "metadata": {},
     "output_type": "execute_result"
    }
   ],
   "source": [
    "False and True # The expression has a False value so, the result would be False"
   ]
  },
  {
   "cell_type": "code",
   "execution_count": 17,
   "id": "3d2e2407",
   "metadata": {},
   "outputs": [
    {
     "data": {
      "text/plain": [
       "0"
      ]
     },
     "execution_count": 17,
     "metadata": {},
     "output_type": "execute_result"
    }
   ],
   "source": [
    "0 and 1"
   ]
  },
  {
   "cell_type": "markdown",
   "id": "c0643015",
   "metadata": {},
   "source": [
    "    The expression evaluation of 'and' is such a way that it tries to find atleast one single False\n",
    "        if it encounters False it will return that False\n",
    "        or otherwise the last value will be returned"
   ]
  },
  {
   "cell_type": "code",
   "execution_count": 18,
   "id": "092d8718",
   "metadata": {},
   "outputs": [
    {
     "data": {
      "text/plain": [
       "4"
      ]
     },
     "execution_count": 18,
     "metadata": {},
     "output_type": "execute_result"
    }
   ],
   "source": [
    "2 and 3 and 4 # no False or 0 occured so last value has returned"
   ]
  },
  {
   "cell_type": "code",
   "execution_count": 19,
   "id": "266f1819",
   "metadata": {},
   "outputs": [
    {
     "data": {
      "text/plain": [
       "0"
      ]
     },
     "execution_count": 19,
     "metadata": {},
     "output_type": "execute_result"
    }
   ],
   "source": [
    "2 and 3 and 0 # found a 0(False) so, returned 0(False)"
   ]
  },
  {
   "cell_type": "code",
   "execution_count": 20,
   "id": "166ef1fa",
   "metadata": {},
   "outputs": [
    {
     "data": {
      "text/plain": [
       "0"
      ]
     },
     "execution_count": 20,
     "metadata": {},
     "output_type": "execute_result"
    }
   ],
   "source": [
    "2 and 0 and 3 # In middle itself found 0, so it returned 0 and don't look further "
   ]
  },
  {
   "cell_type": "code",
   "execution_count": 21,
   "id": "95100c4a",
   "metadata": {},
   "outputs": [
    {
     "data": {
      "text/plain": [
       "False"
      ]
     },
     "execution_count": 21,
     "metadata": {},
     "output_type": "execute_result"
    }
   ],
   "source": [
    "False and False # In the first occurence itself we have found a False so that is returned"
   ]
  },
  {
   "cell_type": "code",
   "execution_count": 22,
   "id": "e99290ca",
   "metadata": {},
   "outputs": [
    {
     "data": {
      "text/plain": [
       "0"
      ]
     },
     "execution_count": 22,
     "metadata": {},
     "output_type": "execute_result"
    }
   ],
   "source": [
    "0 and 3 and 5 # In the first occurence itself we have found a 0(False) so that is returned"
   ]
  },
  {
   "cell_type": "markdown",
   "id": "39ec1e02",
   "metadata": {},
   "source": [
    "# or"
   ]
  },
  {
   "cell_type": "markdown",
   "id": "37a61b55",
   "metadata": {},
   "source": [
    "    Thumb Rules for or:\n",
    "        1. If the expression has atleast a single True value, the result would be True\n",
    "        2. If the expression has all False values then only the result would be False"
   ]
  },
  {
   "cell_type": "code",
   "execution_count": 23,
   "id": "f87997de",
   "metadata": {},
   "outputs": [
    {
     "data": {
      "text/plain": [
       "True"
      ]
     },
     "execution_count": 23,
     "metadata": {},
     "output_type": "execute_result"
    }
   ],
   "source": [
    "True or True # one True occured so, it returned True"
   ]
  },
  {
   "cell_type": "markdown",
   "id": "cd2a3942",
   "metadata": {},
   "source": [
    "    The expression evaluation of 'or' is such a way that it tries to find atleast one single True\n",
    "        if it encounters True it will return that True\n",
    "        or otherwise the last value will be returned\n",
    "        \n",
    "       non zero values considered as True "
   ]
  },
  {
   "cell_type": "code",
   "execution_count": 24,
   "id": "7fedb40e",
   "metadata": {},
   "outputs": [
    {
     "data": {
      "text/plain": [
       "2"
      ]
     },
     "execution_count": 24,
     "metadata": {},
     "output_type": "execute_result"
    }
   ],
   "source": [
    "2 or 3 # 2 considered as True so that is returned"
   ]
  },
  {
   "cell_type": "code",
   "execution_count": 25,
   "id": "b73b462c",
   "metadata": {},
   "outputs": [
    {
     "data": {
      "text/plain": [
       "True"
      ]
     },
     "execution_count": 25,
     "metadata": {},
     "output_type": "execute_result"
    }
   ],
   "source": [
    "False or True # The expression contains True so that is returned"
   ]
  },
  {
   "cell_type": "code",
   "execution_count": 26,
   "id": "b83c9f7d",
   "metadata": {},
   "outputs": [
    {
     "data": {
      "text/plain": [
       "2"
      ]
     },
     "execution_count": 26,
     "metadata": {},
     "output_type": "execute_result"
    }
   ],
   "source": [
    "0 or 2 # 2 considered as True so that is returned"
   ]
  },
  {
   "cell_type": "code",
   "execution_count": 27,
   "id": "244f0942",
   "metadata": {},
   "outputs": [
    {
     "data": {
      "text/plain": [
       "2"
      ]
     },
     "execution_count": 27,
     "metadata": {},
     "output_type": "execute_result"
    }
   ],
   "source": [
    "0 or 2 or 3 or 5 # first True occurence which is 2 so, that is returned"
   ]
  },
  {
   "cell_type": "code",
   "execution_count": 28,
   "id": "7ffdd948",
   "metadata": {},
   "outputs": [
    {
     "data": {
      "text/plain": [
       "2"
      ]
     },
     "execution_count": 28,
     "metadata": {},
     "output_type": "execute_result"
    }
   ],
   "source": [
    "2 or 0 or 3 or 0 or 4 # first True occurence which is 2 so, that is returned"
   ]
  },
  {
   "cell_type": "code",
   "execution_count": 29,
   "id": "0e64bf48",
   "metadata": {},
   "outputs": [
    {
     "data": {
      "text/plain": [
       "True"
      ]
     },
     "execution_count": 29,
     "metadata": {},
     "output_type": "execute_result"
    }
   ],
   "source": [
    "True or False # The expression contains True so that is returned"
   ]
  },
  {
   "cell_type": "code",
   "execution_count": 30,
   "id": "337e2a66",
   "metadata": {},
   "outputs": [
    {
     "data": {
      "text/plain": [
       "False"
      ]
     },
     "execution_count": 30,
     "metadata": {},
     "output_type": "execute_result"
    }
   ],
   "source": [
    "False or False # The expression does not have any True values so it returned last value which is False"
   ]
  },
  {
   "cell_type": "code",
   "execution_count": 31,
   "id": "0b7beaf2",
   "metadata": {},
   "outputs": [
    {
     "data": {
      "text/plain": [
       "0"
      ]
     },
     "execution_count": 31,
     "metadata": {},
     "output_type": "execute_result"
    }
   ],
   "source": [
    "0 or 0 or 0 # last 0 returned"
   ]
  },
  {
   "cell_type": "markdown",
   "id": "67793908",
   "metadata": {},
   "source": [
    "# not"
   ]
  },
  {
   "cell_type": "markdown",
   "id": "dc8616e5",
   "metadata": {},
   "source": [
    "    not converts True ----> False\n",
    "                 Fasle ----> True"
   ]
  },
  {
   "cell_type": "code",
   "execution_count": 32,
   "id": "6b452514",
   "metadata": {},
   "outputs": [
    {
     "data": {
      "text/plain": [
       "False"
      ]
     },
     "execution_count": 32,
     "metadata": {},
     "output_type": "execute_result"
    }
   ],
   "source": [
    "not(True) # True is converted to False"
   ]
  },
  {
   "cell_type": "code",
   "execution_count": 33,
   "id": "a08f51a8",
   "metadata": {},
   "outputs": [
    {
     "data": {
      "text/plain": [
       "True"
      ]
     },
     "execution_count": 33,
     "metadata": {},
     "output_type": "execute_result"
    }
   ],
   "source": [
    "not(False) # False is converted to True"
   ]
  },
  {
   "cell_type": "code",
   "execution_count": 34,
   "id": "882946a0",
   "metadata": {},
   "outputs": [
    {
     "data": {
      "text/plain": [
       "True"
      ]
     },
     "execution_count": 34,
     "metadata": {},
     "output_type": "execute_result"
    }
   ],
   "source": [
    "not(0) # 0 is considered as False so it is converted to True"
   ]
  },
  {
   "cell_type": "code",
   "execution_count": 35,
   "id": "fe3d7d09",
   "metadata": {},
   "outputs": [
    {
     "data": {
      "text/plain": [
       "False"
      ]
     },
     "execution_count": 35,
     "metadata": {},
     "output_type": "execute_result"
    }
   ],
   "source": [
    "not(1) # 1 is considered as True and so it is converted to False"
   ]
  },
  {
   "cell_type": "code",
   "execution_count": 36,
   "id": "67d4702d",
   "metadata": {},
   "outputs": [
    {
     "data": {
      "text/plain": [
       "False"
      ]
     },
     "execution_count": 36,
     "metadata": {},
     "output_type": "execute_result"
    }
   ],
   "source": [
    "not(5) # 5 is considered as True and so it is converted to False"
   ]
  },
  {
   "cell_type": "code",
   "execution_count": 37,
   "id": "31caccb2",
   "metadata": {},
   "outputs": [
    {
     "data": {
      "text/plain": [
       "False"
      ]
     },
     "execution_count": 37,
     "metadata": {},
     "output_type": "execute_result"
    }
   ],
   "source": [
    "not('fdslkjf') # the given string considered as True and so it is converted to False"
   ]
  },
  {
   "cell_type": "markdown",
   "id": "f34fa361",
   "metadata": {},
   "source": [
    "This is the comprehensive explanation about 'and', 'or' and 'not'\n",
    "\n",
    "For more of this kind of basic and andvanced python explore my YouTube channel : https://www.youtube.com/@MaheshJaviniki"
   ]
  }
 ],
 "metadata": {
  "kernelspec": {
   "display_name": "Python 3 (ipykernel)",
   "language": "python",
   "name": "python3"
  },
  "language_info": {
   "codemirror_mode": {
    "name": "ipython",
    "version": 3
   },
   "file_extension": ".py",
   "mimetype": "text/x-python",
   "name": "python",
   "nbconvert_exporter": "python",
   "pygments_lexer": "ipython3",
   "version": "3.9.12"
  }
 },
 "nbformat": 4,
 "nbformat_minor": 5
}
