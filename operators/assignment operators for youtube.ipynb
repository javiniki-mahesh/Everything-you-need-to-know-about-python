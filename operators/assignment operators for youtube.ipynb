{
 "cells": [
  {
   "cell_type": "markdown",
   "id": "b9d3bf73",
   "metadata": {},
   "source": [
    "# Everything you need to know about python:\n",
    "## In simplest possible way"
   ]
  },
  {
   "cell_type": "markdown",
   "id": "59268c9c",
   "metadata": {},
   "source": [
    "# Assignment operators"
   ]
  },
  {
   "cell_type": "markdown",
   "id": "3df4a3f8",
   "metadata": {},
   "source": [
    "    In Python, assignment operators are used to assign values to variables. They allow you to perform an operation and assign the result to a variable in a single step. Python supports several assignment operators, and they are a shorthand way of writing common expressions. The basic assignment operator is the equal sign (=), and there are several compound assignment operators that combine arithmetic or bitwise operations with assignment."
   ]
  },
  {
   "cell_type": "markdown",
   "id": "b593fa63",
   "metadata": {},
   "source": [
    "## Basic Assignment (=):"
   ]
  },
  {
   "cell_type": "code",
   "execution_count": 9,
   "id": "05e1a1db",
   "metadata": {},
   "outputs": [],
   "source": [
    "num = 10 # right side value of = is assigned to left side variable "
   ]
  },
  {
   "cell_type": "code",
   "execution_count": 10,
   "id": "c9761719",
   "metadata": {},
   "outputs": [
    {
     "data": {
      "text/plain": [
       "10"
      ]
     },
     "execution_count": 10,
     "metadata": {},
     "output_type": "execute_result"
    }
   ],
   "source": [
    "num"
   ]
  },
  {
   "cell_type": "code",
   "execution_count": 11,
   "id": "20338998",
   "metadata": {},
   "outputs": [
    {
     "ename": "SyntaxError",
     "evalue": "cannot assign to literal (1591021293.py, line 1)",
     "output_type": "error",
     "traceback": [
      "\u001b[1;36m  Input \u001b[1;32mIn [11]\u001b[1;36m\u001b[0m\n\u001b[1;33m    10 = num1 # left side value of = can not be assigned to right side variable\u001b[0m\n\u001b[1;37m    ^\u001b[0m\n\u001b[1;31mSyntaxError\u001b[0m\u001b[1;31m:\u001b[0m cannot assign to literal\n"
     ]
    }
   ],
   "source": [
    "10 = num1 # left side value of = can not be assigned to right side variable "
   ]
  },
  {
   "cell_type": "code",
   "execution_count": 12,
   "id": "5cb719a2",
   "metadata": {},
   "outputs": [],
   "source": [
    "num1 = 10\n",
    "num2 = 20"
   ]
  },
  {
   "cell_type": "code",
   "execution_count": 13,
   "id": "eb6cf408",
   "metadata": {},
   "outputs": [],
   "source": [
    "addition = num1 + num2 # evaluation of expression and assigning of values done in single step"
   ]
  },
  {
   "cell_type": "code",
   "execution_count": 14,
   "id": "7b4102d0",
   "metadata": {},
   "outputs": [
    {
     "data": {
      "text/plain": [
       "30"
      ]
     },
     "execution_count": 14,
     "metadata": {},
     "output_type": "execute_result"
    }
   ],
   "source": [
    "addition"
   ]
  },
  {
   "cell_type": "code",
   "execution_count": 15,
   "id": "5b856cc9",
   "metadata": {},
   "outputs": [],
   "source": [
    "a = 10\n",
    "b = 10\n",
    "c = 10 "
   ]
  },
  {
   "cell_type": "code",
   "execution_count": 16,
   "id": "5716c73d",
   "metadata": {},
   "outputs": [],
   "source": [
    "a = b = c = 10 # if we want to assign single value to multiple variables we can do this"
   ]
  },
  {
   "cell_type": "code",
   "execution_count": 17,
   "id": "047ea7c8",
   "metadata": {},
   "outputs": [
    {
     "name": "stdout",
     "output_type": "stream",
     "text": [
      "10 10 10\n"
     ]
    }
   ],
   "source": [
    "print(a,b,c)"
   ]
  },
  {
   "cell_type": "code",
   "execution_count": 18,
   "id": "1fb58b72",
   "metadata": {},
   "outputs": [],
   "source": [
    "n1, n2 = 10,20 # assigning different values to different variables"
   ]
  },
  {
   "cell_type": "code",
   "execution_count": 19,
   "id": "df9aa8b4",
   "metadata": {},
   "outputs": [
    {
     "name": "stdout",
     "output_type": "stream",
     "text": [
      "10 20\n"
     ]
    }
   ],
   "source": [
    "print(n1,n2)"
   ]
  },
  {
   "cell_type": "code",
   "execution_count": 20,
   "id": "0de99738",
   "metadata": {},
   "outputs": [],
   "source": [
    "n1 = 10,20,30 # assigning multiple values to single variable called packing"
   ]
  },
  {
   "cell_type": "code",
   "execution_count": 21,
   "id": "c015503c",
   "metadata": {},
   "outputs": [
    {
     "name": "stdout",
     "output_type": "stream",
     "text": [
      "(10, 20, 30)\n"
     ]
    }
   ],
   "source": [
    "print(n1)"
   ]
  },
  {
   "cell_type": "code",
   "execution_count": 22,
   "id": "82846422",
   "metadata": {},
   "outputs": [
    {
     "ename": "ValueError",
     "evalue": "too many values to unpack (expected 2)",
     "output_type": "error",
     "traceback": [
      "\u001b[1;31m---------------------------------------------------------------------------\u001b[0m",
      "\u001b[1;31mValueError\u001b[0m                                Traceback (most recent call last)",
      "Input \u001b[1;32mIn [22]\u001b[0m, in \u001b[0;36m<cell line: 1>\u001b[1;34m()\u001b[0m\n\u001b[1;32m----> 1\u001b[0m n1, n2 \u001b[38;5;241m=\u001b[39m \u001b[38;5;241m10\u001b[39m, \u001b[38;5;241m20\u001b[39m ,\u001b[38;5;241m30\u001b[39m ,\u001b[38;5;241m40\u001b[39m\n",
      "\u001b[1;31mValueError\u001b[0m: too many values to unpack (expected 2)"
     ]
    }
   ],
   "source": [
    "n1, n2 = 10, 20 ,30 ,40 # this type is not supported because of the reason, unpacking is not supported in this way"
   ]
  },
  {
   "cell_type": "code",
   "execution_count": 23,
   "id": "7abd0f45",
   "metadata": {},
   "outputs": [],
   "source": [
    "n1, *n2 = 10, 20 ,30 ,40 # by using packing operator *, we can pack the remaining values after assigning of individual variables"
   ]
  },
  {
   "cell_type": "code",
   "execution_count": 24,
   "id": "b7cd75c4",
   "metadata": {},
   "outputs": [
    {
     "data": {
      "text/plain": [
       "10"
      ]
     },
     "execution_count": 24,
     "metadata": {},
     "output_type": "execute_result"
    }
   ],
   "source": [
    "n1"
   ]
  },
  {
   "cell_type": "code",
   "execution_count": 25,
   "id": "8f81fb9e",
   "metadata": {},
   "outputs": [
    {
     "data": {
      "text/plain": [
       "[20, 30, 40]"
      ]
     },
     "execution_count": 25,
     "metadata": {},
     "output_type": "execute_result"
    }
   ],
   "source": [
    "n2"
   ]
  },
  {
   "cell_type": "code",
   "execution_count": 26,
   "id": "9ad7efaf",
   "metadata": {},
   "outputs": [],
   "source": [
    "num1 = 25"
   ]
  },
  {
   "cell_type": "markdown",
   "id": "c3689894",
   "metadata": {},
   "source": [
    "## Add and Assign (+=):"
   ]
  },
  {
   "cell_type": "code",
   "execution_count": 75,
   "id": "790bef94",
   "metadata": {},
   "outputs": [],
   "source": [
    "num1 = num1 + 25"
   ]
  },
  {
   "cell_type": "code",
   "execution_count": 76,
   "id": "b0f89912",
   "metadata": {},
   "outputs": [
    {
     "name": "stdout",
     "output_type": "stream",
     "text": [
      "29\n"
     ]
    }
   ],
   "source": [
    "print(num1)"
   ]
  },
  {
   "cell_type": "code",
   "execution_count": 77,
   "id": "ee8271de",
   "metadata": {},
   "outputs": [],
   "source": [
    "num1 = 25"
   ]
  },
  {
   "cell_type": "code",
   "execution_count": 78,
   "id": "7b2be8d9",
   "metadata": {},
   "outputs": [],
   "source": [
    "num1 += 25"
   ]
  },
  {
   "cell_type": "code",
   "execution_count": 79,
   "id": "317767c0",
   "metadata": {},
   "outputs": [
    {
     "data": {
      "text/plain": [
       "50"
      ]
     },
     "execution_count": 79,
     "metadata": {},
     "output_type": "execute_result"
    }
   ],
   "source": [
    "num1"
   ]
  },
  {
   "cell_type": "code",
   "execution_count": 80,
   "id": "5f02a5b3",
   "metadata": {},
   "outputs": [],
   "source": [
    "num1 = num1 + 25  #-> num1 += 25"
   ]
  },
  {
   "cell_type": "code",
   "execution_count": 81,
   "id": "d8164150",
   "metadata": {},
   "outputs": [
    {
     "data": {
      "text/plain": [
       "75"
      ]
     },
     "execution_count": 81,
     "metadata": {},
     "output_type": "execute_result"
    }
   ],
   "source": [
    "num1"
   ]
  },
  {
   "cell_type": "markdown",
   "id": "92e5405f",
   "metadata": {},
   "source": [
    "## Subtract and Assign (-=):"
   ]
  },
  {
   "cell_type": "code",
   "execution_count": 82,
   "id": "99b8ba22",
   "metadata": {},
   "outputs": [],
   "source": [
    "num1 -= 25"
   ]
  },
  {
   "cell_type": "code",
   "execution_count": 83,
   "id": "53bc2dfe",
   "metadata": {},
   "outputs": [
    {
     "data": {
      "text/plain": [
       "50"
      ]
     },
     "execution_count": 83,
     "metadata": {},
     "output_type": "execute_result"
    }
   ],
   "source": [
    "num1"
   ]
  },
  {
   "cell_type": "markdown",
   "id": "44b2d201",
   "metadata": {},
   "source": [
    "## Multiply and Assign (*=):"
   ]
  },
  {
   "cell_type": "code",
   "execution_count": 84,
   "id": "e0a6bc72",
   "metadata": {},
   "outputs": [],
   "source": [
    "num1 *= 10 #> num1 = num1 * 10"
   ]
  },
  {
   "cell_type": "code",
   "execution_count": 85,
   "id": "313326e4",
   "metadata": {},
   "outputs": [
    {
     "data": {
      "text/plain": [
       "500"
      ]
     },
     "execution_count": 85,
     "metadata": {},
     "output_type": "execute_result"
    }
   ],
   "source": [
    "num1"
   ]
  },
  {
   "cell_type": "markdown",
   "id": "86c79176",
   "metadata": {},
   "source": [
    "## Divide and Assign (/=):"
   ]
  },
  {
   "cell_type": "code",
   "execution_count": 86,
   "id": "532b1865",
   "metadata": {},
   "outputs": [],
   "source": [
    "num1 /= 10"
   ]
  },
  {
   "cell_type": "code",
   "execution_count": 87,
   "id": "6dbbc2ad",
   "metadata": {
    "scrolled": true
   },
   "outputs": [
    {
     "data": {
      "text/plain": [
       "50.0"
      ]
     },
     "execution_count": 87,
     "metadata": {},
     "output_type": "execute_result"
    }
   ],
   "source": [
    "num1"
   ]
  },
  {
   "cell_type": "markdown",
   "id": "73a23267",
   "metadata": {},
   "source": [
    "## Floor Divide and Assign (//=):"
   ]
  },
  {
   "cell_type": "code",
   "execution_count": 88,
   "id": "c719c61c",
   "metadata": {
    "scrolled": true
   },
   "outputs": [],
   "source": [
    "num1 //= 5"
   ]
  },
  {
   "cell_type": "code",
   "execution_count": 89,
   "id": "586c708a",
   "metadata": {},
   "outputs": [
    {
     "data": {
      "text/plain": [
       "10.0"
      ]
     },
     "execution_count": 89,
     "metadata": {},
     "output_type": "execute_result"
    }
   ],
   "source": [
    "num1"
   ]
  },
  {
   "cell_type": "markdown",
   "id": "88bbb2ca",
   "metadata": {},
   "source": [
    "## Modulo and Assign (%=):"
   ]
  },
  {
   "cell_type": "code",
   "execution_count": 90,
   "id": "a02ca5f2",
   "metadata": {},
   "outputs": [],
   "source": [
    "num1 //= 5"
   ]
  },
  {
   "cell_type": "code",
   "execution_count": 91,
   "id": "b96d33b0",
   "metadata": {},
   "outputs": [
    {
     "data": {
      "text/plain": [
       "2.0"
      ]
     },
     "execution_count": 91,
     "metadata": {},
     "output_type": "execute_result"
    }
   ],
   "source": [
    "num1"
   ]
  },
  {
   "cell_type": "markdown",
   "id": "c8b56530",
   "metadata": {},
   "source": [
    "## Exponentiation and Assign (**=):"
   ]
  },
  {
   "cell_type": "code",
   "execution_count": 92,
   "id": "329758e3",
   "metadata": {},
   "outputs": [],
   "source": [
    "num1 **= 2"
   ]
  },
  {
   "cell_type": "code",
   "execution_count": 93,
   "id": "55afd538",
   "metadata": {},
   "outputs": [
    {
     "data": {
      "text/plain": [
       "4.0"
      ]
     },
     "execution_count": 93,
     "metadata": {},
     "output_type": "execute_result"
    }
   ],
   "source": [
    "num1"
   ]
  },
  {
   "cell_type": "code",
   "execution_count": 94,
   "id": "0a81acd8",
   "metadata": {},
   "outputs": [],
   "source": [
    "num1 = int(num1)"
   ]
  },
  {
   "cell_type": "markdown",
   "id": "05e90b17",
   "metadata": {},
   "source": [
    "## Bitwise AND and Assign (&=):"
   ]
  },
  {
   "cell_type": "code",
   "execution_count": 95,
   "id": "d25c7ff6",
   "metadata": {},
   "outputs": [],
   "source": [
    "num1 &= 5"
   ]
  },
  {
   "cell_type": "code",
   "execution_count": 96,
   "id": "4580847f",
   "metadata": {},
   "outputs": [
    {
     "data": {
      "text/plain": [
       "4"
      ]
     },
     "execution_count": 96,
     "metadata": {},
     "output_type": "execute_result"
    }
   ],
   "source": [
    "num1"
   ]
  },
  {
   "cell_type": "markdown",
   "id": "66ddd1ee",
   "metadata": {},
   "source": [
    "## Bitwise OR and Assign (|=):"
   ]
  },
  {
   "cell_type": "code",
   "execution_count": 97,
   "id": "49fe625d",
   "metadata": {},
   "outputs": [],
   "source": [
    "num1 |= 5"
   ]
  },
  {
   "cell_type": "code",
   "execution_count": 98,
   "id": "48bba63e",
   "metadata": {},
   "outputs": [
    {
     "data": {
      "text/plain": [
       "5"
      ]
     },
     "execution_count": 98,
     "metadata": {},
     "output_type": "execute_result"
    }
   ],
   "source": [
    "num1 "
   ]
  },
  {
   "cell_type": "markdown",
   "id": "5cca3b31",
   "metadata": {},
   "source": [
    "## Bitwise XOR and Assign (^=):"
   ]
  },
  {
   "cell_type": "code",
   "execution_count": 99,
   "id": "87d360a6",
   "metadata": {},
   "outputs": [],
   "source": [
    "num1 ^= 7"
   ]
  },
  {
   "cell_type": "code",
   "execution_count": 100,
   "id": "45dd3505",
   "metadata": {},
   "outputs": [
    {
     "data": {
      "text/plain": [
       "2"
      ]
     },
     "execution_count": 100,
     "metadata": {},
     "output_type": "execute_result"
    }
   ],
   "source": [
    "num1"
   ]
  },
  {
   "cell_type": "markdown",
   "id": "1bf387c9",
   "metadata": {},
   "source": [
    "## Bitwise Left Shift and Assign (<<=):"
   ]
  },
  {
   "cell_type": "code",
   "execution_count": 101,
   "id": "ac300fc9",
   "metadata": {},
   "outputs": [],
   "source": [
    "num1 <<= 2"
   ]
  },
  {
   "cell_type": "code",
   "execution_count": 102,
   "id": "46bfe160",
   "metadata": {},
   "outputs": [
    {
     "data": {
      "text/plain": [
       "8"
      ]
     },
     "execution_count": 102,
     "metadata": {},
     "output_type": "execute_result"
    }
   ],
   "source": [
    "num1"
   ]
  },
  {
   "cell_type": "markdown",
   "id": "d756ad0a",
   "metadata": {},
   "source": [
    "## Bitwise Right Shift and Assign (>>=):"
   ]
  },
  {
   "cell_type": "code",
   "execution_count": 103,
   "id": "c82860b5",
   "metadata": {},
   "outputs": [],
   "source": [
    "num1 >>=3"
   ]
  },
  {
   "cell_type": "code",
   "execution_count": 104,
   "id": "f8267dce",
   "metadata": {},
   "outputs": [
    {
     "data": {
      "text/plain": [
       "1"
      ]
     },
     "execution_count": 104,
     "metadata": {},
     "output_type": "execute_result"
    }
   ],
   "source": [
    "num1"
   ]
  },
  {
   "cell_type": "markdown",
   "id": "eb69df3c",
   "metadata": {},
   "source": [
    "For more of this kind of basic and advanced python and also for data science topics explore my channel : https://www.youtube.com/@MaheshJaviniki"
   ]
  }
 ],
 "metadata": {
  "kernelspec": {
   "display_name": "Python 3 (ipykernel)",
   "language": "python",
   "name": "python3"
  },
  "language_info": {
   "codemirror_mode": {
    "name": "ipython",
    "version": 3
   },
   "file_extension": ".py",
   "mimetype": "text/x-python",
   "name": "python",
   "nbconvert_exporter": "python",
   "pygments_lexer": "ipython3",
   "version": "3.9.12"
  }
 },
 "nbformat": 4,
 "nbformat_minor": 5
}
