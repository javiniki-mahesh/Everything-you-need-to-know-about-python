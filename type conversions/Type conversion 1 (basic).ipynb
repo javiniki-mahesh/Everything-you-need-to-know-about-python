{
 "cells": [
  {
   "cell_type": "markdown",
   "id": "4a005ed3",
   "metadata": {},
   "source": [
    "# Everything you need to know about python: \n",
    "## In simplest possible way"
   ]
  },
  {
   "cell_type": "markdown",
   "id": "a2e9273e",
   "metadata": {},
   "source": [
    "# Type casting/ conversion (Basic)"
   ]
  },
  {
   "cell_type": "markdown",
   "id": "f3bebe01",
   "metadata": {},
   "source": [
    "    Type casting, also known as type conversion, is the process of changing the data type of a variable from one type to another in a programming language. "
   ]
  },
  {
   "cell_type": "markdown",
   "id": "ff6b33fc",
   "metadata": {},
   "source": [
    "# implict type conversion"
   ]
  },
  {
   "cell_type": "markdown",
   "id": "580951f7",
   "metadata": {},
   "source": [
    "    Implicit type conversion, also known as automatic type conversion or coercion, is a feature in Python where the interpreter automatically converts one data type to another during certain operations. This process occurs implicitly without the need for explicit type casting by the programmer."
   ]
  },
  {
   "cell_type": "markdown",
   "id": "27cf99b1",
   "metadata": {},
   "source": [
    "#### Let us understand with following examples"
   ]
  },
  {
   "cell_type": "code",
   "execution_count": 39,
   "id": "55f70bb7",
   "metadata": {},
   "outputs": [],
   "source": [
    "int_num = 5\n",
    "float_num = 3.14"
   ]
  },
  {
   "cell_type": "code",
   "execution_count": 40,
   "id": "8c7027d2",
   "metadata": {},
   "outputs": [
    {
     "data": {
      "text/plain": [
       "int"
      ]
     },
     "execution_count": 40,
     "metadata": {},
     "output_type": "execute_result"
    }
   ],
   "source": [
    "type(int_num)"
   ]
  },
  {
   "cell_type": "code",
   "execution_count": 41,
   "id": "8e6cf850",
   "metadata": {},
   "outputs": [
    {
     "data": {
      "text/plain": [
       "float"
      ]
     },
     "execution_count": 41,
     "metadata": {},
     "output_type": "execute_result"
    }
   ],
   "source": [
    "type(float_num)"
   ]
  },
  {
   "cell_type": "code",
   "execution_count": 42,
   "id": "39082ef8",
   "metadata": {},
   "outputs": [],
   "source": [
    "additon = int_num + float_num"
   ]
  },
  {
   "cell_type": "code",
   "execution_count": 43,
   "id": "9614fa13",
   "metadata": {},
   "outputs": [
    {
     "data": {
      "text/plain": [
       "8.14"
      ]
     },
     "execution_count": 43,
     "metadata": {},
     "output_type": "execute_result"
    }
   ],
   "source": [
    "additon"
   ]
  },
  {
   "cell_type": "code",
   "execution_count": 44,
   "id": "24d83eb4",
   "metadata": {},
   "outputs": [
    {
     "data": {
      "text/plain": [
       "float"
      ]
     },
     "execution_count": 44,
     "metadata": {},
     "output_type": "execute_result"
    }
   ],
   "source": [
    "type(addition)"
   ]
  },
  {
   "cell_type": "markdown",
   "id": "3b18f9cb",
   "metadata": {},
   "source": [
    "    Above while performing addition between int type and float type we have got float type"
   ]
  },
  {
   "cell_type": "code",
   "execution_count": 45,
   "id": "baae3740",
   "metadata": {},
   "outputs": [],
   "source": [
    "string = \"like\""
   ]
  },
  {
   "cell_type": "code",
   "execution_count": 46,
   "id": "4c0516bb",
   "metadata": {},
   "outputs": [
    {
     "data": {
      "text/plain": [
       "str"
      ]
     },
     "execution_count": 46,
     "metadata": {},
     "output_type": "execute_result"
    }
   ],
   "source": [
    "type(string)"
   ]
  },
  {
   "cell_type": "code",
   "execution_count": 47,
   "id": "2a40ea64",
   "metadata": {},
   "outputs": [
    {
     "data": {
      "text/plain": [
       "5"
      ]
     },
     "execution_count": 47,
     "metadata": {},
     "output_type": "execute_result"
    }
   ],
   "source": [
    "int_value"
   ]
  },
  {
   "cell_type": "code",
   "execution_count": 48,
   "id": "4237cc41",
   "metadata": {},
   "outputs": [],
   "source": [
    "mul = string * int_value"
   ]
  },
  {
   "cell_type": "code",
   "execution_count": 49,
   "id": "e73aae04",
   "metadata": {},
   "outputs": [
    {
     "data": {
      "text/plain": [
       "'likelikelikelikelike'"
      ]
     },
     "execution_count": 49,
     "metadata": {},
     "output_type": "execute_result"
    }
   ],
   "source": [
    "mul"
   ]
  },
  {
   "cell_type": "code",
   "execution_count": 50,
   "id": "aa1e2e2b",
   "metadata": {},
   "outputs": [
    {
     "data": {
      "text/plain": [
       "str"
      ]
     },
     "execution_count": 50,
     "metadata": {},
     "output_type": "execute_result"
    }
   ],
   "source": [
    "type(mul)"
   ]
  },
  {
   "cell_type": "markdown",
   "id": "9f557879",
   "metadata": {},
   "source": [
    "    Above while performing string concatination between str type and int type we have got str type"
   ]
  },
  {
   "cell_type": "markdown",
   "id": "b4091633",
   "metadata": {},
   "source": [
    "# Explicit type conversion"
   ]
  },
  {
   "cell_type": "markdown",
   "id": "b4885f89",
   "metadata": {},
   "source": [
    "Explicit type conversion, also known as type casting or type coercion, is the process of converting a variable from one data type to another explicitly. Unlike implicit type conversion, which happens automatically by the Python interpreter, explicit type conversion requires the programmer to specify the desired conversion using built-in conversion functions or constructors.\n",
    "\n",
    "Python provides several built-in functions for explicit type conversion, allowing you to convert variables from one data type to another as needed"
   ]
  },
  {
   "cell_type": "markdown",
   "id": "d6ce8244",
   "metadata": {},
   "source": [
    "## int to float"
   ]
  },
  {
   "cell_type": "code",
   "execution_count": 56,
   "id": "67df43f8",
   "metadata": {},
   "outputs": [],
   "source": [
    "int_value = 5\n",
    "float_value = float(int_value)"
   ]
  },
  {
   "cell_type": "code",
   "execution_count": 57,
   "id": "b6e1bcd3",
   "metadata": {},
   "outputs": [
    {
     "data": {
      "text/plain": [
       "int"
      ]
     },
     "execution_count": 57,
     "metadata": {},
     "output_type": "execute_result"
    }
   ],
   "source": [
    "type(int_value)"
   ]
  },
  {
   "cell_type": "code",
   "execution_count": 58,
   "id": "5d2da664",
   "metadata": {},
   "outputs": [
    {
     "data": {
      "text/plain": [
       "float"
      ]
     },
     "execution_count": 58,
     "metadata": {},
     "output_type": "execute_result"
    }
   ],
   "source": [
    "type(float_value)"
   ]
  },
  {
   "cell_type": "markdown",
   "id": "c9e18f10",
   "metadata": {},
   "source": [
    "## int to str"
   ]
  },
  {
   "cell_type": "code",
   "execution_count": 59,
   "id": "08ef5096",
   "metadata": {},
   "outputs": [
    {
     "data": {
      "text/plain": [
       "str"
      ]
     },
     "execution_count": 59,
     "metadata": {},
     "output_type": "execute_result"
    }
   ],
   "source": [
    "str_value = str(int_value)\n",
    "type(str_value)"
   ]
  },
  {
   "cell_type": "code",
   "execution_count": 60,
   "id": "a1844879",
   "metadata": {},
   "outputs": [
    {
     "data": {
      "text/plain": [
       "'5'"
      ]
     },
     "execution_count": 60,
     "metadata": {},
     "output_type": "execute_result"
    }
   ],
   "source": [
    "str_value"
   ]
  },
  {
   "cell_type": "markdown",
   "id": "692f94c6",
   "metadata": {},
   "source": [
    "## str to int"
   ]
  },
  {
   "cell_type": "code",
   "execution_count": 61,
   "id": "3e3b0e33",
   "metadata": {},
   "outputs": [],
   "source": [
    "string = '99'"
   ]
  },
  {
   "cell_type": "code",
   "execution_count": 62,
   "id": "f1776a59",
   "metadata": {},
   "outputs": [],
   "source": [
    "int_value = int(string)"
   ]
  },
  {
   "cell_type": "code",
   "execution_count": 63,
   "id": "fb53015a",
   "metadata": {},
   "outputs": [
    {
     "data": {
      "text/plain": [
       "int"
      ]
     },
     "execution_count": 63,
     "metadata": {},
     "output_type": "execute_result"
    }
   ],
   "source": [
    "type(int_value)"
   ]
  },
  {
   "cell_type": "code",
   "execution_count": 64,
   "id": "f98fc526",
   "metadata": {},
   "outputs": [
    {
     "data": {
      "text/plain": [
       "99"
      ]
     },
     "execution_count": 64,
     "metadata": {},
     "output_type": "execute_result"
    }
   ],
   "source": [
    "int_value"
   ]
  },
  {
   "cell_type": "markdown",
   "id": "7b071eac",
   "metadata": {},
   "source": [
    "## int to bool"
   ]
  },
  {
   "cell_type": "code",
   "execution_count": 65,
   "id": "aa2e42dc",
   "metadata": {},
   "outputs": [],
   "source": [
    "bool_value = bool(int_value)"
   ]
  },
  {
   "cell_type": "code",
   "execution_count": 66,
   "id": "b9fc800b",
   "metadata": {},
   "outputs": [
    {
     "data": {
      "text/plain": [
       "True"
      ]
     },
     "execution_count": 66,
     "metadata": {},
     "output_type": "execute_result"
    }
   ],
   "source": [
    "bool_value # non zero value ----> True"
   ]
  },
  {
   "cell_type": "code",
   "execution_count": 67,
   "id": "42a16b8c",
   "metadata": {},
   "outputs": [
    {
     "data": {
      "text/plain": [
       "bool"
      ]
     },
     "execution_count": 67,
     "metadata": {},
     "output_type": "execute_result"
    }
   ],
   "source": [
    "type(bool_value)"
   ]
  },
  {
   "cell_type": "code",
   "execution_count": 68,
   "id": "cda620c3",
   "metadata": {},
   "outputs": [
    {
     "data": {
      "text/plain": [
       "bool"
      ]
     },
     "execution_count": 68,
     "metadata": {},
     "output_type": "execute_result"
    }
   ],
   "source": [
    "int_value = 0\n",
    "bool_val = bool(int_value) # zero value  ------> False\n",
    "type(bool_val)"
   ]
  },
  {
   "cell_type": "code",
   "execution_count": 69,
   "id": "141c92a6",
   "metadata": {},
   "outputs": [
    {
     "data": {
      "text/plain": [
       "False"
      ]
     },
     "execution_count": 69,
     "metadata": {},
     "output_type": "execute_result"
    }
   ],
   "source": [
    "bool_val"
   ]
  },
  {
   "cell_type": "markdown",
   "id": "63069440",
   "metadata": {},
   "source": [
    "## int to complex"
   ]
  },
  {
   "cell_type": "code",
   "execution_count": 71,
   "id": "d125b791",
   "metadata": {},
   "outputs": [],
   "source": [
    "int_value = 9\n",
    "complex_val = complex(int_value)"
   ]
  },
  {
   "cell_type": "code",
   "execution_count": 72,
   "id": "39293aa6",
   "metadata": {
    "scrolled": true
   },
   "outputs": [
    {
     "data": {
      "text/plain": [
       "complex"
      ]
     },
     "execution_count": 72,
     "metadata": {},
     "output_type": "execute_result"
    }
   ],
   "source": [
    "type(complex_val)"
   ]
  },
  {
   "cell_type": "markdown",
   "id": "af1133eb",
   "metadata": {},
   "source": [
    "## all combination of basic type conversion"
   ]
  },
  {
   "cell_type": "markdown",
   "id": "1f4a1c23",
   "metadata": {},
   "source": [
    "```python\n",
    "int to float\n",
    "int to str\n",
    "float to int\n",
    "float to str\n",
    "str to int\n",
    "str to float\n",
    "bool to str\n",
    "str to bool\n",
    "int to bool\n",
    "float to bool\n",
    "bool to int\n",
    "bool to float\n",
    "int to complex\n",
    "float to complex\n",
    "complex to str\n",
    "```"
   ]
  },
  {
   "cell_type": "markdown",
   "id": "ffcd27b5",
   "metadata": {},
   "source": [
    "For more of this kind of content subscribe to my ▶️ YouTube channel https://www.youtube.com/@MaheshJaviniki"
   ]
  }
 ],
 "metadata": {
  "kernelspec": {
   "display_name": "Python 3 (ipykernel)",
   "language": "python",
   "name": "python3"
  },
  "language_info": {
   "codemirror_mode": {
    "name": "ipython",
    "version": 3
   },
   "file_extension": ".py",
   "mimetype": "text/x-python",
   "name": "python",
   "nbconvert_exporter": "python",
   "pygments_lexer": "ipython3",
   "version": "3.9.12"
  }
 },
 "nbformat": 4,
 "nbformat_minor": 5
}
