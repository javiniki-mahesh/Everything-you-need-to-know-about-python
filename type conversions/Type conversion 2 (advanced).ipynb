{
 "cells": [
  {
   "cell_type": "markdown",
   "id": "3431e6db",
   "metadata": {},
   "source": [
    "# Everything you need to know about python:\n",
    "## In simplest possible way"
   ]
  },
  {
   "cell_type": "markdown",
   "id": "795cc516",
   "metadata": {},
   "source": [
    "# Type conversion/ casting (advanced)"
   ]
  },
  {
   "cell_type": "markdown",
   "id": "23c8dfcb",
   "metadata": {},
   "source": [
    "## list to tuple"
   ]
  },
  {
   "cell_type": "code",
   "execution_count": 9,
   "id": "3597bb44",
   "metadata": {},
   "outputs": [],
   "source": [
    "my_list = [1,2,3,4,5,4,3]"
   ]
  },
  {
   "cell_type": "code",
   "execution_count": 10,
   "id": "82d53848",
   "metadata": {},
   "outputs": [
    {
     "data": {
      "text/plain": [
       "list"
      ]
     },
     "execution_count": 10,
     "metadata": {},
     "output_type": "execute_result"
    }
   ],
   "source": [
    "type(my_list)"
   ]
  },
  {
   "cell_type": "code",
   "execution_count": 11,
   "id": "a1e09e54",
   "metadata": {},
   "outputs": [],
   "source": [
    "My_tuple = tuple(my_list)"
   ]
  },
  {
   "cell_type": "code",
   "execution_count": 12,
   "id": "012dcdf6",
   "metadata": {},
   "outputs": [
    {
     "data": {
      "text/plain": [
       "(1, 2, 3, 4, 5, 4, 3)"
      ]
     },
     "execution_count": 12,
     "metadata": {},
     "output_type": "execute_result"
    }
   ],
   "source": [
    "My_tuple"
   ]
  },
  {
   "cell_type": "code",
   "execution_count": 13,
   "id": "539d0734",
   "metadata": {},
   "outputs": [
    {
     "data": {
      "text/plain": [
       "tuple"
      ]
     },
     "execution_count": 13,
     "metadata": {},
     "output_type": "execute_result"
    }
   ],
   "source": [
    "type(My_tuple)"
   ]
  },
  {
   "cell_type": "markdown",
   "id": "bfec6b30",
   "metadata": {},
   "source": [
    "## list to set"
   ]
  },
  {
   "cell_type": "code",
   "execution_count": 14,
   "id": "739217d7",
   "metadata": {},
   "outputs": [
    {
     "data": {
      "text/plain": [
       "[1, 2, 3, 4, 5, 4, 3]"
      ]
     },
     "execution_count": 14,
     "metadata": {},
     "output_type": "execute_result"
    }
   ],
   "source": [
    "my_list"
   ]
  },
  {
   "cell_type": "code",
   "execution_count": 15,
   "id": "0cc29f88",
   "metadata": {},
   "outputs": [],
   "source": [
    "set_var = set(my_list)"
   ]
  },
  {
   "cell_type": "markdown",
   "id": "2188450b",
   "metadata": {},
   "source": [
    "## set to list"
   ]
  },
  {
   "cell_type": "code",
   "execution_count": 16,
   "id": "78487c8b",
   "metadata": {},
   "outputs": [
    {
     "data": {
      "text/plain": [
       "{1, 2, 3, 4, 5}"
      ]
     },
     "execution_count": 16,
     "metadata": {},
     "output_type": "execute_result"
    }
   ],
   "source": [
    "set_var"
   ]
  },
  {
   "cell_type": "code",
   "execution_count": 17,
   "id": "537cd928",
   "metadata": {},
   "outputs": [
    {
     "data": {
      "text/plain": [
       "set"
      ]
     },
     "execution_count": 17,
     "metadata": {},
     "output_type": "execute_result"
    }
   ],
   "source": [
    "type(set_var)"
   ]
  },
  {
   "cell_type": "code",
   "execution_count": 18,
   "id": "354db63e",
   "metadata": {},
   "outputs": [],
   "source": [
    "list_var = list(set_var)"
   ]
  },
  {
   "cell_type": "code",
   "execution_count": 19,
   "id": "479d4676",
   "metadata": {},
   "outputs": [
    {
     "data": {
      "text/plain": [
       "[1, 2, 3, 4, 5]"
      ]
     },
     "execution_count": 19,
     "metadata": {},
     "output_type": "execute_result"
    }
   ],
   "source": [
    "list_var"
   ]
  },
  {
   "cell_type": "code",
   "execution_count": 20,
   "id": "c76b6498",
   "metadata": {},
   "outputs": [
    {
     "data": {
      "text/plain": [
       "list"
      ]
     },
     "execution_count": 20,
     "metadata": {},
     "output_type": "execute_result"
    }
   ],
   "source": [
    "type(list_var)"
   ]
  },
  {
   "cell_type": "markdown",
   "id": "f02ece82",
   "metadata": {},
   "source": [
    "## str to list"
   ]
  },
  {
   "cell_type": "code",
   "execution_count": 21,
   "id": "322c0ea7",
   "metadata": {},
   "outputs": [],
   "source": [
    "string = 'subscribe'"
   ]
  },
  {
   "cell_type": "code",
   "execution_count": 22,
   "id": "0132589e",
   "metadata": {},
   "outputs": [
    {
     "data": {
      "text/plain": [
       "str"
      ]
     },
     "execution_count": 22,
     "metadata": {},
     "output_type": "execute_result"
    }
   ],
   "source": [
    "type(string)"
   ]
  },
  {
   "cell_type": "code",
   "execution_count": 23,
   "id": "fc254c96",
   "metadata": {},
   "outputs": [],
   "source": [
    "list_string = list(string)"
   ]
  },
  {
   "cell_type": "code",
   "execution_count": 24,
   "id": "13be4bae",
   "metadata": {},
   "outputs": [
    {
     "data": {
      "text/plain": [
       "['s', 'u', 'b', 's', 'c', 'r', 'i', 'b', 'e']"
      ]
     },
     "execution_count": 24,
     "metadata": {},
     "output_type": "execute_result"
    }
   ],
   "source": [
    "list_string"
   ]
  },
  {
   "cell_type": "markdown",
   "id": "386412c0",
   "metadata": {},
   "source": [
    "## str to set"
   ]
  },
  {
   "cell_type": "code",
   "execution_count": 25,
   "id": "e55ebcd4",
   "metadata": {},
   "outputs": [
    {
     "data": {
      "text/plain": [
       "list"
      ]
     },
     "execution_count": 25,
     "metadata": {},
     "output_type": "execute_result"
    }
   ],
   "source": [
    "type(list_string)"
   ]
  },
  {
   "cell_type": "code",
   "execution_count": 26,
   "id": "2a854337",
   "metadata": {},
   "outputs": [],
   "source": [
    "set_string = set(string)"
   ]
  },
  {
   "cell_type": "code",
   "execution_count": 27,
   "id": "5e900d17",
   "metadata": {},
   "outputs": [
    {
     "data": {
      "text/plain": [
       "{'b', 'c', 'e', 'i', 'r', 's', 'u'}"
      ]
     },
     "execution_count": 27,
     "metadata": {},
     "output_type": "execute_result"
    }
   ],
   "source": [
    "set_string"
   ]
  },
  {
   "cell_type": "code",
   "execution_count": 28,
   "id": "45c996b6",
   "metadata": {},
   "outputs": [
    {
     "data": {
      "text/plain": [
       "set"
      ]
     },
     "execution_count": 28,
     "metadata": {},
     "output_type": "execute_result"
    }
   ],
   "source": [
    "type(set_string)"
   ]
  },
  {
   "cell_type": "markdown",
   "id": "82fa12cf",
   "metadata": {},
   "source": [
    "## dict to list (default keys)"
   ]
  },
  {
   "cell_type": "code",
   "execution_count": 29,
   "id": "20441f07",
   "metadata": {},
   "outputs": [],
   "source": [
    "my_dict = {2:20, 3:30, 4:40}"
   ]
  },
  {
   "cell_type": "code",
   "execution_count": 30,
   "id": "d14c7419",
   "metadata": {},
   "outputs": [
    {
     "data": {
      "text/plain": [
       "{2: 20, 3: 30, 4: 40}"
      ]
     },
     "execution_count": 30,
     "metadata": {},
     "output_type": "execute_result"
    }
   ],
   "source": [
    "my_dict"
   ]
  },
  {
   "cell_type": "code",
   "execution_count": 31,
   "id": "c56c26c1",
   "metadata": {},
   "outputs": [],
   "source": [
    "dict_list = list(my_dict)"
   ]
  },
  {
   "cell_type": "code",
   "execution_count": 32,
   "id": "b2f8e4f2",
   "metadata": {},
   "outputs": [
    {
     "data": {
      "text/plain": [
       "[2, 3, 4]"
      ]
     },
     "execution_count": 32,
     "metadata": {},
     "output_type": "execute_result"
    }
   ],
   "source": [
    "dict_list"
   ]
  },
  {
   "cell_type": "markdown",
   "id": "21903cef",
   "metadata": {},
   "source": [
    "## dict values to list"
   ]
  },
  {
   "cell_type": "code",
   "execution_count": 33,
   "id": "f2e83a93",
   "metadata": {},
   "outputs": [],
   "source": [
    "dict_values = list(my_dict.values())"
   ]
  },
  {
   "cell_type": "code",
   "execution_count": 34,
   "id": "6299df5e",
   "metadata": {},
   "outputs": [
    {
     "data": {
      "text/plain": [
       "[20, 30, 40]"
      ]
     },
     "execution_count": 34,
     "metadata": {},
     "output_type": "execute_result"
    }
   ],
   "source": [
    "dict_values"
   ]
  },
  {
   "cell_type": "markdown",
   "id": "36a6ac11",
   "metadata": {},
   "source": [
    "## dict key-value pairs to list"
   ]
  },
  {
   "cell_type": "code",
   "execution_count": 35,
   "id": "dd996eca",
   "metadata": {},
   "outputs": [],
   "source": [
    "dict_items = list(my_dict.items())"
   ]
  },
  {
   "cell_type": "code",
   "execution_count": 36,
   "id": "d16cca19",
   "metadata": {},
   "outputs": [
    {
     "data": {
      "text/plain": [
       "[(2, 20), (3, 30), (4, 40)]"
      ]
     },
     "execution_count": 36,
     "metadata": {},
     "output_type": "execute_result"
    }
   ],
   "source": [
    "dict_items # key-value pairs stores as tuple inside list"
   ]
  },
  {
   "cell_type": "code",
   "execution_count": 37,
   "id": "23df7fdb",
   "metadata": {},
   "outputs": [
    {
     "data": {
      "text/plain": [
       "list"
      ]
     },
     "execution_count": 37,
     "metadata": {},
     "output_type": "execute_result"
    }
   ],
   "source": [
    "type(dict_items)"
   ]
  },
  {
   "cell_type": "code",
   "execution_count": 38,
   "id": "262ca6e7",
   "metadata": {},
   "outputs": [
    {
     "data": {
      "text/plain": [
       "tuple"
      ]
     },
     "execution_count": 38,
     "metadata": {},
     "output_type": "execute_result"
    }
   ],
   "source": [
    "type(dict_items[0])"
   ]
  },
  {
   "cell_type": "markdown",
   "id": "edd84dfe",
   "metadata": {},
   "source": [
    "## All possible advaced type conversion combinations"
   ]
  },
  {
   "cell_type": "markdown",
   "id": "b963ec0a",
   "metadata": {},
   "source": [
    "```python\n",
    "list to tuple\n",
    "tuple to list\n",
    "list to set\n",
    "set to list\n",
    "dict to str\n",
    "list to str\n",
    "str to list\n",
    "tuple to str\n",
    "str to tuple\n",
    "set to str\n",
    "str to set\n",
    "dict to list (keys)\n",
    "dict to list (values)\n",
    "dict to tuple (keys)\n",
    "dict to tuple (values)\n",
    "```"
   ]
  },
  {
   "cell_type": "code",
   "execution_count": null,
   "id": "ded9c3dd",
   "metadata": {},
   "outputs": [],
   "source": []
  }
 ],
 "metadata": {
  "kernelspec": {
   "display_name": "Python 3 (ipykernel)",
   "language": "python",
   "name": "python3"
  },
  "language_info": {
   "codemirror_mode": {
    "name": "ipython",
    "version": 3
   },
   "file_extension": ".py",
   "mimetype": "text/x-python",
   "name": "python",
   "nbconvert_exporter": "python",
   "pygments_lexer": "ipython3",
   "version": "3.9.12"
  }
 },
 "nbformat": 4,
 "nbformat_minor": 5
}
