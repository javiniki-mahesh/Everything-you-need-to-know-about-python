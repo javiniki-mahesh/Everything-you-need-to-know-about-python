{
 "cells": [
  {
   "cell_type": "markdown",
   "id": "fd809e17",
   "metadata": {},
   "source": [
    "# Everything you need to know about python\n",
    "## In simplest possible way"
   ]
  },
  {
   "cell_type": "markdown",
   "id": "98969b1b",
   "metadata": {},
   "source": [
    "# strip()"
   ]
  },
  {
   "cell_type": "markdown",
   "id": "3ab83664",
   "metadata": {},
   "source": [
    "The `strip()` method in Python is used to remove specific characters (whitespace characters by default) from the beginning and end of a string. It returns a new string with the specified characters removed. Here's a comprehensive explanation of the `strip()` method and how to effectively use it:\n",
    "\n",
    "**Syntax:**\n",
    "```python\n",
    "string.strip([characters])\n",
    "```\n",
    "\n",
    "- `string`: The original string from which you want to remove characters.\n",
    "- `characters` (optional): A string specifying the characters to remove. If not provided, it removes leading and trailing whitespace characters (spaces, tabs, and newline characters).\n",
    "\n",
    "**Key Points:**\n",
    "\n",
    "1. **Default Behavior:** If you don't provide the `characters` argument, `strip()` will remove all leading and trailing whitespace characters by default.\n",
    "\n",
    "2. **Returns a New String:** The `strip()` method does not modify the original string. Instead, it creates and returns a new string with the specified characters removed.\n",
    "\n",
    "3. **Leading and Trailing:** It only removes characters from the beginning (leading) and end (trailing) of the string, leaving the characters within the string intact.\n",
    "\n",
    "4. **Case-Sensitive:** The `strip()` method is case-sensitive. If you provide a specific character or substring, it will only remove that character or substring if it matches exactly.\n",
    "\n",
    "\n",
    "**Effective Use Cases:**\n",
    "\n",
    "1. **Data Cleaning:** `strip()` is often used to clean user inputs, such as removing leading and trailing spaces that users might accidentally enter.\n",
    "\n",
    "2. **File Processing:** When reading data from files, you can use `strip()` to remove unwanted whitespace characters from the beginning and end of each line.\n",
    "\n",
    "3. **String Comparisons:** It can be useful when comparing strings to ensure that leading or trailing spaces don't affect the comparison.\n",
    "\n",
    "4. **Formatting:** `strip()` can be used to clean up and format strings before further processing or display.\n",
    "\n",
    "5. **Removing Specific Characters:** By providing specific characters as an argument, you can use `strip()` to remove those characters selectively from the string.\n"
   ]
  },
  {
   "cell_type": "markdown",
   "id": "12b937e2",
   "metadata": {},
   "source": [
    "    Let us understand more clearly with some examples"
   ]
  },
  {
   "cell_type": "code",
   "execution_count": 1,
   "id": "1fbb338f",
   "metadata": {},
   "outputs": [
    {
     "name": "stdout",
     "output_type": "stream",
     "text": [
      "    like      \n",
      "like\n"
     ]
    }
   ],
   "source": [
    "string = '    like      '\n",
    "print(string)\n",
    "print(string.strip())"
   ]
  },
  {
   "cell_type": "markdown",
   "id": "15047340",
   "metadata": {},
   "source": [
    "    In the above example we have spaces at starting and ending of the string 'like' by using strip(), we have removed that spaces."
   ]
  },
  {
   "cell_type": "code",
   "execution_count": 2,
   "id": "e61ab70c",
   "metadata": {},
   "outputs": [
    {
     "name": "stdout",
     "output_type": "stream",
     "text": [
      "\n",
      "\n",
      "\n",
      "\n",
      "like\n",
      "\n",
      "\n",
      "\n",
      "\n",
      "\n",
      "calling strip\n",
      "like\n"
     ]
    }
   ],
   "source": [
    "string1 = '''\n",
    "\n",
    "\n",
    "\n",
    "like\n",
    "\n",
    "\n",
    "\n",
    "\n",
    "'''\n",
    "print(string1)\n",
    "print('calling strip')\n",
    "print(string1.strip())"
   ]
  },
  {
   "cell_type": "markdown",
   "id": "834271d0",
   "metadata": {},
   "source": [
    "    In the above example we have new lines and in middle we have string 'like'. so get only like we can use strip()"
   ]
  },
  {
   "cell_type": "markdown",
   "id": "2b5973c1",
   "metadata": {},
   "source": [
    "- By this we can able to understand the default behaviour of strip() which will remove the spaces and new line characters at the beginning and ending of the given string."
   ]
  },
  {
   "cell_type": "code",
   "execution_count": 3,
   "id": "a5709bd9",
   "metadata": {
    "scrolled": true
   },
   "outputs": [
    {
     "name": "stdout",
     "output_type": "stream",
     "text": [
      "    if you      found this video interesting hit like and subscribe  \n",
      "if you      found this video interesting hit like and subscribe\n"
     ]
    }
   ],
   "source": [
    "string2 = '    if you      found this video interesting hit like and subscribe  '\n",
    "print(string2)\n",
    "print(string2.strip())"
   ]
  },
  {
   "cell_type": "markdown",
   "id": "08b18fc3",
   "metadata": {},
   "source": [
    "- In the above example you can observe that though we can able to remove spaces at beginning and ending of string using strip(), but we can not remove spaces that are present in middle of the string."
   ]
  },
  {
   "cell_type": "code",
   "execution_count": 4,
   "id": "11c70b78",
   "metadata": {
    "scrolled": true
   },
   "outputs": [
    {
     "name": "stdout",
     "output_type": "stream",
     "text": [
      "$$$$like$$$$\n",
      "like\n"
     ]
    }
   ],
   "source": [
    "string = '$$$$like$$$$'\n",
    "print(string)\n",
    "print(string.strip('$'))"
   ]
  },
  {
   "cell_type": "markdown",
   "id": "3d00d842",
   "metadata": {},
   "source": [
    "    Apart from default spaces and new lines, we can also remove the desired characters which are present at the beginning and end of the string, you can observe in the above example, we are removing the $ symbol at the beginning and at the end."
   ]
  },
  {
   "cell_type": "code",
   "execution_count": 5,
   "id": "d3245c1f",
   "metadata": {},
   "outputs": [
    {
     "name": "stdout",
     "output_type": "stream",
     "text": [
      "$%$%%%%$#like$$$##%\n",
      "like\n"
     ]
    }
   ],
   "source": [
    "string1 = '$%$%%%%$#like$$$##%'\n",
    "print(string1)\n",
    "print(string1.strip('%$#'))"
   ]
  },
  {
   "cell_type": "markdown",
   "id": "fe0a9e45",
   "metadata": {},
   "source": [
    "    striping of characters not only limited to one character, we can mention any number of characters that we wanted to remove in the string."
   ]
  },
  {
   "cell_type": "markdown",
   "id": "e18340d0",
   "metadata": {},
   "source": [
    "    In the above example we are mentioning %, $ and # symbols to strip"
   ]
  },
  {
   "cell_type": "code",
   "execution_count": 6,
   "id": "1c62328d",
   "metadata": {},
   "outputs": [
    {
     "name": "stdout",
     "output_type": "stream",
     "text": [
      "likelikelikesubscribelikelikekiel\n",
      "ubscrib\n"
     ]
    }
   ],
   "source": [
    "string2 = 'likelikelikesubscribelikelikekiel'\n",
    "print(string2)\n",
    "print(string2.strip('likes'))"
   ]
  },
  {
   "cell_type": "markdown",
   "id": "1b2a038a",
   "metadata": {},
   "source": [
    "    By the previous examples, you might be thinking that these are only limited to some special characters, no, we can mention the characters we want to remove. In the above example you can observe we have likes to strip"
   ]
  },
  {
   "cell_type": "markdown",
   "id": "a672ae15",
   "metadata": {},
   "source": [
    "# lstrip()"
   ]
  },
  {
   "cell_type": "markdown",
   "id": "384b46da",
   "metadata": {},
   "source": [
    "    By using strip() we are striping both starting and ending,\n",
    "    what if we want to remove (strip) only at the beginning,\n",
    "    To do that we have one more method which is `lstrip()`"
   ]
  },
  {
   "cell_type": "code",
   "execution_count": 7,
   "id": "31ea42c5",
   "metadata": {
    "scrolled": false
   },
   "outputs": [
    {
     "name": "stdout",
     "output_type": "stream",
     "text": [
      "like       \n"
     ]
    }
   ],
   "source": [
    "string = '    like       '\n",
    "print(string.lstrip())"
   ]
  },
  {
   "cell_type": "markdown",
   "id": "752b21c0",
   "metadata": {},
   "source": [
    "    In the above example we can see we are removing white spaces only at the beginnig."
   ]
  },
  {
   "cell_type": "code",
   "execution_count": 8,
   "id": "ee14269c",
   "metadata": {
    "scrolled": true
   },
   "outputs": [
    {
     "name": "stdout",
     "output_type": "stream",
     "text": [
      "subscribelikelikekiel\n"
     ]
    }
   ],
   "source": [
    "string2 = 'likelikelikesubscribelikelikekiel'\n",
    "print(string2.lstrip('like'))"
   ]
  },
  {
   "cell_type": "markdown",
   "id": "68bbc9a8",
   "metadata": {},
   "source": [
    "    In the above example we are removing the specified characters only at the beginning."
   ]
  },
  {
   "cell_type": "markdown",
   "id": "0ea173ea",
   "metadata": {},
   "source": [
    "# rstrip()"
   ]
  },
  {
   "cell_type": "markdown",
   "id": "9104e859",
   "metadata": {},
   "source": [
    "    By using strip() we are striping both starting and ending,\n",
    "    what if we want to remove (strip) only at the ending,\n",
    "    To do that we have one more method which is `rstrip()`\n",
    "    So the striping process happend from right"
   ]
  },
  {
   "cell_type": "code",
   "execution_count": 9,
   "id": "4fff59d8",
   "metadata": {},
   "outputs": [
    {
     "name": "stdout",
     "output_type": "stream",
     "text": [
      "    like\n"
     ]
    }
   ],
   "source": [
    "string = '    like       '\n",
    "print(string.rstrip())"
   ]
  },
  {
   "cell_type": "code",
   "execution_count": 10,
   "id": "73a85d44",
   "metadata": {},
   "outputs": [
    {
     "name": "stdout",
     "output_type": "stream",
     "text": [
      "likelikelikesubscrib\n"
     ]
    }
   ],
   "source": [
    "string2 = 'likelikelikesubscribelikelikekiel'\n",
    "print(string2.rstrip('like'))"
   ]
  },
  {
   "cell_type": "markdown",
   "id": "427ceb70",
   "metadata": {},
   "source": [
    "    With these examples we can see the striping process happening only at the right."
   ]
  },
  {
   "cell_type": "code",
   "execution_count": 11,
   "id": "389eeedf",
   "metadata": {},
   "outputs": [
    {
     "name": "stdout",
     "output_type": "stream",
     "text": [
      "    like\n"
     ]
    }
   ],
   "source": [
    "string5 = string.rstrip()\n",
    "print(string5)"
   ]
  },
  {
   "cell_type": "markdown",
   "id": "d9dd7f57",
   "metadata": {},
   "source": [
    "- One of the important thing we need to observe is that the process of striping is creating new object and that object is being returned which means there is no modification is in the existing data or object, because strings are immutable."
   ]
  },
  {
   "cell_type": "markdown",
   "id": "aea31bbb",
   "metadata": {},
   "source": [
    "    In summary, the `strip()` method in Python is a valuable tool for cleaning and formatting strings by removing specified characters from the beginning and end. It's particularly useful when dealing with user inputs, text processing, and data cleaning tasks."
   ]
  }
 ],
 "metadata": {
  "kernelspec": {
   "display_name": "Python 3 (ipykernel)",
   "language": "python",
   "name": "python3"
  },
  "language_info": {
   "codemirror_mode": {
    "name": "ipython",
    "version": 3
   },
   "file_extension": ".py",
   "mimetype": "text/x-python",
   "name": "python",
   "nbconvert_exporter": "python",
   "pygments_lexer": "ipython3",
   "version": "3.9.12"
  }
 },
 "nbformat": 4,
 "nbformat_minor": 5
}
