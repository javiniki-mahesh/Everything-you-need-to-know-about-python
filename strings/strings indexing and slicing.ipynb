{
 "cells": [
  {
   "cell_type": "markdown",
   "id": "74b5c528",
   "metadata": {},
   "source": [
    "# Everything you need to know about python\n",
    "## In simplest possible way"
   ]
  },
  {
   "cell_type": "markdown",
   "id": "32c05d03",
   "metadata": {},
   "source": [
    "# How strings considered as ordered collection"
   ]
  },
  {
   "cell_type": "markdown",
   "id": "ca5fe411",
   "metadata": {},
   "source": [
    "Strings in Python are often described as ordered collections because they exhibit the characteristics of both ordered and iterable data structures. Here's why strings are considered ordered collections:\n",
    "\n",
    "1. **Ordered**: An ordered collection implies that the elements within it have a specific order, and this order is maintained. In the case of strings:\n",
    "\n",
    "   - Each character in a string has a defined position or index.\n",
    "   - The order of characters in a string is crucial and preserved.\n",
    "\n",
    "   \n",
    "2. **Indexing**: You can access individual characters within a string by specifying their index. In Python, indexing starts from 0 for the first character. This is a characteristic of ordered collections.\n"
   ]
  },
  {
   "attachments": {
    "slicing.jpg": {
     "image/jpeg": "[encoded data removed]"
    }
   },
   "cell_type": "markdown",
   "id": "8f85d94e",
   "metadata": {},
   "source": [
    "![slicing.jpg](attachment:slicing.jpg)"
   ]
  },
  {
   "cell_type": "markdown",
   "id": "afb9a20d",
   "metadata": {},
   "source": [
    "# Indexing and Slicing"
   ]
  },
  {
   "cell_type": "code",
   "execution_count": 5,
   "id": "0caf23ef",
   "metadata": {},
   "outputs": [
    {
     "name": "stdout",
     "output_type": "stream",
     "text": [
      "SUBSCRIBE\n",
      "<class 'str'>\n"
     ]
    }
   ],
   "source": [
    "sub = \"SUBSCRIBE\"\n",
    "print(sub)\n",
    "print(type(sub))"
   ]
  },
  {
   "cell_type": "code",
   "execution_count": 5,
   "id": "050006fc",
   "metadata": {},
   "outputs": [
    {
     "data": {
      "text/plain": [
       "'S'"
      ]
     },
     "execution_count": 5,
     "metadata": {},
     "output_type": "execute_result"
    }
   ],
   "source": [
    "sub[0]"
   ]
  },
  {
   "cell_type": "code",
   "execution_count": 6,
   "id": "62a8de8a",
   "metadata": {
    "scrolled": true
   },
   "outputs": [
    {
     "data": {
      "text/plain": [
       "'R'"
      ]
     },
     "execution_count": 6,
     "metadata": {},
     "output_type": "execute_result"
    }
   ],
   "source": [
    "sub[5]"
   ]
  },
  {
   "cell_type": "code",
   "execution_count": 7,
   "id": "ae4f0fce",
   "metadata": {},
   "outputs": [
    {
     "data": {
      "text/plain": [
       "'S'"
      ]
     },
     "execution_count": 7,
     "metadata": {},
     "output_type": "execute_result"
    }
   ],
   "source": [
    "sub[3]"
   ]
  },
  {
   "cell_type": "code",
   "execution_count": 8,
   "id": "768fd198",
   "metadata": {},
   "outputs": [
    {
     "data": {
      "text/plain": [
       "'BSC'"
      ]
     },
     "execution_count": 8,
     "metadata": {},
     "output_type": "execute_result"
    }
   ],
   "source": [
    "sub[2:5]"
   ]
  },
  {
   "cell_type": "code",
   "execution_count": 9,
   "id": "2f0c20fb",
   "metadata": {},
   "outputs": [
    {
     "data": {
      "text/plain": [
       "'SCRI'"
      ]
     },
     "execution_count": 9,
     "metadata": {},
     "output_type": "execute_result"
    }
   ],
   "source": [
    "sub[3:7]"
   ]
  },
  {
   "cell_type": "code",
   "execution_count": 10,
   "id": "a9781a8f",
   "metadata": {},
   "outputs": [
    {
     "data": {
      "text/plain": [
       "'SUBSCRIBE'"
      ]
     },
     "execution_count": 10,
     "metadata": {},
     "output_type": "execute_result"
    }
   ],
   "source": [
    "sub"
   ]
  },
  {
   "cell_type": "code",
   "execution_count": 12,
   "id": "60202903",
   "metadata": {
    "scrolled": true
   },
   "outputs": [
    {
     "data": {
      "text/plain": [
       "'SUBSCRIBE'"
      ]
     },
     "execution_count": 12,
     "metadata": {},
     "output_type": "execute_result"
    }
   ],
   "source": [
    "sub[::]"
   ]
  },
  {
   "cell_type": "code",
   "execution_count": 6,
   "id": "6de10241",
   "metadata": {},
   "outputs": [
    {
     "data": {
      "text/plain": [
       "'SRB'"
      ]
     },
     "execution_count": 6,
     "metadata": {},
     "output_type": "execute_result"
    }
   ],
   "source": [
    "sub[3::2]"
   ]
  },
  {
   "cell_type": "code",
   "execution_count": 7,
   "id": "f0fba29f",
   "metadata": {},
   "outputs": [
    {
     "data": {
      "text/plain": [
       "'SBC'"
      ]
     },
     "execution_count": 7,
     "metadata": {},
     "output_type": "execute_result"
    }
   ],
   "source": [
    "sub[:6:2]"
   ]
  },
  {
   "cell_type": "markdown",
   "id": "cee380fd",
   "metadata": {},
   "source": [
    "# Negative indexing and slicing"
   ]
  },
  {
   "cell_type": "code",
   "execution_count": 13,
   "id": "196dbe20",
   "metadata": {},
   "outputs": [
    {
     "data": {
      "text/plain": [
       "'B'"
      ]
     },
     "execution_count": 13,
     "metadata": {},
     "output_type": "execute_result"
    }
   ],
   "source": [
    "sub[-2]"
   ]
  },
  {
   "cell_type": "code",
   "execution_count": 14,
   "id": "fb2f102c",
   "metadata": {},
   "outputs": [
    {
     "data": {
      "text/plain": [
       "'R'"
      ]
     },
     "execution_count": 14,
     "metadata": {},
     "output_type": "execute_result"
    }
   ],
   "source": [
    "sub[-4]"
   ]
  },
  {
   "cell_type": "code",
   "execution_count": 15,
   "id": "73686237",
   "metadata": {},
   "outputs": [
    {
     "data": {
      "text/plain": [
       "'EBIRCSBUS'"
      ]
     },
     "execution_count": 15,
     "metadata": {},
     "output_type": "execute_result"
    }
   ],
   "source": [
    "sub[::-1]"
   ]
  },
  {
   "cell_type": "code",
   "execution_count": 16,
   "id": "6b4f1ffb",
   "metadata": {},
   "outputs": [
    {
     "data": {
      "text/plain": [
       "'RCS'"
      ]
     },
     "execution_count": 16,
     "metadata": {},
     "output_type": "execute_result"
    }
   ],
   "source": [
    "sub[5:2:-1]"
   ]
  }
 ],
 "metadata": {
  "kernelspec": {
   "display_name": "Python 3 (ipykernel)",
   "language": "python",
   "name": "python3"
  },
  "language_info": {
   "codemirror_mode": {
    "name": "ipython",
    "version": 3
   },
   "file_extension": ".py",
   "mimetype": "text/x-python",
   "name": "python",
   "nbconvert_exporter": "python",
   "pygments_lexer": "ipython3",
   "version": "3.9.12"
  }
 },
 "nbformat": 4,
 "nbformat_minor": 5
}
