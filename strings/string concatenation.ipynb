{
 "cells": [
  {
   "cell_type": "markdown",
   "id": "4fbdac96",
   "metadata": {},
   "source": [
    "# Everything you need to know about python\n",
    "## In simplest possible way"
   ]
  },
  {
   "cell_type": "markdown",
   "id": "d7d58e6a",
   "metadata": {},
   "source": [
    "# String Concatenation"
   ]
  },
  {
   "cell_type": "markdown",
   "id": "722c153c",
   "metadata": {},
   "source": [
    "    We genearlly do addition operation in between numbers right, if we do that addition operation in between strings that could be considered as string concatenation."
   ]
  },
  {
   "cell_type": "markdown",
   "id": "99835a2a",
   "metadata": {},
   "source": [
    "    String concatenation is the process of combining two or more strings into a single string. In Python, you can concatenate strings using the + operator or by using string formatting methods."
   ]
  },
  {
   "cell_type": "markdown",
   "id": "3094182f",
   "metadata": {},
   "source": [
    "    Let's understand through examples"
   ]
  },
  {
   "cell_type": "code",
   "execution_count": 3,
   "id": "cda9644d",
   "metadata": {},
   "outputs": [
    {
     "data": {
      "text/plain": [
       "'likesubscribe'"
      ]
     },
     "execution_count": 3,
     "metadata": {},
     "output_type": "execute_result"
    }
   ],
   "source": [
    "'like' + 'subscribe'"
   ]
  },
  {
   "cell_type": "markdown",
   "id": "ef0c3a7f",
   "metadata": {},
   "source": [
    "    In the above example we have a string like and another string subscribe by combining them using + we are getting glikesubscribe which is nothing but a string concatenation operation."
   ]
  },
  {
   "cell_type": "code",
   "execution_count": 5,
   "id": "b4ede5d8",
   "metadata": {},
   "outputs": [
    {
     "name": "stdout",
     "output_type": "stream",
     "text": [
      "like subscribe\n"
     ]
    }
   ],
   "source": [
    "string1 = 'like '\n",
    "string2 = 'subscribe'\n",
    "string3 = string1 + string2\n",
    "print(string3)"
   ]
  },
  {
   "cell_type": "markdown",
   "id": "5ffdd2e1",
   "metadata": {},
   "source": [
    "    In the above example we are using variable for the same process  and string the result in another variable and printing it."
   ]
  },
  {
   "cell_type": "markdown",
   "id": "b124b71e",
   "metadata": {},
   "source": [
    "    So, by this we can able to understand that by doing addition between two strings we are getting another string by combining both of them.\n",
    "\n",
    "    Can we do this addition between a number and a string"
   ]
  },
  {
   "cell_type": "code",
   "execution_count": 6,
   "id": "d7d990f9",
   "metadata": {
    "scrolled": true
   },
   "outputs": [
    {
     "ename": "TypeError",
     "evalue": "unsupported operand type(s) for +: 'int' and 'str'",
     "output_type": "error",
     "traceback": [
      "\u001b[1;31m---------------------------------------------------------------------------\u001b[0m",
      "\u001b[1;31mTypeError\u001b[0m                                 Traceback (most recent call last)",
      "Input \u001b[1;32mIn [6]\u001b[0m, in \u001b[0;36m<cell line: 3>\u001b[1;34m()\u001b[0m\n\u001b[0;32m      1\u001b[0m num \u001b[38;5;241m=\u001b[39m \u001b[38;5;241m2\u001b[39m\n\u001b[0;32m      2\u001b[0m string4 \u001b[38;5;241m=\u001b[39m \u001b[38;5;124m'\u001b[39m\u001b[38;5;124mlike\u001b[39m\u001b[38;5;124m'\u001b[39m\n\u001b[1;32m----> 3\u001b[0m result \u001b[38;5;241m=\u001b[39m \u001b[43mnum\u001b[49m\u001b[43m \u001b[49m\u001b[38;5;241;43m+\u001b[39;49m\u001b[43m \u001b[49m\u001b[43mstring4\u001b[49m\n\u001b[0;32m      4\u001b[0m \u001b[38;5;28mprint\u001b[39m(result)\n",
      "\u001b[1;31mTypeError\u001b[0m: unsupported operand type(s) for +: 'int' and 'str'"
     ]
    }
   ],
   "source": [
    "num = 2\n",
    "string4 = 'like'\n",
    "result = num + string4\n",
    "print(result)"
   ]
  },
  {
   "cell_type": "markdown",
   "id": "40f98058",
   "metadata": {},
   "source": [
    "    You can see from the above example we are getting and error which is telling that we can not add a int type and a str type"
   ]
  },
  {
   "cell_type": "markdown",
   "id": "9edc74a4",
   "metadata": {},
   "source": [
    "    Let's understand this string concatenation with one more example "
   ]
  },
  {
   "cell_type": "code",
   "execution_count": 8,
   "id": "1d20aeb8",
   "metadata": {},
   "outputs": [
    {
     "name": "stdout",
     "output_type": "stream",
     "text": [
      "If you found this video intresting like and subscribe\n"
     ]
    }
   ],
   "source": [
    "l = ['If you found ', 'this video ', 'intresting ', 'like ', 'and ', 'subscribe']\n",
    "concatination = ''\n",
    "for string in l:\n",
    "    concatination += string\n",
    "print(concatination)"
   ]
  }
 ],
 "metadata": {
  "kernelspec": {
   "display_name": "Python 3 (ipykernel)",
   "language": "python",
   "name": "python3"
  },
  "language_info": {
   "codemirror_mode": {
    "name": "ipython",
    "version": 3
   },
   "file_extension": ".py",
   "mimetype": "text/x-python",
   "name": "python",
   "nbconvert_exporter": "python",
   "pygments_lexer": "ipython3",
   "version": "3.9.12"
  }
 },
 "nbformat": 4,
 "nbformat_minor": 5
}
