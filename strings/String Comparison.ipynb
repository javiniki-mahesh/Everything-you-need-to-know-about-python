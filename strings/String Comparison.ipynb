{
 "cells": [
  {
   "cell_type": "markdown",
   "id": "592f3b52",
   "metadata": {},
   "source": [
    "# Everything you need to know about python\n",
    "## In simplest possible way"
   ]
  },
  {
   "cell_type": "markdown",
   "id": "c1b7a596",
   "metadata": {},
   "source": [
    "# String Comparison "
   ]
  },
  {
   "cell_type": "markdown",
   "id": "4a48c377",
   "metadata": {},
   "source": [
    "    String comparison is the process of comparing two strings to determine their relationship or order based on their lexicographical (dictionary) order. In Python, string comparison is crucial for tasks like sorting data, searching for specific strings, and making decisions based on string values."
   ]
  },
  {
   "cell_type": "markdown",
   "id": "75560396",
   "metadata": {},
   "source": [
    "    we will understand more clearly through some examples"
   ]
  },
  {
   "cell_type": "code",
   "execution_count": 3,
   "id": "83357477",
   "metadata": {},
   "outputs": [
    {
     "data": {
      "text/plain": [
       "True"
      ]
     },
     "execution_count": 3,
     "metadata": {},
     "output_type": "execute_result"
    }
   ],
   "source": [
    "'like'  == 'like'"
   ]
  },
  {
   "cell_type": "markdown",
   "id": "d1b5f0c1",
   "metadata": {},
   "source": [
    "    when we use == between like and like are getting the result as True"
   ]
  },
  {
   "cell_type": "code",
   "execution_count": 5,
   "id": "ba94458b",
   "metadata": {},
   "outputs": [
    {
     "data": {
      "text/plain": [
       "False"
      ]
     },
     "execution_count": 5,
     "metadata": {},
     "output_type": "execute_result"
    }
   ],
   "source": [
    "'like' == 'Like'"
   ]
  },
  {
   "cell_type": "markdown",
   "id": "015d7d42",
   "metadata": {},
   "source": [
    "    even if we change a little bit L instead of l we are getting False"
   ]
  },
  {
   "cell_type": "markdown",
   "id": "246b0970",
   "metadata": {},
   "source": [
    "    if like and Like are not same then what else the relation between them"
   ]
  },
  {
   "cell_type": "code",
   "execution_count": 8,
   "id": "f6fcc3da",
   "metadata": {},
   "outputs": [
    {
     "data": {
      "text/plain": [
       "False"
      ]
     },
     "execution_count": 8,
     "metadata": {},
     "output_type": "execute_result"
    }
   ],
   "source": [
    "'like' < 'Like'"
   ]
  },
  {
   "cell_type": "code",
   "execution_count": null,
   "id": "3ae2f4b7",
   "metadata": {},
   "outputs": [],
   "source": [
    "by this like is not less than Like, so the only thing we left is"
   ]
  },
  {
   "cell_type": "code",
   "execution_count": 7,
   "id": "af3176fd",
   "metadata": {},
   "outputs": [
    {
     "data": {
      "text/plain": [
       "True"
      ]
     },
     "execution_count": 7,
     "metadata": {},
     "output_type": "execute_result"
    }
   ],
   "source": [
    "'like' > 'Like'"
   ]
  },
  {
   "cell_type": "markdown",
   "id": "75e3a882",
   "metadata": {},
   "source": [
    "    like is greater than Like\n",
    "\n",
    "    which means l is having greater value than L\n",
    "\n",
    "    let's see few more examples to understand more clearly"
   ]
  },
  {
   "cell_type": "code",
   "execution_count": 2,
   "id": "3bd6ae0b",
   "metadata": {},
   "outputs": [
    {
     "data": {
      "text/plain": [
       "False"
      ]
     },
     "execution_count": 2,
     "metadata": {},
     "output_type": "execute_result"
    }
   ],
   "source": [
    "'likea' == 'likeb'"
   ]
  },
  {
   "cell_type": "markdown",
   "id": "e47d5462",
   "metadata": {},
   "source": [
    "    In the above example we are getting False, though like and like are some in both strings, the diffrence is with a and b"
   ]
  },
  {
   "cell_type": "code",
   "execution_count": 9,
   "id": "02f334a7",
   "metadata": {},
   "outputs": [
    {
     "data": {
      "text/plain": [
       "True"
      ]
     },
     "execution_count": 9,
     "metadata": {},
     "output_type": "execute_result"
    }
   ],
   "source": [
    "'likea' < 'likeb'"
   ]
  },
  {
   "cell_type": "markdown",
   "id": "57ba881c",
   "metadata": {},
   "source": [
    "    If we check 'likea' < 'likeb' we get True because in the alphabetic order a comes first which is smaller b"
   ]
  },
  {
   "cell_type": "code",
   "execution_count": 10,
   "id": "191311d3",
   "metadata": {},
   "outputs": [
    {
     "data": {
      "text/plain": [
       "True"
      ]
     },
     "execution_count": 10,
     "metadata": {},
     "output_type": "execute_result"
    }
   ],
   "source": [
    "'a' < 'b'"
   ]
  },
  {
   "cell_type": "markdown",
   "id": "b7af2c71",
   "metadata": {},
   "source": [
    "    checking with only a and b"
   ]
  },
  {
   "cell_type": "code",
   "execution_count": 15,
   "id": "563be2ac",
   "metadata": {},
   "outputs": [
    {
     "data": {
      "text/plain": [
       "True"
      ]
     },
     "execution_count": 15,
     "metadata": {},
     "output_type": "execute_result"
    }
   ],
   "source": [
    "'abc' < 'abd'"
   ]
  },
  {
   "cell_type": "code",
   "execution_count": 17,
   "id": "2ce363d0",
   "metadata": {},
   "outputs": [
    {
     "data": {
      "text/plain": [
       "True"
      ]
     },
     "execution_count": 17,
     "metadata": {},
     "output_type": "execute_result"
    }
   ],
   "source": [
    "'abd' > 'abc'"
   ]
  },
  {
   "cell_type": "markdown",
   "id": "f348670c",
   "metadata": {},
   "source": [
    "    Above are simillar examples"
   ]
  },
  {
   "cell_type": "code",
   "execution_count": 19,
   "id": "c8971c7d",
   "metadata": {},
   "outputs": [
    {
     "data": {
      "text/plain": [
       "True"
      ]
     },
     "execution_count": 19,
     "metadata": {},
     "output_type": "execute_result"
    }
   ],
   "source": [
    "'like' == 'Like'.lower()"
   ]
  },
  {
   "cell_type": "markdown",
   "id": "596399ac",
   "metadata": {},
   "source": [
    "    in 2nd example we have seen though alphabets are same except cases we still got False, so disregarding of cases, if we want to compare we can these upper or lower methods"
   ]
  },
  {
   "cell_type": "code",
   "execution_count": 6,
   "id": "69090ea3",
   "metadata": {},
   "outputs": [
    {
     "data": {
      "text/plain": [
       "'like'"
      ]
     },
     "execution_count": 6,
     "metadata": {},
     "output_type": "execute_result"
    }
   ],
   "source": [
    "'Like'.lower()"
   ]
  },
  {
   "cell_type": "code",
   "execution_count": 21,
   "id": "723e0a89",
   "metadata": {},
   "outputs": [
    {
     "data": {
      "text/plain": [
       "'LIKE'"
      ]
     },
     "execution_count": 21,
     "metadata": {},
     "output_type": "execute_result"
    }
   ],
   "source": [
    "'Like'.upper()"
   ]
  },
  {
   "cell_type": "markdown",
   "id": "9165494d",
   "metadata": {},
   "source": [
    "    Like this there are so many string manipulation methods in python that we will see later of this series"
   ]
  }
 ],
 "metadata": {
  "kernelspec": {
   "display_name": "Python 3 (ipykernel)",
   "language": "python",
   "name": "python3"
  },
  "language_info": {
   "codemirror_mode": {
    "name": "ipython",
    "version": 3
   },
   "file_extension": ".py",
   "mimetype": "text/x-python",
   "name": "python",
   "nbconvert_exporter": "python",
   "pygments_lexer": "ipython3",
   "version": "3.9.12"
  }
 },
 "nbformat": 4,
 "nbformat_minor": 5
}
