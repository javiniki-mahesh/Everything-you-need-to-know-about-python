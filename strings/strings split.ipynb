{
 "cells": [
  {
   "cell_type": "markdown",
   "id": "60e3048d",
   "metadata": {},
   "source": [
    "# Everything you need to know about python\n",
    "## In simplest possible way"
   ]
  },
  {
   "cell_type": "markdown",
   "id": "f73438cf",
   "metadata": {},
   "source": [
    "# split()"
   ]
  },
  {
   "cell_type": "markdown",
   "id": "6c5e47c1",
   "metadata": {},
   "source": [
    "The `split()` method in Python is a powerful tool for splitting a string into a list of substrings based on a specified delimiter. It's commonly used for parsing and processing textual data, such as CSV files, log entries, and user input. Here's a comprehensive explanation of the `split()` method and how to use it effectively:\n",
    "\n",
    "**Syntax:**\n",
    "```python\n",
    "string.split([separator[, maxsplit]])\n",
    "```\n",
    "\n",
    "- `string`: The original string that you want to split.\n",
    "- `separator` (optional): The delimiter that specifies where to split the string. It can be a character, substring, or regular expression. If not provided, it defaults to whitespace (spaces, tabs, and newline characters), and consecutive whitespace characters are treated as a single separator.\n",
    "- `maxsplit` (optional): An integer that specifies the maximum number of splits to perform. If not provided, there is no limit to the number of splits.\n",
    "\n",
    "**Key Points:**\n",
    "\n",
    "1. **Returns a List:** The `split()` method returns a list of substrings obtained by splitting the original string at each occurrence of the specified separator.\n",
    "\n",
    "2. **Default Behavior:** If you don't provide a separator, `split()` will split the string based on whitespace characters and remove leading and trailing whitespace.\n",
    "\n",
    "3. **Whitespace Handling:** When using the default behavior, consecutive whitespace characters are treated as a single separator, and leading/trailing whitespace is removed from the resulting substrings.\n",
    "\n",
    "4. **Delimiter Preservation:** If you specify a separator, it is not included in the resulting substrings. This means the delimiter is used to split the string, but it doesn't appear in the output list.\n",
    "\n",
    "\n",
    "**Effective Use Cases:**\n",
    "\n",
    "1. **CSV Parsing:** The `split()` method is commonly used to parse CSV (Comma-Separated Values) files by splitting lines into individual fields based on commas.\n",
    "\n",
    "2. **Log Parsing:** It's useful for parsing log files, where you can split log entries into timestamp, severity, and message components.\n",
    "\n",
    "3. **Tokenization:** In natural language processing and text analysis, `split()` can be used to tokenize sentences or words from a text corpus.\n",
    "\n",
    "4. **User Input Processing:** When processing user input, you can split user-entered text into individual parts for validation or further processing.\n",
    "\n",
    "5. **Data Extraction:** You can use `split()` to extract specific information from structured strings, such as URLs or file paths.\n",
    "\n",
    "6. **Regular Expressions:** For complex splitting requirements, you can use regular expressions as separators to split text based on patterns.\n",
    "\n",
    "**Additional Considerations:**\n",
    "\n",
    "- When dealing with large text files, be mindful of memory usage, as `split()` creates a list of substrings, potentially consuming a significant amount of memory.\n",
    "\n",
    "- After splitting, you can access individual substrings by indexing the resulting list, starting from index 0.\n",
    "\n",
    "- Be aware of any leading or trailing whitespace in the original string, as it can affect the split results.\n"
   ]
  },
  {
   "cell_type": "markdown",
   "id": "9796919a",
   "metadata": {},
   "source": [
    "    Let's go ahead and understand with some examples"
   ]
  },
  {
   "cell_type": "code",
   "execution_count": 5,
   "id": "f9c525aa",
   "metadata": {
    "scrolled": true
   },
   "outputs": [
    {
     "name": "stdout",
     "output_type": "stream",
     "text": [
      "Enter string with spaces: like comment share and subscribe\n",
      "like comment share and subscribe\n",
      "['like', 'comment', 'share', 'and', 'subscribe']\n"
     ]
    }
   ],
   "source": [
    "string = input('Enter string with spaces: ')\n",
    "print(string)\n",
    "string_list = string.split()\n",
    "print(string_list)"
   ]
  },
  {
   "cell_type": "markdown",
   "id": "e2116907",
   "metadata": {},
   "source": [
    "    In the above example we are takig input and spliting that as a result we are getting a list with splitted strings."
   ]
  },
  {
   "cell_type": "code",
   "execution_count": 2,
   "id": "d91aac16",
   "metadata": {},
   "outputs": [
    {
     "data": {
      "text/plain": [
       "['like', 'and', 'subscribe']"
      ]
     },
     "execution_count": 2,
     "metadata": {},
     "output_type": "execute_result"
    }
   ],
   "source": [
    "string = 'like and subscribe'\n",
    "string.split()"
   ]
  },
  {
   "cell_type": "markdown",
   "id": "d37ca989",
   "metadata": {},
   "source": [
    "        To simplify this we here are taking a string with 3 words sepearted by space, when we use split, we are getting the list with those 3 words as individual sttings in that  list."
   ]
  },
  {
   "cell_type": "code",
   "execution_count": 7,
   "id": "ce14acd7",
   "metadata": {},
   "outputs": [
    {
     "data": {
      "text/plain": [
       "['like', 'and', 'subscribe']"
      ]
     },
     "execution_count": 7,
     "metadata": {},
     "output_type": "execute_result"
    }
   ],
   "source": [
    "string = '''like\n",
    "and\n",
    "subscribe'''\n",
    "string.split()"
   ]
  },
  {
   "cell_type": "markdown",
   "id": "583bb63a",
   "metadata": {},
   "source": [
    "    In the above example we are taking a multiline string with 3 words in 3 lines and when we call split() we are getting the list with 3 individual strings within the list which we are getting every word in every line"
   ]
  },
  {
   "cell_type": "markdown",
   "id": "3ee613d0",
   "metadata": {},
   "source": [
    "- From these examples of what we have discussed we can come to a conclusion that when we call split(), by default it is taking the delimiter as a space and new line then  splitting the string with space and new line.\n",
    "- A list of strings are being created by those strings."
   ]
  },
  {
   "cell_type": "code",
   "execution_count": 10,
   "id": "d4f73b78",
   "metadata": {},
   "outputs": [
    {
     "data": {
      "text/plain": [
       "['apple', 'banana', 'cherry', 'mango']"
      ]
     },
     "execution_count": 10,
     "metadata": {},
     "output_type": "execute_result"
    }
   ],
   "source": [
    "fruits = '    apple banana cherry mango    '\n",
    "fruits.split()"
   ]
  },
  {
   "cell_type": "markdown",
   "id": "dac948a8",
   "metadata": {},
   "source": [
    "- Here we can observe that when we call split() it is striping the spaces which are comming at the beginning and at the end."
   ]
  },
  {
   "cell_type": "code",
   "execution_count": 12,
   "id": "1e15a23c",
   "metadata": {},
   "outputs": [
    {
     "data": {
      "text/plain": [
       "['like', 'share', 'and', 'subscribe']"
      ]
     },
     "execution_count": 12,
     "metadata": {},
     "output_type": "execute_result"
    }
   ],
   "source": [
    "string = '''like\n",
    "share and\n",
    "subscribe'''\n",
    "string.split()"
   ]
  },
  {
   "cell_type": "markdown",
   "id": "2b22530a",
   "metadata": {},
   "source": [
    "    Here in this example we are having 2 words in a line and when we call split() we are getting those 2 words as seperately in the list."
   ]
  },
  {
   "cell_type": "markdown",
   "id": "a5f8bc00",
   "metadata": {},
   "source": [
    "# splitlines()"
   ]
  },
  {
   "cell_type": "markdown",
   "id": "1282a003",
   "metadata": {},
   "source": [
    "    when we want the splitting to be done only for each line at that time we can use splitline() which will only splits the lines."
   ]
  },
  {
   "cell_type": "code",
   "execution_count": 14,
   "id": "a8da1280",
   "metadata": {
    "scrolled": true
   },
   "outputs": [
    {
     "data": {
      "text/plain": [
       "['like', 'share and', 'subscribe']"
      ]
     },
     "execution_count": 14,
     "metadata": {},
     "output_type": "execute_result"
    }
   ],
   "source": [
    "string = '''like\n",
    "share and\n",
    "subscribe'''\n",
    "string.splitlines()"
   ]
  },
  {
   "cell_type": "markdown",
   "id": "6664f62c",
   "metadata": {},
   "source": [
    "    In the above example we can see the usage of splitlines(), to split only for the lines"
   ]
  },
  {
   "cell_type": "code",
   "execution_count": 10,
   "id": "651c1dcf",
   "metadata": {},
   "outputs": [
    {
     "data": {
      "text/plain": [
       "['like', 'share and', 'subscribe']"
      ]
     },
     "execution_count": 10,
     "metadata": {},
     "output_type": "execute_result"
    }
   ],
   "source": [
    "string = '''like\n",
    "share and\n",
    "subscribe'''\n",
    "string.split('\\n')"
   ]
  },
  {
   "cell_type": "markdown",
   "id": "2a4183ff",
   "metadata": {},
   "source": [
    "    when we strictly want to use split() only and only split the data with respect to lines we can use '\\n'."
   ]
  },
  {
   "cell_type": "code",
   "execution_count": 6,
   "id": "8d47d26c",
   "metadata": {},
   "outputs": [
    {
     "data": {
      "text/plain": [
       "['like', 'and', 'subscribe']"
      ]
     },
     "execution_count": 6,
     "metadata": {},
     "output_type": "execute_result"
    }
   ],
   "source": [
    "string = 'like,and,subscribe'\n",
    "string.split(',')"
   ]
  },
  {
   "cell_type": "code",
   "execution_count": 14,
   "id": "b9e49b0c",
   "metadata": {},
   "outputs": [
    {
     "data": {
      "text/plain": [
       "['Have', 'You', 'Liked']"
      ]
     },
     "execution_count": 14,
     "metadata": {},
     "output_type": "execute_result"
    }
   ],
   "source": [
    "string = 'Have$You$Liked'\n",
    "string.split('$')"
   ]
  },
  {
   "cell_type": "markdown",
   "id": "4e816cb9",
   "metadata": {},
   "source": [
    "    Apart from this default splittings we can use our intended delimiter also as like in the above examples."
   ]
  },
  {
   "cell_type": "markdown",
   "id": "4b09163f",
   "metadata": {},
   "source": [
    "- By default when we mention split() it is doing split with all the occurances, and if we want a specific occurrences and limit the splitting we can use maxsplit as like above."
   ]
  },
  {
   "cell_type": "code",
   "execution_count": 21,
   "id": "409f96d4",
   "metadata": {
    "scrolled": true
   },
   "outputs": [
    {
     "data": {
      "text/plain": [
       "['apple', 'banana,cherry,mango']"
      ]
     },
     "execution_count": 21,
     "metadata": {},
     "output_type": "execute_result"
    }
   ],
   "source": [
    "fruits = 'apple,banana,cherry,mango'\n",
    "fruits.split(',',1)"
   ]
  },
  {
   "cell_type": "markdown",
   "id": "55c48ab1",
   "metadata": {},
   "source": [
    "    In the above example when we mention 1, split() will search for the delimiter as and when the maxsplits (1) reaches it stops splitting as a result we are getting only 2 strings in the above result."
   ]
  },
  {
   "cell_type": "code",
   "execution_count": 18,
   "id": "c3aab3d5",
   "metadata": {},
   "outputs": [
    {
     "data": {
      "text/plain": [
       "['apple', 'banana', 'cherry,mango']"
      ]
     },
     "execution_count": 18,
     "metadata": {},
     "output_type": "execute_result"
    }
   ],
   "source": [
    "fruits = 'apple,banana,cherry,mango'\n",
    "fruits.split(',',2)"
   ]
  },
  {
   "cell_type": "markdown",
   "id": "95529902",
   "metadata": {},
   "source": [
    "# rsplit()"
   ]
  },
  {
   "cell_type": "markdown",
   "id": "78a508e5",
   "metadata": {},
   "source": [
    "    By default all of this splitting process happens from left to right, if we want to do the splitting from right to left we can use rsplit()\n",
    "\n",
    "    If we simply use rsplit() instead of split() that won't be any impact but when we are mentioning maxsplit, the process of splitting happens from left to righ, by using rsplit the process happens from right to left.\n",
    "\n",
    "    To understand more clearly we will see some examples"
   ]
  },
  {
   "cell_type": "code",
   "execution_count": 24,
   "id": "415b8665",
   "metadata": {},
   "outputs": [
    {
     "data": {
      "text/plain": [
       "['apple,banana,cherry', 'mango']"
      ]
     },
     "execution_count": 24,
     "metadata": {},
     "output_type": "execute_result"
    }
   ],
   "source": [
    "fruits = 'apple,banana,cherry,mango'\n",
    "fruits.rsplit(',',1)"
   ]
  },
  {
   "cell_type": "markdown",
   "id": "eee217c4",
   "metadata": {},
   "source": [
    "- The string is the same example for what we have taken for split(), we can observe the difference 'apple,banana,cherry' as single unit and 'mango' as single unit because splitting happending from right which is from the end."
   ]
  },
  {
   "cell_type": "code",
   "execution_count": 27,
   "id": "353332a6",
   "metadata": {},
   "outputs": [
    {
     "data": {
      "text/plain": [
       "['apple,banana', 'cherry', 'mango']"
      ]
     },
     "execution_count": 27,
     "metadata": {},
     "output_type": "execute_result"
    }
   ],
   "source": [
    "fruits = 'apple,banana,cherry,mango'\n",
    "fruits.rsplit(',',2)"
   ]
  },
  {
   "cell_type": "markdown",
   "id": "d8f85874",
   "metadata": {},
   "source": [
    "# join()"
   ]
  },
  {
   "cell_type": "markdown",
   "id": "09042230",
   "metadata": {},
   "source": [
    "    You might have a doubt that we are passing string and we suppose to get sting as result, inorder to get that we will use one more method which is used to join the strings within list which is nothing but \"join\"\n",
    "    \n",
    "    We will understand it through example."
   ]
  },
  {
   "cell_type": "code",
   "execution_count": 30,
   "id": "7efa8b14",
   "metadata": {},
   "outputs": [
    {
     "name": "stdout",
     "output_type": "stream",
     "text": [
      "list: ['apple', 'banana', 'cherry', 'mango']\n",
      "fruits string joined : apple banana cherry mango\n"
     ]
    }
   ],
   "source": [
    "fruits = 'apple,banana,cherry,mango'\n",
    "fruits_list = fruits.split(',')\n",
    "print('list:', fruits_list)\n",
    "join_sting = ' '.join(fruits_list)\n",
    "print('fruits string joined :', join_sting)"
   ]
  },
  {
   "cell_type": "markdown",
   "id": "d3f9b488",
   "metadata": {},
   "source": [
    "    In the above example we are having string of words seperated by comma (,) and we are using split inorder to split the string with comma (,) as a result we will get a list of words, and we are using join to combine those list of with space(' ')."
   ]
  },
  {
   "cell_type": "code",
   "execution_count": 32,
   "id": "bbfa9ab7",
   "metadata": {},
   "outputs": [
    {
     "name": "stdout",
     "output_type": "stream",
     "text": [
      "list: ['apple', 'banana', 'cherry', 'mango']\n",
      "fruits string joined : apple\n",
      "banana\n",
      "cherry\n",
      "mango\n"
     ]
    }
   ],
   "source": [
    "fruits = 'apple,banana,cherry,mango'\n",
    "fruits_list = fruits.split(',')\n",
    "print('list:', fruits_list)\n",
    "join_sting = '\\n'.join(fruits_list)\n",
    "print('fruits string joined :', join_sting)"
   ]
  },
  {
   "cell_type": "markdown",
   "id": "d3bf2a82",
   "metadata": {},
   "source": [
    "    Joining using new line"
   ]
  },
  {
   "cell_type": "markdown",
   "id": "2a58335e",
   "metadata": {},
   "source": [
    "\n",
    "In summary, the `split()` method in Python is a versatile tool for breaking down strings into manageable parts. By understanding how to specify delimiters and utilize the `split()` method effectively, you can streamline data processing and text manipulation tasks in your Python programs."
   ]
  }
 ],
 "metadata": {
  "kernelspec": {
   "display_name": "Python 3 (ipykernel)",
   "language": "python",
   "name": "python3"
  },
  "language_info": {
   "codemirror_mode": {
    "name": "ipython",
    "version": 3
   },
   "file_extension": ".py",
   "mimetype": "text/x-python",
   "name": "python",
   "nbconvert_exporter": "python",
   "pygments_lexer": "ipython3",
   "version": "3.9.12"
  }
 },
 "nbformat": 4,
 "nbformat_minor": 5
}
