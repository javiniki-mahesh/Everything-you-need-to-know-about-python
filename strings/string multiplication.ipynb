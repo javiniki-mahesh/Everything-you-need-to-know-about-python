{
 "cells": [
  {
   "cell_type": "markdown",
   "id": "66ee9790",
   "metadata": {},
   "source": [
    "# Everything you need to know about python\n",
    "## In simplest possible way"
   ]
  },
  {
   "cell_type": "markdown",
   "id": "f39dda0e",
   "metadata": {},
   "source": [
    "# String Repetition (multiplication)"
   ]
  },
  {
   "cell_type": "markdown",
   "id": "b1f7294f",
   "metadata": {},
   "source": [
    "    String repetition, also known as string multiplication or string replication, is the process of creating a new string by repeating an existing string multiple times. In Python, you can achieve string repetition using the multiplication operator (*). "
   ]
  },
  {
   "cell_type": "markdown",
   "id": "3a532c3c",
   "metadata": {},
   "source": [
    "- To repeat a string multiple times, you can use the * operator followed by an integer that specifies the number of times you want to repeat the string.\n",
    "\n",
    "- The result is a new string that contains the original string repeated the specified number of times."
   ]
  },
  {
   "cell_type": "markdown",
   "id": "f5b56e25",
   "metadata": {},
   "source": [
    "    we will understand this with some examples"
   ]
  },
  {
   "cell_type": "code",
   "execution_count": 4,
   "id": "93799096",
   "metadata": {},
   "outputs": [
    {
     "data": {
      "text/plain": [
       "'like like like like like '"
      ]
     },
     "execution_count": 4,
     "metadata": {},
     "output_type": "execute_result"
    }
   ],
   "source": [
    "5 * 'like '"
   ]
  },
  {
   "cell_type": "markdown",
   "id": "642b337a",
   "metadata": {},
   "source": [
    "    In above example we are having string like repeated 5 times by using *"
   ]
  },
  {
   "cell_type": "code",
   "execution_count": 6,
   "id": "79f5f79d",
   "metadata": {},
   "outputs": [
    {
     "name": "stdout",
     "output_type": "stream",
     "text": [
      "subscribe subscribe subscribe subscribe subscribe subscribe subscribe subscribe subscribe subscribe \n"
     ]
    }
   ],
   "source": [
    "num = 10\n",
    "string = 'subscribe '\n",
    "result = num * string\n",
    "print(result)"
   ]
  },
  {
   "cell_type": "markdown",
   "id": "2fa9a22b",
   "metadata": {},
   "source": [
    "    Here we are using variables for same process"
   ]
  },
  {
   "cell_type": "markdown",
   "id": "6b882dee",
   "metadata": {},
   "source": [
    "- Let us understand with one more example"
   ]
  },
  {
   "cell_type": "code",
   "execution_count": 7,
   "id": "f24380d3",
   "metadata": {
    "scrolled": true
   },
   "outputs": [
    {
     "name": "stdout",
     "output_type": "stream",
     "text": [
      "like \n",
      "like like \n",
      "like like like \n",
      "like like like like \n",
      "like like like like like \n",
      "like like like like like like \n",
      "like like like like like like like \n",
      "like like like like like like like like \n",
      "like like like like like like like like like \n",
      "like like like like like like like like like like \n"
     ]
    }
   ],
   "source": [
    "string = 'like '\n",
    "num = 1\n",
    "while num <= 10:\n",
    "    print(num * string)\n",
    "    num += 1"
   ]
  }
 ],
 "metadata": {
  "kernelspec": {
   "display_name": "Python 3 (ipykernel)",
   "language": "python",
   "name": "python3"
  },
  "language_info": {
   "codemirror_mode": {
    "name": "ipython",
    "version": 3
   },
   "file_extension": ".py",
   "mimetype": "text/x-python",
   "name": "python",
   "nbconvert_exporter": "python",
   "pygments_lexer": "ipython3",
   "version": "3.9.12"
  }
 },
 "nbformat": 4,
 "nbformat_minor": 5
}
