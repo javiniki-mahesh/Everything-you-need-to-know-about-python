{
 "cells": [
  {
   "cell_type": "markdown",
   "id": "17c2c03c",
   "metadata": {},
   "source": [
    "# Everything you need to know about python\n",
    "## In simplest possible way"
   ]
  },
  {
   "cell_type": "markdown",
   "id": "3d8741d0",
   "metadata": {},
   "source": [
    "# Immutability of strings"
   ]
  },
  {
   "cell_type": "markdown",
   "id": "d0f3e12f",
   "metadata": {},
   "source": [
    "    String immutability in Python is a fundamental concept that means once you create a string object, its value cannot be changed. Instead of modifying an existing string, any operation that appears to modify a string creates a new string with the desired changes. "
   ]
  },
  {
   "cell_type": "markdown",
   "id": "34f969fe",
   "metadata": {},
   "source": [
    "In a nutshell:\n",
    "\n",
    "**Mutability** refers to the ability of an object to be modified after it is created. Objects that are mutable can have their values changed without creating entirely new objects.\n",
    "\n",
    "**Immutability** refers to the inability of an object to be modified after it is created. Objects that are immutable cannot have their values changed; instead, any operation that appears to modify them creates new objects with the desired changes."
   ]
  },
  {
   "cell_type": "markdown",
   "id": "975ab3e5",
   "metadata": {},
   "source": [
    "- First we understand how mutability works with list example then we go for immutability in strings"
   ]
  },
  {
   "cell_type": "code",
   "execution_count": 7,
   "id": "4778614e",
   "metadata": {},
   "outputs": [
    {
     "name": "stdout",
     "output_type": "stream",
     "text": [
      "[1, 2, 3, 4]\n",
      "before : 2447969624512\n",
      "[1, 22, 3, 4]\n",
      "after:  2447969624512\n"
     ]
    }
   ],
   "source": [
    "l = [1, 2, 3, 4]\n",
    "print(l)\n",
    "print('before :', id(l))\n",
    "l[1] = 22\n",
    "print(l)\n",
    "print('after: ', id(l))"
   ]
  },
  {
   "cell_type": "markdown",
   "id": "67f662b0",
   "metadata": {},
   "source": [
    "- In the above example we are having a list and we are taking an element using indexing and assigning a new value to that index.\n",
    "- Finally the value in the index got changed.\n",
    "- If we compare the memory address still we can see the same address."
   ]
  },
  {
   "cell_type": "markdown",
   "id": "fbbb96eb",
   "metadata": {},
   "source": [
    "If we try to do the same process with strings below"
   ]
  },
  {
   "cell_type": "code",
   "execution_count": 9,
   "id": "3c102669",
   "metadata": {},
   "outputs": [
    {
     "name": "stdout",
     "output_type": "stream",
     "text": [
      "SUBSCRIBE\n",
      "B\n"
     ]
    },
    {
     "ename": "TypeError",
     "evalue": "'str' object does not support item assignment",
     "output_type": "error",
     "traceback": [
      "\u001b[1;31m---------------------------------------------------------------------------\u001b[0m",
      "\u001b[1;31mTypeError\u001b[0m                                 Traceback (most recent call last)",
      "Input \u001b[1;32mIn [9]\u001b[0m, in \u001b[0;36m<cell line: 4>\u001b[1;34m()\u001b[0m\n\u001b[0;32m      2\u001b[0m \u001b[38;5;28mprint\u001b[39m(string)\n\u001b[0;32m      3\u001b[0m \u001b[38;5;28mprint\u001b[39m(string[\u001b[38;5;241m2\u001b[39m])\n\u001b[1;32m----> 4\u001b[0m string[\u001b[38;5;241m2\u001b[39m] \u001b[38;5;241m=\u001b[39m \u001b[38;5;124m'\u001b[39m\u001b[38;5;124mBBB\u001b[39m\u001b[38;5;124m'\u001b[39m\n",
      "\u001b[1;31mTypeError\u001b[0m: 'str' object does not support item assignment"
     ]
    }
   ],
   "source": [
    "string = 'SUBSCRIBE'\n",
    "print(string)\n",
    "print(string[2])\n",
    "string[2] = 'BBB'"
   ]
  },
  {
   "cell_type": "markdown",
   "id": "d9e40511",
   "metadata": {},
   "source": [
    "we are getting an error which otherwise means we can not change the data inside of a string"
   ]
  },
  {
   "cell_type": "markdown",
   "id": "0e36a963",
   "metadata": {},
   "source": [
    "# replace()"
   ]
  },
  {
   "cell_type": "markdown",
   "id": "fffe7ce4",
   "metadata": {},
   "source": [
    "    By using this replace we can change the elements or substring in a string"
   ]
  },
  {
   "cell_type": "markdown",
   "id": "eff9b214",
   "metadata": {},
   "source": [
    "- what? just we discussed we can not change the string data, how does it work?\n",
    "    - let us see how this replace() works"
   ]
  },
  {
   "cell_type": "code",
   "execution_count": 12,
   "id": "cff43fd6",
   "metadata": {},
   "outputs": [
    {
     "name": "stdout",
     "output_type": "stream",
     "text": [
      "subscribe\n"
     ]
    }
   ],
   "source": [
    "string = 'like'\n",
    "string2 = string.replace('like', 'subscribe')\n",
    "print(string2)"
   ]
  },
  {
   "cell_type": "markdown",
   "id": "52a2baa0",
   "metadata": {},
   "source": [
    "    In above we have a string which is like and by using replace we are changing that to subscribe"
   ]
  },
  {
   "cell_type": "markdown",
   "id": "b3c3dd16",
   "metadata": {},
   "source": [
    "- But if you carefully observe we are assigning that to another variable, which means the replace() method will create new object with replaced data and that object will be returned."
   ]
  },
  {
   "cell_type": "code",
   "execution_count": 14,
   "id": "11fe8706",
   "metadata": {},
   "outputs": [
    {
     "name": "stdout",
     "output_type": "stream",
     "text": [
      "likkke\n"
     ]
    }
   ],
   "source": [
    "like_string = 'like'\n",
    "kkk_string = like_string.replace('k', 'kkk')\n",
    "print(kkk_string)"
   ]
  },
  {
   "cell_type": "markdown",
   "id": "1472307d",
   "metadata": {},
   "source": [
    "     Here instead of whole string we are replaing part of it."
   ]
  },
  {
   "cell_type": "code",
   "execution_count": 17,
   "id": "993cddb2",
   "metadata": {},
   "outputs": [
    {
     "data": {
      "text/plain": [
       "'SubScribe'"
      ]
     },
     "execution_count": 17,
     "metadata": {},
     "output_type": "execute_result"
    }
   ],
   "source": [
    "subscribe_string = 'subscribe'\n",
    "subscribe_string.replace('s','S',2)"
   ]
  },
  {
   "cell_type": "markdown",
   "id": "04b82f09",
   "metadata": {},
   "source": [
    "    replace() method have another parameter which is count we specify the how many number of replacements we want in the string"
   ]
  },
  {
   "cell_type": "code",
   "execution_count": 20,
   "id": "37232e17",
   "metadata": {},
   "outputs": [
    {
     "data": {
      "text/plain": [
       "'ifyoufoundthis video interesting hit like and subscribe'"
      ]
     },
     "execution_count": 20,
     "metadata": {},
     "output_type": "execute_result"
    }
   ],
   "source": [
    "spaces_string = 'if you found this video interesting hit like and subscribe'\n",
    "spaces_string.replace(' ', '',3)"
   ]
  },
  {
   "cell_type": "code",
   "execution_count": 25,
   "id": "be81a291",
   "metadata": {},
   "outputs": [
    {
     "name": "stdout",
     "output_type": "stream",
     "text": [
      "before:  2447973327408\n",
      "2447995682160\n",
      "like\n",
      "after: 2447973327408\n"
     ]
    }
   ],
   "source": [
    "string = 'like'\n",
    "print('before: ',id(string))\n",
    "print(id(string.replace('like', 'subscribe')))\n",
    "print(string)\n",
    "print('after:', id(string))"
   ]
  },
  {
   "cell_type": "markdown",
   "id": "6066fa97",
   "metadata": {},
   "source": [
    "    Here we are checking the ids also to conform that the object getting from replace() is not same as the original object.\n",
    "\n",
    "    with this we can say strings are immutable we can not change string data, if we try to do with any methods a new object will be returned not the original object change."
   ]
  }
 ],
 "metadata": {
  "kernelspec": {
   "display_name": "Python 3 (ipykernel)",
   "language": "python",
   "name": "python3"
  },
  "language_info": {
   "codemirror_mode": {
    "name": "ipython",
    "version": 3
   },
   "file_extension": ".py",
   "mimetype": "text/x-python",
   "name": "python",
   "nbconvert_exporter": "python",
   "pygments_lexer": "ipython3",
   "version": "3.9.12"
  }
 },
 "nbformat": 4,
 "nbformat_minor": 5
}
