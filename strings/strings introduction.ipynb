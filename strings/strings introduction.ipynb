{
 "cells": [
  {
   "cell_type": "markdown",
   "id": "44359b43",
   "metadata": {},
   "source": [
    "# Everything you need to know about python\n",
    "## In simplest possible way"
   ]
  },
  {
   "cell_type": "markdown",
   "id": "2b0eeaad",
   "metadata": {},
   "source": [
    "# Strings introduction"
   ]
  },
  {
   "cell_type": "markdown",
   "id": "9dfb01ce",
   "metadata": {},
   "source": [
    "    A string is a data type used to represent a sequence of characters. \n",
    "    A string is one of the fundamental data types in Python and is commonly used for working with textual data. Here are some key characteristics and aspects of strings in Python:"
   ]
  },
  {
   "cell_type": "markdown",
   "id": "59f91d3d",
   "metadata": {},
   "source": [
    "    A string is defined as a sequence of characters enclosed within single quotes (' '), double quotes (\" \"), or triple quotes (''' ''' or \"\"\" \"\"\"). All these forms are valid for creating strings in Python."
   ]
  },
  {
   "cell_type": "markdown",
   "id": "bb1a7b88",
   "metadata": {},
   "source": [
    "### Creation of a string in single quotes (' ')"
   ]
  },
  {
   "cell_type": "code",
   "execution_count": 4,
   "id": "43751361",
   "metadata": {},
   "outputs": [
    {
     "name": "stdout",
     "output_type": "stream",
     "text": [
      "like\n",
      "<class 'str'>\n"
     ]
    }
   ],
   "source": [
    "string1 = 'like'\n",
    "print(string1)\n",
    "print(type(string1))"
   ]
  },
  {
   "cell_type": "markdown",
   "id": "98b8e25f",
   "metadata": {},
   "source": [
    "### Creation of a string in double quotes (\" \")"
   ]
  },
  {
   "cell_type": "code",
   "execution_count": 7,
   "id": "04c01a71",
   "metadata": {
    "scrolled": true
   },
   "outputs": [
    {
     "name": "stdout",
     "output_type": "stream",
     "text": [
      "subscribe this channel\n",
      "<class 'str'>\n"
     ]
    }
   ],
   "source": [
    "string2 = \"subscribe this channel\"\n",
    "print(string2)\n",
    "print(type(string2))"
   ]
  },
  {
   "cell_type": "markdown",
   "id": "62cc0a8d",
   "metadata": {},
   "source": [
    "### Creation of a string in triple quotes (''' ''' or \"\"\" \"\"\")"
   ]
  },
  {
   "cell_type": "code",
   "execution_count": 10,
   "id": "67056898",
   "metadata": {
    "scrolled": true
   },
   "outputs": [
    {
     "name": "stdout",
     "output_type": "stream",
     "text": [
      "If you found this video intresting\n",
      "<class 'str'>\n"
     ]
    }
   ],
   "source": [
    "string3 = \"\"\"If you found this video intresting\"\"\"\n",
    "print(string3)\n",
    "print(type(string3))"
   ]
  },
  {
   "cell_type": "markdown",
   "id": "f65d6604",
   "metadata": {},
   "source": [
    "    If you try to mention a string in more than one line using single quotes (' ') or double quotes (\" \") you will get an error:"
   ]
  },
  {
   "cell_type": "code",
   "execution_count": 12,
   "id": "e136e368",
   "metadata": {
    "scrolled": true
   },
   "outputs": [
    {
     "ename": "SyntaxError",
     "evalue": "EOL while scanning string literal (658432969.py, line 1)",
     "output_type": "error",
     "traceback": [
      "\u001b[1;36m  Input \u001b[1;32mIn [12]\u001b[1;36m\u001b[0m\n\u001b[1;33m    multiline_string = 'Are\u001b[0m\n\u001b[1;37m                           ^\u001b[0m\n\u001b[1;31mSyntaxError\u001b[0m\u001b[1;31m:\u001b[0m EOL while scanning string literal\n"
     ]
    }
   ],
   "source": [
    "multiline_string = 'Are\n",
    "you\n",
    "understanding'"
   ]
  },
  {
   "cell_type": "code",
   "execution_count": 13,
   "id": "bb7715f1",
   "metadata": {
    "scrolled": true
   },
   "outputs": [
    {
     "ename": "SyntaxError",
     "evalue": "EOL while scanning string literal (1640336371.py, line 1)",
     "output_type": "error",
     "traceback": [
      "\u001b[1;36m  Input \u001b[1;32mIn [13]\u001b[1;36m\u001b[0m\n\u001b[1;33m    multiline_string = \"Are\u001b[0m\n\u001b[1;37m                           ^\u001b[0m\n\u001b[1;31mSyntaxError\u001b[0m\u001b[1;31m:\u001b[0m EOL while scanning string literal\n"
     ]
    }
   ],
   "source": [
    "multiline_string = \"Are\n",
    "you\n",
    "understanding\""
   ]
  },
  {
   "cell_type": "markdown",
   "id": "4cdd22e0",
   "metadata": {},
   "source": [
    "    The error is telling like you have only mentioned a single ' or \"."
   ]
  },
  {
   "cell_type": "markdown",
   "id": "1edb47ad",
   "metadata": {},
   "source": [
    "    So to mention multiline string we use triple quotes (''' ''' or \"\"\" \"\"\")"
   ]
  },
  {
   "cell_type": "code",
   "execution_count": 11,
   "id": "88bd78bf",
   "metadata": {},
   "outputs": [
    {
     "name": "stdout",
     "output_type": "stream",
     "text": [
      "something\n",
      "in \n",
      "here\n"
     ]
    }
   ],
   "source": [
    "string4 = '''something\n",
    "in \n",
    "here'''\n",
    "type(string4)\n",
    "print(string4)"
   ]
  },
  {
   "cell_type": "markdown",
   "id": "d507f20d",
   "metadata": {},
   "source": [
    "    Not just characters, anything you mention inside of a single quotes (' '), double quotes (\" \"), or triple quotes (''' ''' or \"\"\" \"\"\") considered as a string\n",
    "\n",
    "    Understand with below example"
   ]
  },
  {
   "cell_type": "code",
   "execution_count": 18,
   "id": "ee7c7c1e",
   "metadata": {},
   "outputs": [
    {
     "name": "stdout",
     "output_type": "stream",
     "text": [
      "[1, 2, 3, 4]\n",
      "<class 'list'>\n"
     ]
    }
   ],
   "source": [
    "l = [1,2,3,4]\n",
    "print(l)\n",
    "print(type(l))"
   ]
  },
  {
   "cell_type": "markdown",
   "id": "84358c19",
   "metadata": {},
   "source": [
    "    Above we are having a list we are printing list and it's type"
   ]
  },
  {
   "cell_type": "code",
   "execution_count": 19,
   "id": "2e29c21c",
   "metadata": {},
   "outputs": [
    {
     "name": "stdout",
     "output_type": "stream",
     "text": [
      "[1,2,3,4]\n",
      "<class 'str'>\n"
     ]
    }
   ],
   "source": [
    "string_list = '[1,2,3,4]'\n",
    "print(string_list)\n",
    "print(type(string_list))"
   ]
  },
  {
   "cell_type": "markdown",
   "id": "524dd090",
   "metadata": {},
   "source": [
    "    Now, in above we have a list inside a single quotes (' ') because of that reason though it is a list internally but we are getting the type as str"
   ]
  },
  {
   "cell_type": "markdown",
   "id": "b6870e90",
   "metadata": {},
   "source": [
    "    Not just that anything you mention inside of a single quotes (' '), double quotes (\" \"), or triple quotes (''' ''' or \"\"\" \"\"\") considered as a string"
   ]
  },
  {
   "cell_type": "code",
   "execution_count": 21,
   "id": "866837a5",
   "metadata": {},
   "outputs": [
    {
     "name": "stdout",
     "output_type": "stream",
     "text": [
      "This is print\n"
     ]
    },
    {
     "data": {
      "text/plain": [
       "NoneType"
      ]
     },
     "execution_count": 21,
     "metadata": {},
     "output_type": "execute_result"
    }
   ],
   "source": [
    "type(print('This is print'))"
   ]
  },
  {
   "cell_type": "code",
   "execution_count": 22,
   "id": "b7bd2d72",
   "metadata": {},
   "outputs": [
    {
     "data": {
      "text/plain": [
       "str"
      ]
     },
     "execution_count": 22,
     "metadata": {},
     "output_type": "execute_result"
    }
   ],
   "source": [
    "type(\"print('This is print')\")"
   ]
  },
  {
   "cell_type": "markdown",
   "id": "8162575d",
   "metadata": {},
   "source": [
    "    here we have a print statement, if we mention that in a double quotes (\" \") it became a str"
   ]
  }
 ],
 "metadata": {
  "kernelspec": {
   "display_name": "Python 3 (ipykernel)",
   "language": "python",
   "name": "python3"
  },
  "language_info": {
   "codemirror_mode": {
    "name": "ipython",
    "version": 3
   },
   "file_extension": ".py",
   "mimetype": "text/x-python",
   "name": "python",
   "nbconvert_exporter": "python",
   "pygments_lexer": "ipython3",
   "version": "3.9.12"
  }
 },
 "nbformat": 4,
 "nbformat_minor": 5
}
