{
 "cells": [
  {
   "cell_type": "markdown",
   "id": "f3e91b4d",
   "metadata": {},
   "source": [
    "# Everything you need to know about python\n",
    "## In simplest possible way"
   ]
  },
  {
   "cell_type": "markdown",
   "id": "885ba668",
   "metadata": {},
   "source": [
    "# find()"
   ]
  },
  {
   "cell_type": "markdown",
   "id": "931a2e4a",
   "metadata": {},
   "source": [
    "    1. find(substring, start, end) Method:\n",
    "\n",
    "        - The find() method is used to search for the first occurrence of a substring (substring) within the given string (str).\n",
    "        - It returns the index of the first occurrence of the substring, or -1 if the substring is not found.\n",
    "        - You can also specify optional start and end parameters to limit the search within a specific range of the string."
   ]
  },
  {
   "cell_type": "code",
   "execution_count": 3,
   "id": "54f62eb9",
   "metadata": {},
   "outputs": [
    {
     "data": {
      "text/plain": [
       "3"
      ]
     },
     "execution_count": 3,
     "metadata": {},
     "output_type": "execute_result"
    }
   ],
   "source": [
    "string = 'SUBSCRIBE'\n",
    "string.find('SC')"
   ]
  },
  {
   "cell_type": "code",
   "execution_count": 4,
   "id": "83911155",
   "metadata": {},
   "outputs": [
    {
     "data": {
      "text/plain": [
       "-1"
      ]
     },
     "execution_count": 4,
     "metadata": {},
     "output_type": "execute_result"
    }
   ],
   "source": [
    "string = 'SUBSCRIBE'\n",
    "string.find('SE')"
   ]
  },
  {
   "cell_type": "code",
   "execution_count": 5,
   "id": "8c0c8ed2",
   "metadata": {},
   "outputs": [
    {
     "data": {
      "text/plain": [
       "11"
      ]
     },
     "execution_count": 5,
     "metadata": {},
     "output_type": "execute_result"
    }
   ],
   "source": [
    "string1 = 'This video is intersting'\n",
    "string1.find('is', 5, 13)"
   ]
  },
  {
   "cell_type": "markdown",
   "id": "0bf1ebe5",
   "metadata": {},
   "source": [
    "# rfind()"
   ]
  },
  {
   "cell_type": "markdown",
   "id": "cbd2eb9a",
   "metadata": {},
   "source": [
    "    2. rfind(substring, start, end) Method:\n",
    "\n",
    "        - The rfind() method is similar to find() but searches for the last occurrence of a substring within the string.\n",
    "        - It returns the index of the last occurrence of the substring, or -1 if the substring is not found.\n",
    "        - The optional start and end parameters can be used to limit the search range."
   ]
  },
  {
   "cell_type": "code",
   "execution_count": 7,
   "id": "3af0f234",
   "metadata": {},
   "outputs": [
    {
     "data": {
      "text/plain": [
       "3"
      ]
     },
     "execution_count": 7,
     "metadata": {},
     "output_type": "execute_result"
    }
   ],
   "source": [
    "string = 'SUBSCRIBE'\n",
    "string.rfind('S')"
   ]
  },
  {
   "cell_type": "code",
   "execution_count": 8,
   "id": "8cb637b1",
   "metadata": {},
   "outputs": [
    {
     "data": {
      "text/plain": [
       "-1"
      ]
     },
     "execution_count": 8,
     "metadata": {},
     "output_type": "execute_result"
    }
   ],
   "source": [
    "string = 'SUBSCRIBE'\n",
    "string.rfind('SE')"
   ]
  },
  {
   "cell_type": "code",
   "execution_count": 9,
   "id": "893be7cf",
   "metadata": {},
   "outputs": [
    {
     "data": {
      "text/plain": [
       "2"
      ]
     },
     "execution_count": 9,
     "metadata": {},
     "output_type": "execute_result"
    }
   ],
   "source": [
    "string1 = 'This video is intersting'\n",
    "string1.rfind('is',0, 5)"
   ]
  },
  {
   "cell_type": "markdown",
   "id": "5c997700",
   "metadata": {},
   "source": [
    "# index()"
   ]
  },
  {
   "cell_type": "markdown",
   "id": "e1f95de0",
   "metadata": {},
   "source": [
    "3. index(substring, start, end) Method:\n",
    "\n",
    "    - The index() method is similar to find() but raises a **ValueError** exception if the substring is not found.\n",
    "    - It returns the index of the first occurrence of the substring.\n",
    "    - You can specify optional start and end parameters to limit the search."
   ]
  },
  {
   "cell_type": "code",
   "execution_count": 11,
   "id": "4692857a",
   "metadata": {},
   "outputs": [
    {
     "data": {
      "text/plain": [
       "0"
      ]
     },
     "execution_count": 11,
     "metadata": {},
     "output_type": "execute_result"
    }
   ],
   "source": [
    "string = 'SUBSCRIBE'\n",
    "string.index('S')"
   ]
  },
  {
   "cell_type": "code",
   "execution_count": 12,
   "id": "cd4f142f",
   "metadata": {
    "scrolled": false
   },
   "outputs": [
    {
     "ename": "ValueError",
     "evalue": "substring not found",
     "output_type": "error",
     "traceback": [
      "\u001b[1;31m---------------------------------------------------------------------------\u001b[0m",
      "\u001b[1;31mValueError\u001b[0m                                Traceback (most recent call last)",
      "Input \u001b[1;32mIn [12]\u001b[0m, in \u001b[0;36m<cell line: 2>\u001b[1;34m()\u001b[0m\n\u001b[0;32m      1\u001b[0m string \u001b[38;5;241m=\u001b[39m \u001b[38;5;124m'\u001b[39m\u001b[38;5;124mSUBSCRIBE\u001b[39m\u001b[38;5;124m'\u001b[39m\n\u001b[1;32m----> 2\u001b[0m \u001b[43mstring\u001b[49m\u001b[38;5;241;43m.\u001b[39;49m\u001b[43mindex\u001b[49m\u001b[43m(\u001b[49m\u001b[38;5;124;43m'\u001b[39;49m\u001b[38;5;124;43mSE\u001b[39;49m\u001b[38;5;124;43m'\u001b[39;49m\u001b[43m)\u001b[49m\n",
      "\u001b[1;31mValueError\u001b[0m: substring not found"
     ]
    }
   ],
   "source": [
    "string = 'SUBSCRIBE'\n",
    "string.index('SE')"
   ]
  },
  {
   "cell_type": "code",
   "execution_count": 13,
   "id": "e8702af0",
   "metadata": {},
   "outputs": [
    {
     "data": {
      "text/plain": [
       "11"
      ]
     },
     "execution_count": 13,
     "metadata": {},
     "output_type": "execute_result"
    }
   ],
   "source": [
    "string1 = 'This video is intersting'\n",
    "string1.index('is',4,13)"
   ]
  },
  {
   "cell_type": "code",
   "execution_count": 14,
   "id": "a119d3a2",
   "metadata": {},
   "outputs": [
    {
     "ename": "ValueError",
     "evalue": "substring not found",
     "output_type": "error",
     "traceback": [
      "\u001b[1;31m---------------------------------------------------------------------------\u001b[0m",
      "\u001b[1;31mValueError\u001b[0m                                Traceback (most recent call last)",
      "Input \u001b[1;32mIn [14]\u001b[0m, in \u001b[0;36m<cell line: 2>\u001b[1;34m()\u001b[0m\n\u001b[0;32m      1\u001b[0m string1 \u001b[38;5;241m=\u001b[39m \u001b[38;5;124m'\u001b[39m\u001b[38;5;124mThis video is intersting\u001b[39m\u001b[38;5;124m'\u001b[39m\n\u001b[1;32m----> 2\u001b[0m \u001b[43mstring1\u001b[49m\u001b[38;5;241;43m.\u001b[39;49m\u001b[43mindex\u001b[49m\u001b[43m(\u001b[49m\u001b[38;5;124;43m'\u001b[39;49m\u001b[38;5;124;43mis\u001b[39;49m\u001b[38;5;124;43m'\u001b[39;49m\u001b[43m,\u001b[49m\u001b[38;5;241;43m4\u001b[39;49m\u001b[43m,\u001b[49m\u001b[38;5;241;43m12\u001b[39;49m\u001b[43m)\u001b[49m\n",
      "\u001b[1;31mValueError\u001b[0m: substring not found"
     ]
    }
   ],
   "source": [
    "string1 = 'This video is intersting'\n",
    "string1.index('is',4,12)"
   ]
  },
  {
   "cell_type": "markdown",
   "id": "0eeab227",
   "metadata": {},
   "source": [
    "# rindex()"
   ]
  },
  {
   "cell_type": "markdown",
   "id": "e115314b",
   "metadata": {},
   "source": [
    "4. rindex(substring, start, end) Method:\n",
    "\n",
    "    - The rindex() method is similar to index() but searches for the last occurrence of a substring within the string.\n",
    "    - It returns the index of the last occurrence of the substring.\n",
    "    - Optional start and end parameters can limit the search range.\n",
    "    - If the substring is not found, it raises a ValueError exception."
   ]
  },
  {
   "cell_type": "code",
   "execution_count": 16,
   "id": "9218fb69",
   "metadata": {},
   "outputs": [
    {
     "data": {
      "text/plain": [
       "3"
      ]
     },
     "execution_count": 16,
     "metadata": {},
     "output_type": "execute_result"
    }
   ],
   "source": [
    "string = 'SUBSCRIBE'\n",
    "string.rindex('S')"
   ]
  },
  {
   "cell_type": "code",
   "execution_count": 17,
   "id": "2f84489f",
   "metadata": {},
   "outputs": [
    {
     "ename": "ValueError",
     "evalue": "substring not found",
     "output_type": "error",
     "traceback": [
      "\u001b[1;31m---------------------------------------------------------------------------\u001b[0m",
      "\u001b[1;31mValueError\u001b[0m                                Traceback (most recent call last)",
      "Input \u001b[1;32mIn [17]\u001b[0m, in \u001b[0;36m<cell line: 2>\u001b[1;34m()\u001b[0m\n\u001b[0;32m      1\u001b[0m string \u001b[38;5;241m=\u001b[39m \u001b[38;5;124m'\u001b[39m\u001b[38;5;124mSUBSCRIBE\u001b[39m\u001b[38;5;124m'\u001b[39m\n\u001b[1;32m----> 2\u001b[0m \u001b[43mstring\u001b[49m\u001b[38;5;241;43m.\u001b[39;49m\u001b[43mrindex\u001b[49m\u001b[43m(\u001b[49m\u001b[38;5;124;43m'\u001b[39;49m\u001b[38;5;124;43mSE\u001b[39;49m\u001b[38;5;124;43m'\u001b[39;49m\u001b[43m)\u001b[49m\n",
      "\u001b[1;31mValueError\u001b[0m: substring not found"
     ]
    }
   ],
   "source": [
    "string = 'SUBSCRIBE'\n",
    "string.rindex('SE')"
   ]
  },
  {
   "cell_type": "code",
   "execution_count": 18,
   "id": "23f9391f",
   "metadata": {},
   "outputs": [
    {
     "data": {
      "text/plain": [
       "2"
      ]
     },
     "execution_count": 18,
     "metadata": {},
     "output_type": "execute_result"
    }
   ],
   "source": [
    "string1 = 'This video is intersting'\n",
    "string1.rindex('is',1,5)"
   ]
  },
  {
   "cell_type": "code",
   "execution_count": 19,
   "id": "78547557",
   "metadata": {},
   "outputs": [
    {
     "ename": "ValueError",
     "evalue": "substring not found",
     "output_type": "error",
     "traceback": [
      "\u001b[1;31m---------------------------------------------------------------------------\u001b[0m",
      "\u001b[1;31mValueError\u001b[0m                                Traceback (most recent call last)",
      "Input \u001b[1;32mIn [19]\u001b[0m, in \u001b[0;36m<cell line: 2>\u001b[1;34m()\u001b[0m\n\u001b[0;32m      1\u001b[0m string1 \u001b[38;5;241m=\u001b[39m \u001b[38;5;124m'\u001b[39m\u001b[38;5;124mThis video is intersting\u001b[39m\u001b[38;5;124m'\u001b[39m\n\u001b[1;32m----> 2\u001b[0m \u001b[43mstring1\u001b[49m\u001b[38;5;241;43m.\u001b[39;49m\u001b[43mrindex\u001b[49m\u001b[43m(\u001b[49m\u001b[38;5;124;43m'\u001b[39;49m\u001b[38;5;124;43mis\u001b[39;49m\u001b[38;5;124;43m'\u001b[39;49m\u001b[43m,\u001b[49m\u001b[38;5;241;43m3\u001b[39;49m\u001b[43m,\u001b[49m\u001b[38;5;241;43m5\u001b[39;49m\u001b[43m)\u001b[49m\n",
      "\u001b[1;31mValueError\u001b[0m: substring not found"
     ]
    }
   ],
   "source": [
    "string1 = 'This video is intersting'\n",
    "string1.rindex('is',3,5)"
   ]
  }
 ],
 "metadata": {
  "kernelspec": {
   "display_name": "Python 3 (ipykernel)",
   "language": "python",
   "name": "python3"
  },
  "language_info": {
   "codemirror_mode": {
    "name": "ipython",
    "version": 3
   },
   "file_extension": ".py",
   "mimetype": "text/x-python",
   "name": "python",
   "nbconvert_exporter": "python",
   "pygments_lexer": "ipython3",
   "version": "3.9.12"
  }
 },
 "nbformat": 4,
 "nbformat_minor": 5
}
