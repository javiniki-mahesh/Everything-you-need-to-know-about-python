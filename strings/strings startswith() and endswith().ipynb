{
 "cells": [
  {
   "cell_type": "markdown",
   "id": "c8f5e762",
   "metadata": {},
   "source": [
    "# Everything you need to know about python\n",
    "## In simplest possible way"
   ]
  },
  {
   "cell_type": "markdown",
   "id": "3fe70adc",
   "metadata": {},
   "source": [
    "# startswith()"
   ]
  },
  {
   "cell_type": "markdown",
   "id": "ec32ff30",
   "metadata": {},
   "source": [
    "startswith(substring[, start[, end]]) Method:\n",
    "\n",
    "- The startswith() method checks whether a string begins with a specified substring (substring).\n",
    "- It returns True if the string starts with the specified substring, and False otherwise.\n",
    "- You can also specify optional start and end parameters to limit the search to a specific range within the string.\n",
    "- This method is case-sensitive, meaning it distinguishes between uppercase and lowercase characters."
   ]
  },
  {
   "cell_type": "code",
   "execution_count": 2,
   "id": "81efa43d",
   "metadata": {},
   "outputs": [
    {
     "data": {
      "text/plain": [
       "True"
      ]
     },
     "execution_count": 2,
     "metadata": {},
     "output_type": "execute_result"
    }
   ],
   "source": [
    "string = 'SUBSCRIBE'\n",
    "string.startswith('S')"
   ]
  },
  {
   "cell_type": "code",
   "execution_count": 3,
   "id": "cd4bc258",
   "metadata": {},
   "outputs": [
    {
     "data": {
      "text/plain": [
       "False"
      ]
     },
     "execution_count": 3,
     "metadata": {},
     "output_type": "execute_result"
    }
   ],
   "source": [
    "string = 'SUBSCRIBE'\n",
    "string.startswith('SC')"
   ]
  },
  {
   "cell_type": "code",
   "execution_count": 4,
   "id": "32fa89fe",
   "metadata": {},
   "outputs": [
    {
     "data": {
      "text/plain": [
       "True"
      ]
     },
     "execution_count": 4,
     "metadata": {},
     "output_type": "execute_result"
    }
   ],
   "source": [
    "string = 'SUBSCRIBE'\n",
    "string.startswith('SU')"
   ]
  },
  {
   "cell_type": "code",
   "execution_count": 5,
   "id": "c499ef89",
   "metadata": {},
   "outputs": [
    {
     "data": {
      "text/plain": [
       "False"
      ]
     },
     "execution_count": 5,
     "metadata": {},
     "output_type": "execute_result"
    }
   ],
   "source": [
    "string = 'SUBSCRIBE'\n",
    "string.startswith('SU', 3, 6)"
   ]
  },
  {
   "cell_type": "code",
   "execution_count": 6,
   "id": "0915d3c7",
   "metadata": {},
   "outputs": [
    {
     "data": {
      "text/plain": [
       "True"
      ]
     },
     "execution_count": 6,
     "metadata": {},
     "output_type": "execute_result"
    }
   ],
   "source": [
    "string = 'SUBSCRIBE'\n",
    "string.startswith('SU', 0, 6)"
   ]
  },
  {
   "cell_type": "code",
   "execution_count": 32,
   "id": "3299db63",
   "metadata": {},
   "outputs": [
    {
     "name": "stdout",
     "output_type": "stream",
     "text": [
      "ENter sub string: woman\n",
      "Not good input\n"
     ]
    }
   ],
   "source": [
    "string1 = 'Boys are intelligent'\n",
    "string2 = 'Girls are Beautiful'\n",
    "sub = input('ENter sub string: ')\n",
    "if string1.startswith(sub):\n",
    "    print(string1)\n",
    "elif string2.startswith(sub):\n",
    "    print(string2)\n",
    "else:\n",
    "    print('Not good input')"
   ]
  },
  {
   "cell_type": "markdown",
   "id": "d6968619",
   "metadata": {},
   "source": [
    "# endswith()"
   ]
  },
  {
   "cell_type": "markdown",
   "id": "593b88c1",
   "metadata": {},
   "source": [
    "endswith(substring[, start[, end]]) Method:\n",
    "- The endswith() method checks whether a string ends with a specified substring (substring).\n",
    "- It returns True if the string ends with the specified substring, and False otherwise.\n",
    "- Like startswith(), you can specify optional start and end parameters to limit the search to a specific range within the string.\n",
    "- This method is also case-sensitive."
   ]
  },
  {
   "cell_type": "code",
   "execution_count": 9,
   "id": "a1411dc5",
   "metadata": {},
   "outputs": [
    {
     "data": {
      "text/plain": [
       "False"
      ]
     },
     "execution_count": 9,
     "metadata": {},
     "output_type": "execute_result"
    }
   ],
   "source": [
    "string = 'SUBSCRIBE'\n",
    "string.endswith('C')"
   ]
  },
  {
   "cell_type": "code",
   "execution_count": 10,
   "id": "7e11df48",
   "metadata": {},
   "outputs": [
    {
     "data": {
      "text/plain": [
       "True"
      ]
     },
     "execution_count": 10,
     "metadata": {},
     "output_type": "execute_result"
    }
   ],
   "source": [
    "string = 'SUBSCRIBE'\n",
    "string.endswith('E')"
   ]
  },
  {
   "cell_type": "code",
   "execution_count": 11,
   "id": "da1ad1e5",
   "metadata": {},
   "outputs": [
    {
     "data": {
      "text/plain": [
       "True"
      ]
     },
     "execution_count": 11,
     "metadata": {},
     "output_type": "execute_result"
    }
   ],
   "source": [
    "string = 'SUBSCRIBE'\n",
    "string.endswith('E', 2)"
   ]
  },
  {
   "cell_type": "code",
   "execution_count": 28,
   "id": "59c3dc74",
   "metadata": {},
   "outputs": [
    {
     "data": {
      "text/plain": [
       "True"
      ]
     },
     "execution_count": 28,
     "metadata": {},
     "output_type": "execute_result"
    }
   ],
   "source": [
    "string = 'SUBSCRIBE'\n",
    "string.endswith('C', 2, 5)"
   ]
  },
  {
   "cell_type": "code",
   "execution_count": 12,
   "id": "d6bec7b0",
   "metadata": {},
   "outputs": [
    {
     "data": {
      "text/plain": [
       "False"
      ]
     },
     "execution_count": 12,
     "metadata": {},
     "output_type": "execute_result"
    }
   ],
   "source": [
    "string = 'SUBSCRIBE'\n",
    "string.endswith('E', 2, 5)"
   ]
  },
  {
   "cell_type": "code",
   "execution_count": 35,
   "id": "cb5db4a3",
   "metadata": {},
   "outputs": [
    {
     "name": "stdout",
     "output_type": "stream",
     "text": [
      "Enter sub string: man\n",
      "not good input\n"
     ]
    }
   ],
   "source": [
    "string1 = 'He is a good boy'\n",
    "string2 = 'She is a beautiful girl'\n",
    "sub = input('Enter sub string: ')\n",
    "if string1.endswith(sub):\n",
    "    print(string1)\n",
    "elif string2.endswith(sub):\n",
    "    print(string2)\n",
    "else:\n",
    "    print('not good input')"
   ]
  }
 ],
 "metadata": {
  "kernelspec": {
   "display_name": "Python 3 (ipykernel)",
   "language": "python",
   "name": "python3"
  },
  "language_info": {
   "codemirror_mode": {
    "name": "ipython",
    "version": 3
   },
   "file_extension": ".py",
   "mimetype": "text/x-python",
   "name": "python",
   "nbconvert_exporter": "python",
   "pygments_lexer": "ipython3",
   "version": "3.9.12"
  }
 },
 "nbformat": 4,
 "nbformat_minor": 5
}
