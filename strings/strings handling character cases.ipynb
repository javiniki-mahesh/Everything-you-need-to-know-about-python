{
 "cells": [
  {
   "cell_type": "markdown",
   "id": "8002bf19",
   "metadata": {},
   "source": [
    "# Everything you need to know about python\n",
    "## In simplest possible way"
   ]
  },
  {
   "cell_type": "markdown",
   "id": "c93c7937",
   "metadata": {},
   "source": [
    "# handling character cases"
   ]
  },
  {
   "cell_type": "markdown",
   "id": "9f85bc37",
   "metadata": {},
   "source": [
    "# upper()"
   ]
  },
  {
   "cell_type": "markdown",
   "id": "3a934d56",
   "metadata": {},
   "source": [
    "- The upper() method returns a new string with all alphabetic characters converted to uppercase."
   ]
  },
  {
   "cell_type": "code",
   "execution_count": 10,
   "id": "d6c3f20b",
   "metadata": {},
   "outputs": [
    {
     "name": "stdout",
     "output_type": "stream",
     "text": [
      "Enter text: have you liked\n",
      "upper result:  HAVE YOU LIKED\n"
     ]
    }
   ],
   "source": [
    "string = input('Enter text: ')\n",
    "upper_sting = string.upper()\n",
    "print('upper result: ', upper_sting)"
   ]
  },
  {
   "cell_type": "markdown",
   "id": "ff0ceab7",
   "metadata": {},
   "source": [
    "# lower()"
   ]
  },
  {
   "cell_type": "markdown",
   "id": "073b93fb",
   "metadata": {},
   "source": [
    "- The lower() method returns a new string with all alphabetic characters converted to lowercase."
   ]
  },
  {
   "cell_type": "code",
   "execution_count": 13,
   "id": "e2a78756",
   "metadata": {},
   "outputs": [
    {
     "name": "stdout",
     "output_type": "stream",
     "text": [
      "Enter text: ARE YOU ENJOYING THIS VIDEO\n",
      "lower string:  are you enjoying this video\n"
     ]
    }
   ],
   "source": [
    "string = input('Enter text: ')\n",
    "lower_string = string.lower()\n",
    "print('lower string: ',lower_string)"
   ]
  },
  {
   "cell_type": "markdown",
   "id": "a7114aea",
   "metadata": {},
   "source": [
    "# capitalize()"
   ]
  },
  {
   "cell_type": "markdown",
   "id": "53b71e7f",
   "metadata": {},
   "source": [
    "- The capitalize() method returns a new string with the first character of the string capitalized, and all other characters in lowercase."
   ]
  },
  {
   "cell_type": "code",
   "execution_count": 15,
   "id": "97621111",
   "metadata": {},
   "outputs": [
    {
     "name": "stdout",
     "output_type": "stream",
     "text": [
      "Enter text: comment HERE\n",
      "cap: Comment here\n"
     ]
    }
   ],
   "source": [
    "string = input('Enter text: ')\n",
    "cap_string = string.capitalize()\n",
    "print('cap:', cap_string)"
   ]
  },
  {
   "cell_type": "markdown",
   "id": "ae0fab65",
   "metadata": {},
   "source": [
    "# title()"
   ]
  },
  {
   "cell_type": "markdown",
   "id": "0833c714",
   "metadata": {},
   "source": [
    "- The title() method returns a new string where the first character of each word is capitalized, and all other characters are in lowercase."
   ]
  },
  {
   "cell_type": "code",
   "execution_count": 17,
   "id": "1b2d95d7",
   "metadata": {},
   "outputs": [
    {
     "name": "stdout",
     "output_type": "stream",
     "text": [
      "Enter text: SHARE WITH YOUR FRIENDS\n",
      "title:  Share With Your Friends\n"
     ]
    }
   ],
   "source": [
    "string = input('Enter text: ')\n",
    "title_str = string.title()\n",
    "print('title: ', title_str)"
   ]
  },
  {
   "cell_type": "markdown",
   "id": "e6aae3a0",
   "metadata": {},
   "source": [
    "# swapcase()"
   ]
  },
  {
   "cell_type": "markdown",
   "id": "adad82ca",
   "metadata": {},
   "source": [
    "- The swapcase() method returns a new string where uppercase characters are converted to lowercase, and vice versa."
   ]
  },
  {
   "cell_type": "code",
   "execution_count": 18,
   "id": "2a1c0efe",
   "metadata": {},
   "outputs": [
    {
     "name": "stdout",
     "output_type": "stream",
     "text": [
      "Enter text: Hello HoW are You\n",
      "swap:  hELLO hOw ARE yOU\n"
     ]
    }
   ],
   "source": [
    "string = input('Enter text: ')\n",
    "swap_string = string.swapcase()\n",
    "print('swap: ', swap_string)"
   ]
  },
  {
   "cell_type": "markdown",
   "id": "3fed9f4c",
   "metadata": {},
   "source": [
    "# casefold()"
   ]
  },
  {
   "cell_type": "markdown",
   "id": "4732690c",
   "metadata": {},
   "source": [
    "- The casefold() method returns a new string that's suitable for case-insensitive comparisons. It's similar to lower(), but it can handle special cases better, especially for non-ASCII characters."
   ]
  },
  {
   "cell_type": "code",
   "execution_count": 8,
   "id": "65edd7ee",
   "metadata": {},
   "outputs": [
    {
     "name": "stdout",
     "output_type": "stream",
     "text": [
      "Enter text: THANKS\n",
      "thanks\n"
     ]
    }
   ],
   "source": [
    "string = input('Enter text: ')\n",
    "case_sting = string.casefold()\n",
    "print(case_sting)"
   ]
  },
  {
   "cell_type": "code",
   "execution_count": 20,
   "id": "90466e2c",
   "metadata": {
    "scrolled": true
   },
   "outputs": [
    {
     "name": "stdout",
     "output_type": "stream",
     "text": [
      "Enter text: Straße\n",
      "strasse\n"
     ]
    }
   ],
   "source": [
    "string = input('Enter text: ')\n",
    "case_sting = string.casefold()\n",
    "print(case_sting)"
   ]
  }
 ],
 "metadata": {
  "kernelspec": {
   "display_name": "Python 3 (ipykernel)",
   "language": "python",
   "name": "python3"
  },
  "language_info": {
   "codemirror_mode": {
    "name": "ipython",
    "version": 3
   },
   "file_extension": ".py",
   "mimetype": "text/x-python",
   "name": "python",
   "nbconvert_exporter": "python",
   "pygments_lexer": "ipython3",
   "version": "3.9.12"
  }
 },
 "nbformat": 4,
 "nbformat_minor": 5
}
