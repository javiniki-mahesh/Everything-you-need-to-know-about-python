{
 "cells": [
  {
   "cell_type": "markdown",
   "id": "95c4d517",
   "metadata": {},
   "source": [
    "# Variables / Identifiers"
   ]
  },
  {
   "cell_type": "markdown",
   "id": "b4b5fedf",
   "metadata": {},
   "source": [
    "    In Python, variables are used to store data values. They act as containers that hold information, such as numbers, strings, lists, dictionaries, and other objects. Unlike some other programming languages, Python does not require explicit declaration of variables with a specific data type. Instead, the data type of a variable is determined dynamically based on the value it is assigned."
   ]
  },
  {
   "cell_type": "markdown",
   "id": "b1bdb125",
   "metadata": {},
   "source": [
    "    To create a variable in Python, you simply assign a value to it using the assignment operator =. Here's the general syntax for creating a variable:\n",
    "        variable_name = value\n"
   ]
  },
  {
   "cell_type": "markdown",
   "id": "94a66da7",
   "metadata": {},
   "source": [
    "In Python, there are some conditions and rules that you should follow when defining variables:\n",
    "\n",
    "### 1. **Valid Variable Names**: Variable names can contain letters (a-z, A-Z), digits (0-9), and underscores (_). \n",
    "\n",
    "### 2. **No Spaces or Special Characters**: Variable names cannot contain spaces or special characters such as !, @, #, $, %, etc. The only allowed special character is an underscore (_).\n"
   ]
  },
  {
   "cell_type": "code",
   "execution_count": 7,
   "id": "45d024ad",
   "metadata": {},
   "outputs": [],
   "source": [
    "number = 5"
   ]
  },
  {
   "cell_type": "code",
   "execution_count": 8,
   "id": "6d935e79",
   "metadata": {},
   "outputs": [
    {
     "data": {
      "text/plain": [
       "5"
      ]
     },
     "execution_count": 8,
     "metadata": {},
     "output_type": "execute_result"
    }
   ],
   "source": [
    "number"
   ]
  },
  {
   "cell_type": "code",
   "execution_count": 9,
   "id": "858b8e8d",
   "metadata": {},
   "outputs": [],
   "source": [
    "_ = 10"
   ]
  },
  {
   "cell_type": "code",
   "execution_count": 10,
   "id": "ce30c90e",
   "metadata": {},
   "outputs": [
    {
     "data": {
      "text/plain": [
       "10"
      ]
     },
     "execution_count": 10,
     "metadata": {},
     "output_type": "execute_result"
    }
   ],
   "source": [
    "_"
   ]
  },
  {
   "cell_type": "code",
   "execution_count": 11,
   "id": "9a68c1b3",
   "metadata": {},
   "outputs": [],
   "source": [
    "number_1 = 5"
   ]
  },
  {
   "cell_type": "code",
   "execution_count": 12,
   "id": "3385d249",
   "metadata": {},
   "outputs": [
    {
     "data": {
      "text/plain": [
       "5"
      ]
     },
     "execution_count": 12,
     "metadata": {},
     "output_type": "execute_result"
    }
   ],
   "source": [
    "number_1"
   ]
  },
  {
   "cell_type": "markdown",
   "id": "d43fb15b",
   "metadata": {},
   "source": [
    "### **3.They cannot start with a digit.**\n",
    "can starts with any character or _"
   ]
  },
  {
   "cell_type": "code",
   "execution_count": 14,
   "id": "494164b8",
   "metadata": {},
   "outputs": [
    {
     "ename": "SyntaxError",
     "evalue": "invalid syntax (817160270.py, line 1)",
     "output_type": "error",
     "traceback": [
      "\u001b[1;36m  Input \u001b[1;32mIn [14]\u001b[1;36m\u001b[0m\n\u001b[1;33m    1st_number 10\u001b[0m\n\u001b[1;37m     ^\u001b[0m\n\u001b[1;31mSyntaxError\u001b[0m\u001b[1;31m:\u001b[0m invalid syntax\n"
     ]
    }
   ],
   "source": [
    "1st_number 10"
   ]
  },
  {
   "cell_type": "code",
   "execution_count": 15,
   "id": "184639a0",
   "metadata": {},
   "outputs": [],
   "source": [
    "number = 10"
   ]
  },
  {
   "cell_type": "code",
   "execution_count": 16,
   "id": "12923f87",
   "metadata": {},
   "outputs": [
    {
     "data": {
      "text/plain": [
       "10"
      ]
     },
     "execution_count": 16,
     "metadata": {},
     "output_type": "execute_result"
    }
   ],
   "source": [
    "number"
   ]
  },
  {
   "cell_type": "markdown",
   "id": "97c24a10",
   "metadata": {},
   "source": [
    "### **4. Python is case-sensitive:** so `age`, `Age`, and `AGE` are treated as different variables."
   ]
  },
  {
   "cell_type": "code",
   "execution_count": 18,
   "id": "5e559aab",
   "metadata": {},
   "outputs": [],
   "source": [
    "number = 10"
   ]
  },
  {
   "cell_type": "code",
   "execution_count": 19,
   "id": "b805235a",
   "metadata": {},
   "outputs": [
    {
     "data": {
      "text/plain": [
       "10"
      ]
     },
     "execution_count": 19,
     "metadata": {},
     "output_type": "execute_result"
    }
   ],
   "source": [
    "number"
   ]
  },
  {
   "cell_type": "code",
   "execution_count": 20,
   "id": "432c162b",
   "metadata": {},
   "outputs": [
    {
     "ename": "NameError",
     "evalue": "name 'Number' is not defined",
     "output_type": "error",
     "traceback": [
      "\u001b[1;31m---------------------------------------------------------------------------\u001b[0m",
      "\u001b[1;31mNameError\u001b[0m                                 Traceback (most recent call last)",
      "Input \u001b[1;32mIn [20]\u001b[0m, in \u001b[0;36m<cell line: 1>\u001b[1;34m()\u001b[0m\n\u001b[1;32m----> 1\u001b[0m \u001b[43mNumber\u001b[49m\n",
      "\u001b[1;31mNameError\u001b[0m: name 'Number' is not defined"
     ]
    }
   ],
   "source": [
    "Number"
   ]
  },
  {
   "cell_type": "markdown",
   "id": "bbf2f0a6",
   "metadata": {},
   "source": [
    "    name != Name"
   ]
  },
  {
   "cell_type": "markdown",
   "id": "19f45eac",
   "metadata": {},
   "source": [
    "### 5. **Cannot be Python Keywords**: You cannot use Python keywords (reserved words) as variable names. For example, you cannot name a variable `if`, `else`, `while`, `def`, `True`, `False`, etc. A list of Python keywords can be obtained using `import keyword` and `keyword.kwlist`."
   ]
  },
  {
   "cell_type": "code",
   "execution_count": 23,
   "id": "e8a5295a",
   "metadata": {},
   "outputs": [
    {
     "ename": "SyntaxError",
     "evalue": "invalid syntax (182722112.py, line 1)",
     "output_type": "error",
     "traceback": [
      "\u001b[1;36m  Input \u001b[1;32mIn [23]\u001b[1;36m\u001b[0m\n\u001b[1;33m    if = 10\u001b[0m\n\u001b[1;37m       ^\u001b[0m\n\u001b[1;31mSyntaxError\u001b[0m\u001b[1;31m:\u001b[0m invalid syntax\n"
     ]
    }
   ],
   "source": [
    "if = 10"
   ]
  },
  {
   "cell_type": "markdown",
   "id": "500d4fe9",
   "metadata": {},
   "source": [
    "### 6. **Descriptive and Meaningful Names**: Use descriptive and meaningful names for variables to enhance code readability. Choose names that reflect the purpose of the data stored in the variable.\n",
    "\n",
    "### 7. **Snake Case Convention**: The preferred naming convention for variables in Python is \"snake_case,\" where words are written in lowercase letters and separated by underscores. For example: `first_name`, `num_students`, `total_sales`, etc.\n",
    "\n",
    "### 8. **Avoid Using Single Characters**: While single-character variable names are allowed, it's best to avoid using them, except for certain common conventions like `i` for loop counters.\n"
   ]
  },
  {
   "cell_type": "markdown",
   "id": "b5134dcc",
   "metadata": {},
   "source": [
    "### 9. **length of variable:** python does not restrict for defining the variable of any length but better to use short and meaningful"
   ]
  },
  {
   "cell_type": "code",
   "execution_count": 26,
   "id": "ed5546f7",
   "metadata": {},
   "outputs": [],
   "source": [
    "sdkljfofinfffffffffffffffffffffddddddddddddddddddddddddssssssssssssssssssssssssssssssssssssssssssssssssssssssssssssssssssssfddsaer  = 19"
   ]
  },
  {
   "cell_type": "code",
   "execution_count": 27,
   "id": "8489c604",
   "metadata": {},
   "outputs": [
    {
     "data": {
      "text/plain": [
       "19"
      ]
     },
     "execution_count": 27,
     "metadata": {},
     "output_type": "execute_result"
    }
   ],
   "source": [
    "sdkljfofinfffffffffffffffffffffddddddddddddddddddddddddssssssssssssssssssssssssssssssssssssssssssssssssssssssssssssssssssssfddsaer"
   ]
  }
 ],
 "metadata": {
  "kernelspec": {
   "display_name": "Python 3 (ipykernel)",
   "language": "python",
   "name": "python3"
  },
  "language_info": {
   "codemirror_mode": {
    "name": "ipython",
    "version": 3
   },
   "file_extension": ".py",
   "mimetype": "text/x-python",
   "name": "python",
   "nbconvert_exporter": "python",
   "pygments_lexer": "ipython3",
   "version": "3.9.12"
  }
 },
 "nbformat": 4,
 "nbformat_minor": 5
}
