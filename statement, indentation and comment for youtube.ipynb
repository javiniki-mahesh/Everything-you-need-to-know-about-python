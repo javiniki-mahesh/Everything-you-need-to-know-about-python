{
 "cells": [
  {
   "cell_type": "markdown",
   "id": "adc681f3",
   "metadata": {},
   "source": [
    "# Everything you need to know about python:\n",
    "## In simplest possible way"
   ]
  },
  {
   "cell_type": "markdown",
   "id": "1aa168a2",
   "metadata": {},
   "source": [
    "# statement \n",
    "# indentation \n",
    "# comments"
   ]
  },
  {
   "cell_type": "markdown",
   "id": "fcbb7f99",
   "metadata": {},
   "source": [
    "# Statement\n",
    "In Python, a statement is a single instruction or a line of code that performs a specific action. Python is designed to be a readable and expressive language, so most tasks can be achieved with relatively fewer lines of code compared to other programming languages. Statements are used to instruct the computer to perform certain operations, manipulate data, or control the flow of a program."
   ]
  },
  {
   "cell_type": "code",
   "execution_count": 6,
   "id": "17b781b1",
   "metadata": {},
   "outputs": [
    {
     "name": "stdout",
     "output_type": "stream",
     "text": [
      "hello\n"
     ]
    }
   ],
   "source": [
    "print('hello')"
   ]
  },
  {
   "cell_type": "code",
   "execution_count": 7,
   "id": "b463a169",
   "metadata": {},
   "outputs": [],
   "source": [
    "num = 10"
   ]
  },
  {
   "cell_type": "code",
   "execution_count": 8,
   "id": "1165f198",
   "metadata": {},
   "outputs": [
    {
     "name": "stdout",
     "output_type": "stream",
     "text": [
      "10\n"
     ]
    }
   ],
   "source": [
    "print(num)"
   ]
  },
  {
   "cell_type": "markdown",
   "id": "74e95486",
   "metadata": {},
   "source": [
    "# Indentation\n",
    "Indentation is crucial in Python because it determines the block structure of the code. Unlike other programming languages that use braces {} or keywords like \"begin\" and \"end\" to denote blocks, Python uses indentation to group statements within a block. The standard indentation is four spaces, although some developers may use tabs or other conventions.\n",
    "\n",
    "Indentation is used in control flow statements (e.g., if, for, while) and function definitions to define the scope of the code that belongs to each block."
   ]
  },
  {
   "cell_type": "code",
   "execution_count": 10,
   "id": "4477d881",
   "metadata": {},
   "outputs": [
    {
     "name": "stdout",
     "output_type": "stream",
     "text": [
      "thanks\n"
     ]
    }
   ],
   "source": [
    "if False:\n",
    "    print('hello')\n",
    "    print('welcome')\n",
    "    print('to my')\n",
    "    print('channel')\n",
    "print('thanks')"
   ]
  },
  {
   "cell_type": "markdown",
   "id": "add1c989",
   "metadata": {},
   "source": [
    "# Comments in Python:\n",
    "Comments are non-executable lines in Python used to add explanations, notes, or documentation to the code. They are ignored by the Python interpreter and exist solely to help developers understand the purpose of different parts of the code. Comments start with the hash symbol (#), and everything after the hash symbol on the same line is considered a comment."
   ]
  },
  {
   "cell_type": "code",
   "execution_count": 14,
   "id": "eca4dd17",
   "metadata": {},
   "outputs": [
    {
     "name": "stdout",
     "output_type": "stream",
     "text": [
      "30\n"
     ]
    }
   ],
   "source": [
    "num1 = 10\n",
    "num2 = 20 \n",
    "addition = num1 + num2 # this is of addition process\n",
    "print(addition)"
   ]
  },
  {
   "cell_type": "markdown",
   "id": "dedd938d",
   "metadata": {},
   "source": [
    "Multi-line comments are not explicitly supported in Python, but developers often use multi-line strings as a workaround for documenting larger sections of code. you can mention multi-line comments in single or double quotes"
   ]
  },
  {
   "cell_type": "code",
   "execution_count": 15,
   "id": "426e22f0",
   "metadata": {},
   "outputs": [
    {
     "name": "stdout",
     "output_type": "stream",
     "text": [
      "30\n"
     ]
    }
   ],
   "source": [
    "'''\n",
    "having num1\n",
    "having num2\n",
    "doing addition\n",
    "printing addition\n",
    "'''\n",
    "num1 = 10\n",
    "num2 = 20 \n",
    "addition = num1 + num2 # this is of addition process\n",
    "print(addition)"
   ]
  },
  {
   "cell_type": "code",
   "execution_count": null,
   "id": "033564ac",
   "metadata": {},
   "outputs": [],
   "source": [
    "\"\"\"\n",
    "\n",
    "\"\"\""
   ]
  }
 ],
 "metadata": {
  "kernelspec": {
   "display_name": "Python 3 (ipykernel)",
   "language": "python",
   "name": "python3"
  },
  "language_info": {
   "codemirror_mode": {
    "name": "ipython",
    "version": 3
   },
   "file_extension": ".py",
   "mimetype": "text/x-python",
   "name": "python",
   "nbconvert_exporter": "python",
   "pygments_lexer": "ipython3",
   "version": "3.9.12"
  }
 },
 "nbformat": 4,
 "nbformat_minor": 5
}
