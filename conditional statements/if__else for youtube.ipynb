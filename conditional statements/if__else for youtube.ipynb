{
 "cells": [
  {
   "cell_type": "markdown",
   "id": "eccc1409",
   "metadata": {},
   "source": [
    "# Everything you need to know about python:\n",
    "## In simplest possible way\n"
   ]
  },
  {
   "cell_type": "markdown",
   "id": "024303d7",
   "metadata": {},
   "source": [
    "# Conditional statements\n",
    "# if...else"
   ]
  },
  {
   "cell_type": "markdown",
   "id": "f7376998",
   "metadata": {},
   "source": [
    "Conditional statements in Python allow you to control the flow of your program based on certain conditions. These statements enable you to execute specific blocks of code only when certain conditions are met. The basic conditional statements in Python are:\n",
    "\n",
    "1. `if` statement: This statement executes a block of code if a specified condition is true.\n",
    "\n",
    "2. `if...else` statement: This statement executes one block of code if the condition is true and another block of code if the condition is false.\n",
    "\n",
    "3. `if...elif...else` statement: This statement allows you to check multiple conditions and execute different blocks of code accordingly.\n",
    "\n",
    "The general syntax for these conditional statements is as follows:\n",
    "\n",
    "1. `if` statement:\n",
    "```python\n",
    "if condition:\n",
    "    # Code block to execute if the condition is true\n",
    "```\n",
    "\n",
    "2. `if...else` statement:\n",
    "```python\n",
    "if condition:\n",
    "    # Code block to execute if the condition is true\n",
    "else:\n",
    "    # Code block to execute if the condition is false\n",
    "```\n",
    "\n",
    "3. `if...elif...else` statement:\n",
    "```python\n",
    "if condition1:\n",
    "    # Code block to execute if condition1 is true\n",
    "elif condition2:\n",
    "    # Code block to execute if condition2 is true\n",
    "else:\n",
    "    # Code block to execute if both condition1 and condition2 are false\n",
    "```\n"
   ]
  },
  {
   "cell_type": "markdown",
   "id": "59265b5f",
   "metadata": {},
   "source": [
    "    Below is a small exercise of\n",
    "        A student has wrote an exam, if the student got 40 or more marks, the student will considered as pass. Else the student is considered as fail."
   ]
  },
  {
   "cell_type": "code",
   "execution_count": 6,
   "id": "edea9483",
   "metadata": {
    "scrolled": true
   },
   "outputs": [
    {
     "name": "stdout",
     "output_type": "stream",
     "text": [
      "Enter the marks: 55\n",
      "Congratualtions\n",
      "You have passed in this examm\n",
      "The process is completed\n"
     ]
    }
   ],
   "source": [
    "marks = int(input('Enter the marks: '))\n",
    "\n",
    "if marks >= 40:\n",
    "    print('Congratualtions')\n",
    "    print('You have passed in this examm')\n",
    "else:\n",
    "    print('Sorry')\n",
    "    print('You are not passed in this exam')\n",
    "print(\"The process is completed\")"
   ]
  },
  {
   "cell_type": "code",
   "execution_count": 7,
   "id": "32959a9d",
   "metadata": {},
   "outputs": [
    {
     "name": "stdout",
     "output_type": "stream",
     "text": [
      "Enter the marks: 35\n",
      "Sorry\n",
      "You are not passed in this exam\n",
      "The process is completed\n"
     ]
    }
   ],
   "source": [
    "marks = int(input('Enter the marks: '))\n",
    "\n",
    "if marks >= 40:\n",
    "    print('Congratualtions')\n",
    "    print('You have passed in this examm')\n",
    "else:\n",
    "    print('Sorry')\n",
    "    print('You are not passed in this exam')\n",
    "print(\"The process is completed\")"
   ]
  },
  {
   "cell_type": "markdown",
   "id": "2dd819bf",
   "metadata": {},
   "source": [
    "If you find this content interesting and for more of this kind of content explore my YTChannel: https://www.youtube.com/@MaheshJaviniki"
   ]
  }
 ],
 "metadata": {
  "kernelspec": {
   "display_name": "Python 3 (ipykernel)",
   "language": "python",
   "name": "python3"
  },
  "language_info": {
   "codemirror_mode": {
    "name": "ipython",
    "version": 3
   },
   "file_extension": ".py",
   "mimetype": "text/x-python",
   "name": "python",
   "nbconvert_exporter": "python",
   "pygments_lexer": "ipython3",
   "version": "3.9.12"
  }
 },
 "nbformat": 4,
 "nbformat_minor": 5
}
