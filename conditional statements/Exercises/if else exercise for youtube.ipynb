{
 "cells": [
  {
   "cell_type": "markdown",
   "id": "edb03857",
   "metadata": {},
   "source": [
    "# Everything you need to know about python:\n",
    "## In simplest possibe way"
   ]
  },
  {
   "cell_type": "markdown",
   "id": "619b9e80",
   "metadata": {},
   "source": [
    "# Real-world Coding exercise(if-else)"
   ]
  },
  {
   "cell_type": "markdown",
   "id": "416eee02",
   "metadata": {},
   "source": [
    "# 1. User login authentication."
   ]
  },
  {
   "cell_type": "markdown",
   "id": "f1f6d1a6",
   "metadata": {},
   "source": [
    "Problem Statement:\n",
    "\n",
    "You are tasked with creating a Python program for user authentication on a website. The program prompts the user to enter their username and password through the terminal. It then checks whether the provided username and password match the predefined credentials. If the entered username and password match the predefined values, the program displays a message \"Welcome to the website,\" indicating successful login. Otherwise, it prints \"Check your username and password,\" indicating that the login attempt failed due to incorrect credentials.\n",
    "\n",
    "Detailed Description:\n",
    "\n",
    "1. Predefined Credentials:\n",
    "   In the program, you have two variables named `user_name` and `password`, which store the predefined username and password, respectively.\n",
    "\n",
    "2. Prompt for User Input:\n",
    "   The program prompts the user to enter their username and password separately through the terminal.\n",
    "\n",
    "3. Read User Input:\n",
    "   The program reads the user-provided username and password and stores them in the variables `user` and `pass_`, respectively.\n",
    "\n",
    "4. Compare User Input with Predefined Credentials:\n",
    "   The program compares the user-provided `user` and `pass_` with the predefined `user_name` and `password`, respectively, using the equality (==) operator.\n",
    "\n",
    "5. Authenticate and Display Result:\n",
    "   If the provided username and password match the predefined credentials, the program prints a message \"Welcome to the website,\" indicating successful login. Otherwise, if the user-provided credentials do not match the predefined ones, the program prints a message \"Check your username and password,\" indicating that the login attempt failed due to incorrect credentials.\n",
    "\n",
    "Ensure that the program runs without errors and correctly handles both successful and failed login attempts. The output messages should be clear and informative, helping the user understand whether the login was successful or not based on the provided username and password."
   ]
  },
  {
   "cell_type": "code",
   "execution_count": 1,
   "id": "f97b865a",
   "metadata": {},
   "outputs": [
    {
     "name": "stdout",
     "output_type": "stream",
     "text": [
      "Enter username: Mahesh\n",
      "Enter password: Mahi@123\n",
      "Wecome to the website\n"
     ]
    }
   ],
   "source": [
    "user_name = \"Mahesh\"\n",
    "password = 'Mahi@123'\n",
    "\n",
    "user = input(\"Enter username: \")\n",
    "pass_ = input(\"Enter password: \")\n",
    "\n",
    "if user == user_name and pass_ == password:\n",
    "    print(\"Wecome to the website\")\n",
    "else:\n",
    "    print(\"Check your username and password\")"
   ]
  },
  {
   "cell_type": "markdown",
   "id": "037fa1e6",
   "metadata": {},
   "source": [
    "# 2. Even or Odd"
   ]
  },
  {
   "cell_type": "markdown",
   "id": "2c4b7c11",
   "metadata": {},
   "source": [
    "Problem Statement:\n",
    "\n",
    "You are tasked with creating a Python program that takes an integer as input from the user. The program will then determine whether the entered number is even or odd and print the result accordingly.\n",
    "\n",
    "Detailed Description:\n",
    "\n",
    "1. Prompt for User Input:\n",
    "   The program prompts the user to enter an integer number through the terminal.\n",
    "\n",
    "2. Read User Input:\n",
    "   The program reads the user-provided integer input and stores it in the variable `num`.\n",
    "\n",
    "3. Check Even or Odd:\n",
    "   The program checks if the number `num` is even or odd by using the modulo operator (%) to check if there is any remainder when `num` is divided by 2. If the remainder is 0, it means that the number is even. Otherwise, if there is a remainder, the number is odd.\n",
    "\n",
    "4. Display the Result:\n",
    "   If the number `num` is even (i.e., the remainder after dividing by 2 is 0), the program prints a message indicating that the number is even. Otherwise, if the number is odd (i.e., the remainder is not 0), the program prints a message indicating that the number is odd.\n",
    "\n",
    "Ensure that the program runs without errors and provides the correct classification (even or odd) for the given input number. The output messages should be clear and informative, indicating whether the entered number is even or odd based on the result of the modulo operation."
   ]
  },
  {
   "cell_type": "code",
   "execution_count": 2,
   "id": "36dae1ef",
   "metadata": {},
   "outputs": [
    {
     "name": "stdout",
     "output_type": "stream",
     "text": [
      "Enter a number: 89\n",
      "89  is Odd\n"
     ]
    }
   ],
   "source": [
    "num = int(input('Enter a number: '))\n",
    "\n",
    "if num % 2 == 0:\n",
    "    print(num, ' is Even')\n",
    "else:\n",
    "    print(num, ' is Odd')"
   ]
  },
  {
   "cell_type": "markdown",
   "id": "e620cdc1",
   "metadata": {},
   "source": [
    "# 3. Vowel or consonant checker."
   ]
  },
  {
   "cell_type": "markdown",
   "id": "4c45b43f",
   "metadata": {},
   "source": [
    "Problem Statement:\n",
    "\n",
    "You are assigned to create a Python program that determines whether a given character is a vowel or a consonant. The program will prompt the user to enter a single character through the terminal and then check if the entered character is a vowel or a consonant.\n",
    "\n",
    "Detailed Description:\n",
    "\n",
    "1. Predefined Vowels:\n",
    "   The program defines a list named `vowel`, which contains the lowercase representations of the vowels ('a', 'e', 'i', 'o', 'u').\n",
    "\n",
    "2. Prompt for User Input:\n",
    "   The program displays a message asking the user to enter a character through the terminal.\n",
    "\n",
    "3. Read User Input:\n",
    "   The program reads the user-provided character and stores it in the variable `char`.\n",
    "\n",
    "4. Check Vowel or Consonant:\n",
    "   The program checks if the user-provided character `char` exists in the predefined `vowel` list using the `in` keyword. If the character is found in the `vowel` list, it means the character is a vowel. Otherwise, it is considered a consonant.\n",
    "\n",
    "5. Display the Result:\n",
    "   If the character is found in the `vowel` list, the program prints a message stating that the character is a vowel. Otherwise, if the character is not found in the `vowel` list, the program prints a message stating that the character is a consonant.\n",
    "\n",
    "Ensure that the program runs without errors and provides the correct classification (vowel or consonant) for the given input character. The output messages should be clear and informative, indicating whether the entered character is a vowel or a consonant based on its presence in the predefined `vowel` list."
   ]
  },
  {
   "cell_type": "code",
   "execution_count": 3,
   "id": "cd707617",
   "metadata": {},
   "outputs": [
    {
     "name": "stdout",
     "output_type": "stream",
     "text": [
      "Enter a character: e\n",
      "e is vowel\n"
     ]
    }
   ],
   "source": [
    "vowel = ['a', 'e', 'i', 'o', 'u']\n",
    "\n",
    "char = input(\"Enter a character: \")\n",
    "\n",
    "if char in vowel:\n",
    "    print(char, 'is vowel')\n",
    "else:\n",
    "    print(char, 'is consonent')"
   ]
  },
  {
   "cell_type": "markdown",
   "id": "6c1fcd66",
   "metadata": {},
   "source": [
    "# 4. Greater number determination."
   ]
  },
  {
   "cell_type": "markdown",
   "id": "14d857c6",
   "metadata": {},
   "source": [
    "Problem Statement:\n",
    "\n",
    "Your task is to design a Python program that takes two integer inputs from the user, `num1` and `num2`, and compares them to determine which number is greater. The program will then print a message indicating which of the two numbers is greater.\n",
    "\n",
    "Detailed Description:\n",
    "\n",
    "1. Prompt for User Input:\n",
    "   The program will display a message asking the user to enter the first number and the second number separately through the terminal.\n",
    "\n",
    "2. Read User Input:\n",
    "   The program will read the two user-provided integer inputs and store them in the variables `num1` and `num2`, respectively.\n",
    "\n",
    "3. Compare Numbers:\n",
    "   The program will compare the values of `num1` and `num2` using the greater-than (>) operator. If `num1` is greater than `num2`, it will execute the code block inside the if statement. Otherwise, if `num1` is not greater than `num2`, it will execute the code block inside the else statement.\n",
    "\n",
    "4. Display the Result:\n",
    "   If `num1` is greater than `num2`, the program will print a message stating that `num1` is greater. Otherwise, if `num2` is greater than or equal to `num1`, the program will print a message stating that `num2` is greater.\n",
    "\n",
    "Sample Input and Output:\n",
    "\n",
    "Suppose the user enters the following inputs:\n",
    "\n",
    "```\n",
    "Enter first number: 12\n",
    "Enter second number: 8\n",
    "```\n",
    "\n",
    "Output:\n",
    "```\n",
    "12 is greater\n",
    "```\n",
    "\n",
    "In this example, the program compares `num1` (12) with `num2` (8) and determines that 12 is greater, so it prints the message \"12 is greater.\"\n",
    "\n",
    "Ensure that the program runs without errors and provides the correct comparison result for the given inputs. The output messages should be clear and informative, helping the user understand which number is greater."
   ]
  },
  {
   "cell_type": "code",
   "execution_count": 4,
   "id": "567ba120",
   "metadata": {},
   "outputs": [
    {
     "name": "stdout",
     "output_type": "stream",
     "text": [
      "Enter first number: 4\n",
      "Enter second number: 98\n",
      "98  is greater\n"
     ]
    }
   ],
   "source": [
    "num1 = int(input(\"Enter first number: \"))\n",
    "num2 = int(input(\"Enter second number: \"))\n",
    "\n",
    "if num1 > num2:\n",
    "    print(num1, ' is greater')\n",
    "else:\n",
    "    print(num2, ' is greater')"
   ]
  },
  {
   "cell_type": "markdown",
   "id": "d717a55b",
   "metadata": {},
   "source": [
    "# 5. Voter eligibility checker based on age."
   ]
  },
  {
   "cell_type": "markdown",
   "id": "51b30139",
   "metadata": {},
   "source": [
    "Problem Statement:\n",
    "\n",
    "Your task is to create a Python program that takes the user's age as input and determines whether the person is eligible to vote or not. The program will prompt the user to enter their age through the terminal and then check if the age is 18 years or older to decide eligibility for voting.\n",
    "\n",
    "Detailed Description:\n",
    "\n",
    "1. Prompt for User Input:\n",
    "   The program will display a message asking the user to enter their age through the terminal.\n",
    "\n",
    "2. Read User Input:\n",
    "   The program will read the user-provided age and store it in a variable named `age`.\n",
    "\n",
    "3. Check Eligibility:\n",
    "   The program will compare the value of `age` with 18, using the greater than or equal to (>=) operator. If the user's age is 18 years or older, it will execute the code block inside the if statement. Otherwise, if the user's age is less than 18, it will execute the code block inside the else statement.\n",
    "\n",
    "4. Display the Result:\n",
    "   If the user's age is 18 years or older, the program will print a message indicating that the person is eligible to vote. Otherwise, if the user's age is less than 18, the program will print a message indicating that the person is not eligible to vote.\n",
    "\n",
    "Sample Input and Output:\n",
    "\n",
    "Suppose the user enters the following input:\n",
    "\n",
    "```\n",
    "Enter age: 23\n",
    "```\n",
    "\n",
    "Output:\n",
    "```\n",
    "You are eligible to vote\n",
    "```\n",
    "\n",
    "In this example, the program checks the user's age (23) against 18 and determines that the person is eligible to vote, so it prints the message \"You are eligible to vote.\"\n",
    "\n",
    "Ensure that the program runs without errors and provides the correct eligibility status based on the given input age. The output messages should be clear and informative, informing the user whether they are eligible to vote or not."
   ]
  },
  {
   "cell_type": "code",
   "execution_count": 5,
   "id": "1dcd5679",
   "metadata": {
    "scrolled": false
   },
   "outputs": [
    {
     "name": "stdout",
     "output_type": "stream",
     "text": [
      "Enter age: 56\n",
      "You are eligible to vote\n"
     ]
    }
   ],
   "source": [
    "age = int(input(\"Enter age: \"))\n",
    "if age >= 18:\n",
    "    print('You are eligible to vote')\n",
    "else:\n",
    "    print('You are not eligible to vote')"
   ]
  },
  {
   "cell_type": "markdown",
   "id": "2c365c50",
   "metadata": {},
   "source": [
    "If you find this content interesting and for more of this kind of content explore my YTChannel: https://www.youtube.com/@MaheshJaviniki"
   ]
  }
 ],
 "metadata": {
  "kernelspec": {
   "display_name": "Python 3 (ipykernel)",
   "language": "python",
   "name": "python3"
  },
  "language_info": {
   "codemirror_mode": {
    "name": "ipython",
    "version": 3
   },
   "file_extension": ".py",
   "mimetype": "text/x-python",
   "name": "python",
   "nbconvert_exporter": "python",
   "pygments_lexer": "ipython3",
   "version": "3.9.12"
  }
 },
 "nbformat": 4,
 "nbformat_minor": 5
}
