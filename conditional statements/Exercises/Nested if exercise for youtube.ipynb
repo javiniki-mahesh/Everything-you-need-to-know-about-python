{
 "cells": [
  {
   "cell_type": "markdown",
   "id": "60fd16e8",
   "metadata": {},
   "source": [
    "# Everything you need to know about python:\n",
    "## In simplest possibe way"
   ]
  },
  {
   "cell_type": "markdown",
   "id": "0073b312",
   "metadata": {},
   "source": [
    "# Real-world Coding exercise(Nested if)"
   ]
  },
  {
   "cell_type": "markdown",
   "id": "9cfac963",
   "metadata": {},
   "source": [
    "## 1.Discount calculator"
   ]
  },
  {
   "cell_type": "markdown",
   "id": "06745050",
   "metadata": {},
   "source": [
    "Problem Statement:\n",
    "You are building an e-commerce website that offers discounts to different types of users based on their order total. The program should take input from the user for their user type and the total order amount. Then, it should calculate and display the applicable discount for the user.\n",
    "\n",
    "Inputs:\n",
    "- `user_type`: A string representing the type of user, either \"new\" or \"existing\".\n",
    "- `order_total`: An integer representing the total order amount in dollars.\n",
    "\n",
    "Outputs:\n",
    "- The program should display a message indicating the applicable discount based on the user type and the order total.\n",
    "\n",
    "Discount Rules:\n",
    "- For \"new\" users:\n",
    "  - If the order total is greater than or equal to $100, they get a 20% discount.\n",
    "  \n",
    "  - If the order total is less than $100, they get a 15% discount.\n",
    "\n",
    "- For \"existing\" users:\n",
    "  - If the order total is greater than or equal to $150, they get a 10% discount.\n",
    "  \n",
    "  - If the order total is less than $150, they get a 5% discount.\n",
    "\n",
    "Example Usage:\n",
    "```\n",
    "Enter user type: new\n",
    "Enter total order: 120\n",
    "Output: You have got 20% of discount\n",
    "\n",
    "Enter user type: existing\n",
    "Enter total order: 80\n",
    "Output: You have got 5% discount\n",
    "```\n",
    "\n",
    "Explanation:\n",
    "1. In the first example, the user is a \"new\" user, and their order total is $120, which is greater than $100. Therefore, they receive a 20% discount.\n",
    "\n",
    "2. In the second example, the user is an \"existing\" user, and their order total is $80, which is less than $150. Therefore, they receive a 5% discount.\n",
    "\n",
    "The program calculates the discount based on the user type and the order total and provides the corresponding discount message to the user."
   ]
  },
  {
   "cell_type": "code",
   "execution_count": 5,
   "id": "aebc862c",
   "metadata": {},
   "outputs": [
    {
     "name": "stdout",
     "output_type": "stream",
     "text": [
      "Enter type of user: existing\n",
      "Enter order total: 50\n",
      "You have got 5% discount\n"
     ]
    }
   ],
   "source": [
    "user_type = input(\"Enter type of user: \")\n",
    "order_total = int(input(\"Enter order total: \"))\n",
    "\n",
    "if user_type == 'new':\n",
    "    if order_total >= 100:\n",
    "        print('you have got 20% discount')\n",
    "    else:\n",
    "        print('You have got 15% discount')\n",
    "else:\n",
    "    if order_total >= 150:\n",
    "        print('You have got 10% discount')\n",
    "    else:\n",
    "        print('You have got 5% discount')"
   ]
  },
  {
   "cell_type": "markdown",
   "id": "aad9f48f",
   "metadata": {},
   "source": [
    "# 2. Order processing status"
   ]
  },
  {
   "cell_type": "markdown",
   "id": "d0fcd066",
   "metadata": {},
   "source": [
    "Problem Statement:\n",
    "You are building an online shopping system where customers can place orders for products. The code provided is a part of the order processing system. It prompts the user to enter the availability status of the product they wish to purchase. If the product is available, it further asks for the payment status and shipping address validation to determine whether the order can be successfully processed.\n",
    "\n",
    "Inputs:\n",
    "- `product_available`: A string representing the availability status of the product. It should be either \"True\" (available) or \"False\" (unavailable).\n",
    "- `payment_status`: A string representing the payment status. It should be either \"paid\" or \"not paid\".\n",
    "- `shipping_address_valid`: A string representing the validation status of the shipping address. It should be either \"True\" (valid) or \"False\" (invalid).\n",
    "\n",
    "Outputs:\n",
    "- The program will display messages indicating the order status based on the provided inputs. The possible output messages are:\n",
    "  - If the product is available, payment is paid, and the shipping address is valid: \"Order successful\".\n",
    "  - If the product is available, but payment is not paid: \"Order unsuccessful\" and \"Payment not paid\".\n",
    "  - If the product is available, but the shipping address is invalid: \"Invalid shipping address\".\n",
    "  - If the product is not available: \"Sorry, the product is not available\".\n",
    "\n",
    "Description:\n",
    "The code starts by asking the user to input the availability status of the product they want to purchase. If the product is available (i.e., `product_available == 'True'`), the user is prompted to enter the payment status. If the payment is paid (i.e., `payment_status == \"paid\"`), the user is asked to validate the shipping address. If the shipping address is valid (i.e., `shipping_address_valid == 'True'`), the program prints \"Order successful\", indicating that the order has been successfully processed.\n",
    "\n",
    "If any of the conditions are not met, the program prints appropriate messages to inform the user of the issue. For example, if the payment is not paid, the program will print \"Order unsuccessful\" and \"Payment not paid\". If the shipping address is invalid, the program will print \"Invalid shipping address\".\n",
    "\n",
    "If the product is not available (i.e., `product_available == 'False'`), the program will print \"Sorry, the product is not available\", and the order cannot be processed.\n",
    "\n",
    "The code assumes that the user enters valid input values (either \"True\" or \"False\" for availability and shipping address validation and either \"paid\" or \"not paid\" for the payment status). However, it does not handle any invalid inputs beyond these specified options. Adding input validation checks would be a good enhancement to ensure robustness."
   ]
  },
  {
   "cell_type": "code",
   "execution_count": 9,
   "id": "c7a7534f",
   "metadata": {},
   "outputs": [
    {
     "name": "stdout",
     "output_type": "stream",
     "text": [
      "Give the product availability (True/False): False\n",
      "Sorry, the product is not available\n"
     ]
    }
   ],
   "source": [
    "product_available = input(\"Give the product availability (True/False): \")\n",
    "if product_available == 'True':\n",
    "    paymet_status = input('Enter payment status (paid/not paid): ')\n",
    "    if paymet_status == 'paid':\n",
    "        shipping_address_valid = input('Enter shipping address is valid or not (True for valid/False for not valid): ')\n",
    "        if shipping_address_valid == 'True':\n",
    "            print('Order successful')\n",
    "        else:\n",
    "            print('Invalid shipping address')\n",
    "    else:\n",
    "        print(\"Order unsuccessful\")\n",
    "        print('Payment status is not paid')\n",
    "else:\n",
    "    print('Sorry, the product is not available')"
   ]
  },
  {
   "cell_type": "markdown",
   "id": "a40b3d1c",
   "metadata": {},
   "source": [
    "If you find this content interesting and for more of this kind of content explore my YTChannel: https://www.youtube.com/@MaheshJaviniki"
   ]
  }
 ],
 "metadata": {
  "kernelspec": {
   "display_name": "Python 3 (ipykernel)",
   "language": "python",
   "name": "python3"
  },
  "language_info": {
   "codemirror_mode": {
    "name": "ipython",
    "version": 3
   },
   "file_extension": ".py",
   "mimetype": "text/x-python",
   "name": "python",
   "nbconvert_exporter": "python",
   "pygments_lexer": "ipython3",
   "version": "3.9.12"
  }
 },
 "nbformat": 4,
 "nbformat_minor": 5
}
