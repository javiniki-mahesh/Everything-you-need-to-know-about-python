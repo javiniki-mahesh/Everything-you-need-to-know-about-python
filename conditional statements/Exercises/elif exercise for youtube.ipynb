{
 "cells": [
  {
   "cell_type": "markdown",
   "id": "e671fc83",
   "metadata": {},
   "source": [
    "# Everything you need to know about python:\n",
    "## In simplest possibe way"
   ]
  },
  {
   "cell_type": "markdown",
   "id": "f6b95534",
   "metadata": {},
   "source": [
    "# Real-world Coding exercise(elif)"
   ]
  },
  {
   "cell_type": "markdown",
   "id": "85e1ef50",
   "metadata": {},
   "source": [
    "## 1. Age Segregation"
   ]
  },
  {
   "cell_type": "markdown",
   "id": "30787a85",
   "metadata": {},
   "source": [
    "**Problem Statement:**\n",
    "\n",
    "You have been assigned the task of creating a program to categorize individuals into different age groups based on their age. The program should prompt the user to enter their age and then use conditional statements (`if`, `elif`, and `else`) to determine the appropriate age group category. The program should finally display the age group category to which the user belongs.\n",
    "\n",
    "**Description:**\n",
    "\n",
    "1. The program starts by displaying a prompt: `\"Enter your age: \"`.\n",
    "2. The user is expected to input their age as a positive integer. If the user enters a negative value, the program considers it as an invalid age.\n",
    "3. The program then checks the entered age against several conditions using `if`, `elif`, and `else` statements to determine the age group category:\n",
    "   - If the age is less than 0, the program sets the `category` variable to `\"Invalid age\"`.\n",
    "   - If the age is between 0 and 17 (both inclusive), the program sets the `category` variable to `\"Child\"`.\n",
    "   - If the age is between 18 and 64 (both inclusive), the program sets the `category` variable to `\"Adult\"`.\n",
    "   - If the age is 65 or greater, the program sets the `category` variable to `\"Senior\"`.\n",
    "4. Once the appropriate age group category is determined, the program prints a message: `\"You belong to the age group: {category}\"`, where `{category}` is replaced with the actual category determined based on the user's age.\n",
    "\n",
    "**Example:**\n",
    "\n",
    "```\n",
    "Enter your age: 25\n",
    "You belong to the age group: Adult\n",
    "```\n",
    "\n",
    "In this example, the user entered the age as 25. The program then evaluated the age using conditional statements and determined that 25 falls between 18 and 64, making the user an \"Adult.\" The program then displayed the message: `\"You belong to the age group: Adult\"`.\n",
    "\n",
    "```\n",
    "Enter your age: -5\n",
    "You belong to the age group: Invalid age\n",
    "```\n",
    "\n",
    "In this example, the user entered a negative value (-5) for age. The program recognized this as an invalid age and displayed the message: `\"You belong to the age group: Invalid age\"`.\n",
    "\n",
    "The program helps categorize individuals based on their age, making it useful for various age-related applications and services."
   ]
  },
  {
   "cell_type": "code",
   "execution_count": 4,
   "id": "5cd9fc40",
   "metadata": {},
   "outputs": [
    {
     "name": "stdout",
     "output_type": "stream",
     "text": [
      "Enter your age: 69\n",
      "You belong to the age group:  Senior\n"
     ]
    }
   ],
   "source": [
    "age = int(input(\"Enter your age: \"))\n",
    "\n",
    "if age <0:\n",
    "    category = 'Invalid age'\n",
    "elif age >= 0 and age <= 17:\n",
    "    category = 'child'\n",
    "elif age >17 and age <= 64:\n",
    "    category = 'Adult'\n",
    "else:\n",
    "    category = 'Senior'\n",
    "    \n",
    "print('You belong to the age group: ',category)"
   ]
  },
  {
   "cell_type": "markdown",
   "id": "03182a25",
   "metadata": {},
   "source": [
    "## 2. Simple Calculator"
   ]
  },
  {
   "cell_type": "markdown",
   "id": "43665735",
   "metadata": {},
   "source": [
    "**Problem Statement:**\n",
    "\n",
    "You have been tasked with creating a simple calculator program that performs basic arithmetic operations on two numbers based on the user's input. The program should prompt the user to enter an operator (+, -, *, or /), as well as two numeric values. Using conditional statements (`if`, `elif`, and `else`), the program will perform the corresponding operation and display the result.\n",
    "\n",
    "**Description:**\n",
    "\n",
    "1. The program starts by displaying a prompt: `\"Enter the operator (+, -, *, /): \"`.\n",
    "2. The user is expected to input one of the four operators: `+` for addition, `-` for subtraction, `*` for multiplication, or `/` for division.\n",
    "3. After the operator input, the program prompts the user to enter two numeric values (num1 and num2) that they want to perform the operation on.\n",
    "4. The program then checks the value of the `operator` using `if`, `elif`, and `else` statements to determine which arithmetic operation to perform:\n",
    "   - If the operator is `+`, the program adds `num1` and `num2`, and the result is stored in the variable `result`.\n",
    "   - If the operator is `-`, the program subtracts `num2` from `num1`, and the result is stored in the variable `result`.\n",
    "   - If the operator is `*`, the program multiplies `num1` and `num2`, and the result is stored in the variable `result`.\n",
    "   - If the operator is `/`, the program divides `num1` by `num2`, and the result is stored in the variable `result`.\n",
    "   - If the operator is none of the above, the program sets `result` to `\"Invalid operator\"`.\n",
    "5. Finally, the program displays the result of the arithmetic operation with the message: `\"Result: {result}\"`, where `{result}` is replaced with the actual result of the calculation.\n",
    "\n",
    "**Example:**\n",
    "\n",
    "```\n",
    "Enter the operator (+, -, *, /): *\n",
    "Enter the first number: 5\n",
    "Enter the second number: 8\n",
    "Result: 40.0\n",
    "```\n",
    "\n",
    "In this example, the user selected the `*` operator for multiplication. The program then took the two input numbers (5 and 8) and performed the multiplication operation (`5 * 8`), which resulted in 40.0. The program displayed the message: `\"Result: 40.0\"`.\n",
    "\n",
    "```\n",
    "Enter the operator (+, -, *, /): %\n",
    "Enter the first number: 10\n",
    "Enter the second number: 3\n",
    "Result: Invalid operator\n",
    "```\n",
    "\n",
    "In this example, the user entered an invalid operator `%`, which is not one of the supported arithmetic operations. The program recognized this and displayed the message: `\"Result: Invalid operator\"`.\n",
    "\n",
    "The program provides a basic calculator functionality for simple arithmetic calculations, allowing users to perform addition, subtraction, multiplication, and division operations."
   ]
  },
  {
   "cell_type": "code",
   "execution_count": 10,
   "id": "23b8f8c2",
   "metadata": {
    "scrolled": true
   },
   "outputs": [
    {
     "name": "stdout",
     "output_type": "stream",
     "text": [
      "Enter the operator (+, -, *, /): *\n",
      "Enter the first number: 4\n",
      "Enter the second number: 3\n",
      "Result : 12\n"
     ]
    }
   ],
   "source": [
    "operator = input('Enter the operator (+, -, *, /): ')\n",
    "\n",
    "num1 = int(input('Enter the first number: '))\n",
    "num2 = int(input('Enter the second number: '))\n",
    "\n",
    "if operator == '+':\n",
    "    result = num1 + num2\n",
    "elif operator == '-':\n",
    "    result = num2 - num1\n",
    "elif operator == '*':\n",
    "    result = num1 * num2\n",
    "elif operator == '/':\n",
    "    result = num1 / num2\n",
    "else:\n",
    "    print('Invalid operator')\n",
    "\n",
    "print('Result :', result)"
   ]
  },
  {
   "cell_type": "markdown",
   "id": "c1f0fc9b",
   "metadata": {},
   "source": [
    "If you find this content interesting and for more of this kind of content explore my YTChannel: https://www.youtube.com/@MaheshJaviniki"
   ]
  }
 ],
 "metadata": {
  "kernelspec": {
   "display_name": "Python 3 (ipykernel)",
   "language": "python",
   "name": "python3"
  },
  "language_info": {
   "codemirror_mode": {
    "name": "ipython",
    "version": 3
   },
   "file_extension": ".py",
   "mimetype": "text/x-python",
   "name": "python",
   "nbconvert_exporter": "python",
   "pygments_lexer": "ipython3",
   "version": "3.9.12"
  }
 },
 "nbformat": 4,
 "nbformat_minor": 5
}
