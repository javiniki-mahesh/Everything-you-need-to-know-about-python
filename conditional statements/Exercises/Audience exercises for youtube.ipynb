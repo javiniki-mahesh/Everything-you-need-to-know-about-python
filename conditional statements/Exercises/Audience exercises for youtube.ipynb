{
 "cells": [
  {
   "cell_type": "markdown",
   "id": "c61d7a37",
   "metadata": {},
   "source": [
    "# Everything you need to know about python:\n",
    "## In simplest possibe way"
   ]
  },
  {
   "cell_type": "markdown",
   "id": "c4974d89",
   "metadata": {},
   "source": [
    "# Real-world Coding exercises"
   ]
  },
  {
   "cell_type": "markdown",
   "id": "6fb07d43",
   "metadata": {},
   "source": [
    "## 1. withdrawals and deposits."
   ]
  },
  {
   "cell_type": "markdown",
   "id": "006e69aa",
   "metadata": {},
   "source": [
    "**Problem Statement:**\n",
    "\n",
    "You are tasked with creating a simple banking program to handle basic withdrawal and deposit transactions. The program will prompt the user to input the type of transaction they wish to perform, either a withdrawal or a deposit. Based on the transaction type, the program will execute the corresponding logic.\n",
    "\n",
    "**Description:**\n",
    "\n",
    "You need to develop a Python program that allows users to perform withdrawal or deposit transactions based on their choice. The program will interact with the user through the console, taking inputs and providing outputs accordingly.\n",
    "\n",
    "1. The program will start by prompting the user to enter the type of transaction they want to perform: either a \"withdraw\" or a \"deposit.\"\n",
    "\n",
    "2. If the user enters \"withdraw,\" the program will proceed with the following steps:\n",
    "   - The user will be asked to enter their current account balance (integer value) from which they want to make the withdrawal.\n",
    "   - The user will then be asked to enter the amount they wish to withdraw (integer value).\n",
    "   - The program will check if the account balance is sufficient to complete the withdrawal.\n",
    "   - If the balance is greater than or equal to the withdrawal amount, the program will process the withdrawal by deducting the withdrawal amount from the account balance and displaying the updated balance.\n",
    "   - If the balance is less than the withdrawal amount, the program will display an \"Insufficient balance\" message, and the transaction will not be completed.\n",
    "\n",
    "3. If the user enters \"deposit,\" the program will proceed with the following steps:\n",
    "   - The user will be asked to enter the amount they want to deposit (integer value).\n",
    "   - The program will display a message confirming the deposit of the specified amount.\n",
    "\n",
    "4. If the user enters any other transaction type besides \"withdraw\" or \"deposit,\" the program will display an \"Invalid transaction type\" message.\n",
    "\n",
    "5. The program should handle user input validation, ensuring that the entered values for the account balance, withdrawal amount, and deposit amount are valid integers.\n",
    "\n",
    "**Example Run:**\n",
    "\n",
    "```\n",
    "Enter type of transaction: (withdraw/deposit): withdraw\n",
    "Account balance by checking: 1000\n",
    "Enter amount to withdraw: 500\n",
    "Amount withdrawn: 500\n",
    "Balance: 500\n",
    "\n",
    "Enter type of transaction: (withdraw/deposit): deposit\n",
    "Enter amount to deposit: 200\n",
    "Amount 200 is deposited\n",
    "\n",
    "Enter type of transaction: (withdraw/deposit): transfer\n",
    "Invalid transaction type.\n",
    "```\n",
    "\n",
    "**Note:** The program should continue running until the user decides to terminate it manually. For simplicity, we have omitted the loop structure in the problem description. However, you may want to include a loop to allow multiple transactions until the user chooses to exit the program."
   ]
  },
  {
   "cell_type": "code",
   "execution_count": 1,
   "id": "559b7a05",
   "metadata": {},
   "outputs": [
    {
     "name": "stdout",
     "output_type": "stream",
     "text": [
      "Enter type of transaction: (withdraw/deposit): withdraw\n",
      "Account balance by checking: 3000\n",
      "Enter amount to withdraw300\n",
      "Amount withdrawn :  300\n",
      "Balance:  2700\n"
     ]
    }
   ],
   "source": [
    "transaction_type = input(\"Enter type of transaction: (withdraw/deposit): \")\n",
    "\n",
    "if transaction_type == \"withdraw\":\n",
    "    account_balance =  int(input(\"Account balance by checking: \"))\n",
    "    amount_to_withdraw = int(input('Enter amount to withdraw'))\n",
    "    if account_balance >= amount_to_withdraw:\n",
    "        print('Amount withdrawn : ',amount_to_withdraw)\n",
    "        print('Balance: ', account_balance-amount_to_withdraw)\n",
    "    else:\n",
    "        print(\"Insufficient balance.\")\n",
    "elif transaction_type == \"deposit\":\n",
    "    amount_to_deposit = int(input('Enter amount to deposit: '))\n",
    "    print(\"Amount {} is deposited\".format(amount_to_deposit))\n",
    "else:\n",
    "    print(\"Invalid transaction type.\")"
   ]
  },
  {
   "cell_type": "markdown",
   "id": "79086971",
   "metadata": {},
   "source": [
    "## 2. Greetings based on the time of day"
   ]
  },
  {
   "cell_type": "markdown",
   "id": "af243393",
   "metadata": {},
   "source": [
    "**Problem Statement:**\n",
    "\n",
    "You are tasked with creating a Python program that provides appropriate greetings based on the time of day. The program will prompt the user to input the hour (in 24-hour format, ranging from 0 to 23). Depending on the hour entered, the program will generate a suitable greeting message for the corresponding time of day.\n",
    "\n",
    "**Description:**\n",
    "\n",
    "You need to develop a Python program that greets the user with a suitable message based on the time of day. The program will interact with the user through the console, taking the hour as input and providing the greeting message accordingly.\n",
    "\n",
    "1. The program will start by prompting the user to enter the hour of the day.\n",
    "\n",
    "2. The user will enter the hour as an integer value, ranging from 0 to 23, representing the 24-hour format.\n",
    "\n",
    "3. Based on the hour entered, the program will determine the time of day and generate an appropriate greeting message:\n",
    "   - If the hour is between 5 (inclusive) and 12 (exclusive), the program will generate the message \"Good morning!\"\n",
    "   - If the hour is between 12 (inclusive) and 17 (exclusive), the program will generate the message \"Good afternoon!\"\n",
    "   - If the hour is between 17 (inclusive) and 21 (exclusive), the program will generate the message \"Good evening!\"\n",
    "   - For all other hours (between 21 and 24, and 0 to 5), the program will generate the message \"Good night!\"\n",
    "\n",
    "4. The program will then print the greeting message on the console.\n",
    "\n",
    "**Example Run:**\n",
    "\n",
    "```\n",
    "Enter the hour (0-23): 10\n",
    "Good morning!\n",
    "\n",
    "Enter the hour (0-23): 15\n",
    "Good afternoon!\n",
    "\n",
    "Enter the hour (0-23): 19\n",
    "Good evening!\n",
    "\n",
    "Enter the hour (0-23): 23\n",
    "Good night!\n",
    "```\n",
    "\n",
    "**Note:** The program assumes that the user will enter a valid hour within the range of 0 to 23. No input validation is provided in this simplified problem statement, but in a real-world application, it is essential to handle invalid inputs."
   ]
  },
  {
   "cell_type": "code",
   "execution_count": 2,
   "id": "93d67d9b",
   "metadata": {},
   "outputs": [
    {
     "name": "stdout",
     "output_type": "stream",
     "text": [
      "Enter the hour (0-23): 4\n",
      "Good night!\n"
     ]
    }
   ],
   "source": [
    "hour = int(input(\"Enter the hour (0-23): \"))\n",
    "\n",
    "if 5 <= hour < 12:\n",
    "    greeting = \"Good morning!\"\n",
    "elif 12 <= hour < 17:\n",
    "    greeting = \"Good afternoon!\"\n",
    "elif 17 <= hour < 21:\n",
    "    greeting = \"Good evening!\"\n",
    "else:\n",
    "    greeting = \"Good night!\"\n",
    "\n",
    "print(greeting)"
   ]
  },
  {
   "cell_type": "markdown",
   "id": "5bc09a24",
   "metadata": {},
   "source": [
    "## 3. A simple number guessing game with a static secret number."
   ]
  },
  {
   "cell_type": "markdown",
   "id": "fcee7e01",
   "metadata": {},
   "source": [
    "**Problem Statement:**\n",
    "\n",
    "You are tasked with creating a simple Python program that allows a user to guess a secret number. The program will prompt the user to input their guess, and it will provide feedback based on whether the guess is correct or not. The secret number is static, and its value can be changed.\n",
    "\n",
    "**Description:**\n",
    "\n",
    "You need to develop a Python program that lets the user guess a secret number and provides feedback based on their guess. The program will interact with the user through the console, taking the guessed number as input and providing feedback accordingly.\n",
    "\n",
    "1. The program will start by initializing a secret number with a specific value. You can change this value to set a new secret number for the game.\n",
    "\n",
    "2. The program will prompt the user to enter their guess for the secret number.\n",
    "\n",
    "3. The user will enter their guess as an integer value, ranging from 0 to 9, representing the number they think is the secret number.\n",
    "\n",
    "4. The program will compare the user's guess with the secret number:\n",
    "   - If the guess matches the secret number, the program will print \"Congratulations! You guessed it right.\"\n",
    "   - If the guess is lower than the secret number, the program will print \"Try again. The secret number is higher.\"\n",
    "   - If the guess is higher than the secret number, the program will print \"Try again. The secret number is lower.\"\n",
    "\n",
    "5. After providing the feedback, the program will terminate.\n",
    "\n",
    "**Example Run:**\n",
    "\n",
    "```\n",
    "Guess the secret number (between 0 - 9): 3\n",
    "Try again. The secret number is higher.\n",
    "\n",
    "Guess the secret number (between 0 - 9): 7\n",
    "Try again. The secret number is lower.\n",
    "\n",
    "Guess the secret number (between 0 - 9): 5\n",
    "Congratulations! You guessed it right.\n",
    "```\n",
    "\n",
    "**Note:** The program assumes that the user will enter a valid guess within the range of 0 to 9. No input validation is provided in this simplified problem statement, but in a real-world application, it is essential to handle invalid inputs. Additionally, since the secret number is static, the program will always check against the same secret number until its value is changed manually in the code."
   ]
  },
  {
   "cell_type": "code",
   "execution_count": 3,
   "id": "848f32cd",
   "metadata": {},
   "outputs": [
    {
     "name": "stdout",
     "output_type": "stream",
     "text": [
      "Guess the secret number(between 0 - 9): 4\n",
      "Try again. The secret number is higher.\n"
     ]
    }
   ],
   "source": [
    "secret_number = 5 # static we can change\n",
    "guess = int(input(\"Guess the secret number(between 0 - 9): \"))\n",
    "\n",
    "if guess == secret_number:\n",
    "    print(\"Congratulations! You guessed it right.\")\n",
    "elif guess < secret_number:\n",
    "    print(\"Try again. The secret number is higher.\")\n",
    "else:\n",
    "    print(\"Try again. The secret number is lower.\")"
   ]
  },
  {
   "cell_type": "markdown",
   "id": "e7ce5e74",
   "metadata": {},
   "source": [
    "## 4. Assigns access levels based on user roles"
   ]
  },
  {
   "cell_type": "markdown",
   "id": "b1b4184b",
   "metadata": {},
   "source": [
    "**Problem Statement:**\n",
    "\n",
    "You are tasked with creating a Python program that assigns access levels based on the user's role. The program will prompt the user to input their user role, which can be one of three options: \"admin,\" \"user,\" or \"guest.\" Depending on the user's role, the program will assign an appropriate access level and display it on the screen.\n",
    "\n",
    "**Description:**\n",
    "\n",
    "You need to develop a Python program that assigns access levels to users based on their roles and provides feedback on their access level. The program will interact with the user through the console, taking the user role as input and displaying the corresponding access level.\n",
    "\n",
    "1. The program will start by prompting the user to enter their user role.\n",
    "\n",
    "2. The user will enter their user role as a string, which can be one of the following options: \"admin,\" \"user,\" or \"guest.\" The input is case-insensitive, meaning \"Admin,\" \"ADMIN,\" and \"admin\" will all be treated the same.\n",
    "\n",
    "3. Based on the user's role, the program will determine the access level and assign it to a variable called \"access_level\":\n",
    "   - If the user role is \"admin,\" the program will assign \"Full access\" to the \"access_level\" variable.\n",
    "   - If the user role is \"user,\" the program will assign \"Limited access\" to the \"access_level\" variable.\n",
    "   - If the user role is \"guest,\" the program will assign \"Read-only access\" to the \"access_level\" variable.\n",
    "   - For any other role input, the program will assign \"Invalid role\" to the \"access_level\" variable.\n",
    "\n",
    "4. The program will then print the user's access level on the console.\n",
    "\n",
    "**Example Run:**\n",
    "\n",
    "```\n",
    "Enter your user role (admin/user/guest): Admin\n",
    "Your access level is: Full access\n",
    "\n",
    "Enter your user role (admin/user/guest): user\n",
    "Your access level is: Limited access\n",
    "\n",
    "Enter your user role (admin/user/guest): GUEST\n",
    "Your access level is: Read-only access\n",
    "\n",
    "Enter your user role (admin/user/guest): moderator\n",
    "Your access level is: Invalid role\n",
    "```\n",
    "\n",
    "**Note:** The program assumes that the user will enter a valid user role (\"admin,\" \"user,\" or \"guest\"). The input is converted to lowercase using the `.lower()` method to handle case-insensitive comparisons. Additionally, it provides a default \"Invalid role\" message for any other role input, though you can customize it according to your requirements."
   ]
  },
  {
   "cell_type": "code",
   "execution_count": 4,
   "id": "a4876d47",
   "metadata": {},
   "outputs": [
    {
     "name": "stdout",
     "output_type": "stream",
     "text": [
      "Enter your user role (admin/user/guest): user\n",
      "Your access level is: Limited access\n"
     ]
    }
   ],
   "source": [
    "user_role = input(\"Enter your user role (admin/user/guest): \").lower()\n",
    "\n",
    "if user_role == \"admin\":\n",
    "    access_level = \"Full access\"\n",
    "elif user_role == \"user\":\n",
    "    access_level = \"Limited access\"\n",
    "elif user_role == \"guest\":\n",
    "    access_level = \"Read-only access\"\n",
    "else:\n",
    "    access_level = \"Invalid role\"\n",
    "\n",
    "print(\"Your access level is:\", access_level)\n"
   ]
  },
  {
   "cell_type": "markdown",
   "id": "2dcde537",
   "metadata": {},
   "source": [
    "# 5. Seat Booking Management"
   ]
  },
  {
   "cell_type": "markdown",
   "id": "875f04d9",
   "metadata": {},
   "source": [
    "**Problem Statement:**\n",
    "\n",
    "You are tasked with creating a Python program to manage seat preferences for passengers on a flight. The program will prompt the user to input their seat preference, either \"window\" or \"non-window.\" Depending on the preference, the program will check seat availability and provide confirmation messages accordingly.\n",
    "\n",
    "**Description:**\n",
    "\n",
    "You need to develop a Python program that manages seat preferences for passengers on a flight. The program will interact with the user through the console, taking the seat preference as input and providing confirmation messages based on seat availability.\n",
    "\n",
    "1. The program will start by prompting the user to enter their seat preference.\n",
    "\n",
    "2. The user will enter their seat preference as a string, which can be either \"window\" or \"non-window.\" The input is case-sensitive, meaning \"Window\" and \"window\" will be considered as different preferences.\n",
    "\n",
    "3. If the user prefers a \"window\" seat:\n",
    "   - The program will prompt the user to enter the number of available window seats (an integer value) from the flight management.\n",
    "   - The program will then check if there are any window seats available:\n",
    "      - If there are available window seats (window_seats_available > 0), the program will display the message \"Congratulations, your window seat is confirmed.\"\n",
    "      - If there are no available window seats (window_seats_available <= 0), the program will display the message \"Sorry, window seats are not available.\"\n",
    "\n",
    "4. If the user prefers a \"non-window\" (aisle) seat:\n",
    "   - The program will prompt the user to enter the number of available non-window seats (an integer value) from the flight management.\n",
    "   - The program will then check if there are any non-window seats available:\n",
    "      - If there are available non-window seats (aisle_seats_available > 0), the program will display the message \"Congratulations, your non-window seat is confirmed.\"\n",
    "      - If there are no available non-window seats (aisle_seats_available <= 0), the program will display the message \"Sorry, non-window seats are not available.\"\n",
    "\n",
    "5. The program will terminate after providing the confirmation message.\n",
    "\n",
    "**Example Run:**\n",
    "\n",
    "```\n",
    "Enter seat preference (window/non-window): window\n",
    "window seats available (static from management): 3\n",
    "Congratulations, your window seat is confirmed.\n",
    "\n",
    "Enter seat preference (window/non-window): non-window\n",
    "non-window seats available (static from management): 0\n",
    "Sorry, non-window seats are not available.\n",
    "```\n",
    "\n",
    "**Note:** The program assumes that the user will enter valid seat preferences as \"window\" or \"non-window.\" No input validation is provided in this simplified problem statement, but in a real-world application, it is essential to handle invalid inputs and ensure that the input values are of the correct data type. Additionally, the program relies on static values for available window and non-window seats, which you can modify to reflect the actual seat availability in a real scenario."
   ]
  },
  {
   "cell_type": "code",
   "execution_count": 5,
   "id": "e32a610e",
   "metadata": {},
   "outputs": [
    {
     "name": "stdout",
     "output_type": "stream",
     "text": [
      "Enter seat preference (window/non-window): window\n",
      "window seats availble (static from management): 2\n",
      "Congratulations, your window seat is conformed.\n"
     ]
    }
   ],
   "source": [
    "seat_preference = input('Enter seat preference (window/non-window): ')\n",
    "if seat_preference == \"window\":\n",
    "    window_seats_available = int(input('window seats availble (static from management): '))\n",
    "    if window_seats_available > 0:\n",
    "        print('Congratulations, your window seat is conformed.')\n",
    "    else:\n",
    "        print('Sorry, window seats are not available')\n",
    "elif seat_preference == \"non-window\":\n",
    "    aisle_seats_available = int(input('non-window seats availble (static from management): '))\n",
    "    if aisle_seats_available > 0:\n",
    "        print('Congratulations, your non-window seat is conformed.')\n",
    "    else:\n",
    "        print('Sorry, window seats are not available')"
   ]
  },
  {
   "cell_type": "markdown",
   "id": "5d3d8931",
   "metadata": {},
   "source": [
    "If you find this content interesting and for more of this kind of content explore my YTChannel: https://www.youtube.com/@MaheshJaviniki"
   ]
  }
 ],
 "metadata": {
  "kernelspec": {
   "display_name": "Python 3 (ipykernel)",
   "language": "python",
   "name": "python3"
  },
  "language_info": {
   "codemirror_mode": {
    "name": "ipython",
    "version": 3
   },
   "file_extension": ".py",
   "mimetype": "text/x-python",
   "name": "python",
   "nbconvert_exporter": "python",
   "pygments_lexer": "ipython3",
   "version": "3.9.12"
  }
 },
 "nbformat": 4,
 "nbformat_minor": 5
}
