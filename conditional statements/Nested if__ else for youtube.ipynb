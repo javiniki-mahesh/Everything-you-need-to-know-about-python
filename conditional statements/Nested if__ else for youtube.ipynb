{
 "cells": [
  {
   "cell_type": "markdown",
   "id": "748c3955",
   "metadata": {},
   "source": [
    "# Everything you need to know about python:\n",
    "## In simplest possible way"
   ]
  },
  {
   "cell_type": "markdown",
   "id": "0da360e3",
   "metadata": {},
   "source": [
    "# Conditional statements\n",
    "# Nested if...else"
   ]
  },
  {
   "cell_type": "markdown",
   "id": "00f66f9d",
   "metadata": {},
   "source": [
    "    Nested if...else statements in Python provide a way to create more complex decision-making structures within your code. They allow you to have one conditional statement inside another, forming a hierarchy of conditions that are evaluated one after the other. This nesting enables you to handle intricate scenarios and make precise determinations based on multiple conditions."
   ]
  },
  {
   "cell_type": "markdown",
   "id": "f0827a87",
   "metadata": {},
   "source": [
    "## Syntax"
   ]
  },
  {
   "cell_type": "markdown",
   "id": "01bfcdec",
   "metadata": {},
   "source": [
    "```python\n",
    "if outer_if_condition:\n",
    "    outer if block of code\n",
    "    if inner_if_condition_of_outer_if:\n",
    "        inner if block of code of outer if\n",
    "    else:\n",
    "        inner if's else block of code of outer if\n",
    "else:\n",
    "    outer else block code\n",
    "    if inner_if_condition_of_outer_else:\n",
    "        inner if block of code of outer else\n",
    "    else:\n",
    "        inner if's else block of code of outer else\n",
    "```"
   ]
  },
  {
   "cell_type": "code",
   "execution_count": 17,
   "id": "24b843d0",
   "metadata": {},
   "outputs": [
    {
     "name": "stdout",
     "output_type": "stream",
     "text": [
      "Inside if block of if\n"
     ]
    }
   ],
   "source": [
    "if True:\n",
    "    if True:\n",
    "        print('Inside if block of if')\n",
    "    else:\n",
    "        print(\"Inside else block of if\")\n",
    "else:\n",
    "    if False:\n",
    "        print(\"Inside of if of else\")\n",
    "    else:\n",
    "        print('Inside of else of else')"
   ]
  },
  {
   "cell_type": "markdown",
   "id": "f87b42b8",
   "metadata": {},
   "source": [
    "### Different combinations"
   ]
  },
  {
   "cell_type": "code",
   "execution_count": 18,
   "id": "f9518bca",
   "metadata": {},
   "outputs": [
    {
     "name": "stdout",
     "output_type": "stream",
     "text": [
      "Inside else block of if\n"
     ]
    }
   ],
   "source": [
    "if True:\n",
    "    if False:\n",
    "        print('Inside if block of if')\n",
    "    else:\n",
    "        print(\"Inside else block of if\")\n",
    "else:\n",
    "    if True:\n",
    "        print(\"Inside of if of else\")\n",
    "    else:\n",
    "        print('Inside of else of else')"
   ]
  },
  {
   "cell_type": "code",
   "execution_count": 19,
   "id": "0d726c0d",
   "metadata": {},
   "outputs": [
    {
     "name": "stdout",
     "output_type": "stream",
     "text": [
      "Inside of if of else\n"
     ]
    }
   ],
   "source": [
    "if False:\n",
    "    if True:\n",
    "        print('Inside if block of if')\n",
    "    else:\n",
    "        print(\"Inside else block of if\")\n",
    "else:\n",
    "    if True:\n",
    "        print(\"Inside of if of else\")\n",
    "    else:\n",
    "        print('Inside of else of else')"
   ]
  },
  {
   "cell_type": "code",
   "execution_count": 20,
   "id": "f915d1ba",
   "metadata": {},
   "outputs": [
    {
     "name": "stdout",
     "output_type": "stream",
     "text": [
      "Inside of else of else\n"
     ]
    }
   ],
   "source": [
    "if False:\n",
    "    if True:\n",
    "        print('Inside if block of if')\n",
    "    else:\n",
    "        print(\"Inside else block of if\")\n",
    "else:\n",
    "    if False:\n",
    "        print(\"Inside of if of else\")\n",
    "    else:\n",
    "        print('Inside of else of else')"
   ]
  },
  {
   "cell_type": "markdown",
   "id": "e07000e4",
   "metadata": {},
   "source": [
    "    Below is a small exercise of\n",
    "        A student has wrote an exam, if the student got 40 or more marks, the student will considered as pass. Else if he participated in any sports and got 30 or more marks then the student is still considered as pass, otherwise Not pass"
   ]
  },
  {
   "cell_type": "code",
   "execution_count": 21,
   "id": "705a737a",
   "metadata": {},
   "outputs": [
    {
     "name": "stdout",
     "output_type": "stream",
     "text": [
      "Enter marks: 58\n",
      "pass\n"
     ]
    }
   ],
   "source": [
    "marks = int(input('Enter marks: '))\n",
    "\n",
    "if marks >= 40:\n",
    "    print(\"pass\")\n",
    "else:\n",
    "    \n",
    "    sports = input(\"Have you participated in any sports (yes/no) : \")\n",
    "    if marks >= 30 and sports == 'yes':\n",
    "        print('pass')\n",
    "    else:\n",
    "        print('Not pass')"
   ]
  },
  {
   "cell_type": "code",
   "execution_count": 22,
   "id": "eb387322",
   "metadata": {},
   "outputs": [
    {
     "name": "stdout",
     "output_type": "stream",
     "text": [
      "Enter marks: 35\n",
      "Have you participated in any sports (yes/no) : yes\n",
      "pass\n"
     ]
    }
   ],
   "source": [
    "marks = int(input('Enter marks: '))\n",
    "\n",
    "if marks >= 40:\n",
    "    print(\"pass\")\n",
    "else:\n",
    "    \n",
    "    sports = input(\"Have you participated in any sports (yes/no) : \")\n",
    "    if marks >= 30 and sports == 'yes':\n",
    "        print('pass')\n",
    "    else:\n",
    "        print('Not pass')"
   ]
  },
  {
   "cell_type": "code",
   "execution_count": 23,
   "id": "32d97b6b",
   "metadata": {
    "scrolled": true
   },
   "outputs": [
    {
     "name": "stdout",
     "output_type": "stream",
     "text": [
      "Enter marks: 30\n",
      "Have you participated in any sports (yes/no) : no\n",
      "Not pass\n"
     ]
    }
   ],
   "source": [
    "marks = int(input('Enter marks: '))\n",
    "\n",
    "if marks >= 40:\n",
    "    print(\"pass\")\n",
    "else:\n",
    "    \n",
    "    sports = input(\"Have you participated in any sports (yes/no) : \")\n",
    "    if marks >= 30 and sports == 'yes':\n",
    "        print('pass')\n",
    "    else:\n",
    "        print('Not pass')"
   ]
  },
  {
   "cell_type": "markdown",
   "id": "7d36e300",
   "metadata": {},
   "source": [
    "If you find this content interesting and for more of this kind of content explore my YTChannel: https://www.youtube.com/@MaheshJaviniki"
   ]
  }
 ],
 "metadata": {
  "kernelspec": {
   "display_name": "Python 3 (ipykernel)",
   "language": "python",
   "name": "python3"
  },
  "language_info": {
   "codemirror_mode": {
    "name": "ipython",
    "version": 3
   },
   "file_extension": ".py",
   "mimetype": "text/x-python",
   "name": "python",
   "nbconvert_exporter": "python",
   "pygments_lexer": "ipython3",
   "version": "3.9.12"
  }
 },
 "nbformat": 4,
 "nbformat_minor": 5
}
