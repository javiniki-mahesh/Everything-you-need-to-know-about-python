{
 "cells": [
  {
   "cell_type": "markdown",
   "id": "a42135fa",
   "metadata": {},
   "source": [
    "# Everything you need to know about python:\n",
    "## In simplest possible way"
   ]
  },
  {
   "cell_type": "markdown",
   "id": "4da4b014",
   "metadata": {},
   "source": [
    "# elif"
   ]
  },
  {
   "cell_type": "markdown",
   "id": "78d5055d",
   "metadata": {},
   "source": [
    "    In Python, elif is short for \"else if.\" It is a keyword used in conditional statements to create a chain of multiple conditions. The elif statement is used in conjunction with the if statement and optionally with the else statement to control the flow of a program based on different conditions."
   ]
  },
  {
   "cell_type": "markdown",
   "id": "2b1918d3",
   "metadata": {},
   "source": [
    "## Syntax"
   ]
  },
  {
   "cell_type": "markdown",
   "id": "13381aad",
   "metadata": {},
   "source": [
    "```python\n",
    "if condition1:\n",
    "    block of code if condition1 is True\n",
    "elif condition2:\n",
    "    block of code if condition2 is True\n",
    "elif condition3:\n",
    "    block of code if condition3 is True\n",
    ".\n",
    ".\n",
    ".\n",
    "else:\n",
    "    block of code if none of the conditions are True\n",
    "```"
   ]
  },
  {
   "cell_type": "markdown",
   "id": "77183721",
   "metadata": {},
   "source": [
    "## Understand it more clearly"
   ]
  },
  {
   "cell_type": "code",
   "execution_count": 1,
   "id": "0e5e4c5e",
   "metadata": {},
   "outputs": [
    {
     "name": "stdout",
     "output_type": "stream",
     "text": [
      "if condition true\n"
     ]
    }
   ],
   "source": [
    "if True: # This condition is True\n",
    "    print('if condition true') # <--- This block will be executed\n",
    "elif False:\n",
    "    print('elif 1 conditiont true')\n",
    "elif False:\n",
    "    print('elif 2 conditiont true')\n",
    "else:\n",
    "    print(\"Last else\")"
   ]
  },
  {
   "cell_type": "code",
   "execution_count": 2,
   "id": "5f73d8a9",
   "metadata": {},
   "outputs": [
    {
     "name": "stdout",
     "output_type": "stream",
     "text": [
      "elif 1 conditiont true\n"
     ]
    }
   ],
   "source": [
    "if False:\n",
    "    print('if condition true')\n",
    "elif True: # This condition is True\n",
    "    print('elif 1 conditiont true') # <--- This block will be executed\n",
    "elif False:\n",
    "    print('elif 2 conditiont true')\n",
    "else:\n",
    "    print(\"Last else\")"
   ]
  },
  {
   "cell_type": "code",
   "execution_count": 3,
   "id": "ae8a6211",
   "metadata": {},
   "outputs": [
    {
     "name": "stdout",
     "output_type": "stream",
     "text": [
      "elif 2 conditiont true\n"
     ]
    }
   ],
   "source": [
    "if False:\n",
    "    print('if condition true')\n",
    "elif False:\n",
    "    print('elif 1 conditiont true')\n",
    "elif True: # This condition is True\n",
    "    print('elif 2 conditiont true') # <--- This block will be executed\n",
    "else:\n",
    "    print(\"Last else\")"
   ]
  },
  {
   "cell_type": "code",
   "execution_count": 4,
   "id": "e8fa6a93",
   "metadata": {},
   "outputs": [
    {
     "name": "stdout",
     "output_type": "stream",
     "text": [
      "Last else\n"
     ]
    }
   ],
   "source": [
    "if False:\n",
    "    print('if condition true')\n",
    "elif False:\n",
    "    print('elif 1 conditiont true')\n",
    "elif False:\n",
    "    print('elif 2 conditiont true')\n",
    "else: # None of the conditions are True\n",
    "    print(\"Last else\") # <--- This block will be executed"
   ]
  },
  {
   "cell_type": "markdown",
   "id": "73023fda",
   "metadata": {},
   "source": [
    "## Real-world example"
   ]
  },
  {
   "cell_type": "markdown",
   "id": "59f987ab",
   "metadata": {},
   "source": [
    "The below Python code takes input from the user for \"marks\" and then uses an `if-elif-else` construct to determine the corresponding grade based on the input value. The grading criteria are as follows:\n",
    "\n",
    "1. If the \"marks\" are 90 or higher, it prints \"A\".\n",
    "2. If the \"marks\" are greater than 81 and less than 90, it prints \"B\".\n",
    "3. If the \"marks\" are greater than 71 and less than or equal to 80, it prints \"C\".\n",
    "4. For any other value of \"marks\" that does not meet the above conditions, it prints \"D\".\n",
    "\n",
    "This code effectively categorizes the marks into different grades, providing an appropriate response based on the user's input."
   ]
  },
  {
   "cell_type": "code",
   "execution_count": 5,
   "id": "214200a2",
   "metadata": {},
   "outputs": [
    {
     "name": "stdout",
     "output_type": "stream",
     "text": [
      "Enter marks: 93\n",
      "A\n"
     ]
    }
   ],
   "source": [
    "marks = int(input(\"Enter marks: \"))\n",
    "\n",
    "if marks>= 90:\n",
    "    print(\"A\")\n",
    "elif marks >81 and marks <90:\n",
    "    print(\"B\")\n",
    "elif marks >71 and marks <=80:\n",
    "    print(\"C\")\n",
    "else:\n",
    "    print(\"D\")"
   ]
  },
  {
   "cell_type": "code",
   "execution_count": 6,
   "id": "13044903",
   "metadata": {},
   "outputs": [
    {
     "name": "stdout",
     "output_type": "stream",
     "text": [
      "Enter marks: 85\n",
      "B\n"
     ]
    }
   ],
   "source": [
    "marks = int(input(\"Enter marks: \"))\n",
    "\n",
    "if marks>= 90:\n",
    "    print(\"A\")\n",
    "elif marks >81 and marks <90:\n",
    "    print(\"B\")\n",
    "elif marks >71 and marks <=80:\n",
    "    print(\"C\")\n",
    "else:\n",
    "    print(\"D\")"
   ]
  },
  {
   "cell_type": "code",
   "execution_count": 7,
   "id": "99c62c02",
   "metadata": {},
   "outputs": [
    {
     "name": "stdout",
     "output_type": "stream",
     "text": [
      "Enter marks: 76\n",
      "C\n"
     ]
    }
   ],
   "source": [
    "marks = int(input(\"Enter marks: \"))\n",
    "\n",
    "if marks>= 90:\n",
    "    print(\"A\")\n",
    "elif marks >81 and marks <90:\n",
    "    print(\"B\")\n",
    "elif marks >71 and marks <=80:\n",
    "    print(\"C\")\n",
    "else:\n",
    "    print(\"D\")"
   ]
  },
  {
   "cell_type": "code",
   "execution_count": 8,
   "id": "491e6317",
   "metadata": {},
   "outputs": [
    {
     "name": "stdout",
     "output_type": "stream",
     "text": [
      "Enter marks: 35\n",
      "D\n"
     ]
    }
   ],
   "source": [
    "marks = int(input(\"Enter marks: \"))\n",
    "\n",
    "if marks>= 90:\n",
    "    print(\"A\")\n",
    "elif marks >81 and marks <90:\n",
    "    print(\"B\")\n",
    "elif marks >71 and marks <=80:\n",
    "    print(\"C\")\n",
    "else:\n",
    "    print(\"D\")"
   ]
  },
  {
   "cell_type": "markdown",
   "id": "b744ee58",
   "metadata": {},
   "source": [
    "If you find this content interesting and for more of this kind of content explore my YTChannel: https://www.youtube.com/@MaheshJaviniki"
   ]
  }
 ],
 "metadata": {
  "kernelspec": {
   "display_name": "Python 3 (ipykernel)",
   "language": "python",
   "name": "python3"
  },
  "language_info": {
   "codemirror_mode": {
    "name": "ipython",
    "version": 3
   },
   "file_extension": ".py",
   "mimetype": "text/x-python",
   "name": "python",
   "nbconvert_exporter": "python",
   "pygments_lexer": "ipython3",
   "version": "3.9.12"
  }
 },
 "nbformat": 4,
 "nbformat_minor": 5
}
