{
 "cells": [
  {
   "cell_type": "markdown",
   "id": "72f04c7e",
   "metadata": {},
   "source": [
    "# Everything you need to know about python:\n",
    "## In simplest possible way"
   ]
  },
  {
   "cell_type": "markdown",
   "id": "4d933886",
   "metadata": {},
   "source": [
    "# Ternary operator"
   ]
  },
  {
   "cell_type": "markdown",
   "id": "594d2d58",
   "metadata": {},
   "source": [
    "    In Python, the ternary operator is a concise way to express a conditional expression. It allows you to write a simple one-liner to make decisions based on a condition. The ternary operator takes the following form:"
   ]
  },
  {
   "cell_type": "markdown",
   "id": "b3bcc95c",
   "metadata": {},
   "source": [
    "## Syntax"
   ]
  },
  {
   "cell_type": "markdown",
   "id": "ac718d01",
   "metadata": {},
   "source": [
    "```python\n",
    "if_statement if condition else else_statement\n",
    "```\n",
    "    if the condition is True the if_statement will be executed otherwise else_statement will be executed"
   ]
  },
  {
   "cell_type": "markdown",
   "id": "a14b470b",
   "metadata": {},
   "source": [
    "## Even or Odd"
   ]
  },
  {
   "cell_type": "code",
   "execution_count": 1,
   "id": "4e2d2965",
   "metadata": {
    "scrolled": true
   },
   "outputs": [
    {
     "name": "stdout",
     "output_type": "stream",
     "text": [
      "Enter a number: 5\n",
      "Odd\n"
     ]
    }
   ],
   "source": [
    "num = int(input(\"Enter a number: \"))\n",
    "print('Even') if num % 2 == 0 else print('Odd')"
   ]
  },
  {
   "cell_type": "markdown",
   "id": "3951783b",
   "metadata": {},
   "source": [
    "    In the above code we read the input for num.\n",
    "\n",
    "    using ternary operator we are checking the condition num % 2 == 0, which is to know a number is even or odd.\n",
    "    If the condition results True left side statement that is print('Even') will be executed, else the print('Odd') will be executed"
   ]
  },
  {
   "cell_type": "code",
   "execution_count": 2,
   "id": "a1150698",
   "metadata": {
    "scrolled": true
   },
   "outputs": [
    {
     "name": "stdout",
     "output_type": "stream",
     "text": [
      "Enter a number: 8\n",
      "Even\n"
     ]
    }
   ],
   "source": [
    "num = int(input(\"Enter a number: \"))\n",
    "print('Even') if num % 2 == 0 else print('Odd')"
   ]
  },
  {
   "cell_type": "markdown",
   "id": "c09a2bb2",
   "metadata": {},
   "source": [
    "## Pass or Fail"
   ]
  },
  {
   "cell_type": "code",
   "execution_count": 3,
   "id": "00f56138",
   "metadata": {},
   "outputs": [
    {
     "name": "stdout",
     "output_type": "stream",
     "text": [
      "Enter marks: 86\n",
      "pass\n"
     ]
    }
   ],
   "source": [
    "marks = int(input('Enter marks: '))\n",
    "print('pass') if marks >= 40 else print('Fail')"
   ]
  },
  {
   "cell_type": "code",
   "execution_count": 4,
   "id": "034ae6b2",
   "metadata": {},
   "outputs": [
    {
     "name": "stdout",
     "output_type": "stream",
     "text": [
      "Enter marks: 33\n",
      "Fail\n"
     ]
    }
   ],
   "source": [
    "marks = int(input('Enter marks: '))\n",
    "print('pass') if marks >= 40 else print('Fail')"
   ]
  },
  {
   "cell_type": "markdown",
   "id": "c808a82c",
   "metadata": {},
   "source": [
    "    In the above code we read the input for marks.\n",
    "\n",
    "    using ternary operator we are checking the condition marks >= 40 , which is to know a student has reached the criteria or not.\n",
    "    If the condition results True left side statement that is print('Pass') will be executed, else the print('Fail') will be executed"
   ]
  },
  {
   "cell_type": "markdown",
   "id": "f72d0279",
   "metadata": {},
   "source": [
    "If you find this content interesting and for more of this kind of content explore my YTChannel: https://www.youtube.com/@MaheshJaviniki"
   ]
  }
 ],
 "metadata": {
  "kernelspec": {
   "display_name": "Python 3 (ipykernel)",
   "language": "python",
   "name": "python3"
  },
  "language_info": {
   "codemirror_mode": {
    "name": "ipython",
    "version": 3
   },
   "file_extension": ".py",
   "mimetype": "text/x-python",
   "name": "python",
   "nbconvert_exporter": "python",
   "pygments_lexer": "ipython3",
   "version": "3.9.12"
  }
 },
 "nbformat": 4,
 "nbformat_minor": 5
}
