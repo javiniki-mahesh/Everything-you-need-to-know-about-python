{
 "cells": [
  {
   "cell_type": "markdown",
   "id": "7554b65c",
   "metadata": {},
   "source": [
    "# Advanced data types"
   ]
  },
  {
   "cell_type": "markdown",
   "id": "23848b1e",
   "metadata": {},
   "source": [
    "# Ordered collections"
   ]
  },
  {
   "cell_type": "markdown",
   "id": "77b7761e",
   "metadata": {},
   "source": [
    "## list\n",
    "## tuple \n",
    "## string"
   ]
  },
  {
   "cell_type": "markdown",
   "id": "57b75a44",
   "metadata": {},
   "source": [
    "## list"
   ]
  },
  {
   "cell_type": "code",
   "execution_count": 5,
   "id": "cdb0934d",
   "metadata": {},
   "outputs": [
    {
     "data": {
      "text/plain": [
       "[]"
      ]
     },
     "execution_count": 5,
     "metadata": {},
     "output_type": "execute_result"
    }
   ],
   "source": [
    "[] # list representation"
   ]
  },
  {
   "cell_type": "code",
   "execution_count": 6,
   "id": "e395b6a6",
   "metadata": {},
   "outputs": [
    {
     "data": {
      "text/plain": [
       "list"
      ]
     },
     "execution_count": 6,
     "metadata": {},
     "output_type": "execute_result"
    }
   ],
   "source": [
    "type([])"
   ]
  },
  {
   "cell_type": "code",
   "execution_count": 7,
   "id": "fc23dc70",
   "metadata": {},
   "outputs": [
    {
     "data": {
      "text/plain": [
       "[1, 2, 3, 4]"
      ]
     },
     "execution_count": 7,
     "metadata": {},
     "output_type": "execute_result"
    }
   ],
   "source": [
    "[1,2,3,4]"
   ]
  },
  {
   "cell_type": "code",
   "execution_count": 6,
   "id": "eca57313",
   "metadata": {},
   "outputs": [
    {
     "data": {
      "text/plain": [
       "list"
      ]
     },
     "execution_count": 6,
     "metadata": {},
     "output_type": "execute_result"
    }
   ],
   "source": [
    "type([1,2,3,4])"
   ]
  },
  {
   "cell_type": "markdown",
   "id": "02b276a3",
   "metadata": {},
   "source": [
    "## tuple"
   ]
  },
  {
   "cell_type": "code",
   "execution_count": 12,
   "id": "2afb19be",
   "metadata": {},
   "outputs": [
    {
     "data": {
      "text/plain": [
       "tuple"
      ]
     },
     "execution_count": 12,
     "metadata": {},
     "output_type": "execute_result"
    }
   ],
   "source": [
    "type(()) # tuple representation"
   ]
  },
  {
   "cell_type": "code",
   "execution_count": 13,
   "id": "f2588c90",
   "metadata": {},
   "outputs": [
    {
     "data": {
      "text/plain": [
       "(1, 2, 3, 4)"
      ]
     },
     "execution_count": 13,
     "metadata": {},
     "output_type": "execute_result"
    }
   ],
   "source": [
    "(1,2,3,4)"
   ]
  },
  {
   "cell_type": "code",
   "execution_count": 14,
   "id": "41acf3ef",
   "metadata": {},
   "outputs": [
    {
     "data": {
      "text/plain": [
       "tuple"
      ]
     },
     "execution_count": 14,
     "metadata": {},
     "output_type": "execute_result"
    }
   ],
   "source": [
    "type((1,2,3,4))"
   ]
  },
  {
   "cell_type": "code",
   "execution_count": 28,
   "id": "2df507ea",
   "metadata": {},
   "outputs": [
    {
     "data": {
      "text/plain": [
       "('like', True, None, 4)"
      ]
     },
     "execution_count": 28,
     "metadata": {},
     "output_type": "execute_result"
    }
   ],
   "source": [
    "(\"like\", True, None, 4)"
   ]
  },
  {
   "cell_type": "code",
   "execution_count": 29,
   "id": "6e848247",
   "metadata": {},
   "outputs": [
    {
     "data": {
      "text/plain": [
       "tuple"
      ]
     },
     "execution_count": 29,
     "metadata": {},
     "output_type": "execute_result"
    }
   ],
   "source": [
    "type((\"like\", True, None, 4))"
   ]
  },
  {
   "cell_type": "markdown",
   "id": "0fd9d8c3",
   "metadata": {},
   "source": [
    "## str (string)"
   ]
  },
  {
   "cell_type": "code",
   "execution_count": 15,
   "id": "5feda825",
   "metadata": {},
   "outputs": [
    {
     "data": {
      "text/plain": [
       "str"
      ]
     },
     "execution_count": 15,
     "metadata": {},
     "output_type": "execute_result"
    }
   ],
   "source": [
    "type('') # str representation"
   ]
  },
  {
   "cell_type": "code",
   "execution_count": 16,
   "id": "bc5056ae",
   "metadata": {},
   "outputs": [
    {
     "data": {
      "text/plain": [
       "str"
      ]
     },
     "execution_count": 16,
     "metadata": {},
     "output_type": "execute_result"
    }
   ],
   "source": [
    "type(\"\") # str representation"
   ]
  },
  {
   "cell_type": "code",
   "execution_count": 17,
   "id": "9c0cfe1d",
   "metadata": {},
   "outputs": [
    {
     "data": {
      "text/plain": [
       "str"
      ]
     },
     "execution_count": 17,
     "metadata": {},
     "output_type": "execute_result"
    }
   ],
   "source": [
    "type('like')"
   ]
  },
  {
   "cell_type": "markdown",
   "id": "79eb7110",
   "metadata": {},
   "source": [
    "### why list, tuple and string are called ordered collecction data types\n",
    "    storing and accessing of elements are ordered which means we can access them by indexing (which is a type of order)"
   ]
  },
  {
   "cell_type": "markdown",
   "id": "b965dbb8",
   "metadata": {},
   "source": [
    "    [1,2,3,4]\n",
    "    \n",
    "    0 1 ... len - 1"
   ]
  },
  {
   "cell_type": "code",
   "execution_count": 18,
   "id": "66524ab3",
   "metadata": {},
   "outputs": [],
   "source": [
    "l = [2,4,5,6]"
   ]
  },
  {
   "cell_type": "code",
   "execution_count": 19,
   "id": "e51b72c6",
   "metadata": {},
   "outputs": [
    {
     "data": {
      "text/plain": [
       "2"
      ]
     },
     "execution_count": 19,
     "metadata": {},
     "output_type": "execute_result"
    }
   ],
   "source": [
    "l[0] # accessing elements by indexing"
   ]
  },
  {
   "cell_type": "code",
   "execution_count": 20,
   "id": "f07c953a",
   "metadata": {},
   "outputs": [
    {
     "data": {
      "text/plain": [
       "5"
      ]
     },
     "execution_count": 20,
     "metadata": {},
     "output_type": "execute_result"
    }
   ],
   "source": [
    "l[2]"
   ]
  },
  {
   "cell_type": "code",
   "execution_count": 21,
   "id": "9968e26d",
   "metadata": {},
   "outputs": [
    {
     "data": {
      "text/plain": [
       "6"
      ]
     },
     "execution_count": 21,
     "metadata": {},
     "output_type": "execute_result"
    }
   ],
   "source": [
    "l[3]"
   ]
  },
  {
   "cell_type": "code",
   "execution_count": 22,
   "id": "6ad4b44f",
   "metadata": {},
   "outputs": [
    {
     "ename": "IndexError",
     "evalue": "list index out of range",
     "output_type": "error",
     "traceback": [
      "\u001b[1;31m---------------------------------------------------------------------------\u001b[0m",
      "\u001b[1;31mIndexError\u001b[0m                                Traceback (most recent call last)",
      "Input \u001b[1;32mIn [22]\u001b[0m, in \u001b[0;36m<cell line: 1>\u001b[1;34m()\u001b[0m\n\u001b[1;32m----> 1\u001b[0m \u001b[43ml\u001b[49m\u001b[43m[\u001b[49m\u001b[38;5;241;43m4\u001b[39;49m\u001b[43m]\u001b[49m\n",
      "\u001b[1;31mIndexError\u001b[0m: list index out of range"
     ]
    }
   ],
   "source": [
    "l[4] # when we use index value other than 0 - (no.of elements - 1) at that time we will get the following error"
   ]
  },
  {
   "cell_type": "code",
   "execution_count": 23,
   "id": "424927e5",
   "metadata": {},
   "outputs": [],
   "source": [
    "t = (2,5,8) # tuple representation with ()"
   ]
  },
  {
   "cell_type": "code",
   "execution_count": 24,
   "id": "06c64285",
   "metadata": {},
   "outputs": [
    {
     "data": {
      "text/plain": [
       "5"
      ]
     },
     "execution_count": 24,
     "metadata": {},
     "output_type": "execute_result"
    }
   ],
   "source": [
    "t[1] # accessing tuple elements with [] indexing"
   ]
  },
  {
   "cell_type": "code",
   "execution_count": 25,
   "id": "efa2bfdd",
   "metadata": {},
   "outputs": [],
   "source": [
    "name = \"Subscribe\" # string represented with '' or \"\""
   ]
  },
  {
   "cell_type": "code",
   "execution_count": 26,
   "id": "226fce7f",
   "metadata": {},
   "outputs": [
    {
     "data": {
      "text/plain": [
       "'S'"
      ]
     },
     "execution_count": 26,
     "metadata": {},
     "output_type": "execute_result"
    }
   ],
   "source": [
    "name[0] # accessing string elements(characters with index[])"
   ]
  },
  {
   "cell_type": "code",
   "execution_count": 27,
   "id": "fd44f7b7",
   "metadata": {},
   "outputs": [
    {
     "data": {
      "text/plain": [
       "'e'"
      ]
     },
     "execution_count": 27,
     "metadata": {},
     "output_type": "execute_result"
    }
   ],
   "source": [
    "name[8]"
   ]
  }
 ],
 "metadata": {
  "kernelspec": {
   "display_name": "Python 3 (ipykernel)",
   "language": "python",
   "name": "python3"
  },
  "language_info": {
   "codemirror_mode": {
    "name": "ipython",
    "version": 3
   },
   "file_extension": ".py",
   "mimetype": "text/x-python",
   "name": "python",
   "nbconvert_exporter": "python",
   "pygments_lexer": "ipython3",
   "version": "3.9.12"
  }
 },
 "nbformat": 4,
 "nbformat_minor": 5
}
