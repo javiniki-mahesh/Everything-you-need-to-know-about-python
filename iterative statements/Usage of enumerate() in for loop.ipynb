{
 "cells": [
  {
   "cell_type": "markdown",
   "id": "f9a0c1e0",
   "metadata": {},
   "source": [
    "# Everything you need to know about python:\n",
    "## In simplest possible way"
   ]
  },
  {
   "cell_type": "markdown",
   "id": "6d4c6832",
   "metadata": {},
   "source": [
    "# Usage of enumerate() in for loop"
   ]
  },
  {
   "cell_type": "markdown",
   "id": "6efc2a83",
   "metadata": {},
   "source": [
    "## Traditional way of finding the index of an iterable"
   ]
  },
  {
   "cell_type": "code",
   "execution_count": 1,
   "id": "36cfe78e",
   "metadata": {
    "scrolled": false
   },
   "outputs": [
    {
     "name": "stdout",
     "output_type": "stream",
     "text": [
      "apple in index 0\n",
      "banana in index 1\n",
      "cherry in index 2\n"
     ]
    }
   ],
   "source": [
    "fruits = ['apple', 'banana', 'cherry']\n",
    "\n",
    "for index in range(len(fruits)):\n",
    "    print(f'{fruits[index]} in index {index}')"
   ]
  },
  {
   "cell_type": "markdown",
   "id": "ffb0bbd2",
   "metadata": {},
   "source": [
    "# enumerate()"
   ]
  },
  {
   "cell_type": "markdown",
   "id": "bdaf296d",
   "metadata": {},
   "source": [
    "In Python, the `enumerate()` function is a built-in function that is used to iterate over a sequence (e.g., list, tuple, string, etc.) while keeping track of the index and the value of each item in the sequence. It returns an iterator that generates tuples containing the index and the corresponding item from the original sequence.\n",
    "\n",
    "The general syntax of `enumerate()` is as follows:\n",
    "\n",
    "```python\n",
    "enumerate(iterable, start=0)\n",
    "```\n",
    "\n",
    "- `iterable`: This is the sequence or collection over which you want to iterate and enumerate the elements. It can be a list, tuple, string, or any other iterable.\n",
    "- `start` (optional): This parameter specifies the starting index for the enumeration. By default, it is set to 0, but you can provide a different integer value if you want the enumeration to start from a specific index.\n"
   ]
  },
  {
   "cell_type": "markdown",
   "id": "74bc4e54",
   "metadata": {},
   "source": [
    "## Getting index and value using enumerate()"
   ]
  },
  {
   "cell_type": "code",
   "execution_count": 2,
   "id": "59d53275",
   "metadata": {
    "scrolled": true
   },
   "outputs": [
    {
     "name": "stdout",
     "output_type": "stream",
     "text": [
      "apple in position 0\n",
      "banana in position 1\n",
      "cherry in position 2\n"
     ]
    }
   ],
   "source": [
    "fruits = ['apple', 'banana', 'cherry']\n",
    "\n",
    "for index, value in enumerate(fruits):\n",
    "    print(f'{value} in position {index}')"
   ]
  },
  {
   "cell_type": "markdown",
   "id": "a6390745",
   "metadata": {},
   "source": [
    "## How enumerate() returned"
   ]
  },
  {
   "cell_type": "code",
   "execution_count": 3,
   "id": "6b0fe943",
   "metadata": {
    "scrolled": true
   },
   "outputs": [
    {
     "data": {
      "text/plain": [
       "[(0, 'apple'), (1, 'banana'), (2, 'cherry')]"
      ]
     },
     "execution_count": 3,
     "metadata": {},
     "output_type": "execute_result"
    }
   ],
   "source": [
    "list(enumerate(fruits))"
   ]
  },
  {
   "cell_type": "markdown",
   "id": "49b57551",
   "metadata": {},
   "source": [
    "## specifying the start value"
   ]
  },
  {
   "cell_type": "code",
   "execution_count": 4,
   "id": "8beeb144",
   "metadata": {
    "scrolled": true
   },
   "outputs": [
    {
     "name": "stdout",
     "output_type": "stream",
     "text": [
      "apple in position 5\n",
      "banana in position 6\n",
      "cherry in position 7\n"
     ]
    }
   ],
   "source": [
    "fruits = ['apple', 'banana', 'cherry']\n",
    "\n",
    "for index, value in enumerate(fruits,start=5):\n",
    "    print(f'{value} in position {index}')"
   ]
  },
  {
   "cell_type": "markdown",
   "id": "fbc6212e",
   "metadata": {},
   "source": [
    "## enumerating string"
   ]
  },
  {
   "cell_type": "code",
   "execution_count": 5,
   "id": "754771ac",
   "metadata": {
    "scrolled": true
   },
   "outputs": [
    {
     "name": "stdout",
     "output_type": "stream",
     "text": [
      "the s in position 1\n",
      "the u in position 2\n",
      "the b in position 3\n",
      "the s in position 4\n",
      "the c in position 5\n",
      "the r in position 6\n",
      "the i in position 7\n",
      "the b in position 8\n",
      "the e in position 9\n"
     ]
    }
   ],
   "source": [
    "string = 'subscribe'\n",
    "\n",
    "for index,value in enumerate(string,start = 1):\n",
    "    print(f'the {value} in position {index}')"
   ]
  },
  {
   "cell_type": "markdown",
   "id": "437c82e2",
   "metadata": {},
   "source": [
    "## enumerating tuple"
   ]
  },
  {
   "cell_type": "code",
   "execution_count": 6,
   "id": "0a099d4c",
   "metadata": {
    "scrolled": true
   },
   "outputs": [
    {
     "name": "stdout",
     "output_type": "stream",
     "text": [
      "The index is 0 and value is 1\n",
      "The index is 1 and value is 3\n",
      "The index is 2 and value is 5\n",
      "The index is 3 and value is 7\n"
     ]
    }
   ],
   "source": [
    "tuple_ = (1,3,5,7)\n",
    "\n",
    "for i, v in enumerate(tuple_):\n",
    "    print(f'The index is {i} and value is {v}')"
   ]
  },
  {
   "cell_type": "markdown",
   "id": "79d6bfad",
   "metadata": {},
   "source": [
    "## enumerating set"
   ]
  },
  {
   "cell_type": "markdown",
   "id": "28677fb3",
   "metadata": {},
   "source": [
    "    Sets are unordered collections of unique elements, so there is no inherent concept of an index in a set. However, you can still use enumerate() with sets to get a sequential number for each unique element. However, the order in which the elements are enumerated may not necessarily reflect the order in which they were added to the set."
   ]
  },
  {
   "cell_type": "code",
   "execution_count": 7,
   "id": "f5b2bf31",
   "metadata": {
    "scrolled": true
   },
   "outputs": [
    {
     "name": "stdout",
     "output_type": "stream",
     "text": [
      "The index is 0 and value is 1\n",
      "The index is 1 and value is 2\n",
      "The index is 2 and value is 3\n",
      "The index is 3 and value is 4\n"
     ]
    }
   ],
   "source": [
    "set1 = {1,2,3,4,3,2,1}\n",
    "\n",
    "for index, value in enumerate(set1):\n",
    "    print(f'The index is {index} and value is {value}')"
   ]
  },
  {
   "cell_type": "markdown",
   "id": "94265aca",
   "metadata": {},
   "source": [
    "## enumerating dict"
   ]
  },
  {
   "cell_type": "markdown",
   "id": "2516a4b1",
   "metadata": {},
   "source": [
    "    Dictionaries in Python are key-value pairs, and you can't directly use enumerate() on a dictionary because it does not have a concept of indexing like lists or tuples. However, you can still iterate through the keys or values of a dictionary and use enumerate() on those."
   ]
  },
  {
   "cell_type": "markdown",
   "id": "721c0ed7",
   "metadata": {},
   "source": [
    "## enumerating dict(keys)"
   ]
  },
  {
   "cell_type": "code",
   "execution_count": 8,
   "id": "63a3692e",
   "metadata": {
    "scrolled": true
   },
   "outputs": [
    {
     "name": "stdout",
     "output_type": "stream",
     "text": [
      "The index is 10 and value is a\n",
      "The index is 11 and value is b\n",
      "The index is 12 and value is c\n"
     ]
    }
   ],
   "source": [
    "dict1 = {'a':1, 'b':2, 'c':3}\n",
    "\n",
    "for index, value in enumerate(dict1,start = 10):\n",
    "    print(f'The index is {index} and value is {value}')"
   ]
  },
  {
   "cell_type": "markdown",
   "id": "7317a425",
   "metadata": {},
   "source": [
    "## enumerating dict(values)"
   ]
  },
  {
   "cell_type": "code",
   "execution_count": 9,
   "id": "74bf716d",
   "metadata": {},
   "outputs": [
    {
     "name": "stdout",
     "output_type": "stream",
     "text": [
      "The index is 10 and value is 1\n",
      "The index is 11 and value is 2\n",
      "The index is 12 and value is 3\n"
     ]
    }
   ],
   "source": [
    "dict1 = {'a':1, 'b':2, 'c':3}\n",
    "\n",
    "for index, value in enumerate(dict1.values(),start = 10):\n",
    "    print(f'The index is {index} and value is {value}')"
   ]
  },
  {
   "cell_type": "markdown",
   "id": "789bb44d",
   "metadata": {},
   "source": [
    "## enumerating dict(key-value pairs)"
   ]
  },
  {
   "cell_type": "code",
   "execution_count": 10,
   "id": "e8b052a6",
   "metadata": {
    "scrolled": false
   },
   "outputs": [
    {
     "name": "stdout",
     "output_type": "stream",
     "text": [
      "The index is 10 and value is ('a', 1)\n",
      "The index is 11 and value is ('b', 2)\n",
      "The index is 12 and value is ('c', 3)\n"
     ]
    }
   ],
   "source": [
    "dict1 = {'a':1, 'b':2, 'c':3}\n",
    "\n",
    "for index, value in enumerate(dict1.items(),start = 10):\n",
    "    print(f'The index is {index} and value is {value}')"
   ]
  },
  {
   "cell_type": "markdown",
   "id": "c2770f92",
   "metadata": {},
   "source": [
    "### How key-value pairs are returned"
   ]
  },
  {
   "cell_type": "code",
   "execution_count": 11,
   "id": "0675ead0",
   "metadata": {},
   "outputs": [
    {
     "data": {
      "text/plain": [
       "[(0, ('a', 1)), (1, ('b', 2)), (2, ('c', 3))]"
      ]
     },
     "execution_count": 11,
     "metadata": {},
     "output_type": "execute_result"
    }
   ],
   "source": [
    "list(enumerate(dict1.items()))"
   ]
  },
  {
   "cell_type": "markdown",
   "id": "c0409384",
   "metadata": {},
   "source": [
    "If you find this content interesting and for more of this kind of content explore my YTChannel: https://www.youtube.com/@MaheshJaviniki"
   ]
  },
  {
   "cell_type": "code",
   "execution_count": null,
   "id": "ac2f4454",
   "metadata": {},
   "outputs": [],
   "source": []
  }
 ],
 "metadata": {
  "kernelspec": {
   "display_name": "Python 3 (ipykernel)",
   "language": "python",
   "name": "python3"
  },
  "language_info": {
   "codemirror_mode": {
    "name": "ipython",
    "version": 3
   },
   "file_extension": ".py",
   "mimetype": "text/x-python",
   "name": "python",
   "nbconvert_exporter": "python",
   "pygments_lexer": "ipython3",
   "version": "3.9.12"
  }
 },
 "nbformat": 4,
 "nbformat_minor": 5
}
