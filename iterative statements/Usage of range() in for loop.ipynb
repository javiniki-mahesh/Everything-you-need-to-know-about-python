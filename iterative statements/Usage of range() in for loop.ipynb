{
 "cells": [
  {
   "cell_type": "markdown",
   "id": "c4e15c84",
   "metadata": {},
   "source": [
    "# Everything you need to know about python:\n",
    "## In simplest possible way"
   ]
  },
  {
   "cell_type": "markdown",
   "id": "9bd08a7f",
   "metadata": {},
   "source": [
    "# Using range() in for loop"
   ]
  },
  {
   "cell_type": "markdown",
   "id": "cc19e750",
   "metadata": {},
   "source": [
    "    range() is a built-in Python function used to create a sequence of numbers. It is commonly used in for loops to generate a range of values that the loop iterates over. The range() function can take one, two, or three arguments, and it returns an immutable sequence of numbers."
   ]
  },
  {
   "cell_type": "markdown",
   "id": "7c1c8088",
   "metadata": {},
   "source": [
    "# Syntax"
   ]
  },
  {
   "cell_type": "markdown",
   "id": "0f7af8df",
   "metadata": {},
   "source": [
    "```python\n",
    "range(stop)\n",
    "range(start, stop)\n",
    "range(start, stop, step)\n",
    "```"
   ]
  },
  {
   "cell_type": "markdown",
   "id": "61087ffe",
   "metadata": {},
   "source": [
    "\n",
    "- `start`: The starting value of the sequence (inclusive). If not provided, it defaults to 0.\n",
    "- `stop`: The stopping value of the sequence (exclusive). It specifies the number up to which the sequence generates but does not include the stop value.\n",
    "- `step`: The step value, indicating the increment between each number in the sequence. If not provided, it defaults to 1.\n",
    "\n",
    "The `range()` function generates numbers up to, but not including, the `stop` value, and it can be used in combination with a `for` loop or other iterable functions to perform various tasks.\n"
   ]
  },
  {
   "cell_type": "code",
   "execution_count": 1,
   "id": "81fe4621",
   "metadata": {
    "scrolled": true
   },
   "outputs": [
    {
     "data": {
      "text/plain": [
       "range(0, 10)"
      ]
     },
     "execution_count": 1,
     "metadata": {},
     "output_type": "execute_result"
    }
   ],
   "source": [
    "range(10) # range of values as range(0, 10)"
   ]
  },
  {
   "cell_type": "code",
   "execution_count": 2,
   "id": "5386c351",
   "metadata": {},
   "outputs": [
    {
     "data": {
      "text/plain": [
       "[0, 1, 2, 3, 4, 5, 6, 7, 8, 9]"
      ]
     },
     "execution_count": 2,
     "metadata": {},
     "output_type": "execute_result"
    }
   ],
   "source": [
    "list(range(10))"
   ]
  },
  {
   "cell_type": "markdown",
   "id": "0597fc7f",
   "metadata": {},
   "source": [
    "    \n",
    "    If we pass one value it considered as stop\n",
    "    \n",
    "    values will be generated between 0 to stop - 1"
   ]
  },
  {
   "cell_type": "code",
   "execution_count": 3,
   "id": "e35a2bd2",
   "metadata": {},
   "outputs": [
    {
     "data": {
      "text/plain": [
       "[5, 6, 7, 8, 9, 10, 11, 12, 13, 14]"
      ]
     },
     "execution_count": 3,
     "metadata": {},
     "output_type": "execute_result"
    }
   ],
   "source": [
    "list(range(5,15))"
   ]
  },
  {
   "cell_type": "markdown",
   "id": "a3cb3773",
   "metadata": {},
   "source": [
    "    If we pass two values it will consider first value as start second value as  stop\n",
    "    \n",
    "    values will be generated between start and stop -1"
   ]
  },
  {
   "cell_type": "code",
   "execution_count": 4,
   "id": "31b96820",
   "metadata": {},
   "outputs": [
    {
     "data": {
      "text/plain": [
       "[5, 7, 9, 11, 13]"
      ]
     },
     "execution_count": 4,
     "metadata": {},
     "output_type": "execute_result"
    }
   ],
   "source": [
    "list(range(5,15,2))"
   ]
  },
  {
   "cell_type": "markdown",
   "id": "3ba6292c",
   "metadata": {},
   "source": [
    "    If we pass three values it will consider first value as start second value as  stop third value as step\n",
    "\n",
    "    values will be generated between start and stop - 1 by by skipping the values of step"
   ]
  },
  {
   "cell_type": "markdown",
   "id": "962146ed",
   "metadata": {},
   "source": [
    "    We can also generate range of value in decreasing order"
   ]
  },
  {
   "cell_type": "code",
   "execution_count": 5,
   "id": "d32a4445",
   "metadata": {},
   "outputs": [
    {
     "data": {
      "text/plain": [
       "[15, 14, 13, 12, 11, 10, 9, 8, 7, 6]"
      ]
     },
     "execution_count": 5,
     "metadata": {},
     "output_type": "execute_result"
    }
   ],
   "source": [
    "list(range(15,5,-1))"
   ]
  },
  {
   "cell_type": "markdown",
   "id": "2b54de61",
   "metadata": {},
   "source": [
    "# Examples"
   ]
  },
  {
   "cell_type": "markdown",
   "id": "e98ee60d",
   "metadata": {},
   "source": [
    "        Let's take an example where we can use this range() effectively"
   ]
  },
  {
   "cell_type": "markdown",
   "id": "c52708df",
   "metadata": {},
   "source": [
    "    Finding the sum of all values till user input"
   ]
  },
  {
   "cell_type": "code",
   "execution_count": 6,
   "id": "9be6881e",
   "metadata": {},
   "outputs": [
    {
     "name": "stdout",
     "output_type": "stream",
     "text": [
      "Enter numer: 6\n",
      "The sum of all values between 0 and 6 is 21\n"
     ]
    }
   ],
   "source": [
    "addition = 0\n",
    "num = int(input('Enter numer: '))\n",
    "\n",
    "for value in range(num+1):\n",
    "    addition += value\n",
    "print(f'The sum of all values between 0 and {num} is {addition}')"
   ]
  },
  {
   "cell_type": "markdown",
   "id": "4b3b2e76",
   "metadata": {},
   "source": [
    "    Finding sum of all values from start of user input and untill end of user input"
   ]
  },
  {
   "cell_type": "code",
   "execution_count": 7,
   "id": "057d3dd5",
   "metadata": {},
   "outputs": [
    {
     "name": "stdout",
     "output_type": "stream",
     "text": [
      "Enter start num: 1\n",
      "Enter stop num: 8\n",
      "The sum of values between 1 and 8 is 36\n"
     ]
    }
   ],
   "source": [
    "addition = 0\n",
    "\n",
    "start_num = int(input('Enter start num: '))\n",
    "stop_num = int(input('Enter stop num: '))\n",
    "\n",
    "for value in range(start_num, stop_num+1):\n",
    "    addition += value\n",
    "print(f'The sum of values between {start_num} and {stop_num} is {addition}')"
   ]
  },
  {
   "cell_type": "markdown",
   "id": "4c972bd1",
   "metadata": {},
   "source": [
    "    Finding sum of all values from start of user input and untill end of user input by incrementing with step value"
   ]
  },
  {
   "cell_type": "code",
   "execution_count": 8,
   "id": "009c3c76",
   "metadata": {},
   "outputs": [
    {
     "name": "stdout",
     "output_type": "stream",
     "text": [
      "Enter start num: 2\n",
      "Enter stop num: 15\n",
      "Enter step num: 2\n",
      "The sum of all values between 2 and 15 by incrementing with 2 is 56\n"
     ]
    }
   ],
   "source": [
    "addition = 0\n",
    "\n",
    "start_num = int(input('Enter start num: '))\n",
    "stop_num = int(input('Enter stop num: '))\n",
    "step_num = int(input('Enter step num: '))\n",
    "\n",
    "for value in range(start_num, stop_num+1, step_num):\n",
    "    addition += value\n",
    "print(f'The sum of all values between {start_num} and {stop_num} by incrementing with {step_num} is {addition}')"
   ]
  },
  {
   "cell_type": "markdown",
   "id": "19ac0b36",
   "metadata": {},
   "source": [
    "If you find this content interesting and for more of this kind of content explore my YTChannel: https://www.youtube.com/@MaheshJaviniki"
   ]
  }
 ],
 "metadata": {
  "kernelspec": {
   "display_name": "Python 3 (ipykernel)",
   "language": "python",
   "name": "python3"
  },
  "language_info": {
   "codemirror_mode": {
    "name": "ipython",
    "version": 3
   },
   "file_extension": ".py",
   "mimetype": "text/x-python",
   "name": "python",
   "nbconvert_exporter": "python",
   "pygments_lexer": "ipython3",
   "version": "3.9.12"
  }
 },
 "nbformat": 4,
 "nbformat_minor": 5
}
