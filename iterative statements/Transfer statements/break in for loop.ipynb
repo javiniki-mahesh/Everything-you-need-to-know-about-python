{
 "cells": [
  {
   "cell_type": "markdown",
   "id": "1663586a",
   "metadata": {},
   "source": [
    "# Everything you need to know about python:\n",
    "## In simplest possible way"
   ]
  },
  {
   "cell_type": "markdown",
   "id": "f8cd8a4f",
   "metadata": {},
   "source": [
    "# break in for loop"
   ]
  },
  {
   "cell_type": "markdown",
   "id": "c7a29526",
   "metadata": {},
   "source": [
    "    The \"break\" statement is a fundamental control flow mechanism in Python that allows you to prematurely exit a loop when a specific condition is met. It's particularly useful when you want to terminate a loop before it reaches its natural end based on some criteria"
   ]
  },
  {
   "cell_type": "markdown",
   "id": "acd7b7c5",
   "metadata": {},
   "source": [
    "    The below is a simple example of iterating through list using for loop"
   ]
  },
  {
   "cell_type": "code",
   "execution_count": 1,
   "id": "a4c8b208",
   "metadata": {},
   "outputs": [
    {
     "name": "stdout",
     "output_type": "stream",
     "text": [
      "1\n",
      "2\n",
      "3\n",
      "4\n",
      "5\n",
      "6\n",
      "7\n",
      "8\n"
     ]
    }
   ],
   "source": [
    "my_list = [1,2,3,4,5,6,7,8]\n",
    "for element in my_list:\n",
    "    print(element)"
   ]
  },
  {
   "cell_type": "markdown",
   "id": "9187ae4d",
   "metadata": {},
   "source": [
    "    Using break we can come out of this for loop when a specific condition is met. First we will understand the syntax and discuss the example so that we can understand it better."
   ]
  },
  {
   "cell_type": "markdown",
   "id": "2aecc2a6",
   "metadata": {},
   "source": [
    "# Syntax"
   ]
  },
  {
   "cell_type": "markdown",
   "id": "e2bd7de2",
   "metadata": {},
   "source": [
    "```python\n",
    "for element in iterable:\n",
    "    # action\n",
    "    if condition:\n",
    "        break\n",
    "```"
   ]
  },
  {
   "cell_type": "code",
   "execution_count": 7,
   "id": "71c99e1c",
   "metadata": {},
   "outputs": [
    {
     "name": "stdout",
     "output_type": "stream",
     "text": [
      "Enter number: 4\n",
      "1\n",
      "2\n",
      "3\n",
      "5\n",
      "6\n",
      "7\n",
      "8\n"
     ]
    }
   ],
   "source": [
    "my_list = [1,2,3,5,6,7,8]\n",
    "num = int(input('Enter number: '))\n",
    "for element in my_list:\n",
    "    if element == num:\n",
    "        break\n",
    "    print(element)\n",
    "    "
   ]
  },
  {
   "cell_type": "markdown",
   "id": "3eb4c679",
   "metadata": {},
   "source": [
    "     In the above example we are taking input and comparing with the element of a list if both are same we are breaking the loop."
   ]
  },
  {
   "cell_type": "markdown",
   "id": "391a7942",
   "metadata": {},
   "source": [
    "For more detailed explanation check https://www.youtube.com/@MaheshJaviniki"
   ]
  }
 ],
 "metadata": {
  "kernelspec": {
   "display_name": "Python 3 (ipykernel)",
   "language": "python",
   "name": "python3"
  },
  "language_info": {
   "codemirror_mode": {
    "name": "ipython",
    "version": 3
   },
   "file_extension": ".py",
   "mimetype": "text/x-python",
   "name": "python",
   "nbconvert_exporter": "python",
   "pygments_lexer": "ipython3",
   "version": "3.9.12"
  }
 },
 "nbformat": 4,
 "nbformat_minor": 5
}
