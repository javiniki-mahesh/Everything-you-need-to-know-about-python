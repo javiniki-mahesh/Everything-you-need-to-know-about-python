{
 "cells": [
  {
   "cell_type": "markdown",
   "id": "4feda9e6",
   "metadata": {},
   "source": [
    "# Everything you need to know about python\n",
    "## In simplest possible way"
   ]
  },
  {
   "cell_type": "markdown",
   "id": "5d487102",
   "metadata": {},
   "source": [
    "# continue in loops"
   ]
  },
  {
   "cell_type": "markdown",
   "id": "67bbc1ea",
   "metadata": {},
   "source": [
    "    \"continue\" is a control flow statement in Python that is used within loops to skip the current iteration of the loop and move on to the next one. It allows you to selectively exclude certain iterations of a loop based on a condition."
   ]
  },
  {
   "cell_type": "markdown",
   "id": "a7df1072",
   "metadata": {},
   "source": [
    "# Syntax (continue in for loop)"
   ]
  },
  {
   "cell_type": "markdown",
   "id": "289cfe23",
   "metadata": {},
   "source": [
    "```python\n",
    "for element in iterable:\n",
    "    # statements\n",
    "    if condition:\n",
    "        continue\n",
    "    # statements\n",
    "```"
   ]
  },
  {
   "cell_type": "markdown",
   "id": "3604a421",
   "metadata": {},
   "source": [
    "    We can use this continue in for loop by having a  condition if the condition becomes true execution flow will skip the statements that are present after the continue."
   ]
  },
  {
   "cell_type": "markdown",
   "id": "52f60996",
   "metadata": {},
   "source": [
    "# Positive numbers"
   ]
  },
  {
   "cell_type": "markdown",
   "id": "6ee7f12c",
   "metadata": {},
   "source": [
    "    In this example out of all positive and negative numbers by using this continue we will only print the positive numbers by skip printing negative numbers"
   ]
  },
  {
   "cell_type": "code",
   "execution_count": 4,
   "id": "17496aa6",
   "metadata": {},
   "outputs": [
    {
     "name": "stdout",
     "output_type": "stream",
     "text": [
      "2\n",
      "3\n",
      "4\n"
     ]
    }
   ],
   "source": [
    "numbers = [-1, 2,3,-2,4,-5]\n",
    "for number in numbers:\n",
    "    if number <= 0:\n",
    "        continue\n",
    "    print(number)"
   ]
  },
  {
   "cell_type": "markdown",
   "id": "06afd1f2",
   "metadata": {},
   "source": [
    "    Above we can see we are mentioning the continue at the starting of the loop, so that if condition becomes true and continue executed then the statement coming later will not be executed."
   ]
  },
  {
   "cell_type": "code",
   "execution_count": 5,
   "id": "8b39e654",
   "metadata": {},
   "outputs": [
    {
     "name": "stdout",
     "output_type": "stream",
     "text": [
      "-1\n",
      "2\n",
      "3\n",
      "-2\n",
      "4\n",
      "-5\n"
     ]
    }
   ],
   "source": [
    "numbers = [-1, 2,3,-2,4,-5]\n",
    "for number in numbers:\n",
    "    print(number)\n",
    "    if number <= 0:\n",
    "        continue"
   ]
  },
  {
   "cell_type": "markdown",
   "id": "499352ec",
   "metadata": {},
   "source": [
    "    For the same example we are mentioning continue conditon at the end, even though continue is executed it doesn't have any impact in the output that may lead to BUG.\n",
    "    \n",
    "    So, be cautious when you are using continue to skip the iterations check the iterations are skipping properly or not, never put the continue at the end, it does not make any impact."
   ]
  },
  {
   "cell_type": "markdown",
   "id": "d23660dd",
   "metadata": {},
   "source": [
    "# Syntax (continue in while loop)"
   ]
  },
  {
   "cell_type": "markdown",
   "id": "749be077",
   "metadata": {},
   "source": [
    "```python\n",
    "while conditon:\n",
    "    # statements\n",
    "    if continue_condition:\n",
    "        continue\n",
    "    # statements\n",
    "```"
   ]
  },
  {
   "cell_type": "markdown",
   "id": "af930183",
   "metadata": {},
   "source": [
    "    We can use this continue in while loop by having a condition if the condition becomes true execution flow will skip the statements that are present after the continue."
   ]
  },
  {
   "cell_type": "markdown",
   "id": "7090d72b",
   "metadata": {},
   "source": [
    "# Odd numbers"
   ]
  },
  {
   "cell_type": "markdown",
   "id": "5279a8b6",
   "metadata": {},
   "source": [
    "\n",
    "```python \n",
    "number = 0\n",
    "while number <= 10:\n",
    "    if number % 2 == 0:\n",
    "        continue\n",
    "    print(number)\n",
    "    number += 1\n",
    "```"
   ]
  },
  {
   "cell_type": "markdown",
   "id": "645b1c7e",
   "metadata": {},
   "source": [
    "        In general we used to put the statement that effect while loop at the end right!, so if do the same while using continue we will fall into infinite loop, because for some conditions if continue got executed the codition modification statement will not executed that leads to infinite loop.\n",
    "        \n",
    "        So while using continue in while loop better to have condition modification statement at the begining."
   ]
  },
  {
   "cell_type": "code",
   "execution_count": 2,
   "id": "c4582f8f",
   "metadata": {},
   "outputs": [
    {
     "name": "stdout",
     "output_type": "stream",
     "text": [
      "1\n",
      "3\n",
      "5\n",
      "7\n",
      "9\n",
      "11\n"
     ]
    }
   ],
   "source": [
    "number = 0\n",
    "while number <= 10:\n",
    "    number += 1\n",
    "    if number % 2 == 0:\n",
    "        continue\n",
    "    print(number)"
   ]
  },
  {
   "cell_type": "markdown",
   "id": "81124413",
   "metadata": {},
   "source": [
    "    By mentioning condition modification statement at the begining of while loop we can see the expected result which all are odd numbers.\n",
    "    \n",
    "    By mentioning continue in loop, for some iterations it became true and we are getting the result accoring to that."
   ]
  }
 ],
 "metadata": {
  "kernelspec": {
   "display_name": "Python 3 (ipykernel)",
   "language": "python",
   "name": "python3"
  },
  "language_info": {
   "codemirror_mode": {
    "name": "ipython",
    "version": 3
   },
   "file_extension": ".py",
   "mimetype": "text/x-python",
   "name": "python",
   "nbconvert_exporter": "python",
   "pygments_lexer": "ipython3",
   "version": "3.9.12"
  }
 },
 "nbformat": 4,
 "nbformat_minor": 5
}
