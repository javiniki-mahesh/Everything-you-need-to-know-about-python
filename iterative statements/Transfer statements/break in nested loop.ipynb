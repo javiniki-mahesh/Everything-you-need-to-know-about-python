{
 "cells": [
  {
   "cell_type": "markdown",
   "id": "619a4cb3",
   "metadata": {},
   "source": [
    "# Everything you need to know about python:\n",
    "## In simplest possible way"
   ]
  },
  {
   "cell_type": "markdown",
   "id": "6b5ad92c",
   "metadata": {},
   "source": [
    "# break in nested loop"
   ]
  },
  {
   "cell_type": "markdown",
   "id": "34c7ef56",
   "metadata": {},
   "source": [
    "    The \"break\" statement is a fundamental control flow mechanism in Python that allows you to prematurely exit a loop when a specific condition is met. It's particularly useful when you want to terminate a loop before it reaches its natural end based on some criteria"
   ]
  },
  {
   "cell_type": "markdown",
   "id": "a73cafbf",
   "metadata": {},
   "source": [
    "## Syntax"
   ]
  },
  {
   "cell_type": "code",
   "execution_count": null,
   "id": "cf63e985",
   "metadata": {},
   "outputs": [],
   "source": [
    "for element in iterable_outer:\n",
    "    for inner_element in iterable_inner:\n",
    "        if inner_break_condition:\n",
    "            break\n",
    "    if outer_break_condition:\n",
    "        break"
   ]
  },
  {
   "cell_type": "markdown",
   "id": "5e8f3ff9",
   "metadata": {},
   "source": [
    "# Finding element in nested lists"
   ]
  },
  {
   "cell_type": "code",
   "execution_count": 3,
   "id": "8901d7f7",
   "metadata": {},
   "outputs": [
    {
     "name": "stdout",
     "output_type": "stream",
     "text": [
      "[1, 2, 3]\n",
      "1\n",
      "2\n",
      "Break occuring at 3\n",
      "3\n",
      "the list 3\n",
      "Break occuring at 3\n"
     ]
    }
   ],
   "source": [
    "nested_list = [[1,2,3],3, [2,3,4], [3,4,5], [4,5,6]]\n",
    "for list_ in nested_list:\n",
    "    print(list_)\n",
    "    if type(list_) == list:\n",
    "        for element in list_:\n",
    "            if element == 3:\n",
    "                print('Break occuring at', element)\n",
    "                break\n",
    "            print(element)\n",
    "    else:\n",
    "        print('the list', list_)\n",
    "        if list_ == 3:\n",
    "            print('Break occuring at', list_)\n",
    "            break"
   ]
  },
  {
   "cell_type": "markdown",
   "id": "712cf36a",
   "metadata": {},
   "source": [
    "        In above example we have nested lists. so, by using nested loop we are iterating them and if we have reach 3 in the nested loop we are breaking the loop. If this kind of condition present in inner loop only then all lists will be executed in loop. If we have any condition in outer loop and if the condition becomes True then the process of whole loop will be stopped and it won't executed the remaining lists in list."
   ]
  },
  {
   "cell_type": "code",
   "execution_count": null,
   "id": "039033bd",
   "metadata": {},
   "outputs": [],
   "source": []
  }
 ],
 "metadata": {
  "kernelspec": {
   "display_name": "Python 3 (ipykernel)",
   "language": "python",
   "name": "python3"
  },
  "language_info": {
   "codemirror_mode": {
    "name": "ipython",
    "version": 3
   },
   "file_extension": ".py",
   "mimetype": "text/x-python",
   "name": "python",
   "nbconvert_exporter": "python",
   "pygments_lexer": "ipython3",
   "version": "3.9.12"
  }
 },
 "nbformat": 4,
 "nbformat_minor": 5
}
