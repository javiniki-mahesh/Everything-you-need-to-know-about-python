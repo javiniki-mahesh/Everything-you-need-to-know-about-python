{
 "cells": [
  {
   "cell_type": "markdown",
   "id": "0249a617",
   "metadata": {},
   "source": [
    "# Everythin you need to know about python\n",
    "## In simplest possible way"
   ]
  },
  {
   "cell_type": "markdown",
   "id": "52abd846",
   "metadata": {},
   "source": [
    "# pass"
   ]
  },
  {
   "cell_type": "markdown",
   "id": "6e130d41",
   "metadata": {},
   "source": [
    "    The pass statement is a null operation\n",
    "    "
   ]
  },
  {
   "cell_type": "markdown",
   "id": "d05de3ac",
   "metadata": {},
   "source": [
    "    You may have a question that if it is just a null operation why do we have\n",
    "    So to understand that let's explore some things"
   ]
  },
  {
   "cell_type": "code",
   "execution_count": 2,
   "id": "76645b05",
   "metadata": {
    "scrolled": true
   },
   "outputs": [
    {
     "ename": "IndentationError",
     "evalue": "expected an indented block (3013395722.py, line 2)",
     "output_type": "error",
     "traceback": [
      "\u001b[1;36m  Input \u001b[1;32mIn [2]\u001b[1;36m\u001b[0m\n\u001b[1;33m    if number < 25:\u001b[0m\n\u001b[1;37m                   ^\u001b[0m\n\u001b[1;31mIndentationError\u001b[0m\u001b[1;31m:\u001b[0m expected an indented block\n"
     ]
    }
   ],
   "source": [
    "number = 10\n",
    "if number < 25:"
   ]
  },
  {
   "cell_type": "markdown",
   "id": "d6af4bb9",
   "metadata": {},
   "source": [
    "    In above if I define some condition, having the assumption that I can write the logic inside later, but getting an indentation error because it requires a block which requires indentation right."
   ]
  },
  {
   "cell_type": "code",
   "execution_count": 4,
   "id": "306b1824",
   "metadata": {
    "scrolled": true
   },
   "outputs": [
    {
     "ename": "IndentationError",
     "evalue": "expected an indented block (2714347931.py, line 3)",
     "output_type": "error",
     "traceback": [
      "\u001b[1;36m  Input \u001b[1;32mIn [4]\u001b[1;36m\u001b[0m\n\u001b[1;33m    # will implement later\u001b[0m\n\u001b[1;37m                          ^\u001b[0m\n\u001b[1;31mIndentationError\u001b[0m\u001b[1;31m:\u001b[0m expected an indented block\n"
     ]
    }
   ],
   "source": [
    "number = 10\n",
    "if number < 25:\n",
    "    # will implement later"
   ]
  },
  {
   "cell_type": "markdown",
   "id": "c48f3496",
   "metadata": {},
   "source": [
    "    Even if I mention a comment inside it still showing IndentationError\n",
    "    \n",
    "    To overcome this we have pass"
   ]
  },
  {
   "cell_type": "markdown",
   "id": "ef93874d",
   "metadata": {},
   "source": [
    "    It serves as a syntactic placeholder where Python expects an indented block but you don't want to execute any code."
   ]
  },
  {
   "cell_type": "code",
   "execution_count": 8,
   "id": "211542b5",
   "metadata": {},
   "outputs": [],
   "source": [
    "number = 10\n",
    "if number < 25:\n",
    "    pass"
   ]
  },
  {
   "cell_type": "markdown",
   "id": "49be9235",
   "metadata": {},
   "source": [
    "    Same behaviour wherever indentation required"
   ]
  },
  {
   "cell_type": "code",
   "execution_count": 15,
   "id": "ecc35dce",
   "metadata": {},
   "outputs": [],
   "source": [
    "for element in range(1, 11):\n",
    "    pass"
   ]
  },
  {
   "cell_type": "code",
   "execution_count": 16,
   "id": "617eae5f",
   "metadata": {},
   "outputs": [],
   "source": [
    "def fun():\n",
    "    pass"
   ]
  },
  {
   "cell_type": "code",
   "execution_count": 17,
   "id": "d53994e8",
   "metadata": {},
   "outputs": [],
   "source": [
    "class My_class:\n",
    "    pass"
   ]
  }
 ],
 "metadata": {
  "kernelspec": {
   "display_name": "Python 3 (ipykernel)",
   "language": "python",
   "name": "python3"
  },
  "language_info": {
   "codemirror_mode": {
    "name": "ipython",
    "version": 3
   },
   "file_extension": ".py",
   "mimetype": "text/x-python",
   "name": "python",
   "nbconvert_exporter": "python",
   "pygments_lexer": "ipython3",
   "version": "3.9.12"
  }
 },
 "nbformat": 4,
 "nbformat_minor": 5
}
