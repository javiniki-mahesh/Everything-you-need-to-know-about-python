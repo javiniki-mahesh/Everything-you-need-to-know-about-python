{
 "cells": [
  {
   "cell_type": "markdown",
   "id": "66bb4639",
   "metadata": {},
   "source": [
    "# Everything you need to know about python\n",
    "## In simplest possible way"
   ]
  },
  {
   "cell_type": "markdown",
   "id": "78cebad1",
   "metadata": {},
   "source": [
    "# else with loops"
   ]
  },
  {
   "cell_type": "markdown",
   "id": "63969c83",
   "metadata": {},
   "source": [
    "    Previously we have seen else block with if block.\n",
    "    Now we see else block with loop which are for loop and while loop"
   ]
  },
  {
   "cell_type": "markdown",
   "id": "8ea11f48",
   "metadata": {},
   "source": [
    "## syntax (else with for loop)"
   ]
  },
  {
   "cell_type": "code",
   "execution_count": null,
   "id": "202f1308",
   "metadata": {},
   "outputs": [],
   "source": [
    "for element in iterable:\n",
    "    # statement\n",
    "    if break_condition:\n",
    "        break\n",
    "else:\n",
    "    else_blcok"
   ]
  },
  {
   "cell_type": "markdown",
   "id": "8a4060b9",
   "metadata": {},
   "source": [
    "    We can understand by looking at syntax we have a break in for loop and after that we have else blcok.\n",
    "\n",
    "    when the break_condition becomes True we won't execute else blcok.\n",
    "\n",
    "    when the whole block executes without breaking the loop then we will see the execution of else blcok."
   ]
  },
  {
   "cell_type": "markdown",
   "id": "1b9896e3",
   "metadata": {},
   "source": [
    "    Inorder to use else blcok we must have break in loop, without break in loop, the else block will definitely executed."
   ]
  },
  {
   "cell_type": "code",
   "execution_count": 9,
   "id": "612153f0",
   "metadata": {},
   "outputs": [
    {
     "name": "stdout",
     "output_type": "stream",
     "text": [
      "1 2 3 4 5 6 7 8 9 10 \n",
      "Executing else blcok\n"
     ]
    }
   ],
   "source": [
    "# To understand else blcok definitely executes when we don't have break in loop\n",
    "for i in range(1,11):\n",
    "    print(i, end = ' ')\n",
    "else:\n",
    "    print('\\nExecuting else blcok')"
   ]
  },
  {
   "cell_type": "markdown",
   "id": "f628b10c",
   "metadata": {},
   "source": [
    "    Now with a proper example we will understand else with for loop"
   ]
  },
  {
   "cell_type": "markdown",
   "id": "e047c81b",
   "metadata": {},
   "source": [
    "# Searching a number in list of numbers"
   ]
  },
  {
   "cell_type": "markdown",
   "id": "9abb1bdf",
   "metadata": {},
   "source": [
    "    In the example we have a list of numbers and a search element by iterating through numbers we are comparing the search element, when we found the search element with number we will break the loop."
   ]
  },
  {
   "cell_type": "code",
   "execution_count": 5,
   "id": "d15d049b",
   "metadata": {},
   "outputs": [
    {
     "name": "stdout",
     "output_type": "stream",
     "text": [
      "Enter a search number: 5\n",
      "1\n",
      "2\n",
      "3\n",
      "4\n",
      "breaking at 5\n"
     ]
    }
   ],
   "source": [
    "numbers = [1,2,3,4,5,6,7,8]\n",
    "search = int(input('Enter a search number: '))\n",
    "for number in numbers:\n",
    "    if number == search:\n",
    "        print('breaking at', search)\n",
    "        break\n",
    "    print(number)\n",
    "else:\n",
    "    print('The serach element not found')"
   ]
  },
  {
   "cell_type": "markdown",
   "id": "9b4fd53e",
   "metadata": {},
   "source": [
    "    In the above test case we are searching the element 5 when the element is found we are breaking.\n",
    "    By that reason we can not see else block execution."
   ]
  },
  {
   "cell_type": "code",
   "execution_count": 2,
   "id": "32f8f5bb",
   "metadata": {},
   "outputs": [
    {
     "name": "stdout",
     "output_type": "stream",
     "text": [
      "Enter a search number: 10\n",
      "1\n",
      "2\n",
      "3\n",
      "4\n",
      "5\n",
      "6\n",
      "7\n",
      "8\n",
      "The serach element not found\n"
     ]
    }
   ],
   "source": [
    "numbers = [1,2,3,4,5,6,7,8]\n",
    "search = int(input('Enter a search number: '))\n",
    "for number in numbers:\n",
    "    if number == search:\n",
    "        print('breaking at', search)\n",
    "        break\n",
    "    print(number)\n",
    "else:\n",
    "    print('The serach element not found')"
   ]
  },
  {
   "cell_type": "markdown",
   "id": "376a344b",
   "metadata": {},
   "source": [
    "    In the above example we are searching the element 10 which is not in numbers,\n",
    "    So we can see the else blcok execution"
   ]
  },
  {
   "cell_type": "markdown",
   "id": "75a58383",
   "metadata": {},
   "source": [
    "## syntax (else with while loop)"
   ]
  },
  {
   "cell_type": "code",
   "execution_count": null,
   "id": "8fd8749f",
   "metadata": {},
   "outputs": [],
   "source": [
    "while while_condition:\n",
    "    # statement\n",
    "    if break_condition:\n",
    "        break\n",
    "else:\n",
    "    # statemnt"
   ]
  },
  {
   "cell_type": "markdown",
   "id": "8d07c872",
   "metadata": {},
   "source": [
    "    Like I previously mentioned without having break in loop, else block will definitely executed.\n",
    "    Example:"
   ]
  },
  {
   "cell_type": "code",
   "execution_count": 19,
   "id": "93cb8707",
   "metadata": {},
   "outputs": [
    {
     "name": "stdout",
     "output_type": "stream",
     "text": [
      "1 2 3 4 5 \n",
      "Else blcok\n"
     ]
    }
   ],
   "source": [
    "number = 1\n",
    "while  number <= 5:\n",
    "    print(number, end = ' ')\n",
    "    number += 1\n",
    "else:\n",
    "    print('\\nElse blcok')"
   ]
  },
  {
   "cell_type": "markdown",
   "id": "17d6aaa5",
   "metadata": {},
   "source": [
    "# Searching a number"
   ]
  },
  {
   "cell_type": "markdown",
   "id": "d533c8ee",
   "metadata": {},
   "source": [
    "    In the example we are going through range of numbers and a searching an element by iterating through numbers we are comparing the search element, when we found the search element with number we will break the loop."
   ]
  },
  {
   "cell_type": "code",
   "execution_count": 21,
   "id": "fc852b40",
   "metadata": {},
   "outputs": [
    {
     "name": "stdout",
     "output_type": "stream",
     "text": [
      "Enter search element: 5\n",
      "1\n",
      "2\n",
      "3\n",
      "4\n",
      "5\n",
      "Search element found 5\n"
     ]
    }
   ],
   "source": [
    "number = 1\n",
    "search = int(input('Enter search element: '))\n",
    "while number <= 10:\n",
    "    print(number)\n",
    "    if number == search:\n",
    "        print('Search element found', search)\n",
    "        break\n",
    "    number += 1\n",
    "else:\n",
    "    print('The seach element is not found ')"
   ]
  },
  {
   "cell_type": "markdown",
   "id": "876ddca4",
   "metadata": {},
   "source": [
    "    In the above test case we are searching the element 5 when the element is found we are breaking.\n",
    "    By that reason we can not see else block execution."
   ]
  },
  {
   "cell_type": "code",
   "execution_count": 22,
   "id": "a0d47931",
   "metadata": {
    "scrolled": true
   },
   "outputs": [
    {
     "name": "stdout",
     "output_type": "stream",
     "text": [
      "Enter search element: 13\n",
      "1\n",
      "2\n",
      "3\n",
      "4\n",
      "5\n",
      "6\n",
      "7\n",
      "8\n",
      "9\n",
      "10\n",
      "The seach element is not found \n"
     ]
    }
   ],
   "source": [
    "number = 1\n",
    "search = int(input('Enter search element: '))\n",
    "while number <= 10:\n",
    "    print(number)\n",
    "    if number == search:\n",
    "        print('Search element found', search)\n",
    "        break\n",
    "    number += 1\n",
    "else:\n",
    "    print('The seach element is not found ')"
   ]
  },
  {
   "cell_type": "markdown",
   "id": "71d54263",
   "metadata": {},
   "source": [
    "    In the above example we are searching the element 13 which is not in numbers,\n",
    "    So we can see the else blcok execution"
   ]
  }
 ],
 "metadata": {
  "kernelspec": {
   "display_name": "Python 3 (ipykernel)",
   "language": "python",
   "name": "python3"
  },
  "language_info": {
   "codemirror_mode": {
    "name": "ipython",
    "version": 3
   },
   "file_extension": ".py",
   "mimetype": "text/x-python",
   "name": "python",
   "nbconvert_exporter": "python",
   "pygments_lexer": "ipython3",
   "version": "3.9.12"
  }
 },
 "nbformat": 4,
 "nbformat_minor": 5
}
