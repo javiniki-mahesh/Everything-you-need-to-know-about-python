{
 "cells": [
  {
   "cell_type": "markdown",
   "id": "096eb712",
   "metadata": {},
   "source": [
    "# Everything you need to know about python:\n",
    "## In simplest possible way"
   ]
  },
  {
   "cell_type": "markdown",
   "id": "437ff696",
   "metadata": {},
   "source": [
    "# break in while loop"
   ]
  },
  {
   "cell_type": "markdown",
   "id": "b76d044b",
   "metadata": {},
   "source": [
    "         The \"break\" statement is a fundamental control flow mechanism in Python that allows you to prematurely exit a loop when a specific condition is met. It's particularly useful when you want to terminate a loop before it reaches its natural end based on some criteria."
   ]
  },
  {
   "cell_type": "markdown",
   "id": "6f404e2b",
   "metadata": {},
   "source": [
    "    The below is the basic example of traveling from the values 1 to 10 using while loop."
   ]
  },
  {
   "cell_type": "code",
   "execution_count": 2,
   "id": "72e3cfcc",
   "metadata": {},
   "outputs": [
    {
     "name": "stdout",
     "output_type": "stream",
     "text": [
      "1\n",
      "2\n",
      "3\n",
      "4\n",
      "5\n",
      "6\n",
      "7\n",
      "8\n",
      "9\n",
      "10\n"
     ]
    }
   ],
   "source": [
    "value = 1\n",
    "while value <= 10:\n",
    "    print(value)\n",
    "    value += 1"
   ]
  },
  {
   "cell_type": "markdown",
   "id": "fa643a6a",
   "metadata": {},
   "source": [
    "    In this loop when we want to break the loop in middle when we reach a specific condition, we can do that before that first try understand the syntax how we can use \"break\" in \"while\" loop."
   ]
  },
  {
   "cell_type": "markdown",
   "id": "5bdc6594",
   "metadata": {},
   "source": [
    "# Syntax"
   ]
  },
  {
   "cell_type": "code",
   "execution_count": null,
   "id": "1e7e1ddb",
   "metadata": {},
   "outputs": [],
   "source": [
    "while while_Condition:\n",
    "    # actions\n",
    "    # modifying statement\n",
    "    if break_condition:\n",
    "        break"
   ]
  },
  {
   "cell_type": "code",
   "execution_count": 9,
   "id": "504c799a",
   "metadata": {
    "scrolled": true
   },
   "outputs": [
    {
     "name": "stdout",
     "output_type": "stream",
     "text": [
      "Enter break number: 8\n",
      "1\n",
      "2\n",
      "3\n",
      "4\n",
      "5\n",
      "6\n",
      "7\n",
      "8\n",
      "This is in break 8\n"
     ]
    }
   ],
   "source": [
    "value = 1\n",
    "break_num = int(input('Enter break number: '))\n",
    "while value <= 10:\n",
    "    print(value)\n",
    "    if value == break_num:\n",
    "        print('This is in break', value)\n",
    "        break\n",
    "    value += 1"
   ]
  },
  {
   "cell_type": "markdown",
   "id": "d6ee1c8b",
   "metadata": {},
   "source": [
    "        In the above example we are breaking the loop when the user given \"break_num\" equal to value that we are iterating. To understand the break execution we were using a print in if block."
   ]
  },
  {
   "cell_type": "markdown",
   "id": "9e229069",
   "metadata": {},
   "source": [
    "## Adding element through loop until user quits"
   ]
  },
  {
   "cell_type": "code",
   "execution_count": 11,
   "id": "f4dd679b",
   "metadata": {},
   "outputs": [
    {
     "name": "stdout",
     "output_type": "stream",
     "text": [
      "[]\n",
      "Enter element or \"quit\": like\n",
      "Enter element or \"quit\": subscribe\n",
      "Enter element or \"quit\": quit\n",
      "['like', 'subscribe']\n"
     ]
    }
   ],
   "source": [
    "l = []\n",
    "print(l)\n",
    "while True:\n",
    "    element = input('Enter element or \"quit\": ')\n",
    "    if element == 'quit':\n",
    "        break\n",
    "    l.append(element)\n",
    "print(l)"
   ]
  },
  {
   "cell_type": "markdown",
   "id": "f9c68b61",
   "metadata": {},
   "source": [
    "    In the example we have a list and an infinite loop that will continuously take input until user enters \"quit\". Till then the entered elements will be added to list.\n",
    "        In way we can handle infinite while loop also."
   ]
  },
  {
   "cell_type": "markdown",
   "id": "0fa8273e",
   "metadata": {},
   "source": [
    "For more detailed explanation check https://www.youtube.com/@MaheshJaviniki"
   ]
  }
 ],
 "metadata": {
  "kernelspec": {
   "display_name": "Python 3 (ipykernel)",
   "language": "python",
   "name": "python3"
  },
  "language_info": {
   "codemirror_mode": {
    "name": "ipython",
    "version": 3
   },
   "file_extension": ".py",
   "mimetype": "text/x-python",
   "name": "python",
   "nbconvert_exporter": "python",
   "pygments_lexer": "ipython3",
   "version": "3.9.12"
  }
 },
 "nbformat": 4,
 "nbformat_minor": 5
}
