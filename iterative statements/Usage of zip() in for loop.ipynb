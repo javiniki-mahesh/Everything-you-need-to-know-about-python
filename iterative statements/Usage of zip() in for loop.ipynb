{
 "cells": [
  {
   "cell_type": "markdown",
   "id": "3b1b6cbc",
   "metadata": {},
   "source": [
    "# Everything you need to know about python:\n",
    "## In simplest possible way"
   ]
  },
  {
   "cell_type": "markdown",
   "id": "87fd7fc1",
   "metadata": {},
   "source": [
    "# Usage of zip() in for loop"
   ]
  },
  {
   "cell_type": "markdown",
   "id": "30918de9",
   "metadata": {},
   "source": [
    "`zip()` is a built-in Python function that is used to combine multiple iterables (e.g., lists, tuples, or strings) element-wise, creating an iterator of tuples containing corresponding elements from each iterable. It groups the elements based on their positions, allowing you to process them together as pairs.\n",
    "\n",
    "The syntax for `zip()` is as follows:\n",
    "\n",
    "```python\n",
    "zip(iterable1, iterable2, ...)\n",
    "```\n",
    "\n",
    "Here, `iterable1`, `iterable2`, etc., are the iterables you want to combine. The function takes the elements at the same index from each iterable and packs them into a tuple. The `zip()` function returns an iterator, so you typically use it in combination with a list comprehension or in a loop.\n"
   ]
  },
  {
   "cell_type": "markdown",
   "id": "caab4169",
   "metadata": {},
   "source": [
    "## Examples to understand zip()"
   ]
  },
  {
   "cell_type": "code",
   "execution_count": 1,
   "id": "507dbcae",
   "metadata": {},
   "outputs": [
    {
     "name": "stdout",
     "output_type": "stream",
     "text": [
      "Name is Mahesh and age is 21\n",
      "Name is Suresh and age is 22\n",
      "Name is Rajesh and age is 23\n"
     ]
    }
   ],
   "source": [
    "names = ['Mahesh', 'Suresh', 'Rajesh']\n",
    "ages = [21,22,23]\n",
    "\n",
    "for name, age in zip(names, ages):\n",
    "    print(f'Name is {name} and age is {age}')"
   ]
  },
  {
   "cell_type": "markdown",
   "id": "43d575d1",
   "metadata": {},
   "source": [
    "    We want to iterate through names list and ages list simultaneously then we can use zip()"
   ]
  },
  {
   "cell_type": "markdown",
   "id": "0e472d3c",
   "metadata": {},
   "source": [
    "### To understand better"
   ]
  },
  {
   "cell_type": "code",
   "execution_count": 2,
   "id": "38ea0326",
   "metadata": {
    "scrolled": true
   },
   "outputs": [
    {
     "data": {
      "text/plain": [
       "[('Mahesh', 21), ('Suresh', 22), ('Rajesh', 23)]"
      ]
     },
     "execution_count": 2,
     "metadata": {},
     "output_type": "execute_result"
    }
   ],
   "source": [
    "list(zip(names, ages))"
   ]
  },
  {
   "cell_type": "markdown",
   "id": "f2e6bb73",
   "metadata": {},
   "source": [
    "### What if we have iterables with different sizes"
   ]
  },
  {
   "cell_type": "code",
   "execution_count": 3,
   "id": "a4c23320",
   "metadata": {},
   "outputs": [
    {
     "name": "stdout",
     "output_type": "stream",
     "text": [
      "Name is Mahesh and age is 21\n"
     ]
    }
   ],
   "source": [
    "names = ['Mahesh', 'Suresh', 'Rajesh']\n",
    "ages = [21]\n",
    "\n",
    "for name, age in zip(names, ages):\n",
    "    print(f'Name is {name} and age is {age}')"
   ]
  },
  {
   "cell_type": "markdown",
   "id": "8ea4b293",
   "metadata": {},
   "source": [
    "    zip() stops combining elements once the shortest iterable is exhausted. This behavior is known as \"shortest-iteration.\" It means that the resulting zip object will contain the same number of elements as the shortest input iterable.\n",
    "    \n",
    "    because of that reason we have got only one statement as output"
   ]
  },
  {
   "cell_type": "markdown",
   "id": "eb48253c",
   "metadata": {},
   "source": [
    "## What if we want all values of longest iterable"
   ]
  },
  {
   "cell_type": "markdown",
   "id": "efaf4068",
   "metadata": {},
   "source": [
    "    If you want to preserve the unmatched elements when the iterables have different lengths, you can use itertools.zip_longest() from the itertools module instead. It fills the missing elements with a specified fill value (by default, None)."
   ]
  },
  {
   "cell_type": "code",
   "execution_count": 4,
   "id": "667022bb",
   "metadata": {},
   "outputs": [
    {
     "name": "stdout",
     "output_type": "stream",
     "text": [
      "Name is Mahesh and age is 21\n",
      "Name is Suresh and age is None\n",
      "Name is Rajesh and age is None\n"
     ]
    }
   ],
   "source": [
    "from itertools import zip_longest\n",
    "\n",
    "names = ['Mahesh', 'Suresh', 'Rajesh']\n",
    "ages = [21]\n",
    "\n",
    "for name, age in zip_longest(names, ages):\n",
    "    print(f'Name is {name} and age is {age}')\n"
   ]
  },
  {
   "cell_type": "markdown",
   "id": "7f56dce8",
   "metadata": {},
   "source": [
    "## Using strings"
   ]
  },
  {
   "cell_type": "code",
   "execution_count": 5,
   "id": "ba77fb0e",
   "metadata": {},
   "outputs": [
    {
     "name": "stdout",
     "output_type": "stream",
     "text": [
      "char from first string is l and char from second string is s\n",
      "char from first string is i and char from second string is u\n",
      "char from first string is k and char from second string is b\n",
      "char from first string is e and char from second string is s\n"
     ]
    }
   ],
   "source": [
    "string1 = 'like'\n",
    "string2 = 'subscribe'\n",
    "\n",
    "for s1, s2 in zip(string1, string2):\n",
    "    print(f'char from first string is {s1} and char from second string is {s2}')"
   ]
  },
  {
   "cell_type": "code",
   "execution_count": 6,
   "id": "8945fc82",
   "metadata": {
    "scrolled": true
   },
   "outputs": [
    {
     "name": "stdout",
     "output_type": "stream",
     "text": [
      "char from first string is l and char from second string is s\n",
      "char from first string is i and char from second string is u\n",
      "char from first string is k and char from second string is b\n",
      "char from first string is e and char from second string is s\n",
      "char from first string is None and char from second string is c\n",
      "char from first string is None and char from second string is r\n",
      "char from first string is None and char from second string is i\n",
      "char from first string is None and char from second string is b\n",
      "char from first string is None and char from second string is e\n"
     ]
    }
   ],
   "source": [
    "string1 = 'like'\n",
    "string2 = 'subscribe'\n",
    "\n",
    "for s1, s2 in zip_longest(string1, string2):\n",
    "    print(f'char from first string is {s1} and char from second string is {s2}')"
   ]
  },
  {
   "cell_type": "markdown",
   "id": "01de69e9",
   "metadata": {},
   "source": [
    "## Using tuples"
   ]
  },
  {
   "cell_type": "code",
   "execution_count": 7,
   "id": "21abaf42",
   "metadata": {},
   "outputs": [
    {
     "name": "stdout",
     "output_type": "stream",
     "text": [
      "Mahesh 21\n",
      "Suresh 22\n",
      "Rajesh 23\n"
     ]
    }
   ],
   "source": [
    "names = ('Mahesh', 'Suresh', 'Rajesh')\n",
    "ages = (21,22,23)\n",
    "\n",
    "for name, age in zip(names, ages):\n",
    "    print(name, age)"
   ]
  },
  {
   "cell_type": "markdown",
   "id": "a14bb1df",
   "metadata": {},
   "source": [
    "## Using sets"
   ]
  },
  {
   "cell_type": "code",
   "execution_count": 8,
   "id": "28333069",
   "metadata": {},
   "outputs": [
    {
     "name": "stdout",
     "output_type": "stream",
     "text": [
      "Mahesh 21\n",
      "Rajesh 22\n",
      "Suresh 23\n"
     ]
    }
   ],
   "source": [
    "names = {'Mahesh', 'Suresh', 'Rajesh'}\n",
    "ages = {21,22,23}\n",
    "\n",
    "for name, age in zip(names, ages):\n",
    "    print(name, age)"
   ]
  },
  {
   "cell_type": "markdown",
   "id": "f40d244d",
   "metadata": {},
   "source": [
    "## Using dicts (keys)"
   ]
  },
  {
   "cell_type": "code",
   "execution_count": 9,
   "id": "154777bb",
   "metadata": {},
   "outputs": [
    {
     "name": "stdout",
     "output_type": "stream",
     "text": [
      "1 3\n",
      "2 4\n"
     ]
    }
   ],
   "source": [
    "dict1 = {1:'one', 2:'two'}\n",
    "dict2 = {3:'three', 4:'four'}\n",
    "\n",
    "for d1, d2 in zip(dict1, dict2):\n",
    "    print(d1,d2)"
   ]
  },
  {
   "cell_type": "markdown",
   "id": "13ddcd6d",
   "metadata": {},
   "source": [
    "## Using dicts (values)"
   ]
  },
  {
   "cell_type": "code",
   "execution_count": 10,
   "id": "6d905c17",
   "metadata": {},
   "outputs": [
    {
     "name": "stdout",
     "output_type": "stream",
     "text": [
      "one three\n",
      "two four\n"
     ]
    }
   ],
   "source": [
    "dict1 = {1:'one', 2:'two'}\n",
    "dict2 = {3:'three', 4:'four'}\n",
    "\n",
    "for d1, d2 in zip(dict1.values(), dict2.values()):\n",
    "    print(d1,d2)"
   ]
  },
  {
   "cell_type": "markdown",
   "id": "702fb691",
   "metadata": {},
   "source": [
    "## Using dicts (key-value pairs)"
   ]
  },
  {
   "cell_type": "code",
   "execution_count": 11,
   "id": "f7758c2c",
   "metadata": {},
   "outputs": [
    {
     "name": "stdout",
     "output_type": "stream",
     "text": [
      "(1, 'one') (3, 'three')\n",
      "(2, 'two') (4, 'four')\n"
     ]
    }
   ],
   "source": [
    "dict1 = {1:'one', 2:'two'}\n",
    "dict2 = {3:'three', 4:'four'}\n",
    "\n",
    "for d1, d2 in zip(dict1.items(), dict2.items()):\n",
    "    print(d1,d2)"
   ]
  },
  {
   "cell_type": "markdown",
   "id": "bfd8c0e7",
   "metadata": {},
   "source": [
    "If you find this content interesting and for more of this kind of content explore my YTChannel: https://www.youtube.com/@MaheshJaviniki"
   ]
  },
  {
   "cell_type": "code",
   "execution_count": null,
   "id": "c7f0df1f",
   "metadata": {},
   "outputs": [],
   "source": []
  }
 ],
 "metadata": {
  "kernelspec": {
   "display_name": "Python 3 (ipykernel)",
   "language": "python",
   "name": "python3"
  },
  "language_info": {
   "codemirror_mode": {
    "name": "ipython",
    "version": 3
   },
   "file_extension": ".py",
   "mimetype": "text/x-python",
   "name": "python",
   "nbconvert_exporter": "python",
   "pygments_lexer": "ipython3",
   "version": "3.9.12"
  }
 },
 "nbformat": 4,
 "nbformat_minor": 5
}
