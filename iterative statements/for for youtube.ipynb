{
 "cells": [
  {
   "cell_type": "markdown",
   "id": "7f0dba9c",
   "metadata": {},
   "source": [
    "# Everything you need to know about python:\n",
    "## In simplest possible way"
   ]
  },
  {
   "cell_type": "markdown",
   "id": "138ac7d7",
   "metadata": {},
   "source": [
    "# Iterative statements (Loops)"
   ]
  },
  {
   "cell_type": "markdown",
   "id": "e164291b",
   "metadata": {},
   "source": [
    "    Iterative statements, also known as loops, are used to execute a block of code repeatedly until a certain condition is met. There are two main types of iterative statements in Python: for loops and while loops.\n",
    "    In this notebook we see how we can use for loop to avoid code redundancy"
   ]
  },
  {
   "cell_type": "markdown",
   "id": "649b3c4a",
   "metadata": {},
   "source": [
    "# for"
   ]
  },
  {
   "cell_type": "markdown",
   "id": "4bfffec3",
   "metadata": {},
   "source": [
    "    A for loop in Python is used to iterate over a sequence of elements and perform a set of operations on each element. The loop variable takes the value of each item in the sequence, one at a time, and the loop continues until all elements in the sequence have been processed."
   ]
  },
  {
   "cell_type": "code",
   "execution_count": 7,
   "id": "ac34a21e",
   "metadata": {
    "scrolled": true
   },
   "outputs": [
    {
     "name": "stdout",
     "output_type": "stream",
     "text": [
      "1\n",
      "3\n",
      "5\n",
      "7\n",
      "9\n",
      "loop is completed\n"
     ]
    }
   ],
   "source": [
    "even_numbers = [0,2,4,6,8] # I have list of even numbers\n",
    "for even in even_numbers:\n",
    "    print(even+1) # By using for loop we are traveling though each element and print odd number by adding 1 to it\n",
    "print('loop is completed')"
   ]
  },
  {
   "cell_type": "markdown",
   "id": "d3b3eb26",
   "metadata": {},
   "source": [
    "# syntax"
   ]
  },
  {
   "cell_type": "markdown",
   "id": "63a5ac63",
   "metadata": {},
   "source": [
    "```python\n",
    "for element in sequence:\n",
    "    block code that performs any operation of the elements in the sequence\n",
    "```"
   ]
  },
  {
   "cell_type": "code",
   "execution_count": 8,
   "id": "b23232b0",
   "metadata": {
    "scrolled": true
   },
   "outputs": [
    {
     "name": "stdout",
     "output_type": "stream",
     "text": [
      "S\n",
      "u\n",
      "b\n",
      "s\n",
      "c\n",
      "r\n",
      "i\n",
      "b\n",
      "e\n"
     ]
    }
   ],
   "source": [
    "string = \"Subscribe\" \n",
    "for char in string: # iterating through characters of string\n",
    "    print(char)"
   ]
  },
  {
   "cell_type": "code",
   "execution_count": 9,
   "id": "a5b8ab81",
   "metadata": {
    "scrolled": true
   },
   "outputs": [
    {
     "name": "stdout",
     "output_type": "stream",
     "text": [
      "1\n",
      "3\n",
      "5\n",
      "7\n",
      "9\n"
     ]
    }
   ],
   "source": [
    "even_tuple = (0,2,4,6,8)\n",
    "for element in even_tuple: # iterating through elements tuple\n",
    "    print(element+1)"
   ]
  },
  {
   "cell_type": "code",
   "execution_count": 10,
   "id": "a259e00b",
   "metadata": {
    "scrolled": true
   },
   "outputs": [
    {
     "name": "stdout",
     "output_type": "stream",
     "text": [
      "1\n",
      "3\n",
      "5\n",
      "7\n",
      "9\n"
     ]
    }
   ],
   "source": [
    "even_set = {0,2,4,6,8}\n",
    "for ele in even_set: # iterating through elementso set\n",
    "    print(ele + 1)"
   ]
  },
  {
   "cell_type": "code",
   "execution_count": 11,
   "id": "55a53b44",
   "metadata": {},
   "outputs": [
    {
     "name": "stdout",
     "output_type": "stream",
     "text": [
      "(1, 'one')\n",
      "(2, 'two')\n",
      "(3, 'three')\n"
     ]
    }
   ],
   "source": [
    "my_dict = {1:'one', 2:'two', 3:'three'}\n",
    "for value in my_dict.items(): # iterating through elements of dict\n",
    "    print(value)"
   ]
  },
  {
   "cell_type": "markdown",
   "id": "fb6d1a2d",
   "metadata": {},
   "source": [
    "If you find this content interesting and for more of this kind of content explore my YTChannel: https://www.youtube.com/@MaheshJaviniki"
   ]
  }
 ],
 "metadata": {
  "kernelspec": {
   "display_name": "Python 3 (ipykernel)",
   "language": "python",
   "name": "python3"
  },
  "language_info": {
   "codemirror_mode": {
    "name": "ipython",
    "version": 3
   },
   "file_extension": ".py",
   "mimetype": "text/x-python",
   "name": "python",
   "nbconvert_exporter": "python",
   "pygments_lexer": "ipython3",
   "version": "3.9.12"
  }
 },
 "nbformat": 4,
 "nbformat_minor": 5
}
