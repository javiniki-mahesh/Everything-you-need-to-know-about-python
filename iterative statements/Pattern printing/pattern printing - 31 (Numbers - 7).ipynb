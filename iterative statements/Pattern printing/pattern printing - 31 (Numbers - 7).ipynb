{
 "cells": [
  {
   "cell_type": "markdown",
   "id": "b9af14f4",
   "metadata": {},
   "source": [
    "# Everything you need to know about python:\n",
    "## In simplest possible way"
   ]
  },
  {
   "cell_type": "markdown",
   "id": "f6850ce9",
   "metadata": {},
   "source": [
    "# Pattern printing - 31 (Numbers - 7)"
   ]
  },
  {
   "cell_type": "markdown",
   "id": "cb833a22",
   "metadata": {},
   "source": [
    "        1 \n",
    "       2 2 \n",
    "      3 3 3 \n",
    "     4 4 4 4 \n",
    "    5 5 5 5 5 \n",
    "     4 4 4 4 \n",
    "      3 3 3 \n",
    "       2 2 \n",
    "        1 "
   ]
  },
  {
   "cell_type": "code",
   "execution_count": 1,
   "id": "979cb863",
   "metadata": {},
   "outputs": [
    {
     "name": "stdout",
     "output_type": "stream",
     "text": [
      "Enter rows: 5\n",
      "    1 \n",
      "   2 2 \n",
      "  3 3 3 \n",
      " 4 4 4 4 \n",
      "5 5 5 5 5 \n",
      " 4 4 4 4 \n",
      "  3 3 3 \n",
      "   2 2 \n",
      "    1 \n"
     ]
    }
   ],
   "source": [
    "rows = int(input('Enter rows: '))\n",
    "spaces = rows - 1\n",
    "for i in range(1, rows + 1):\n",
    "    print(' '*spaces, end = '')\n",
    "    for j in range(1, i+1):\n",
    "        print(i, end = ' ')\n",
    "    print()\n",
    "    spaces -= 1\n",
    "spaces += 2\n",
    "for k in range(rows - 1, 0, -1):\n",
    "    print(' ' * spaces, end = '')\n",
    "    for l in range(1, k+1):\n",
    "        print(k, end = ' ')\n",
    "    print()\n",
    "    spaces += 1"
   ]
  },
  {
   "cell_type": "markdown",
   "id": "69bb6d9a",
   "metadata": {},
   "source": [
    "    Exercise for you to solve the below pattern"
   ]
  },
  {
   "cell_type": "markdown",
   "id": "2c970893",
   "metadata": {},
   "source": [
    "    5 5 5 5 5 \n",
    "     4 4 4 4 \n",
    "      3 3 3 \n",
    "       2 2 \n",
    "        1 \n",
    "       2 2 \n",
    "      3 3 3 \n",
    "     4 4 4 4 \n",
    "    5 5 5 5 5 "
   ]
  },
  {
   "cell_type": "markdown",
   "id": "c42c0bce",
   "metadata": {},
   "source": [
    "    Finding dificulty to solve ?\n",
    "check out my YouTube channel: https://www.youtube.com/@MaheshJaviniki where you can find the solution and complete python tutorials and tutorials for data science."
   ]
  }
 ],
 "metadata": {
  "kernelspec": {
   "display_name": "Python 3 (ipykernel)",
   "language": "python",
   "name": "python3"
  },
  "language_info": {
   "codemirror_mode": {
    "name": "ipython",
    "version": 3
   },
   "file_extension": ".py",
   "mimetype": "text/x-python",
   "name": "python",
   "nbconvert_exporter": "python",
   "pygments_lexer": "ipython3",
   "version": "3.9.12"
  }
 },
 "nbformat": 4,
 "nbformat_minor": 5
}
