{
 "cells": [
  {
   "cell_type": "markdown",
   "id": "5ac476a7",
   "metadata": {},
   "source": [
    "# Everything you need to know about python:\n",
    "## In simplest possible way"
   ]
  },
  {
   "cell_type": "markdown",
   "id": "39916a54",
   "metadata": {},
   "source": [
    "# Pattern printing - 73 (Alphabets - 9)"
   ]
  },
  {
   "cell_type": "markdown",
   "id": "207a36de",
   "metadata": {},
   "source": [
    "            A \n",
    "          A B \n",
    "        A B C \n",
    "      A B C D \n",
    "    A B C D E"
   ]
  },
  {
   "cell_type": "code",
   "execution_count": 1,
   "id": "28ae34e9",
   "metadata": {},
   "outputs": [
    {
     "name": "stdout",
     "output_type": "stream",
     "text": [
      "ENter rows: 5\n",
      "        A \n",
      "      A B \n",
      "    A B C \n",
      "  A B C D \n",
      "A B C D E \n"
     ]
    }
   ],
   "source": [
    "rows = int(input('ENter rows: '))\n",
    "spaces = 2 * rows - 2\n",
    "for i in range(1, rows + 1):\n",
    "    alpha = ord('A')\n",
    "    print(' ' * spaces, end = '')\n",
    "    for j in range(1, i + 1):\n",
    "        print(chr(alpha), end = ' ')\n",
    "        alpha += 1\n",
    "    print()\n",
    "    spaces -= 2"
   ]
  },
  {
   "cell_type": "markdown",
   "id": "1d757159",
   "metadata": {},
   "source": [
    "    Exercise for you to solve the below pattern"
   ]
  },
  {
   "cell_type": "markdown",
   "id": "d749e592",
   "metadata": {},
   "source": [
    "\n",
    "    A B C D E \n",
    "    A B C D \n",
    "    A B C \n",
    "    A B \n",
    "    A "
   ]
  },
  {
   "cell_type": "markdown",
   "id": "36cc6542",
   "metadata": {},
   "source": [
    "    Finding dificulty to solve ?\n",
    "check out my YouTube channel: https://www.youtube.com/@MaheshJaviniki where you can find the solution and complete python tutorials and tutorials for data science."
   ]
  }
 ],
 "metadata": {
  "kernelspec": {
   "display_name": "Python 3 (ipykernel)",
   "language": "python",
   "name": "python3"
  },
  "language_info": {
   "codemirror_mode": {
    "name": "ipython",
    "version": 3
   },
   "file_extension": ".py",
   "mimetype": "text/x-python",
   "name": "python",
   "nbconvert_exporter": "python",
   "pygments_lexer": "ipython3",
   "version": "3.9.12"
  }
 },
 "nbformat": 4,
 "nbformat_minor": 5
}
