{
 "cells": [
  {
   "cell_type": "markdown",
   "id": "32cfbccc",
   "metadata": {},
   "source": [
    "# Everything you need to know about python:\n",
    "## In simplest possible way"
   ]
  },
  {
   "cell_type": "markdown",
   "id": "5b5130ad",
   "metadata": {},
   "source": [
    "# Pattern printing - 36 (Numbers - 12)"
   ]
  },
  {
   "cell_type": "markdown",
   "id": "58bc11f6",
   "metadata": {},
   "source": [
    "    1 2 3 4 5\n",
    "    1 2 3 4\n",
    "    1 2 3\n",
    "    1 2\n",
    "    1"
   ]
  },
  {
   "cell_type": "code",
   "execution_count": 1,
   "id": "c2a1a735",
   "metadata": {},
   "outputs": [
    {
     "name": "stdout",
     "output_type": "stream",
     "text": [
      "Enter rows: 5\n",
      "1 2 3 4 5 \n",
      "1 2 3 4 \n",
      "1 2 3 \n",
      "1 2 \n",
      "1 \n"
     ]
    }
   ],
   "source": [
    "rows = int(input('Enter rows: '))\n",
    "for i in range(rows, 0, -1):\n",
    "    for j in range(1, i+1):\n",
    "        print(j, end = ' ')\n",
    "    print()"
   ]
  },
  {
   "cell_type": "markdown",
   "id": "b0cb50d6",
   "metadata": {},
   "source": [
    "    Exercise for you to solve the below pattern"
   ]
  },
  {
   "cell_type": "markdown",
   "id": "13a83a4c",
   "metadata": {},
   "source": [
    "    1 2 3 4 5 \n",
    "     1 2 3 4 \n",
    "      1 2 3 \n",
    "       1 2 \n",
    "        1 "
   ]
  },
  {
   "cell_type": "markdown",
   "id": "b007dd80",
   "metadata": {},
   "source": [
    "    Finding dificulty to solve ?\n",
    "check out my YouTube channel: https://www.youtube.com/@MaheshJaviniki where you can find the solution and complete python tutorials and tutorials for data science."
   ]
  }
 ],
 "metadata": {
  "kernelspec": {
   "display_name": "Python 3 (ipykernel)",
   "language": "python",
   "name": "python3"
  },
  "language_info": {
   "codemirror_mode": {
    "name": "ipython",
    "version": 3
   },
   "file_extension": ".py",
   "mimetype": "text/x-python",
   "name": "python",
   "nbconvert_exporter": "python",
   "pygments_lexer": "ipython3",
   "version": "3.9.12"
  }
 },
 "nbformat": 4,
 "nbformat_minor": 5
}
