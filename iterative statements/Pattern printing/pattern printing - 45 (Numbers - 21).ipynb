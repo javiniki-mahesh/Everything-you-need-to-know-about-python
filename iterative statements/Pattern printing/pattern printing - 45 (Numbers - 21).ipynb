{
 "cells": [
  {
   "cell_type": "markdown",
   "id": "c21f4a28",
   "metadata": {},
   "source": [
    "# Everything you need to know about python:\n",
    "## In simplest possible way"
   ]
  },
  {
   "cell_type": "markdown",
   "id": "e32d8ba5",
   "metadata": {},
   "source": [
    "# Pattern printing - 45 (Numbers - 21)"
   ]
  },
  {
   "cell_type": "markdown",
   "id": "9a326c8f",
   "metadata": {},
   "source": [
    "        1 \n",
    "       1 2 \n",
    "      1 2 3 \n",
    "     1 2 3 4 \n",
    "    1 2 3 4 5 \n",
    "     2 3 4 5 \n",
    "      3 4 5 \n",
    "       4 5 \n",
    "        5 "
   ]
  },
  {
   "cell_type": "code",
   "execution_count": 1,
   "id": "1ec76363",
   "metadata": {},
   "outputs": [
    {
     "name": "stdout",
     "output_type": "stream",
     "text": [
      "Enter rows: 5\n",
      "    1 \n",
      "   1 2 \n",
      "  1 2 3 \n",
      " 1 2 3 4 \n",
      "1 2 3 4 5 \n",
      " 2 3 4 5 \n",
      "  3 4 5 \n",
      "   4 5 \n",
      "    5 \n"
     ]
    }
   ],
   "source": [
    "rows = int(input('Enter rows: '))\n",
    "spaces = rows - 1\n",
    "for i in range(1, rows + 1):\n",
    "    print(' '*spaces, end = '')\n",
    "    for j in range(1, i+1):\n",
    "        print(j, end = ' ')\n",
    "    print()\n",
    "    spaces -= 1\n",
    "spaces += 2\n",
    "for k in range(2, rows+1):\n",
    "    print(' '*spaces, end = '')\n",
    "    for l in range(k, rows +1):\n",
    "        print(l, end = ' ')\n",
    "    print()\n",
    "    spaces += 1"
   ]
  },
  {
   "cell_type": "markdown",
   "id": "1194ae77",
   "metadata": {},
   "source": [
    "    Exercise for you to solve the below pattern"
   ]
  },
  {
   "cell_type": "markdown",
   "id": "98e9988b",
   "metadata": {},
   "source": [
    "        1 \n",
    "       2 1 \n",
    "      3 2 1 \n",
    "     4 3 2 1 \n",
    "    5 4 3 2 1 \n",
    "     5 4 3 2 \n",
    "      5 4 3 \n",
    "       5 4 \n",
    "        5 "
   ]
  },
  {
   "cell_type": "markdown",
   "id": "043ccb0a",
   "metadata": {},
   "source": [
    "#####    Finding dificulty to solve ?\n",
    "check out my YouTube channel: https://www.youtube.com/@MaheshJaviniki where you can find the solution and complete python tutorials and tutorials for data science."
   ]
  }
 ],
 "metadata": {
  "kernelspec": {
   "display_name": "Python 3 (ipykernel)",
   "language": "python",
   "name": "python3"
  },
  "language_info": {
   "codemirror_mode": {
    "name": "ipython",
    "version": 3
   },
   "file_extension": ".py",
   "mimetype": "text/x-python",
   "name": "python",
   "nbconvert_exporter": "python",
   "pygments_lexer": "ipython3",
   "version": "3.9.12"
  }
 },
 "nbformat": 4,
 "nbformat_minor": 5
}
