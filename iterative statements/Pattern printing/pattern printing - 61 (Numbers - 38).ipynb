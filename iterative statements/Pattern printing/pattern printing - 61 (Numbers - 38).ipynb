{
 "cells": [
  {
   "cell_type": "markdown",
   "id": "db91ce3f",
   "metadata": {},
   "source": [
    "# Everything you need to know about python:\n",
    "## In simplest possible way"
   ]
  },
  {
   "cell_type": "markdown",
   "id": "410ce46a",
   "metadata": {},
   "source": [
    "# Pattern printing - 61 (Numbers - 37)"
   ]
  },
  {
   "cell_type": "markdown",
   "id": "3c5a82fd",
   "metadata": {},
   "source": [
    "            1 \n",
    "          1 2 1 \n",
    "        1 2 3 2 1 \n",
    "      1 2 3 4 3 2 1 \n",
    "    1 2 3 4 5 4 3 2 1"
   ]
  },
  {
   "cell_type": "code",
   "execution_count": 1,
   "id": "9c095819",
   "metadata": {},
   "outputs": [
    {
     "name": "stdout",
     "output_type": "stream",
     "text": [
      "enter rows: 5\n",
      "        1 \n",
      "      1 2 1 \n",
      "    1 2 3 2 1 \n",
      "  1 2 3 4 3 2 1 \n",
      "1 2 3 4 5 4 3 2 1 \n"
     ]
    }
   ],
   "source": [
    "rows = int(input(\"enter rows: \"))\n",
    "spaces = 2 * rows - 2\n",
    "for i in range(1, rows + 1):\n",
    "    print(' '*spaces, end = '')\n",
    "    for j in range(1, i + 1):\n",
    "        print(j, end = ' ')\n",
    "    spaces -= 2\n",
    "    \n",
    "    for k in range(i-1, 0, -1):\n",
    "        print(k, end = ' ')\n",
    "    print()\n",
    "    "
   ]
  },
  {
   "cell_type": "markdown",
   "id": "de1b7445",
   "metadata": {},
   "source": [
    "    Exercise for you to solve the below pattern"
   ]
  },
  {
   "cell_type": "markdown",
   "id": "6bb815cb",
   "metadata": {},
   "source": [
    "    1 2 3 4 5 4 3 2 1 \n",
    "      1 2 3 4 3 2 1 \n",
    "        1 2 3 2 1 \n",
    "          1 2 1 \n",
    "            1 "
   ]
  },
  {
   "cell_type": "markdown",
   "id": "1a00e02f",
   "metadata": {},
   "source": [
    "    Finding dificulty to solve ?\n",
    "check out my YouTube channel: https://www.youtube.com/@MaheshJaviniki where you can find the solution and complete python tutorials and tutorials for data science."
   ]
  }
 ],
 "metadata": {
  "kernelspec": {
   "display_name": "Python 3 (ipykernel)",
   "language": "python",
   "name": "python3"
  },
  "language_info": {
   "codemirror_mode": {
    "name": "ipython",
    "version": 3
   },
   "file_extension": ".py",
   "mimetype": "text/x-python",
   "name": "python",
   "nbconvert_exporter": "python",
   "pygments_lexer": "ipython3",
   "version": "3.9.12"
  }
 },
 "nbformat": 4,
 "nbformat_minor": 5
}
