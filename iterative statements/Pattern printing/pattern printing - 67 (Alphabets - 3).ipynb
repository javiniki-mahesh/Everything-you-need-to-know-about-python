{
 "cells": [
  {
   "cell_type": "markdown",
   "id": "6669c01d",
   "metadata": {},
   "source": [
    "# Everything you need to know about python:\n",
    "## In simplest possible way"
   ]
  },
  {
   "cell_type": "markdown",
   "id": "973fd2b3",
   "metadata": {},
   "source": [
    "# Pattern printing - 67 (Alphabets - 3)"
   ]
  },
  {
   "cell_type": "markdown",
   "id": "0578ddab",
   "metadata": {},
   "source": [
    "    A B C D E \n",
    "    A B C D E \n",
    "    A B C D E \n",
    "    A B C D E \n",
    "    A B C D E"
   ]
  },
  {
   "cell_type": "code",
   "execution_count": 1,
   "id": "ddc19ae2",
   "metadata": {},
   "outputs": [
    {
     "name": "stdout",
     "output_type": "stream",
     "text": [
      "Enter rows: 5\n",
      "A B C D E \n",
      "A B C D E \n",
      "A B C D E \n",
      "A B C D E \n",
      "A B C D E \n"
     ]
    }
   ],
   "source": [
    "rows = int(input('Enter rows: '))\n",
    "for i in range(1, rows + 1):\n",
    "    alpha = ord('A')\n",
    "    for j in range(1, rows + 1):\n",
    "        print(chr(alpha), end = ' ')\n",
    "        alpha += 1\n",
    "    print()"
   ]
  },
  {
   "cell_type": "markdown",
   "id": "5316771c",
   "metadata": {},
   "source": [
    "    Exercise for you to solve the below pattern"
   ]
  },
  {
   "cell_type": "markdown",
   "id": "1e42de55",
   "metadata": {},
   "source": [
    "    A \n",
    "    B B \n",
    "    C C C \n",
    "    D D D D \n",
    "    E E E E E "
   ]
  },
  {
   "cell_type": "markdown",
   "id": "e9b6ae7f",
   "metadata": {},
   "source": [
    "    Finding dificulty to solve ?\n",
    "check out my YouTube channel: https://www.youtube.com/@MaheshJaviniki where you can find the solution and complete python tutorials and tutorials for data science."
   ]
  }
 ],
 "metadata": {
  "kernelspec": {
   "display_name": "Python 3 (ipykernel)",
   "language": "python",
   "name": "python3"
  },
  "language_info": {
   "codemirror_mode": {
    "name": "ipython",
    "version": 3
   },
   "file_extension": ".py",
   "mimetype": "text/x-python",
   "name": "python",
   "nbconvert_exporter": "python",
   "pygments_lexer": "ipython3",
   "version": "3.9.12"
  }
 },
 "nbformat": 4,
 "nbformat_minor": 5
}
