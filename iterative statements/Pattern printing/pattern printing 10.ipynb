{
 "cells": [
  {
   "cell_type": "markdown",
   "id": "46f0dfe3",
   "metadata": {},
   "source": [
    "# Everything you need to know about python:\n",
    "## In simplest possible way"
   ]
  },
  {
   "cell_type": "markdown",
   "id": "7e325d1f",
   "metadata": {},
   "source": [
    "# Pattern printing - 10"
   ]
  },
  {
   "cell_type": "markdown",
   "id": "fd00f248",
   "metadata": {},
   "source": [
    "    *\n",
    "    **\n",
    "    ***\n",
    "    ****\n",
    "    *****\n",
    "    ****\n",
    "    ***\n",
    "    **\n",
    "    *"
   ]
  },
  {
   "cell_type": "code",
   "execution_count": 1,
   "id": "65cc78b8",
   "metadata": {},
   "outputs": [
    {
     "name": "stdout",
     "output_type": "stream",
     "text": [
      "Enter any number: 5\n",
      "*\n",
      "**\n",
      "***\n",
      "****\n",
      "*****\n",
      "****\n",
      "***\n",
      "**\n",
      "*\n"
     ]
    }
   ],
   "source": [
    "rows = int(input('Enter any number: '))\n",
    "\n",
    "for i in range(1, rows +1):\n",
    "    print('*' * i)\n",
    "for j in range(rows - 1, 0, -1):\n",
    "    print('*' * j)"
   ]
  },
  {
   "cell_type": "markdown",
   "id": "ab8cf38c",
   "metadata": {},
   "source": [
    "    Exercise for you to solve the below pattern"
   ]
  },
  {
   "cell_type": "markdown",
   "id": "360ddb62",
   "metadata": {},
   "source": [
    "        *\n",
    "       **\n",
    "      ***\n",
    "     ****\n",
    "    *****\n",
    "     ****\n",
    "      ***\n",
    "       **\n",
    "        *\n"
   ]
  },
  {
   "cell_type": "markdown",
   "id": "fc72d942",
   "metadata": {},
   "source": [
    "    Finding dificulty to solve ?\n",
    "check out my YouTube channel: https://www.youtube.com/@MaheshJaviniki where you can find the solution and complete python tutorials and tutorials for data science."
   ]
  }
 ],
 "metadata": {
  "kernelspec": {
   "display_name": "Python 3 (ipykernel)",
   "language": "python",
   "name": "python3"
  },
  "language_info": {
   "codemirror_mode": {
    "name": "ipython",
    "version": 3
   },
   "file_extension": ".py",
   "mimetype": "text/x-python",
   "name": "python",
   "nbconvert_exporter": "python",
   "pygments_lexer": "ipython3",
   "version": "3.9.12"
  }
 },
 "nbformat": 4,
 "nbformat_minor": 5
}
