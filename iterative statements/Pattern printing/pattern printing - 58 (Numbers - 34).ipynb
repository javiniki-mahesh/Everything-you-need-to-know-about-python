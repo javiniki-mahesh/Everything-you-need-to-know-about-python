{
 "cells": [
  {
   "cell_type": "markdown",
   "id": "d83f4124",
   "metadata": {},
   "source": [
    "# Everything you need to know about python:\n",
    "## In simplest possible way"
   ]
  },
  {
   "cell_type": "markdown",
   "id": "d80b4e2e",
   "metadata": {},
   "source": [
    "# Pattern printing - 58 (Numbers - 34)"
   ]
  },
  {
   "cell_type": "markdown",
   "id": "1180d46d",
   "metadata": {},
   "source": [
    "            5 \n",
    "          4 5 4 \n",
    "        3 4 5 4 3 \n",
    "      2 3 4 5 4 3 2 \n",
    "    1 2 3 4 5 4 3 2 1 "
   ]
  },
  {
   "cell_type": "code",
   "execution_count": 11,
   "id": "f87cf8f0",
   "metadata": {},
   "outputs": [
    {
     "name": "stdout",
     "output_type": "stream",
     "text": [
      "Enter rows: 9\n",
      "                9 \n",
      "              8 9 8 \n",
      "            7 8 9 8 7 \n",
      "          6 7 8 9 8 7 6 \n",
      "        5 6 7 8 9 8 7 6 5 \n",
      "      4 5 6 7 8 9 8 7 6 5 4 \n",
      "    3 4 5 6 7 8 9 8 7 6 5 4 3 \n",
      "  2 3 4 5 6 7 8 9 8 7 6 5 4 3 2 \n",
      "1 2 3 4 5 6 7 8 9 8 7 6 5 4 3 2 1 \n"
     ]
    }
   ],
   "source": [
    "rows = int(input('Enter rows: '))\n",
    "spaces = 2 * rows - 2\n",
    "for i in range(rows, 0, -1):\n",
    "    print(' '*spaces, end = '')\n",
    "    for j in range(i, rows + 1):\n",
    "        print(j, end = ' ')\n",
    "    spaces -= 2\n",
    "    \n",
    "    for k in range(rows- 1, i-1, -1):\n",
    "        print(k, end= ' ')\n",
    "    print()"
   ]
  },
  {
   "cell_type": "markdown",
   "id": "8ce15f0e",
   "metadata": {},
   "source": [
    "    1 2 3 4 5 4 3 2 1 \n",
    "      2 3 4 5 4 3 2 \n",
    "        3 4 5 4 3 \n",
    "          4 5 4 \n",
    "            5 "
   ]
  }
 ],
 "metadata": {
  "kernelspec": {
   "display_name": "Python 3 (ipykernel)",
   "language": "python",
   "name": "python3"
  },
  "language_info": {
   "codemirror_mode": {
    "name": "ipython",
    "version": 3
   },
   "file_extension": ".py",
   "mimetype": "text/x-python",
   "name": "python",
   "nbconvert_exporter": "python",
   "pygments_lexer": "ipython3",
   "version": "3.9.12"
  }
 },
 "nbformat": 4,
 "nbformat_minor": 5
}
