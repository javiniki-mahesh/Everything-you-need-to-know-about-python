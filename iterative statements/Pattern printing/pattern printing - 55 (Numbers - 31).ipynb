{
 "cells": [
  {
   "cell_type": "markdown",
   "id": "461f7213",
   "metadata": {},
   "source": [
    "# Everything you need to know about python:\n",
    "## In simplest possible way"
   ]
  },
  {
   "cell_type": "markdown",
   "id": "f7090f4e",
   "metadata": {},
   "source": [
    "# Pattern printing - 55 (Numbers - 31)"
   ]
  },
  {
   "cell_type": "markdown",
   "id": "36b5cd3c",
   "metadata": {},
   "source": [
    "            1 \n",
    "          2 1 2 \n",
    "        3 2 1 2 3 \n",
    "      4 3 2 1 2 3 4 \n",
    "    5 4 3 2 1 2 3 4 5 "
   ]
  },
  {
   "cell_type": "code",
   "execution_count": 1,
   "id": "64de2920",
   "metadata": {},
   "outputs": [
    {
     "name": "stdout",
     "output_type": "stream",
     "text": [
      "enter rows: 5\n",
      "        1 \n",
      "      2 1 2 \n",
      "    3 2 1 2 3 \n",
      "  4 3 2 1 2 3 4 \n",
      "5 4 3 2 1 2 3 4 5 \n"
     ]
    }
   ],
   "source": [
    "rows = int(input(\"enter rows: \"))\n",
    "spaces = 2 * rows - 2\n",
    "for i in range(1, rows + 1):\n",
    "    print(' '*spaces, end = '')\n",
    "    for j in range(i, 0, -1):\n",
    "        print(j, end = ' ')\n",
    "    spaces -= 2\n",
    "    for k in range(2, i+1):\n",
    "        print(k, end = ' ')\n",
    "    print()"
   ]
  },
  {
   "cell_type": "markdown",
   "id": "e7490056",
   "metadata": {},
   "source": [
    "    Exercise for you to solve the below pattern"
   ]
  },
  {
   "cell_type": "markdown",
   "id": "a7e02979",
   "metadata": {},
   "source": [
    "    5 4 3 2 1 2 3 4 5 \n",
    "      4 3 2 1 2 3 4 \n",
    "        3 2 1 2 3 \n",
    "          2 1 2 \n",
    "            1 "
   ]
  },
  {
   "cell_type": "markdown",
   "id": "f9be4b09",
   "metadata": {},
   "source": [
    "    Finding dificulty to solve ?\n",
    "check out my YouTube channel: https://www.youtube.com/@MaheshJaviniki where you can find the solution and complete python tutorials and tutorials for data science."
   ]
  }
 ],
 "metadata": {
  "kernelspec": {
   "display_name": "Python 3 (ipykernel)",
   "language": "python",
   "name": "python3"
  },
  "language_info": {
   "codemirror_mode": {
    "name": "ipython",
    "version": 3
   },
   "file_extension": ".py",
   "mimetype": "text/x-python",
   "name": "python",
   "nbconvert_exporter": "python",
   "pygments_lexer": "ipython3",
   "version": "3.9.12"
  }
 },
 "nbformat": 4,
 "nbformat_minor": 5
}
