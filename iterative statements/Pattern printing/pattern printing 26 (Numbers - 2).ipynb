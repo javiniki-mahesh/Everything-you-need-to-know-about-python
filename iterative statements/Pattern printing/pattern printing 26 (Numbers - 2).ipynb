{
 "cells": [
  {
   "cell_type": "markdown",
   "id": "e569d117",
   "metadata": {},
   "source": [
    "# Everything you need to know about python:\n",
    "## In simplest possible way"
   ]
  },
  {
   "cell_type": "markdown",
   "id": "74921196",
   "metadata": {},
   "source": [
    "# Pattern printing - 26 (Numbers - 2)"
   ]
  },
  {
   "cell_type": "markdown",
   "id": "c08a6d3f",
   "metadata": {},
   "source": [
    "        1 \n",
    "       2 2 \n",
    "      3 3 3 \n",
    "     4 4 4 4 \n",
    "    5 5 5 5 5 "
   ]
  },
  {
   "cell_type": "code",
   "execution_count": 1,
   "id": "e5c1e1d2",
   "metadata": {},
   "outputs": [
    {
     "name": "stdout",
     "output_type": "stream",
     "text": [
      "    1 \n",
      "   2 2 \n",
      "  3 3 3 \n",
      " 4 4 4 4 \n",
      "5 5 5 5 5 \n"
     ]
    }
   ],
   "source": [
    "rows = 5\n",
    "spaces = rows - 1\n",
    "for i in range(1, rows + 1):\n",
    "    print(' '* spaces, end ='')\n",
    "    for j in range(1, i + 1):\n",
    "        print(i, end = ' ')\n",
    "    print()\n",
    "    spaces -= 1"
   ]
  },
  {
   "cell_type": "markdown",
   "id": "c9486145",
   "metadata": {},
   "source": [
    "    Exercise for you to solve the below pattern"
   ]
  },
  {
   "cell_type": "markdown",
   "id": "a1e11f23",
   "metadata": {},
   "source": [
    "             1 \n",
    "           2 2 \n",
    "         3 3 3 \n",
    "       4 4 4 4 \n",
    "     5 5 5 5 5 "
   ]
  },
  {
   "cell_type": "markdown",
   "id": "df6aec1c",
   "metadata": {},
   "source": [
    "    Finding dificulty to solve ?\n",
    "check out my YouTube channel: https://www.youtube.com/@MaheshJaviniki where you can find the solution and complete python tutorials and tutorials for data science."
   ]
  }
 ],
 "metadata": {
  "kernelspec": {
   "display_name": "Python 3 (ipykernel)",
   "language": "python",
   "name": "python3"
  },
  "language_info": {
   "codemirror_mode": {
    "name": "ipython",
    "version": 3
   },
   "file_extension": ".py",
   "mimetype": "text/x-python",
   "name": "python",
   "nbconvert_exporter": "python",
   "pygments_lexer": "ipython3",
   "version": "3.9.12"
  }
 },
 "nbformat": 4,
 "nbformat_minor": 5
}
