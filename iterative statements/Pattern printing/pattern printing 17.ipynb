{
 "cells": [
  {
   "cell_type": "markdown",
   "id": "30a13871",
   "metadata": {},
   "source": [
    "# Everything you need to know about python:\n",
    "## In simplest possible way"
   ]
  },
  {
   "cell_type": "markdown",
   "id": "84c68881",
   "metadata": {},
   "source": [
    "# Pattern printing - 17"
   ]
  },
  {
   "cell_type": "markdown",
   "id": "d3718241",
   "metadata": {},
   "source": [
    "    *\n",
    "    **\n",
    "    * *\n",
    "    *  *\n",
    "    *****"
   ]
  },
  {
   "cell_type": "code",
   "execution_count": 1,
   "id": "5d60e2d3",
   "metadata": {},
   "outputs": [
    {
     "name": "stdout",
     "output_type": "stream",
     "text": [
      "Enter any number: 5\n",
      "*\n",
      "**\n",
      "* *\n",
      "*  *\n",
      "*****\n"
     ]
    }
   ],
   "source": [
    "rows = int(input('Enter any number: '))\n",
    "spaces = 0\n",
    "\n",
    "for i in range(1, rows + 1):\n",
    "    if i == 1 or i == rows:\n",
    "        print('*' * i)\n",
    "    else:\n",
    "        print('*' + ' ' * spaces + '*')\n",
    "        spaces += 1"
   ]
  },
  {
   "cell_type": "markdown",
   "id": "9d38b446",
   "metadata": {},
   "source": [
    "    Exercise for you to solve the below pattern"
   ]
  },
  {
   "cell_type": "markdown",
   "id": "5331e6c1",
   "metadata": {},
   "source": [
    "         *\n",
    "        **\n",
    "       * *\n",
    "      *  *\n",
    "     *****"
   ]
  },
  {
   "cell_type": "markdown",
   "id": "421cd7cd",
   "metadata": {},
   "source": [
    "    Finding dificulty to solve ?\n",
    "check out my YouTube channel: https://www.youtube.com/@MaheshJaviniki where you can find the solution and complete python tutorials and tutorials for data science."
   ]
  }
 ],
 "metadata": {
  "kernelspec": {
   "display_name": "Python 3 (ipykernel)",
   "language": "python",
   "name": "python3"
  },
  "language_info": {
   "codemirror_mode": {
    "name": "ipython",
    "version": 3
   },
   "file_extension": ".py",
   "mimetype": "text/x-python",
   "name": "python",
   "nbconvert_exporter": "python",
   "pygments_lexer": "ipython3",
   "version": "3.9.12"
  }
 },
 "nbformat": 4,
 "nbformat_minor": 5
}
