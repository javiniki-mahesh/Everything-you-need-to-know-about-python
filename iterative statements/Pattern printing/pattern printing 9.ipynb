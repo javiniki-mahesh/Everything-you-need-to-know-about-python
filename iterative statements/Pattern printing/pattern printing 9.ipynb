{
 "cells": [
  {
   "cell_type": "markdown",
   "id": "f60fadb1",
   "metadata": {},
   "source": [
    "# Everything you need to know about python:\n",
    "## In simplest possible way"
   ]
  },
  {
   "cell_type": "markdown",
   "id": "9221da70",
   "metadata": {},
   "source": [
    "# Pattern printing - 9"
   ]
  },
  {
   "cell_type": "markdown",
   "id": "f6d869f6",
   "metadata": {},
   "source": [
    "    *********\n",
    "     *******\n",
    "      *****\n",
    "       ***\n",
    "        *\n",
    "       ***\n",
    "      *****\n",
    "     *******\n",
    "    *********"
   ]
  },
  {
   "cell_type": "code",
   "execution_count": 2,
   "id": "15da6b68",
   "metadata": {},
   "outputs": [
    {
     "name": "stdout",
     "output_type": "stream",
     "text": [
      "Enter any number: 5\n",
      "*********\n",
      " *******\n",
      "  *****\n",
      "   ***\n",
      "    *\n",
      "   ***\n",
      "  *****\n",
      " *******\n",
      "*********\n"
     ]
    }
   ],
   "source": [
    "rows = int(input('Enter any number: '))\n",
    "spaces = 0\n",
    "\n",
    "for i in range(rows, 0, -1):\n",
    "    print(' ' * spaces + '*' * (i*2-1))\n",
    "    spaces += 1\n",
    "    \n",
    "spaces -= 2\n",
    "for j in range(2, rows+1):\n",
    "    print(' ' * spaces + '*' * (j*2-1))\n",
    "    spaces -= 1"
   ]
  },
  {
   "cell_type": "markdown",
   "id": "5974b2da",
   "metadata": {},
   "source": [
    "    Exercise for you to solve the below pattern"
   ]
  },
  {
   "cell_type": "markdown",
   "id": "13e37375",
   "metadata": {},
   "source": [
    "    *\n",
    "    **\n",
    "    ***\n",
    "    ****\n",
    "    *****\n",
    "    ****\n",
    "    ***\n",
    "    **\n",
    "    *"
   ]
  },
  {
   "cell_type": "markdown",
   "id": "0e5262ed",
   "metadata": {},
   "source": [
    "    Finding dificulty to solve ?\n",
    "check out my YouTube channel: https://www.youtube.com/@MaheshJaviniki where you can find the solution and complete python tutorials and tutorials for data science."
   ]
  }
 ],
 "metadata": {
  "kernelspec": {
   "display_name": "Python 3 (ipykernel)",
   "language": "python",
   "name": "python3"
  },
  "language_info": {
   "codemirror_mode": {
    "name": "ipython",
    "version": 3
   },
   "file_extension": ".py",
   "mimetype": "text/x-python",
   "name": "python",
   "nbconvert_exporter": "python",
   "pygments_lexer": "ipython3",
   "version": "3.9.12"
  }
 },
 "nbformat": 4,
 "nbformat_minor": 5
}
