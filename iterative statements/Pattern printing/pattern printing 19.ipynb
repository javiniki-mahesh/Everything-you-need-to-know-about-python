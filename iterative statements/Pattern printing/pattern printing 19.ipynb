{
 "cells": [
  {
   "cell_type": "markdown",
   "id": "d8828f16",
   "metadata": {},
   "source": [
    "# Everything you need to know about python:\n",
    "## In simplest possible way"
   ]
  },
  {
   "cell_type": "markdown",
   "id": "bd549d61",
   "metadata": {},
   "source": [
    "# Pattern printing - 19"
   ]
  },
  {
   "cell_type": "markdown",
   "id": "d8d51b5e",
   "metadata": {},
   "source": [
    "        *\n",
    "       * *\n",
    "      *   *\n",
    "     *     *\n",
    "    *********\n"
   ]
  },
  {
   "cell_type": "code",
   "execution_count": 1,
   "id": "4d88c38c",
   "metadata": {},
   "outputs": [
    {
     "name": "stdout",
     "output_type": "stream",
     "text": [
      "Enter any number: 5\n",
      "    *\n",
      "   * *\n",
      "  *   *\n",
      " *     *\n",
      "*********\n"
     ]
    }
   ],
   "source": [
    "rows = int(input('Enter any number: '))\n",
    "outer_spaces = rows - 1\n",
    "innner_spaces = 1\n",
    "\n",
    "for i in range(1, rows + 1):\n",
    "    if i == 1 or i == rows:\n",
    "        print(' ' * outer_spaces + '*' * (2*i-1))\n",
    "        outer_spaces -= 1\n",
    "    else:\n",
    "        print(' ' * outer_spaces + '*' + ' ' * innner_spaces + '*')\n",
    "        outer_spaces -= 1\n",
    "        innner_spaces += 2"
   ]
  },
  {
   "cell_type": "markdown",
   "id": "85df6c4e",
   "metadata": {},
   "source": [
    "    Exercise for you to solve the below pattern"
   ]
  },
  {
   "cell_type": "markdown",
   "id": "206a780d",
   "metadata": {},
   "source": [
    "    *****\n",
    "     *  *\n",
    "      * *\n",
    "       **\n",
    "        *"
   ]
  },
  {
   "cell_type": "markdown",
   "id": "9daabe26",
   "metadata": {},
   "source": [
    "    Finding dificulty to solve ?\n",
    "check out my YouTube channel: https://www.youtube.com/@MaheshJaviniki where you can find the solution and complete python tutorials and tutorials for data science."
   ]
  }
 ],
 "metadata": {
  "kernelspec": {
   "display_name": "Python 3 (ipykernel)",
   "language": "python",
   "name": "python3"
  },
  "language_info": {
   "codemirror_mode": {
    "name": "ipython",
    "version": 3
   },
   "file_extension": ".py",
   "mimetype": "text/x-python",
   "name": "python",
   "nbconvert_exporter": "python",
   "pygments_lexer": "ipython3",
   "version": "3.9.12"
  }
 },
 "nbformat": 4,
 "nbformat_minor": 5
}
