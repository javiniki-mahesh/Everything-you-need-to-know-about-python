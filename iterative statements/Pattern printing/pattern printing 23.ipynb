{
 "cells": [
  {
   "cell_type": "markdown",
   "id": "6746faef",
   "metadata": {},
   "source": [
    "# Everything you need to know about python:\n",
    "## In simplest possible way"
   ]
  },
  {
   "cell_type": "markdown",
   "id": "9811c9d2",
   "metadata": {},
   "source": [
    "# Pattern printing - 23"
   ]
  },
  {
   "cell_type": "markdown",
   "id": "c490c506",
   "metadata": {},
   "source": [
    "        *\n",
    "       * *\n",
    "      *   *\n",
    "     *     *\n",
    "    *       *\n",
    "     *     *\n",
    "      *   *\n",
    "       * *\n",
    "        *\n"
   ]
  },
  {
   "cell_type": "code",
   "execution_count": 1,
   "id": "3cce1409",
   "metadata": {},
   "outputs": [
    {
     "name": "stdout",
     "output_type": "stream",
     "text": [
      "Enter any number: 5\n",
      "    *\n",
      "   * *\n",
      "  *   *\n",
      " *     *\n",
      "*       *\n",
      " *     *\n",
      "  *   *\n",
      "   * *\n",
      "    *\n"
     ]
    }
   ],
   "source": [
    "num = int(input('Enter any number: '))\n",
    "outer_spaces = num - 1 \n",
    "inner_spaces = 1\n",
    "for i in range(1, num+1):\n",
    "    if i == 1:\n",
    "        print(' '*outer_spaces + '*')\n",
    "        outer_spaces -= 1\n",
    "    else:\n",
    "        print(' '*outer_spaces + '*' + ' '*inner_spaces + '*')\n",
    "        outer_spaces -= 1\n",
    "        inner_spaces += 2\n",
    "outer_spaces += 2\n",
    "inner_spaces -= 4\n",
    "for j in range(num - 1, 0, -1):\n",
    "    if j == 1:\n",
    "        print(' '*outer_spaces + '*')\n",
    "        outer_spaces += 1\n",
    "    else:\n",
    "        print(' '*outer_spaces + '*' +' '*inner_spaces + '*')\n",
    "        outer_spaces += 1\n",
    "        inner_spaces -= 2"
   ]
  },
  {
   "cell_type": "markdown",
   "id": "42f5438d",
   "metadata": {},
   "source": [
    "    Exercise for you to solve the below pattern"
   ]
  },
  {
   "cell_type": "markdown",
   "id": "b32dba6e",
   "metadata": {},
   "source": [
    "    *********\n",
    "     *     *\n",
    "      *   *\n",
    "       * *\n",
    "        *\n",
    "       * *\n",
    "      *   *\n",
    "     *     *\n",
    "    *********"
   ]
  },
  {
   "cell_type": "markdown",
   "id": "a07db2f5",
   "metadata": {},
   "source": [
    "    Finding dificulty to solve ?\n",
    "check out my YouTube channel: https://www.youtube.com/@MaheshJaviniki where you can find the solution and complete python tutorials and tutorials for data science."
   ]
  }
 ],
 "metadata": {
  "kernelspec": {
   "display_name": "Python 3 (ipykernel)",
   "language": "python",
   "name": "python3"
  },
  "language_info": {
   "codemirror_mode": {
    "name": "ipython",
    "version": 3
   },
   "file_extension": ".py",
   "mimetype": "text/x-python",
   "name": "python",
   "nbconvert_exporter": "python",
   "pygments_lexer": "ipython3",
   "version": "3.9.12"
  }
 },
 "nbformat": 4,
 "nbformat_minor": 5
}
