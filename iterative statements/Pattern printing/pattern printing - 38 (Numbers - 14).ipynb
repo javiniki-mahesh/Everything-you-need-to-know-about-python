{
 "cells": [
  {
   "cell_type": "markdown",
   "id": "3629d743",
   "metadata": {},
   "source": [
    "# Everything you need to know about python:\n",
    "## In simplest possible way"
   ]
  },
  {
   "cell_type": "markdown",
   "id": "fc575a95",
   "metadata": {},
   "source": [
    "# Pattern printing - 38 (Numbers - 14)"
   ]
  },
  {
   "cell_type": "markdown",
   "id": "73f99b22",
   "metadata": {},
   "source": [
    "    1 2 3 4 5 \n",
    "      1 2 3 4 \n",
    "        1 2 3 \n",
    "          1 2 \n",
    "            1 "
   ]
  },
  {
   "cell_type": "code",
   "execution_count": 1,
   "id": "1dd6c56f",
   "metadata": {},
   "outputs": [
    {
     "name": "stdout",
     "output_type": "stream",
     "text": [
      "Enter rows: 5\n",
      "1 2 3 4 5 \n",
      "  1 2 3 4 \n",
      "    1 2 3 \n",
      "      1 2 \n",
      "        1 \n"
     ]
    }
   ],
   "source": [
    "rows = int(input('Enter rows: '))\n",
    "spaces = 0\n",
    "for i in range(rows ,0, -1):\n",
    "    print(' ' * spaces, end = '')\n",
    "    for j in range(1, i+1):\n",
    "        print(j, end = ' ')\n",
    "    print()\n",
    "    spaces += 2"
   ]
  },
  {
   "cell_type": "markdown",
   "id": "37b7ffca",
   "metadata": {},
   "source": [
    "    Exercise for you to solve the below pattern"
   ]
  },
  {
   "cell_type": "markdown",
   "id": "6129790f",
   "metadata": {},
   "source": [
    "        1 \n",
    "       1 2 \n",
    "      1 2 3 \n",
    "     1 2 3 4 \n",
    "    1 2 3 4 5 \n",
    "     1 2 3 4 \n",
    "      1 2 3 \n",
    "       1 2 \n",
    "        1 "
   ]
  },
  {
   "cell_type": "markdown",
   "id": "71063e02",
   "metadata": {},
   "source": [
    "    Finding dificulty to solve ?\n",
    "check out my YouTube channel: https://www.youtube.com/@MaheshJaviniki where you can find the solution and complete python tutorials and tutorials for data science."
   ]
  }
 ],
 "metadata": {
  "kernelspec": {
   "display_name": "Python 3 (ipykernel)",
   "language": "python",
   "name": "python3"
  },
  "language_info": {
   "codemirror_mode": {
    "name": "ipython",
    "version": 3
   },
   "file_extension": ".py",
   "mimetype": "text/x-python",
   "name": "python",
   "nbconvert_exporter": "python",
   "pygments_lexer": "ipython3",
   "version": "3.9.12"
  }
 },
 "nbformat": 4,
 "nbformat_minor": 5
}
