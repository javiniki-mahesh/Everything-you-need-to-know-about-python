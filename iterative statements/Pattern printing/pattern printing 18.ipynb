{
 "cells": [
  {
   "cell_type": "markdown",
   "id": "8427a930",
   "metadata": {},
   "source": [
    "# Everything you need to know about python:\n",
    "## In simplest possible way"
   ]
  },
  {
   "cell_type": "markdown",
   "id": "c414e7ff",
   "metadata": {},
   "source": [
    "# Pattern printing - 18"
   ]
  },
  {
   "cell_type": "markdown",
   "id": "2cf3bf89",
   "metadata": {},
   "source": [
    "         *\n",
    "        **\n",
    "       * *\n",
    "      *  *\n",
    "     *****"
   ]
  },
  {
   "cell_type": "code",
   "execution_count": 1,
   "id": "ec1a4df7",
   "metadata": {},
   "outputs": [
    {
     "name": "stdout",
     "output_type": "stream",
     "text": [
      "Enter any number: 5\n",
      "    *\n",
      "   **\n",
      "  * *\n",
      " *  *\n",
      "*****\n"
     ]
    }
   ],
   "source": [
    "rows = int(input('Enter any number: '))\n",
    "outer_spaces = rows - 1\n",
    "inner_spaces = 0\n",
    "\n",
    "for i in range(1, rows + 1):\n",
    "    if i == 1 or i == rows:\n",
    "        print(' ' * outer_spaces + '*' * i)\n",
    "        outer_spaces -= 1\n",
    "    else:\n",
    "        print(' ' * outer_spaces + '*' + ' ' * inner_spaces + '*')\n",
    "        outer_spaces -= 1\n",
    "        inner_spaces += 1"
   ]
  },
  {
   "cell_type": "markdown",
   "id": "273c745c",
   "metadata": {},
   "source": [
    "    Exercise for you to solve the below pattern\n",
    "    "
   ]
  },
  {
   "cell_type": "markdown",
   "id": "e910137a",
   "metadata": {},
   "source": [
    "        *\n",
    "       * *\n",
    "      *   *\n",
    "     *     *\n",
    "    *********\n"
   ]
  },
  {
   "cell_type": "markdown",
   "id": "47388c9d",
   "metadata": {},
   "source": [
    "    Finding dificulty to solve ?\n",
    "check out my YouTube channel: https://www.youtube.com/@MaheshJaviniki where you can find the solution and complete python tutorials and tutorials for data science."
   ]
  }
 ],
 "metadata": {
  "kernelspec": {
   "display_name": "Python 3 (ipykernel)",
   "language": "python",
   "name": "python3"
  },
  "language_info": {
   "codemirror_mode": {
    "name": "ipython",
    "version": 3
   },
   "file_extension": ".py",
   "mimetype": "text/x-python",
   "name": "python",
   "nbconvert_exporter": "python",
   "pygments_lexer": "ipython3",
   "version": "3.9.12"
  }
 },
 "nbformat": 4,
 "nbformat_minor": 5
}
