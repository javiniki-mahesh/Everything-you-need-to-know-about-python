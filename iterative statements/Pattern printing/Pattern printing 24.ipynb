{
 "cells": [
  {
   "cell_type": "markdown",
   "id": "679f2564",
   "metadata": {},
   "source": [
    "# Everything you need to know about python:\n",
    "## In simplest possible way"
   ]
  },
  {
   "cell_type": "markdown",
   "id": "c9dbc428",
   "metadata": {},
   "source": [
    "# Pattern printing - 24"
   ]
  },
  {
   "cell_type": "markdown",
   "id": "81272ee0",
   "metadata": {},
   "source": [
    "    *********\n",
    "     *     * \n",
    "      *   *\n",
    "       * *\n",
    "        *\n",
    "       * *\n",
    "      *   *\n",
    "     *     *\n",
    "    *********"
   ]
  },
  {
   "cell_type": "code",
   "execution_count": 1,
   "id": "918bedeb",
   "metadata": {},
   "outputs": [
    {
     "name": "stdout",
     "output_type": "stream",
     "text": [
      "Enter any number: 5\n",
      "*********\n",
      " *     *\n",
      "  *   *\n",
      "   * *\n",
      "    *\n",
      "   * *\n",
      "  *   *\n",
      " *     *\n",
      "*********\n"
     ]
    }
   ],
   "source": [
    "num = int(input('Enter any number: '))\n",
    "outer_spaces = 0\n",
    "inner_spaces = (2 * num) -1 - 4\n",
    "for i in range(num, 0, -1):\n",
    "    if i == num or i == 1:\n",
    "        print(' '*outer_spaces + '*'*((2 * i) - 1))\n",
    "        outer_spaces += 1\n",
    "    else:\n",
    "        print(' '*outer_spaces + '*' + ' ' * inner_spaces +'*')\n",
    "        outer_spaces += 1\n",
    "        inner_spaces -= 2\n",
    "outer_spaces -= 2\n",
    "inner_spaces += 2\n",
    "for j in range(2, num+1):\n",
    "    if j == num:\n",
    "        print('*'*(2*j-1))\n",
    "    else:\n",
    "        print(' '*outer_spaces + '*' + ' ' * inner_spaces + '*')\n",
    "        outer_spaces -= 1\n",
    "        inner_spaces += 2"
   ]
  },
  {
   "cell_type": "markdown",
   "id": "0fb49448",
   "metadata": {},
   "source": [
    "    Exercise for you to solve the below pattern"
   ]
  },
  {
   "cell_type": "markdown",
   "id": "0deae793",
   "metadata": {},
   "source": [
    "    1 \n",
    "    2 2 \n",
    "    3 3 3 \n",
    "    4 4 4 4 \n",
    "    5 5 5 5 5 "
   ]
  },
  {
   "cell_type": "markdown",
   "id": "f784fbab",
   "metadata": {},
   "source": [
    "    Finding dificulty to solve ?\n",
    "check out my YouTube channel: https://www.youtube.com/@MaheshJaviniki where you can find the solution and complete python tutorials and tutorials for data science."
   ]
  },
  {
   "cell_type": "code",
   "execution_count": null,
   "id": "a87abbbe",
   "metadata": {},
   "outputs": [],
   "source": []
  }
 ],
 "metadata": {
  "kernelspec": {
   "display_name": "Python 3 (ipykernel)",
   "language": "python",
   "name": "python3"
  },
  "language_info": {
   "codemirror_mode": {
    "name": "ipython",
    "version": 3
   },
   "file_extension": ".py",
   "mimetype": "text/x-python",
   "name": "python",
   "nbconvert_exporter": "python",
   "pygments_lexer": "ipython3",
   "version": "3.9.12"
  }
 },
 "nbformat": 4,
 "nbformat_minor": 5
}
