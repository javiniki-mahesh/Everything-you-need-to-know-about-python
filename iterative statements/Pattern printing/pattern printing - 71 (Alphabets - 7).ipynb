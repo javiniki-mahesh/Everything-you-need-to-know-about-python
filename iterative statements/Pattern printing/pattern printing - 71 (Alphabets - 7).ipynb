{
 "cells": [
  {
   "cell_type": "markdown",
   "id": "f36f3d2d",
   "metadata": {},
   "source": [
    "# Everything you need to know about python:\n",
    "## In simplest possible way"
   ]
  },
  {
   "cell_type": "markdown",
   "id": "c6352969",
   "metadata": {},
   "source": [
    "# Pattern printing - 71 (Alphabets - 7)"
   ]
  },
  {
   "cell_type": "markdown",
   "id": "a0b57c62",
   "metadata": {},
   "source": [
    "    A \n",
    "    A B \n",
    "    A B C \n",
    "    A B C D \n",
    "    A B C D E "
   ]
  },
  {
   "cell_type": "code",
   "execution_count": 1,
   "id": "fe091425",
   "metadata": {},
   "outputs": [
    {
     "name": "stdout",
     "output_type": "stream",
     "text": [
      "Enter rows: 5\n",
      "A \n",
      "A B \n",
      "A B C \n",
      "A B C D \n",
      "A B C D E \n"
     ]
    }
   ],
   "source": [
    "rows = int(input('Enter rows: '))\n",
    "for i in range(1, rows + 1):\n",
    "    alpha = ord('A')\n",
    "    for j in range(1, i + 1):\n",
    "        print(chr(alpha), end = ' ')\n",
    "        alpha += 1\n",
    "    print()\n",
    "    "
   ]
  },
  {
   "cell_type": "markdown",
   "id": "4bf1f2cb",
   "metadata": {},
   "source": [
    "    Exercise for you to solve the below pattern"
   ]
  },
  {
   "cell_type": "markdown",
   "id": "eda753df",
   "metadata": {},
   "source": [
    "        A \n",
    "       A B \n",
    "      A B C \n",
    "     A B C D \n",
    "    A B C D E "
   ]
  },
  {
   "cell_type": "markdown",
   "id": "c2c297d2",
   "metadata": {},
   "source": [
    "    Finding dificulty to solve ?\n",
    "check out my YouTube channel: https://www.youtube.com/@MaheshJaviniki where you can find the solution and complete python tutorials and tutorials for data science."
   ]
  }
 ],
 "metadata": {
  "kernelspec": {
   "display_name": "Python 3 (ipykernel)",
   "language": "python",
   "name": "python3"
  },
  "language_info": {
   "codemirror_mode": {
    "name": "ipython",
    "version": 3
   },
   "file_extension": ".py",
   "mimetype": "text/x-python",
   "name": "python",
   "nbconvert_exporter": "python",
   "pygments_lexer": "ipython3",
   "version": "3.9.12"
  }
 },
 "nbformat": 4,
 "nbformat_minor": 5
}
