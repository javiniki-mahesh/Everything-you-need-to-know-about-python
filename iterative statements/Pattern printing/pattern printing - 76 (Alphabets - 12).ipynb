{
 "cells": [
  {
   "cell_type": "markdown",
   "id": "3d0a0d02",
   "metadata": {},
   "source": [
    "# Everything you need to know about python:\n",
    "## In simplest possible way"
   ]
  },
  {
   "cell_type": "markdown",
   "id": "626af6fa",
   "metadata": {},
   "source": [
    "# Pattern printing - 76 (Alphabets - 12)"
   ]
  },
  {
   "cell_type": "markdown",
   "id": "d7c35770",
   "metadata": {},
   "source": [
    "    A B C D E \n",
    "      A B C D \n",
    "        A B C \n",
    "          A B \n",
    "            A "
   ]
  },
  {
   "cell_type": "code",
   "execution_count": 1,
   "id": "5019d383",
   "metadata": {},
   "outputs": [
    {
     "name": "stdout",
     "output_type": "stream",
     "text": [
      "Enter rows: 5\n",
      "A B C D E \n",
      "  A B C D \n",
      "    A B C \n",
      "      A B \n",
      "        A \n"
     ]
    }
   ],
   "source": [
    "rows = int(input('Enter rows: '))\n",
    "spaces = 0\n",
    "for i in range(rows, 0, -1):\n",
    "    alpha = ord('A')\n",
    "    print(' '*spaces, end= '')\n",
    "    for j in range(1, i + 1):\n",
    "        print(chr(alpha), end = ' ')\n",
    "        alpha += 1\n",
    "    print()\n",
    "    spaces += 2"
   ]
  },
  {
   "cell_type": "markdown",
   "id": "b0e7d70e",
   "metadata": {},
   "source": [
    "    Exercise for you to solve the below pattern"
   ]
  },
  {
   "cell_type": "markdown",
   "id": "1bf305db",
   "metadata": {},
   "source": [
    "        A \n",
    "       A B \n",
    "      A B C \n",
    "     A B C D \n",
    "    A B C D E \n",
    "     A B C D \n",
    "      A B C \n",
    "       A B \n",
    "        A"
   ]
  },
  {
   "cell_type": "markdown",
   "id": "d7a18437",
   "metadata": {},
   "source": [
    "    Finding dificulty to solve ?\n",
    "check out my YouTube channel: https://www.youtube.com/@MaheshJaviniki where you can find the solution and complete python tutorials and tutorials for data science."
   ]
  }
 ],
 "metadata": {
  "kernelspec": {
   "display_name": "Python 3 (ipykernel)",
   "language": "python",
   "name": "python3"
  },
  "language_info": {
   "codemirror_mode": {
    "name": "ipython",
    "version": 3
   },
   "file_extension": ".py",
   "mimetype": "text/x-python",
   "name": "python",
   "nbconvert_exporter": "python",
   "pygments_lexer": "ipython3",
   "version": "3.9.12"
  }
 },
 "nbformat": 4,
 "nbformat_minor": 5
}
