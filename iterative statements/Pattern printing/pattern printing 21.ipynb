{
 "cells": [
  {
   "cell_type": "markdown",
   "id": "4227daef",
   "metadata": {},
   "source": [
    "# Everything you need to know about python:\n",
    "## In simplest possible way"
   ]
  },
  {
   "cell_type": "markdown",
   "id": "cc3afd07",
   "metadata": {},
   "source": [
    "# Pattern printing - 21"
   ]
  },
  {
   "cell_type": "markdown",
   "id": "d81417b5",
   "metadata": {},
   "source": [
    "    *****\n",
    "    *  * \n",
    "    * *\n",
    "    **\n",
    "    *"
   ]
  },
  {
   "cell_type": "code",
   "execution_count": 1,
   "id": "131e4ee2",
   "metadata": {},
   "outputs": [
    {
     "name": "stdout",
     "output_type": "stream",
     "text": [
      "Enter any number: 5\n",
      "*****\n",
      "*  *\n",
      "* *\n",
      "**\n",
      "*\n"
     ]
    }
   ],
   "source": [
    "rows = int(input('Enter any number: '))\n",
    "inner_spaces = rows - 3\n",
    "\n",
    "for i in range(rows, 0, -1):\n",
    "    if i == 1 or i == rows:\n",
    "        print('*' * i)\n",
    "    else:\n",
    "        print('*' + ' ' * inner_spaces + '*')\n",
    "        inner_spaces -= 1"
   ]
  },
  {
   "cell_type": "markdown",
   "id": "8dd3a1ab",
   "metadata": {},
   "source": [
    "    Exercise for you to solve the below pattern"
   ]
  },
  {
   "cell_type": "markdown",
   "id": "7adbea42",
   "metadata": {},
   "source": [
    "    *********\n",
    "     *     *\n",
    "      *   *\n",
    "       * *\n",
    "        *"
   ]
  },
  {
   "cell_type": "markdown",
   "id": "45485f22",
   "metadata": {},
   "source": [
    "    Finding dificulty to solve ?\n",
    "check out my YouTube channel: https://www.youtube.com/@MaheshJaviniki where you can find the solution and complete python tutorials and tutorials for data science."
   ]
  }
 ],
 "metadata": {
  "kernelspec": {
   "display_name": "Python 3 (ipykernel)",
   "language": "python",
   "name": "python3"
  },
  "language_info": {
   "codemirror_mode": {
    "name": "ipython",
    "version": 3
   },
   "file_extension": ".py",
   "mimetype": "text/x-python",
   "name": "python",
   "nbconvert_exporter": "python",
   "pygments_lexer": "ipython3",
   "version": "3.9.12"
  }
 },
 "nbformat": 4,
 "nbformat_minor": 5
}
