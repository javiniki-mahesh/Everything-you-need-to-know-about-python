{
 "cells": [
  {
   "cell_type": "markdown",
   "id": "1c0d1872",
   "metadata": {},
   "source": [
    "# Everything you need to know about python:\n",
    "## In simplest possible way"
   ]
  },
  {
   "cell_type": "markdown",
   "id": "e82028fe",
   "metadata": {},
   "source": [
    "# Pattern printing - 51 (Numbers - 27)"
   ]
  },
  {
   "cell_type": "markdown",
   "id": "228c4319",
   "metadata": {},
   "source": [
    "    1 2 3 4 5 \n",
    "     1 2 3 4 \n",
    "      1 2 3 \n",
    "       1 2 \n",
    "        1 \n",
    "       2 1 \n",
    "      3 2 1 \n",
    "     4 3 2 1 \n",
    "    5 4 3 2 1 "
   ]
  },
  {
   "cell_type": "code",
   "execution_count": 1,
   "id": "c2a44265",
   "metadata": {},
   "outputs": [
    {
     "name": "stdout",
     "output_type": "stream",
     "text": [
      "Enter rows: 5\n",
      "1 2 3 4 5 \n",
      " 1 2 3 4 \n",
      "  1 2 3 \n",
      "   1 2 \n",
      "    1 \n",
      "   2 1 \n",
      "  3 2 1 \n",
      " 4 3 2 1 \n",
      "5 4 3 2 1 \n"
     ]
    }
   ],
   "source": [
    "rows = int(input('Enter rows: '))\n",
    "spaces = 0\n",
    "for i in range(rows , 0, -1):\n",
    "    print(' ' * spaces, end = '')\n",
    "    for j in range(1, i+1):\n",
    "        print(j, end = ' ')\n",
    "    print()\n",
    "    spaces += 1\n",
    "spaces -= 2\n",
    "for k in range(2, rows + 1):\n",
    "    print(' '*spaces ,end = '')\n",
    "    for l in range(k, 0, -1):\n",
    "        print(l, end = ' ')\n",
    "    print()\n",
    "    spaces -= 1"
   ]
  },
  {
   "cell_type": "markdown",
   "id": "f32ed7ae",
   "metadata": {},
   "source": [
    "    Exercise for you to solve the below pattern"
   ]
  },
  {
   "cell_type": "markdown",
   "id": "bb49b3d3",
   "metadata": {},
   "source": [
    "    5 4 3 2 1 \n",
    "     4 3 2 1 \n",
    "      3 2 1 \n",
    "       2 1 \n",
    "        1 \n",
    "       1 2 \n",
    "      1 2 3 \n",
    "     1 2 3 4 \n",
    "    1 2 3 4 5 "
   ]
  },
  {
   "cell_type": "markdown",
   "id": "32552b21",
   "metadata": {},
   "source": [
    "    Finding dificulty to solve ?\n",
    "check out my YouTube channel: https://www.youtube.com/@MaheshJaviniki where you can find the solution and complete python tutorials and tutorials for data science."
   ]
  }
 ],
 "metadata": {
  "kernelspec": {
   "display_name": "Python 3 (ipykernel)",
   "language": "python",
   "name": "python3"
  },
  "language_info": {
   "codemirror_mode": {
    "name": "ipython",
    "version": 3
   },
   "file_extension": ".py",
   "mimetype": "text/x-python",
   "name": "python",
   "nbconvert_exporter": "python",
   "pygments_lexer": "ipython3",
   "version": "3.9.12"
  }
 },
 "nbformat": 4,
 "nbformat_minor": 5
}
