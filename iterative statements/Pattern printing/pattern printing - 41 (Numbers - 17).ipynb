{
 "cells": [
  {
   "cell_type": "markdown",
   "id": "9a232a7e",
   "metadata": {},
   "source": [
    "# Everything you need to know about python:\n",
    "## In simplest possible way"
   ]
  },
  {
   "cell_type": "markdown",
   "id": "417c35a1",
   "metadata": {},
   "source": [
    "# Pattern printing - 41 (Numbers - 17)"
   ]
  },
  {
   "cell_type": "markdown",
   "id": "73e94a3c",
   "metadata": {},
   "source": [
    "        5 \n",
    "       4 5 \n",
    "      3 4 5 \n",
    "     2 3 4 5 \n",
    "    1 2 3 4 5 "
   ]
  },
  {
   "cell_type": "code",
   "execution_count": 1,
   "id": "203c010e",
   "metadata": {},
   "outputs": [
    {
     "name": "stdout",
     "output_type": "stream",
     "text": [
      "Enter rows: 5\n",
      "    5 \n",
      "   4 5 \n",
      "  3 4 5 \n",
      " 2 3 4 5 \n",
      "1 2 3 4 5 \n"
     ]
    }
   ],
   "source": [
    "rows = int(input('Enter rows: '))\n",
    "spaces = rows - 1\n",
    "for i in range(rows, 0, -1):\n",
    "    print(' ' * spaces,end = '')\n",
    "    for j in range(i, rows+1):\n",
    "        print(j, end = ' ')\n",
    "    print()\n",
    "    spaces -= 1"
   ]
  },
  {
   "cell_type": "markdown",
   "id": "3edab330",
   "metadata": {},
   "source": [
    "    Exercise for you to solve the below pattern"
   ]
  },
  {
   "cell_type": "markdown",
   "id": "72e15f1d",
   "metadata": {},
   "source": [
    "    5 4 3 2 1\n",
    "     5 4 3 2\n",
    "      5 4 3\n",
    "       5 4\n",
    "        5"
   ]
  },
  {
   "cell_type": "markdown",
   "id": "db237c1c",
   "metadata": {},
   "source": [
    "    Finding dificulty to solve ?\n",
    "check out my YouTube channel: https://www.youtube.com/@MaheshJaviniki where you can find the solution and complete python tutorials and tutorials for data science."
   ]
  }
 ],
 "metadata": {
  "kernelspec": {
   "display_name": "Python 3 (ipykernel)",
   "language": "python",
   "name": "python3"
  },
  "language_info": {
   "codemirror_mode": {
    "name": "ipython",
    "version": 3
   },
   "file_extension": ".py",
   "mimetype": "text/x-python",
   "name": "python",
   "nbconvert_exporter": "python",
   "pygments_lexer": "ipython3",
   "version": "3.9.12"
  }
 },
 "nbformat": 4,
 "nbformat_minor": 5
}
