{
 "cells": [
  {
   "cell_type": "markdown",
   "id": "eaedc09d",
   "metadata": {},
   "source": [
    "# Everything you need to know about python:\n",
    "## In simplest possible way"
   ]
  },
  {
   "cell_type": "markdown",
   "id": "9f6fbfdd",
   "metadata": {},
   "source": [
    "# Pattern printing - 29 (Numbers - 5)"
   ]
  },
  {
   "cell_type": "markdown",
   "id": "fcad966f",
   "metadata": {},
   "source": [
    "    5 5 5 5 5 \n",
    "     4 4 4 4 \n",
    "      3 3 3 \n",
    "       2 2 \n",
    "        1 "
   ]
  },
  {
   "cell_type": "code",
   "execution_count": 1,
   "id": "f382f9e1",
   "metadata": {},
   "outputs": [
    {
     "name": "stdout",
     "output_type": "stream",
     "text": [
      "Enter rows : 5\n",
      "5 5 5 5 5 \n",
      " 4 4 4 4 \n",
      "  3 3 3 \n",
      "   2 2 \n",
      "    1 \n"
     ]
    }
   ],
   "source": [
    "rows = int(input('Enter rows : '))\n",
    "spaces = 0\n",
    "for i in range(rows, 0, -1):\n",
    "    print(' ' * spaces ,end = '')\n",
    "    for j in range(1, i+1):\n",
    "        print(i,end = ' ')\n",
    "    print()\n",
    "    spaces += 1"
   ]
  },
  {
   "cell_type": "markdown",
   "id": "6e41b12a",
   "metadata": {},
   "source": [
    "    Exercise for you to solve the below pattern"
   ]
  },
  {
   "cell_type": "markdown",
   "id": "8a618475",
   "metadata": {},
   "source": [
    "    5 5 5 5 5 \n",
    "      4 4 4 4 \n",
    "        3 3 3 \n",
    "          2 2 \n",
    "            1 "
   ]
  },
  {
   "cell_type": "markdown",
   "id": "e6864021",
   "metadata": {},
   "source": [
    "    Finding dificulty to solve ?\n",
    "check out my YouTube channel: https://www.youtube.com/@MaheshJaviniki where you can find the solution and complete python tutorials and tutorials for data science."
   ]
  }
 ],
 "metadata": {
  "kernelspec": {
   "display_name": "Python 3 (ipykernel)",
   "language": "python",
   "name": "python3"
  },
  "language_info": {
   "codemirror_mode": {
    "name": "ipython",
    "version": 3
   },
   "file_extension": ".py",
   "mimetype": "text/x-python",
   "name": "python",
   "nbconvert_exporter": "python",
   "pygments_lexer": "ipython3",
   "version": "3.9.12"
  }
 },
 "nbformat": 4,
 "nbformat_minor": 5
}
