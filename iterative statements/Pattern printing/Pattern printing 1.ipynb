{
 "cells": [
  {
   "cell_type": "markdown",
   "id": "3dd7da4d",
   "metadata": {},
   "source": [
    "# Everything you need to know about python:\n",
    "## In simplest possible way"
   ]
  },
  {
   "cell_type": "markdown",
   "id": "5ad77c9d",
   "metadata": {},
   "source": [
    "# Pattern printing - 1"
   ]
  },
  {
   "cell_type": "markdown",
   "id": "5884bdb3",
   "metadata": {},
   "source": [
    "## String concatenation"
   ]
  },
  {
   "cell_type": "markdown",
   "id": "b16da975",
   "metadata": {},
   "source": [
    "    In Python, string concatenation is the process of combining two or more strings into a single string. This can be done using the + operator"
   ]
  },
  {
   "cell_type": "markdown",
   "id": "fedf644a",
   "metadata": {},
   "source": [
    "### Example"
   ]
  },
  {
   "cell_type": "code",
   "execution_count": 1,
   "id": "c9ac58b3",
   "metadata": {
    "scrolled": true
   },
   "outputs": [
    {
     "name": "stdout",
     "output_type": "stream",
     "text": [
      "like subscribe\n"
     ]
    }
   ],
   "source": [
    "print('like ' + 'subscribe')\n",
    "# concatinating the string like and subscribe strings using string concatination operator +"
   ]
  },
  {
   "cell_type": "markdown",
   "id": "5785e70d",
   "metadata": {},
   "source": [
    "## String multiplication"
   ]
  },
  {
   "cell_type": "markdown",
   "id": "9cd9bd4e",
   "metadata": {},
   "source": [
    "    In Python, string multiplication allows you to create a new string by repeating an existing string a specified number of times using the * operator. "
   ]
  },
  {
   "cell_type": "markdown",
   "id": "8912cf30",
   "metadata": {},
   "source": [
    "### Example"
   ]
  },
  {
   "cell_type": "code",
   "execution_count": 2,
   "id": "d35ef2c2",
   "metadata": {},
   "outputs": [
    {
     "name": "stdout",
     "output_type": "stream",
     "text": [
      "like like like \n"
     ]
    }
   ],
   "source": [
    "print('like ' * 3)\n",
    "# multiplying the string like with 3 using string multiplication operator *"
   ]
  },
  {
   "cell_type": "markdown",
   "id": "301d59c2",
   "metadata": {},
   "source": [
    "    * * * * *\n",
    "    * * * * *\n",
    "    * * * * *\n",
    "    * * * * *\n",
    "    * * * * *"
   ]
  },
  {
   "cell_type": "code",
   "execution_count": 3,
   "id": "e5399384",
   "metadata": {
    "scrolled": true
   },
   "outputs": [
    {
     "name": "stdout",
     "output_type": "stream",
     "text": [
      "Enter a number: 5\n",
      "* * * * * \n",
      "* * * * * \n",
      "* * * * * \n",
      "* * * * * \n",
      "* * * * * \n"
     ]
    }
   ],
   "source": [
    "rows = int(input('Enter a number: '))\n",
    "\n",
    "for i in range(1, rows+1):\n",
    "    print('* ' * rows)"
   ]
  },
  {
   "cell_type": "markdown",
   "id": "c099ac5e",
   "metadata": {},
   "source": [
    "    Exercise for you to solve the below pattern"
   ]
  },
  {
   "cell_type": "markdown",
   "id": "54143de4",
   "metadata": {},
   "source": [
    "    *\n",
    "    **\n",
    "    ***\n",
    "    ****\n",
    "    *****"
   ]
  },
  {
   "cell_type": "markdown",
   "id": "167d172d",
   "metadata": {},
   "source": [
    "    Finding dificulty to solve ?\n",
    "  check out my YouTube channel: https://www.youtube.com/@MaheshJaviniki where you can find the solution and complete python tutorials and tutorials for data science."
   ]
  },
  {
   "cell_type": "code",
   "execution_count": null,
   "id": "2c49ee65",
   "metadata": {},
   "outputs": [],
   "source": []
  }
 ],
 "metadata": {
  "kernelspec": {
   "display_name": "Python 3 (ipykernel)",
   "language": "python",
   "name": "python3"
  },
  "language_info": {
   "codemirror_mode": {
    "name": "ipython",
    "version": 3
   },
   "file_extension": ".py",
   "mimetype": "text/x-python",
   "name": "python",
   "nbconvert_exporter": "python",
   "pygments_lexer": "ipython3",
   "version": "3.9.12"
  }
 },
 "nbformat": 4,
 "nbformat_minor": 5
}
