{
 "cells": [
  {
   "cell_type": "markdown",
   "id": "282732cc",
   "metadata": {},
   "source": [
    "# Everything you need to know about python:\n",
    "## In simplest possible way"
   ]
  },
  {
   "cell_type": "markdown",
   "id": "732f0704",
   "metadata": {},
   "source": [
    "# Pattern printing - 5"
   ]
  },
  {
   "cell_type": "markdown",
   "id": "7760f5ba",
   "metadata": {},
   "source": [
    "    *****\n",
    "     ****\n",
    "      ***\n",
    "       **\n",
    "        *"
   ]
  },
  {
   "cell_type": "code",
   "execution_count": 1,
   "id": "730dc632",
   "metadata": {},
   "outputs": [
    {
     "name": "stdout",
     "output_type": "stream",
     "text": [
      "Enter any number: 5\n",
      "*****\n",
      " ****\n",
      "  ***\n",
      "   **\n",
      "    *\n"
     ]
    }
   ],
   "source": [
    "rows = int(input('Enter any number: '))\n",
    "spaces = 0\n",
    "\n",
    "for i in range(rows, 0, -1):\n",
    "    print(' ' * spaces + '*' * i)\n",
    "    spaces += 1"
   ]
  },
  {
   "cell_type": "markdown",
   "id": "52dcecfc",
   "metadata": {},
   "source": [
    "    Exercise for you to solve the below pattern"
   ]
  },
  {
   "cell_type": "markdown",
   "id": "3599f7ba",
   "metadata": {},
   "source": [
    "        *****\n",
    "        ****\n",
    "        ***\n",
    "        **\n",
    "        *"
   ]
  },
  {
   "cell_type": "markdown",
   "id": "b9e22316",
   "metadata": {},
   "source": [
    "    Finding dificulty to solve ?\n",
    "  check out my YouTube channel: https://www.youtube.com/@MaheshJaviniki where you can find the solution and complete python tutorials and tutorials for data science."
   ]
  }
 ],
 "metadata": {
  "kernelspec": {
   "display_name": "Python 3 (ipykernel)",
   "language": "python",
   "name": "python3"
  },
  "language_info": {
   "codemirror_mode": {
    "name": "ipython",
    "version": 3
   },
   "file_extension": ".py",
   "mimetype": "text/x-python",
   "name": "python",
   "nbconvert_exporter": "python",
   "pygments_lexer": "ipython3",
   "version": "3.9.12"
  }
 },
 "nbformat": 4,
 "nbformat_minor": 5
}
