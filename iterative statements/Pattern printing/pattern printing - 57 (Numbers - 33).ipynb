{
 "cells": [
  {
   "cell_type": "markdown",
   "id": "24ba15af",
   "metadata": {},
   "source": [
    "# Everything you need to know about python:\n",
    "## In simplest possible way"
   ]
  },
  {
   "cell_type": "markdown",
   "id": "77cbd82b",
   "metadata": {},
   "source": [
    "# Pattern printing - 57 (Numbers - 33)"
   ]
  },
  {
   "cell_type": "markdown",
   "id": "f5015dc9",
   "metadata": {},
   "source": [
    "            1 \n",
    "          2 1 2 \n",
    "        3 2 1 2 3 \n",
    "      4 3 2 1 2 3 4 \n",
    "    5 4 3 2 1 2 3 4 5 \n",
    "      4 3 2 1 2 3 4 \n",
    "        3 2 1 2 3 \n",
    "          2 1 2 \n",
    "            1 "
   ]
  },
  {
   "cell_type": "code",
   "execution_count": 22,
   "id": "2f0ccadb",
   "metadata": {},
   "outputs": [
    {
     "name": "stdout",
     "output_type": "stream",
     "text": [
      "ENter rows: 8\n",
      "              1 \n",
      "            2 1 2 \n",
      "          3 2 1 2 3 \n",
      "        4 3 2 1 2 3 4 \n",
      "      5 4 3 2 1 2 3 4 5 \n",
      "    6 5 4 3 2 1 2 3 4 5 6 \n",
      "  7 6 5 4 3 2 1 2 3 4 5 6 7 \n",
      "8 7 6 5 4 3 2 1 2 3 4 5 6 7 8 \n",
      "  7 6 5 4 3 2 1 2 3 4 5 6 7 \n",
      "    6 5 4 3 2 1 2 3 4 5 6 \n",
      "      5 4 3 2 1 2 3 4 5 \n",
      "        4 3 2 1 2 3 4 \n",
      "          3 2 1 2 3 \n",
      "            2 1 2 \n",
      "              1 \n"
     ]
    }
   ],
   "source": [
    "rows = int(input('ENter rows: '))\n",
    "spaces = 2 * rows - 2\n",
    "for i in range(1, rows + 1):\n",
    "    print(' ' * spaces, end = '')\n",
    "    for j in range(i, 0, -1):\n",
    "        print(j, end = ' ')\n",
    "    spaces -= 2\n",
    "    \n",
    "    for k in range(2, i+1):\n",
    "        print(k, end = ' ')\n",
    "    print()\n",
    "spaces += 4\n",
    "for l in range(rows - 1, 0, -1):\n",
    "    print(' '*spaces, end= '')\n",
    "    for m in range(l, 0, -1):\n",
    "        print(m, end = ' ')\n",
    "    spaces += 2\n",
    "    \n",
    "    for n in range(2, l+1):\n",
    "        print(n, end = ' ')\n",
    "    print()"
   ]
  },
  {
   "cell_type": "markdown",
   "id": "6943bb92",
   "metadata": {},
   "source": [
    "            5 \n",
    "          4 5 4 \n",
    "        3 4 5 4 3 \n",
    "      2 3 4 5 4 3 2 \n",
    "    1 2 3 4 5 4 3 2 1 "
   ]
  }
 ],
 "metadata": {
  "kernelspec": {
   "display_name": "Python 3 (ipykernel)",
   "language": "python",
   "name": "python3"
  },
  "language_info": {
   "codemirror_mode": {
    "name": "ipython",
    "version": 3
   },
   "file_extension": ".py",
   "mimetype": "text/x-python",
   "name": "python",
   "nbconvert_exporter": "python",
   "pygments_lexer": "ipython3",
   "version": "3.9.12"
  }
 },
 "nbformat": 4,
 "nbformat_minor": 5
}
