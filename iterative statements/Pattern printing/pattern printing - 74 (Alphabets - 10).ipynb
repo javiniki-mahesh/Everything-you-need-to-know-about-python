{
 "cells": [
  {
   "cell_type": "markdown",
   "id": "788ce918",
   "metadata": {},
   "source": [
    "# Everything you need to know about python:\n",
    "## In simplest possible way"
   ]
  },
  {
   "cell_type": "markdown",
   "id": "d3806285",
   "metadata": {},
   "source": [
    "# Pattern printing - 74 (Alphabets - 10)"
   ]
  },
  {
   "cell_type": "markdown",
   "id": "cfd7161a",
   "metadata": {},
   "source": [
    "    A B C D E \n",
    "    A B C D \n",
    "    A B C \n",
    "    A B \n",
    "    A "
   ]
  },
  {
   "cell_type": "code",
   "execution_count": 1,
   "id": "2d751822",
   "metadata": {},
   "outputs": [
    {
     "name": "stdout",
     "output_type": "stream",
     "text": [
      "Enter rows: 5\n",
      "A B C D E \n",
      "A B C D \n",
      "A B C \n",
      "A B \n",
      "A \n"
     ]
    }
   ],
   "source": [
    "rows = int(input('Enter rows: '))\n",
    "for i in range(rows, 0, -1):\n",
    "    alpha = ord('A')\n",
    "    for j in range(1, i+1):\n",
    "        print(chr(alpha), end = ' ')\n",
    "        alpha += 1\n",
    "    print()"
   ]
  },
  {
   "cell_type": "markdown",
   "id": "08018d9d",
   "metadata": {},
   "source": [
    "    Exercise for you to solve the below pattern"
   ]
  },
  {
   "cell_type": "markdown",
   "id": "2695178d",
   "metadata": {},
   "source": [
    "    A B C D E \n",
    "     A B C D \n",
    "      A B C \n",
    "       A B \n",
    "        A "
   ]
  },
  {
   "cell_type": "markdown",
   "id": "44c0a304",
   "metadata": {},
   "source": [
    "    Finding dificulty to solve ?\n",
    "check out my YouTube channel: https://www.youtube.com/@MaheshJaviniki where you can find the solution and complete python tutorials and tutorials for data science."
   ]
  }
 ],
 "metadata": {
  "kernelspec": {
   "display_name": "Python 3 (ipykernel)",
   "language": "python",
   "name": "python3"
  },
  "language_info": {
   "codemirror_mode": {
    "name": "ipython",
    "version": 3
   },
   "file_extension": ".py",
   "mimetype": "text/x-python",
   "name": "python",
   "nbconvert_exporter": "python",
   "pygments_lexer": "ipython3",
   "version": "3.9.12"
  }
 },
 "nbformat": 4,
 "nbformat_minor": 5
}
