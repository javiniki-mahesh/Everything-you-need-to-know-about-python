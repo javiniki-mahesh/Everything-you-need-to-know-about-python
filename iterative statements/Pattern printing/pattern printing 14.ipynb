{
 "cells": [
  {
   "cell_type": "markdown",
   "id": "8522b223",
   "metadata": {},
   "source": [
    "# Everything you need to know about python:\n",
    "## In simplest possible way"
   ]
  },
  {
   "cell_type": "markdown",
   "id": "421dc615",
   "metadata": {},
   "source": [
    "# Pattern printing - 14"
   ]
  },
  {
   "cell_type": "markdown",
   "id": "f55b72af",
   "metadata": {},
   "source": [
    "    *****\n",
    "     ****\n",
    "      ***\n",
    "       **\n",
    "        *\n",
    "       **\n",
    "      ***\n",
    "     ****\n",
    "    *****"
   ]
  },
  {
   "cell_type": "code",
   "execution_count": 1,
   "id": "6096c585",
   "metadata": {
    "scrolled": true
   },
   "outputs": [
    {
     "name": "stdout",
     "output_type": "stream",
     "text": [
      "Enter any number: 5\n",
      "*****\n",
      " ****\n",
      "  ***\n",
      "   **\n",
      "    *\n",
      "   **\n",
      "  ***\n",
      " ****\n",
      "*****\n"
     ]
    }
   ],
   "source": [
    "rows = int(input('Enter any number: '))\n",
    "spaces = 0\n",
    "\n",
    "for i in range(rows, 0, -1):\n",
    "    print(' ' * spaces + '*'*i)\n",
    "    spaces += 1\n",
    "    \n",
    "spaces -= 2\n",
    "for j in range(2, rows + 1):\n",
    "    print(' ' * spaces + '*' * j)\n",
    "    spaces -= 1"
   ]
  },
  {
   "cell_type": "markdown",
   "id": "1db4bc61",
   "metadata": {},
   "source": [
    "    Exercise for you to solve the below pattern"
   ]
  },
  {
   "cell_type": "markdown",
   "id": "f94397a6",
   "metadata": {},
   "source": [
    "    **********\n",
    "    ****  ****\n",
    "    ***    ***\n",
    "    **      **\n",
    "    *        *\n",
    "    **      **\n",
    "    ***    ***\n",
    "    ****  ****\n",
    "    **********"
   ]
  },
  {
   "cell_type": "markdown",
   "id": "44ad02e0",
   "metadata": {},
   "source": [
    "    Finding dificulty to solve ?\n",
    "check out my YouTube channel: https://www.youtube.com/@MaheshJaviniki where you can find the solution and complete python tutorials and tutorials for data science."
   ]
  }
 ],
 "metadata": {
  "kernelspec": {
   "display_name": "Python 3 (ipykernel)",
   "language": "python",
   "name": "python3"
  },
  "language_info": {
   "codemirror_mode": {
    "name": "ipython",
    "version": 3
   },
   "file_extension": ".py",
   "mimetype": "text/x-python",
   "name": "python",
   "nbconvert_exporter": "python",
   "pygments_lexer": "ipython3",
   "version": "3.9.12"
  }
 },
 "nbformat": 4,
 "nbformat_minor": 5
}
