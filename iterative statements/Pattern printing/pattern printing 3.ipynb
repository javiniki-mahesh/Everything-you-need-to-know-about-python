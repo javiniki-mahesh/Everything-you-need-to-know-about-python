{
 "cells": [
  {
   "cell_type": "markdown",
   "id": "7d027fc8",
   "metadata": {},
   "source": [
    "# Everything you need to know about python:\n",
    "## In simplest possible way"
   ]
  },
  {
   "cell_type": "markdown",
   "id": "4b7e3a06",
   "metadata": {},
   "source": [
    "# Pattern printing - 3"
   ]
  },
  {
   "cell_type": "markdown",
   "id": "5a3fb4b1",
   "metadata": {},
   "source": [
    "        *\n",
    "       **\n",
    "      ***\n",
    "     ****\n",
    "    *****"
   ]
  },
  {
   "cell_type": "code",
   "execution_count": 1,
   "id": "c81a68de",
   "metadata": {},
   "outputs": [
    {
     "name": "stdout",
     "output_type": "stream",
     "text": [
      "Enter any number: 5\n",
      "    *\n",
      "   **\n",
      "  ***\n",
      " ****\n",
      "*****\n"
     ]
    }
   ],
   "source": [
    "rows = int(input('Enter any number: '))\n",
    "spaces = rows - 1\n",
    "\n",
    "for i in range(1, rows+1):\n",
    "    print(' ' * spaces + '*' * i)\n",
    "    spaces-= 1"
   ]
  },
  {
   "cell_type": "markdown",
   "id": "5c670bac",
   "metadata": {},
   "source": [
    "    Exercise for you to solve the below pattern"
   ]
  },
  {
   "cell_type": "markdown",
   "id": "13d60141",
   "metadata": {},
   "source": [
    "        *\n",
    "       ***\n",
    "      *****\n",
    "     *******\n",
    "    *********"
   ]
  },
  {
   "cell_type": "markdown",
   "id": "0c8a62c1",
   "metadata": {},
   "source": [
    "    Finding dificulty to solve ?\n",
    "  check out my YouTube channel: https://www.youtube.com/@MaheshJaviniki where you can find the solution and complete python tutorials and tutorials for data science."
   ]
  },
  {
   "cell_type": "code",
   "execution_count": null,
   "id": "c67881ce",
   "metadata": {},
   "outputs": [],
   "source": []
  }
 ],
 "metadata": {
  "kernelspec": {
   "display_name": "Python 3 (ipykernel)",
   "language": "python",
   "name": "python3"
  },
  "language_info": {
   "codemirror_mode": {
    "name": "ipython",
    "version": 3
   },
   "file_extension": ".py",
   "mimetype": "text/x-python",
   "name": "python",
   "nbconvert_exporter": "python",
   "pygments_lexer": "ipython3",
   "version": "3.9.12"
  }
 },
 "nbformat": 4,
 "nbformat_minor": 5
}
