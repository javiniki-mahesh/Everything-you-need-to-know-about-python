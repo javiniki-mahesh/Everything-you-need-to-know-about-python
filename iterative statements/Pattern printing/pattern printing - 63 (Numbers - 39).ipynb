{
 "cells": [
  {
   "cell_type": "markdown",
   "id": "ae2a6393",
   "metadata": {},
   "source": [
    "# Everything you need to know about python:\n",
    "## In simplest possible way"
   ]
  },
  {
   "cell_type": "markdown",
   "id": "c76ba866",
   "metadata": {},
   "source": [
    "# Pattern printing - 63 (Numbers - 39)"
   ]
  },
  {
   "cell_type": "markdown",
   "id": "9eb452ee",
   "metadata": {},
   "source": [
    "            1 \n",
    "          1 2 1 \n",
    "        1 2 3 2 1 \n",
    "      1 2 3 4 3 2 1 \n",
    "    1 2 3 4 5 4 3 2 1 \n",
    "      1 2 3 4 3 2 1 \n",
    "        1 2 3 2 1 \n",
    "          1 2 1 \n",
    "            1 "
   ]
  },
  {
   "cell_type": "code",
   "execution_count": 1,
   "id": "dc400de0",
   "metadata": {},
   "outputs": [
    {
     "name": "stdout",
     "output_type": "stream",
     "text": [
      "Enter rows: 5\n",
      "        1 \n",
      "      1 2 1 \n",
      "    1 2 3 2 1 \n",
      "  1 2 3 4 3 2 1 \n",
      "1 2 3 4 5 4 3 2 1 \n",
      "  1 2 3 4 3 2 1 \n",
      "    1 2 3 2 1 \n",
      "      1 2 1 \n",
      "        1 \n"
     ]
    }
   ],
   "source": [
    "rows = int(input('Enter rows: '))\n",
    "spaces = 2 * rows - 2\n",
    "for i in range(1, rows + 1):\n",
    "    print(' '*spaces, end = '')\n",
    "    for j in range(1, i + 1):\n",
    "        print(j, end = ' ')\n",
    "    spaces -= 2\n",
    "    \n",
    "    for k in range(i-1, 0, -1):\n",
    "        print(k, end = ' ')\n",
    "    print()\n",
    "spaces += 4\n",
    "for l in range(rows - 1, 0, -1):\n",
    "    print(' '*spaces, end = '')\n",
    "    for m in range(1, l+1):\n",
    "        print(m, end = ' ')\n",
    "    spaces += 2\n",
    "    \n",
    "    for n in range(l-1, 0, -1):\n",
    "        print(n, end = ' ')\n",
    "    print()"
   ]
  },
  {
   "cell_type": "markdown",
   "id": "2bd3957d",
   "metadata": {},
   "source": [
    "    Exercise for you to solve the below pattern"
   ]
  },
  {
   "cell_type": "markdown",
   "id": "0aed8002",
   "metadata": {},
   "source": [
    "    1 \n",
    "    2 3 \n",
    "    4 5 6 \n",
    "    7 8 9 10 \n",
    "    11 12 13 14 15 "
   ]
  },
  {
   "cell_type": "markdown",
   "id": "fbe75ec0",
   "metadata": {},
   "source": [
    "    Finding dificulty to solve ?\n",
    "check out my YouTube channel: https://www.youtube.com/@MaheshJaviniki where you can find the solution and complete python tutorials and tutorials for data science."
   ]
  }
 ],
 "metadata": {
  "kernelspec": {
   "display_name": "Python 3 (ipykernel)",
   "language": "python",
   "name": "python3"
  },
  "language_info": {
   "codemirror_mode": {
    "name": "ipython",
    "version": 3
   },
   "file_extension": ".py",
   "mimetype": "text/x-python",
   "name": "python",
   "nbconvert_exporter": "python",
   "pygments_lexer": "ipython3",
   "version": "3.9.12"
  }
 },
 "nbformat": 4,
 "nbformat_minor": 5
}
