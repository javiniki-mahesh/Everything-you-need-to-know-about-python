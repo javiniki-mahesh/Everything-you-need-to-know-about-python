{
 "cells": [
  {
   "cell_type": "markdown",
   "id": "24bbb9e3",
   "metadata": {},
   "source": [
    "# Everything you need to know about python:\n",
    "## In simplest possible way"
   ]
  },
  {
   "cell_type": "markdown",
   "id": "b749525c",
   "metadata": {},
   "source": [
    "# Pattern printing - 65 (Alphabets - 1)"
   ]
  },
  {
   "cell_type": "markdown",
   "id": "78547819",
   "metadata": {},
   "source": [
    "    A B C D E \n",
    "    F G H I J \n",
    "    K L M N O \n",
    "    P Q R S T \n",
    "    U V W X Y "
   ]
  },
  {
   "cell_type": "code",
   "execution_count": 1,
   "id": "af85e08a",
   "metadata": {},
   "outputs": [
    {
     "name": "stdout",
     "output_type": "stream",
     "text": [
      "Enter rows: 5\n",
      "A B C D E \n",
      "F G H I J \n",
      "K L M N O \n",
      "P Q R S T \n",
      "U V W X Y \n"
     ]
    }
   ],
   "source": [
    "rows = int(input('Enter rows: '))\n",
    "alpha = ord('A')\n",
    "for i in range(1, rows + 1):\n",
    "    for j in range(1, rows + 1):\n",
    "        print(chr(alpha), end = ' ')\n",
    "        alpha += 1\n",
    "    print()"
   ]
  },
  {
   "cell_type": "markdown",
   "id": "50cbef26",
   "metadata": {},
   "source": [
    "    Exercise for you to solve the below pattern"
   ]
  },
  {
   "cell_type": "markdown",
   "id": "5194e301",
   "metadata": {},
   "source": [
    "    A A A A A \n",
    "    B B B B B \n",
    "    C C C C C \n",
    "    D D D D D \n",
    "    E E E E E "
   ]
  },
  {
   "cell_type": "markdown",
   "id": "21c6820b",
   "metadata": {},
   "source": [
    "    Finding dificulty to solve ?\n",
    "check out my YouTube channel: https://www.youtube.com/@MaheshJaviniki where you can find the solution and complete python tutorials and tutorials for data science."
   ]
  }
 ],
 "metadata": {
  "kernelspec": {
   "display_name": "Python 3 (ipykernel)",
   "language": "python",
   "name": "python3"
  },
  "language_info": {
   "codemirror_mode": {
    "name": "ipython",
    "version": 3
   },
   "file_extension": ".py",
   "mimetype": "text/x-python",
   "name": "python",
   "nbconvert_exporter": "python",
   "pygments_lexer": "ipython3",
   "version": "3.9.12"
  }
 },
 "nbformat": 4,
 "nbformat_minor": 5
}
