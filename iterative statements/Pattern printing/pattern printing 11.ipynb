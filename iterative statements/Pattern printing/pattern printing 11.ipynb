{
 "cells": [
  {
   "cell_type": "markdown",
   "id": "419dbb19",
   "metadata": {},
   "source": [
    "# Everything you need to know about python:\n",
    "## In simplest possible way"
   ]
  },
  {
   "cell_type": "markdown",
   "id": "b0f1e4f7",
   "metadata": {},
   "source": [
    "# Pattern printing - 11"
   ]
  },
  {
   "cell_type": "markdown",
   "id": "34e8f0b4",
   "metadata": {},
   "source": [
    "        *\n",
    "       **\n",
    "      ***\n",
    "     ****\n",
    "    *****\n",
    "     ****\n",
    "      ***\n",
    "       **\n",
    "        *\n"
   ]
  },
  {
   "cell_type": "code",
   "execution_count": 1,
   "id": "866a0ffd",
   "metadata": {},
   "outputs": [
    {
     "name": "stdout",
     "output_type": "stream",
     "text": [
      "Enter any number: 5\n",
      "    *\n",
      "   **\n",
      "  ***\n",
      " ****\n",
      "*****\n",
      " ****\n",
      "  ***\n",
      "   **\n",
      "    *\n"
     ]
    }
   ],
   "source": [
    "rows = int(input('Enter any number: '))\n",
    "spaces = rows - 1\n",
    "for i in range(1, rows +1):\n",
    "    print(' ' * spaces + '*' * i)\n",
    "    spaces -= 1\n",
    "    \n",
    "spaces += 2\n",
    "for j in range(rows - 1, 0, -1):\n",
    "    print(' ' * spaces + '*' * j)\n",
    "    spaces += 1"
   ]
  },
  {
   "cell_type": "markdown",
   "id": "e81e3def",
   "metadata": {},
   "source": [
    "    Exercise for you to solve the below pattern"
   ]
  },
  {
   "cell_type": "markdown",
   "id": "9d96d779",
   "metadata": {},
   "source": [
    "    *        *\n",
    "    **      **\n",
    "    ***    ***\n",
    "    ****  ****\n",
    "    **********\n",
    "    ****  ****\n",
    "    ***    ***\n",
    "    **      **\n",
    "    *        *"
   ]
  },
  {
   "cell_type": "markdown",
   "id": "62313b63",
   "metadata": {},
   "source": [
    "    Finding dificulty to solve ?\n",
    "check out my YouTube channel: https://www.youtube.com/@MaheshJaviniki where you can find the solution and complete python tutorials and tutorials for data science.\n",
    "        "
   ]
  }
 ],
 "metadata": {
  "kernelspec": {
   "display_name": "Python 3 (ipykernel)",
   "language": "python",
   "name": "python3"
  },
  "language_info": {
   "codemirror_mode": {
    "name": "ipython",
    "version": 3
   },
   "file_extension": ".py",
   "mimetype": "text/x-python",
   "name": "python",
   "nbconvert_exporter": "python",
   "pygments_lexer": "ipython3",
   "version": "3.9.12"
  }
 },
 "nbformat": 4,
 "nbformat_minor": 5
}
