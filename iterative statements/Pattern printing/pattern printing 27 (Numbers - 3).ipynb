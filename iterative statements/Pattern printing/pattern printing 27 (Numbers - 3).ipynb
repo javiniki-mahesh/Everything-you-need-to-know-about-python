{
 "cells": [
  {
   "cell_type": "markdown",
   "id": "6630921a",
   "metadata": {},
   "source": [
    "# Everything you need to know about python:\n",
    "## In simplest possible way"
   ]
  },
  {
   "cell_type": "markdown",
   "id": "1c517e45",
   "metadata": {},
   "source": [
    "# Pattern printing - 27 (Numbers - 3)"
   ]
  },
  {
   "cell_type": "markdown",
   "id": "17e2319b",
   "metadata": {},
   "source": [
    "             1 \n",
    "           2 2 \n",
    "         3 3 3 \n",
    "       4 4 4 4 \n",
    "     5 5 5 5 5 "
   ]
  },
  {
   "cell_type": "code",
   "execution_count": 1,
   "id": "122d0eba",
   "metadata": {},
   "outputs": [
    {
     "name": "stdout",
     "output_type": "stream",
     "text": [
      "Enter rows: 5\n",
      "         1 \n",
      "       2 2 \n",
      "     3 3 3 \n",
      "   4 4 4 4 \n",
      " 5 5 5 5 5 \n"
     ]
    }
   ],
   "source": [
    "rows = int(input('Enter rows: '))\n",
    "spaces = 2 * rows - 1\n",
    "for i in range(1, rows + 1):\n",
    "    print(' ' * spaces, end = '')\n",
    "    for j in range(1, i + 1):\n",
    "        print(i, end = ' ')\n",
    "    print()\n",
    "    spaces -= 2"
   ]
  },
  {
   "cell_type": "markdown",
   "id": "2bae8ef3",
   "metadata": {},
   "source": [
    "    Exercise for you to solve the below pattern"
   ]
  },
  {
   "cell_type": "markdown",
   "id": "86e5d548",
   "metadata": {},
   "source": [
    "    5 5 5 5 5 \n",
    "    4 4 4 4 \n",
    "    3 3 3 \n",
    "    2 2 \n",
    "    1"
   ]
  },
  {
   "cell_type": "markdown",
   "id": "26507b8c",
   "metadata": {},
   "source": [
    "    Finding dificulty to solve ?\n",
    "check out my YouTube channel: https://www.youtube.com/@MaheshJaviniki where you can find the solution and complete python tutorials and tutorials for data science."
   ]
  }
 ],
 "metadata": {
  "kernelspec": {
   "display_name": "Python 3 (ipykernel)",
   "language": "python",
   "name": "python3"
  },
  "language_info": {
   "codemirror_mode": {
    "name": "ipython",
    "version": 3
   },
   "file_extension": ".py",
   "mimetype": "text/x-python",
   "name": "python",
   "nbconvert_exporter": "python",
   "pygments_lexer": "ipython3",
   "version": "3.9.12"
  }
 },
 "nbformat": 4,
 "nbformat_minor": 5
}
