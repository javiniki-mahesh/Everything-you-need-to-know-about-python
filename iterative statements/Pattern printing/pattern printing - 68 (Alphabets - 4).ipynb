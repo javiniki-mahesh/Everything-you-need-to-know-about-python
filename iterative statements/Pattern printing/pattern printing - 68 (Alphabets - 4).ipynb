{
 "cells": [
  {
   "cell_type": "markdown",
   "id": "d38095d3",
   "metadata": {},
   "source": [
    "# Everything you need to know about python:\n",
    "## In simplest possible way"
   ]
  },
  {
   "cell_type": "markdown",
   "id": "b87e653b",
   "metadata": {},
   "source": [
    "# Pattern printing - 68 (Alphabets - 4)"
   ]
  },
  {
   "cell_type": "markdown",
   "id": "374a45c1",
   "metadata": {},
   "source": [
    "    A \n",
    "    B B \n",
    "    C C C \n",
    "    D D D D \n",
    "    E E E E E "
   ]
  },
  {
   "cell_type": "code",
   "execution_count": 1,
   "id": "a6118520",
   "metadata": {},
   "outputs": [
    {
     "name": "stdout",
     "output_type": "stream",
     "text": [
      "ENter rows: 5\n",
      "A \n",
      "B B \n",
      "C C C \n",
      "D D D D \n",
      "E E E E E \n"
     ]
    }
   ],
   "source": [
    "rows = int(input('ENter rows: '))\n",
    "alpha = ord('A')\n",
    "for i in range(1, rows + 1):\n",
    "    for j in range(1, i+1):\n",
    "        print(chr(alpha), end= ' ')\n",
    "    print()\n",
    "    alpha += 1"
   ]
  },
  {
   "cell_type": "markdown",
   "id": "bca59314",
   "metadata": {},
   "source": [
    "    Exercise for you to solve the below pattern"
   ]
  },
  {
   "cell_type": "markdown",
   "id": "5f0c8fdc",
   "metadata": {},
   "source": [
    "        A \n",
    "       B B \n",
    "      C C C \n",
    "     D D D D \n",
    "    E E E E E "
   ]
  },
  {
   "cell_type": "markdown",
   "id": "ef5c7919",
   "metadata": {},
   "source": [
    "    Finding dificulty to solve ?\n",
    "check out my YouTube channel: https://www.youtube.com/@MaheshJaviniki where you can find the solution and complete python tutorials and tutorials for data science."
   ]
  }
 ],
 "metadata": {
  "kernelspec": {
   "display_name": "Python 3 (ipykernel)",
   "language": "python",
   "name": "python3"
  },
  "language_info": {
   "codemirror_mode": {
    "name": "ipython",
    "version": 3
   },
   "file_extension": ".py",
   "mimetype": "text/x-python",
   "name": "python",
   "nbconvert_exporter": "python",
   "pygments_lexer": "ipython3",
   "version": "3.9.12"
  }
 },
 "nbformat": 4,
 "nbformat_minor": 5
}
