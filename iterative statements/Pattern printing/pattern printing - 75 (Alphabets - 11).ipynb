{
 "cells": [
  {
   "cell_type": "markdown",
   "id": "93d2b8c5",
   "metadata": {},
   "source": [
    "# Everything you need to know about python:\n",
    "## In simplest possible way"
   ]
  },
  {
   "cell_type": "markdown",
   "id": "1d3bb97a",
   "metadata": {},
   "source": [
    "# Pattern printing - 75 (Alphabets - 11)"
   ]
  },
  {
   "cell_type": "markdown",
   "id": "7ec75d04",
   "metadata": {},
   "source": [
    "    A B C D E \n",
    "     A B C D \n",
    "      A B C \n",
    "       A B \n",
    "        A "
   ]
  },
  {
   "cell_type": "code",
   "execution_count": 1,
   "id": "b67b992b",
   "metadata": {},
   "outputs": [
    {
     "name": "stdout",
     "output_type": "stream",
     "text": [
      "Enter rows: 5\n",
      "A B C D E \n",
      " A B C D \n",
      "  A B C \n",
      "   A B \n",
      "    A \n"
     ]
    }
   ],
   "source": [
    "rows = int(input('Enter rows: '))\n",
    "spaces = 0\n",
    "for i in range(rows, 0, -1):\n",
    "    alpha = ord('A')\n",
    "    print(' '*spaces, end = '')\n",
    "    for j in range(1, i+1):\n",
    "        print(chr(alpha), end = ' ')\n",
    "        alpha += 1\n",
    "    print()\n",
    "    spaces += 1"
   ]
  },
  {
   "cell_type": "markdown",
   "id": "f78343ff",
   "metadata": {},
   "source": [
    "    Exercise for you to solve the below pattern"
   ]
  },
  {
   "cell_type": "markdown",
   "id": "9cab8773",
   "metadata": {},
   "source": [
    "    A B C D E \n",
    "      A B C D \n",
    "        A B C \n",
    "          A B \n",
    "            A "
   ]
  },
  {
   "cell_type": "markdown",
   "id": "a3eb1a49",
   "metadata": {},
   "source": [
    "    Finding dificulty to solve ?\n",
    "check out my YouTube channel: https://www.youtube.com/@MaheshJaviniki where you can find the solution and complete python tutorials and tutorials for data science."
   ]
  }
 ],
 "metadata": {
  "kernelspec": {
   "display_name": "Python 3 (ipykernel)",
   "language": "python",
   "name": "python3"
  },
  "language_info": {
   "codemirror_mode": {
    "name": "ipython",
    "version": 3
   },
   "file_extension": ".py",
   "mimetype": "text/x-python",
   "name": "python",
   "nbconvert_exporter": "python",
   "pygments_lexer": "ipython3",
   "version": "3.9.12"
  }
 },
 "nbformat": 4,
 "nbformat_minor": 5
}
