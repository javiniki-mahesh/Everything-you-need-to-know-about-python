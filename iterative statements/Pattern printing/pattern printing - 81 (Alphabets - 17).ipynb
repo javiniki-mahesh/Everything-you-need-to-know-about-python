{
 "cells": [
  {
   "cell_type": "markdown",
   "id": "887c1539",
   "metadata": {},
   "source": [
    "# Everything you need to know about python:\n",
    "## In simplest possible way"
   ]
  },
  {
   "cell_type": "markdown",
   "id": "827d6e12",
   "metadata": {},
   "source": [
    "# Pattern printing - 81 (Alphabets - 17)"
   ]
  },
  {
   "cell_type": "markdown",
   "id": "0158f8d8",
   "metadata": {},
   "source": [
    "        A \n",
    "       B B \n",
    "      C C C \n",
    "     D D D D \n",
    "    E E E E E \n",
    "     D D D D \n",
    "      C C C \n",
    "       B B \n",
    "        A "
   ]
  },
  {
   "cell_type": "code",
   "execution_count": 1,
   "id": "59314eca",
   "metadata": {},
   "outputs": [
    {
     "name": "stdout",
     "output_type": "stream",
     "text": [
      "Enter rows : 5\n",
      "    A \n",
      "   B B \n",
      "  C C C \n",
      " D D D D \n",
      "E E E E E \n",
      " D D D D \n",
      "  C C C \n",
      "   B B \n",
      "    A \n"
     ]
    }
   ],
   "source": [
    "rows = int(input(\"Enter rows : \"))\n",
    "spaces = rows - 1\n",
    "alpha = ord('A')\n",
    "for i in range(1, rows + 1):\n",
    "    print(' '*spaces, end = '')\n",
    "    for j in range(1, i + 1):\n",
    "        print(chr(alpha), end= ' ')\n",
    "    alpha += 1\n",
    "    print()\n",
    "    spaces -= 1\n",
    "alpha -= 2\n",
    "spaces += 2\n",
    "for k in range(rows - 1, 0, -1):\n",
    "    print(' '*spaces, end = '')\n",
    "    for l in range(1, k+1):\n",
    "        print(chr(alpha), end= ' ')\n",
    "    alpha -= 1\n",
    "    print()\n",
    "    spaces += 1"
   ]
  },
  {
   "cell_type": "markdown",
   "id": "1840ce5d",
   "metadata": {},
   "source": [
    "##### check out my YouTube channel: https://www.youtube.com/@MaheshJaviniki where you can find  complete python tutorials and tutorials for data science."
   ]
  }
 ],
 "metadata": {
  "kernelspec": {
   "display_name": "Python 3 (ipykernel)",
   "language": "python",
   "name": "python3"
  },
  "language_info": {
   "codemirror_mode": {
    "name": "ipython",
    "version": 3
   },
   "file_extension": ".py",
   "mimetype": "text/x-python",
   "name": "python",
   "nbconvert_exporter": "python",
   "pygments_lexer": "ipython3",
   "version": "3.9.12"
  }
 },
 "nbformat": 4,
 "nbformat_minor": 5
}
