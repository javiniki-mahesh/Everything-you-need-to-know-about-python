{
 "cells": [
  {
   "cell_type": "markdown",
   "id": "a1ac408d",
   "metadata": {},
   "source": [
    "# Everything you need to know about python:\n",
    "## In simplest possible way"
   ]
  },
  {
   "cell_type": "markdown",
   "id": "5d40d6b0",
   "metadata": {},
   "source": [
    "# Pattern printing - 78 (Alphabets - 14)"
   ]
  },
  {
   "cell_type": "markdown",
   "id": "0640e1ad",
   "metadata": {},
   "source": [
    "    A A A A A \n",
    "    B B B B \n",
    "    C C C \n",
    "    D D \n",
    "    E"
   ]
  },
  {
   "cell_type": "code",
   "execution_count": 1,
   "id": "a902a8cb",
   "metadata": {},
   "outputs": [
    {
     "name": "stdout",
     "output_type": "stream",
     "text": [
      "Enter rows: 5\n",
      "A A A A A \n",
      "B B B B \n",
      "C C C \n",
      "D D \n",
      "E \n"
     ]
    }
   ],
   "source": [
    "rows = int(input('Enter rows: '))\n",
    "alpha = ord('A')\n",
    "for i in range(rows, 0, -1):\n",
    "    for j in range(1, i+1):\n",
    "        print(chr(alpha), end = ' ')\n",
    "    print()\n",
    "    alpha += 1"
   ]
  },
  {
   "cell_type": "markdown",
   "id": "e48c676a",
   "metadata": {},
   "source": [
    "    Exercise for you to solve the below pattern"
   ]
  },
  {
   "cell_type": "markdown",
   "id": "9bfd3f23",
   "metadata": {},
   "source": [
    "    A A A A A \n",
    "     B B B B \n",
    "      C C C \n",
    "       D D \n",
    "        E "
   ]
  },
  {
   "cell_type": "markdown",
   "id": "1ebafbd3",
   "metadata": {},
   "source": [
    "    Finding dificulty to solve ?\n",
    "check out my YouTube channel: https://www.youtube.com/@MaheshJaviniki where you can find the solution and complete python tutorials and tutorials for data science."
   ]
  }
 ],
 "metadata": {
  "kernelspec": {
   "display_name": "Python 3 (ipykernel)",
   "language": "python",
   "name": "python3"
  },
  "language_info": {
   "codemirror_mode": {
    "name": "ipython",
    "version": 3
   },
   "file_extension": ".py",
   "mimetype": "text/x-python",
   "name": "python",
   "nbconvert_exporter": "python",
   "pygments_lexer": "ipython3",
   "version": "3.9.12"
  }
 },
 "nbformat": 4,
 "nbformat_minor": 5
}
