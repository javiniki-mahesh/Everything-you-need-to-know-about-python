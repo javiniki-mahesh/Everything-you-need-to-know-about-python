{
 "cells": [
  {
   "cell_type": "markdown",
   "id": "b0462218",
   "metadata": {},
   "source": [
    "# Everything you need to know about python:\n",
    "## In simplest possible way"
   ]
  },
  {
   "cell_type": "markdown",
   "id": "0cd18344",
   "metadata": {},
   "source": [
    "# Pattern printing - 12"
   ]
  },
  {
   "cell_type": "markdown",
   "id": "02287eee",
   "metadata": {},
   "source": [
    "    *        *\n",
    "    **      **\n",
    "    ***    ***\n",
    "    ****  ****\n",
    "    **********\n",
    "    ****  ****\n",
    "    ***    ***\n",
    "    **      **\n",
    "    *        *"
   ]
  },
  {
   "cell_type": "code",
   "execution_count": 1,
   "id": "374d8b43",
   "metadata": {
    "scrolled": true
   },
   "outputs": [
    {
     "name": "stdout",
     "output_type": "stream",
     "text": [
      "Enter any number: 5\n",
      "*        *\n",
      "**      **\n",
      "***    ***\n",
      "****  ****\n",
      "**********\n",
      "****  ****\n",
      "***    ***\n",
      "**      **\n",
      "*        *\n"
     ]
    }
   ],
   "source": [
    "rows = int(input('Enter any number: '))\n",
    "\n",
    "for i in range(1, rows+1):\n",
    "    print('*' * i + ' '  * (2*(rows - i))  + '*' * i)\n",
    "\n",
    "for j in range(rows -1,0 , -1):\n",
    "    print('*' * j + ' ' * (2*(rows - j)) + '*' * j)"
   ]
  },
  {
   "cell_type": "markdown",
   "id": "72d6b25b",
   "metadata": {},
   "source": [
    "    Exercise for you to solve the below pattern"
   ]
  },
  {
   "cell_type": "markdown",
   "id": "35a2974c",
   "metadata": {},
   "source": [
    "    *****\n",
    "    ****\n",
    "    ***\n",
    "    **\n",
    "    *\n",
    "    **\n",
    "    ***\n",
    "    ****\n",
    "    *****"
   ]
  },
  {
   "cell_type": "markdown",
   "id": "24c7602f",
   "metadata": {},
   "source": [
    "    Finding dificulty to solve ?\n",
    "check out my YouTube channel: https://www.youtube.com/@MaheshJaviniki where you can find the solution and complete python tutorials and tutorials for data science."
   ]
  }
 ],
 "metadata": {
  "kernelspec": {
   "display_name": "Python 3 (ipykernel)",
   "language": "python",
   "name": "python3"
  },
  "language_info": {
   "codemirror_mode": {
    "name": "ipython",
    "version": 3
   },
   "file_extension": ".py",
   "mimetype": "text/x-python",
   "name": "python",
   "nbconvert_exporter": "python",
   "pygments_lexer": "ipython3",
   "version": "3.9.12"
  }
 },
 "nbformat": 4,
 "nbformat_minor": 5
}
