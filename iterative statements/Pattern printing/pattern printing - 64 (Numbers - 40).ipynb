{
 "cells": [
  {
   "cell_type": "markdown",
   "id": "858a302d",
   "metadata": {},
   "source": [
    "# Everything you need to know about python:\n",
    "## In simplest possible way"
   ]
  },
  {
   "cell_type": "markdown",
   "id": "31b58161",
   "metadata": {},
   "source": [
    "# Pattern printing - 64 (Numbers - 40)"
   ]
  },
  {
   "cell_type": "markdown",
   "id": "31c28c7d",
   "metadata": {},
   "source": [
    "    1 \n",
    "    2 3 \n",
    "    4 5 6 \n",
    "    7 8 9 10 \n",
    "    11 12 13 14 15 "
   ]
  },
  {
   "cell_type": "code",
   "execution_count": 1,
   "id": "d35c310f",
   "metadata": {},
   "outputs": [
    {
     "name": "stdout",
     "output_type": "stream",
     "text": [
      "Enter rows: 5\n",
      "1 \n",
      "2 3 \n",
      "4 5 6 \n",
      "7 8 9 10 \n",
      "11 12 13 14 15 \n"
     ]
    }
   ],
   "source": [
    "rows = int(input('Enter rows: '))\n",
    "number = 1\n",
    "for i in range(1, rows + 1):\n",
    "    for j in range(1, i+1):\n",
    "        print(number, end = ' ')\n",
    "        number += 1\n",
    "    print()\n",
    "    "
   ]
  },
  {
   "cell_type": "markdown",
   "id": "1018e701",
   "metadata": {},
   "source": [
    "    Exercise for you to solve the below pattern"
   ]
  },
  {
   "cell_type": "markdown",
   "id": "6510c274",
   "metadata": {},
   "source": [
    "    A B C D E \n",
    "    F G H I J \n",
    "    K L M N O \n",
    "    P Q R S T \n",
    "    U V W X Y "
   ]
  },
  {
   "cell_type": "markdown",
   "id": "cb688ef6",
   "metadata": {},
   "source": [
    "    Finding dificulty to solve ?\n",
    "check out my YouTube channel: https://www.youtube.com/@MaheshJaviniki where you can find the solution and complete python tutorials and tutorials for data science."
   ]
  }
 ],
 "metadata": {
  "kernelspec": {
   "display_name": "Python 3 (ipykernel)",
   "language": "python",
   "name": "python3"
  },
  "language_info": {
   "codemirror_mode": {
    "name": "ipython",
    "version": 3
   },
   "file_extension": ".py",
   "mimetype": "text/x-python",
   "name": "python",
   "nbconvert_exporter": "python",
   "pygments_lexer": "ipython3",
   "version": "3.9.12"
  }
 },
 "nbformat": 4,
 "nbformat_minor": 5
}
