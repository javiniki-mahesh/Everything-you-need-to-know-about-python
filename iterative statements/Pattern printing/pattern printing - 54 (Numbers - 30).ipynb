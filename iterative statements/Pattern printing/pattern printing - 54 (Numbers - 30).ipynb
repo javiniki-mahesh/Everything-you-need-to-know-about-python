{
 "cells": [
  {
   "cell_type": "markdown",
   "id": "2b7bb60e",
   "metadata": {},
   "source": [
    "# Everything you need to know about python:\n",
    "## In simplest possible way"
   ]
  },
  {
   "cell_type": "markdown",
   "id": "b7110c1c",
   "metadata": {},
   "source": [
    "# Pattern printing - 54 (Numbers - 30)"
   ]
  },
  {
   "cell_type": "markdown",
   "id": "a8257b92",
   "metadata": {},
   "source": [
    "    1 2 3 4 5 \n",
    "     2 3 4 5 \n",
    "      3 4 5 \n",
    "       4 5 \n",
    "        5 \n",
    "       5 4 \n",
    "      5 4 3 \n",
    "     5 4 3 2 \n",
    "    5 4 3 2 1"
   ]
  },
  {
   "cell_type": "code",
   "execution_count": 1,
   "id": "ae115503",
   "metadata": {},
   "outputs": [
    {
     "name": "stdout",
     "output_type": "stream",
     "text": [
      "Enter rows: 5\n",
      "1 2 3 4 5 \n",
      " 2 3 4 5 \n",
      "  3 4 5 \n",
      "   4 5 \n",
      "    5 \n",
      "   5 4 \n",
      "  5 4 3 \n",
      " 5 4 3 2 \n",
      "5 4 3 2 1 \n"
     ]
    }
   ],
   "source": [
    "rows = int(input('Enter rows: '))\n",
    "spaces = 0\n",
    "for i in range(1, rows + 1):\n",
    "    print(' ' * spaces, end = '')\n",
    "    for j in range(i, rows + 1):\n",
    "        print(j, end = ' ')\n",
    "    print()\n",
    "    spaces += 1\n",
    "spaces -= 2\n",
    "for k in range(rows - 1, 0, -1):\n",
    "    print(' '*spaces, end = '')\n",
    "    for l in range(rows, k-1, -1):\n",
    "        print(l, end = ' ')\n",
    "    print()\n",
    "    spaces -= 1"
   ]
  },
  {
   "cell_type": "markdown",
   "id": "7a375ab3",
   "metadata": {},
   "source": [
    "    Exercise for you to solve the below pattern"
   ]
  },
  {
   "cell_type": "markdown",
   "id": "844af06f",
   "metadata": {},
   "source": [
    "            1 \n",
    "          2 1 2 \n",
    "        3 2 1 2 3 \n",
    "      4 3 2 1 2 3 4 \n",
    "    5 4 3 2 1 2 3 4 5 "
   ]
  },
  {
   "cell_type": "markdown",
   "id": "54e942f1",
   "metadata": {},
   "source": [
    "    Finding dificulty to solve ?\n",
    "check out my YouTube channel: https://www.youtube.com/@MaheshJaviniki where you can find the solution and complete python tutorials and tutorials for data science."
   ]
  }
 ],
 "metadata": {
  "kernelspec": {
   "display_name": "Python 3 (ipykernel)",
   "language": "python",
   "name": "python3"
  },
  "language_info": {
   "codemirror_mode": {
    "name": "ipython",
    "version": 3
   },
   "file_extension": ".py",
   "mimetype": "text/x-python",
   "name": "python",
   "nbconvert_exporter": "python",
   "pygments_lexer": "ipython3",
   "version": "3.9.12"
  }
 },
 "nbformat": 4,
 "nbformat_minor": 5
}
