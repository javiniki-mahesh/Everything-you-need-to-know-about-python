{
 "cells": [
  {
   "cell_type": "markdown",
   "id": "d12c14f2",
   "metadata": {},
   "source": [
    "# Everything you need to know about python:\n",
    "## In simplest possible way"
   ]
  },
  {
   "cell_type": "markdown",
   "id": "cacf9eff",
   "metadata": {},
   "source": [
    "# Pattern printing - 22"
   ]
  },
  {
   "cell_type": "markdown",
   "id": "95efdb16",
   "metadata": {},
   "source": [
    "    *********\n",
    "     *     * \n",
    "      *   *  \n",
    "       * *  \n",
    "        *   "
   ]
  },
  {
   "cell_type": "code",
   "execution_count": 1,
   "id": "b933f1c0",
   "metadata": {},
   "outputs": [
    {
     "name": "stdout",
     "output_type": "stream",
     "text": [
      "Enter any number: 5\n",
      "*********\n",
      " *     *\n",
      "  *   *\n",
      "   * *\n",
      "    *\n"
     ]
    }
   ],
   "source": [
    "rows = int(input('Enter any number: '))\n",
    "outer_spaces = 0\n",
    "inner_spaces = (2 * rows - 1) -4\n",
    "\n",
    "for i in range(rows , 0, -1):\n",
    "    if i == 1 or i == rows:\n",
    "        print(' ' * outer_spaces + '*' * (2*i-1))\n",
    "        outer_spaces += 1\n",
    "    else:\n",
    "        print(' ' * outer_spaces + '*' + ' ' *inner_spaces + '*')\n",
    "        outer_spaces += 1\n",
    "        inner_spaces -= 2"
   ]
  },
  {
   "cell_type": "markdown",
   "id": "636c4e18",
   "metadata": {},
   "source": [
    "    Exercise for you to solve the below pattern"
   ]
  },
  {
   "cell_type": "markdown",
   "id": "7283ee65",
   "metadata": {},
   "source": [
    "        *\n",
    "       * *\n",
    "      *   *\n",
    "     *     *\n",
    "    *       *\n",
    "     *     *\n",
    "      *   *\n",
    "       * *\n",
    "        *\n"
   ]
  },
  {
   "cell_type": "markdown",
   "id": "8a76ca29",
   "metadata": {},
   "source": [
    "    Finding dificulty to solve ?\n",
    "check out my YouTube channel: https://www.youtube.com/@MaheshJaviniki where you can find the solution and complete python tutorials and tutorials for data science."
   ]
  }
 ],
 "metadata": {
  "kernelspec": {
   "display_name": "Python 3 (ipykernel)",
   "language": "python",
   "name": "python3"
  },
  "language_info": {
   "codemirror_mode": {
    "name": "ipython",
    "version": 3
   },
   "file_extension": ".py",
   "mimetype": "text/x-python",
   "name": "python",
   "nbconvert_exporter": "python",
   "pygments_lexer": "ipython3",
   "version": "3.9.12"
  }
 },
 "nbformat": 4,
 "nbformat_minor": 5
}
