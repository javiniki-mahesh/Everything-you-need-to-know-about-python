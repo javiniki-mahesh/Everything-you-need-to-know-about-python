{
 "cells": [
  {
   "cell_type": "markdown",
   "id": "23de1321",
   "metadata": {},
   "source": [
    "# Everything you need to know about python:\n",
    "## In simplest possible way"
   ]
  },
  {
   "cell_type": "markdown",
   "id": "2c0773f3",
   "metadata": {},
   "source": [
    "# Pattern printing - 20"
   ]
  },
  {
   "cell_type": "markdown",
   "id": "40d950f7",
   "metadata": {},
   "source": [
    "    *****\n",
    "     *  *\n",
    "      * *\n",
    "       **\n",
    "        *"
   ]
  },
  {
   "cell_type": "code",
   "execution_count": 2,
   "id": "2eaed678",
   "metadata": {},
   "outputs": [
    {
     "name": "stdout",
     "output_type": "stream",
     "text": [
      "Enter any number: 5\n",
      "*****\n",
      " *  *\n",
      "  * *\n",
      "   **\n",
      "    *\n"
     ]
    }
   ],
   "source": [
    "rows = int(input('Enter any number: '))\n",
    "outer_spaces = 0\n",
    "inner_spaces = rows - 3 \n",
    "\n",
    "for i in range(rows, 0, -1):\n",
    "    if i == 1 or i == rows:\n",
    "        print(' ' * outer_spaces + '*' * i)\n",
    "        outer_spaces += 1\n",
    "    else:\n",
    "        print(' ' * outer_spaces + '*' + ' ' * inner_spaces + '*')\n",
    "        outer_spaces += 1\n",
    "        inner_spaces -= 1"
   ]
  },
  {
   "cell_type": "markdown",
   "id": "6c451e2c",
   "metadata": {},
   "source": [
    "    Exercise for you to solve the below pattern"
   ]
  },
  {
   "cell_type": "markdown",
   "id": "d4d972ad",
   "metadata": {},
   "source": [
    "    *****\n",
    "    *  *\n",
    "    * *\n",
    "    **\n",
    "    *"
   ]
  },
  {
   "cell_type": "markdown",
   "id": "f5e18ff5",
   "metadata": {},
   "source": [
    "    Finding dificulty to solve ?\n",
    "check out my YouTube channel: https://www.youtube.com/@MaheshJaviniki where you can find the solution and complete python tutorials and tutorials for data science."
   ]
  }
 ],
 "metadata": {
  "kernelspec": {
   "display_name": "Python 3 (ipykernel)",
   "language": "python",
   "name": "python3"
  },
  "language_info": {
   "codemirror_mode": {
    "name": "ipython",
    "version": 3
   },
   "file_extension": ".py",
   "mimetype": "text/x-python",
   "name": "python",
   "nbconvert_exporter": "python",
   "pygments_lexer": "ipython3",
   "version": "3.9.12"
  }
 },
 "nbformat": 4,
 "nbformat_minor": 5
}
