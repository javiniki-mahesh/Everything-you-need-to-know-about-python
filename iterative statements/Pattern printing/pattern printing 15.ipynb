{
 "cells": [
  {
   "cell_type": "markdown",
   "id": "cd7a78b4",
   "metadata": {},
   "source": [
    "# Everything you need to know about python:\n",
    "## In simplest possible way"
   ]
  },
  {
   "cell_type": "markdown",
   "id": "3f83f41f",
   "metadata": {},
   "source": [
    "# Pattern printing - 15"
   ]
  },
  {
   "cell_type": "markdown",
   "id": "440c954d",
   "metadata": {},
   "source": [
    "    **********\n",
    "    ****  ****\n",
    "    ***    ***\n",
    "    **      **\n",
    "    *        *\n",
    "    **      **\n",
    "    ***    ***\n",
    "    ****  ****\n",
    "    **********"
   ]
  },
  {
   "cell_type": "code",
   "execution_count": 1,
   "id": "94a90863",
   "metadata": {},
   "outputs": [
    {
     "name": "stdout",
     "output_type": "stream",
     "text": [
      "Enter any number: 5\n",
      "**********\n",
      "****  ****\n",
      "***    ***\n",
      "**      **\n",
      "*        *\n",
      "**      **\n",
      "***    ***\n",
      "****  ****\n",
      "**********\n"
     ]
    }
   ],
   "source": [
    "rows = int(input('Enter any number: '))\n",
    "spaces = 0\n",
    "\n",
    "for i in range(rows, 0, -1):\n",
    "    print('*' * i + ' ' * spaces + '*' * i)\n",
    "    spaces += 2\n",
    "spaces -= 4\n",
    "for j in range(2, rows+1):\n",
    "    print('*' * j + ' ' * spaces + '*' * j )\n",
    "    spaces -= 2"
   ]
  },
  {
   "cell_type": "markdown",
   "id": "f4aa15f5",
   "metadata": {},
   "source": [
    "    Exercise for you to solve the below pattern"
   ]
  },
  {
   "cell_type": "markdown",
   "id": "324efda1",
   "metadata": {},
   "source": [
    "    * * * * * \n",
    "    *       * \n",
    "    *       * \n",
    "    *       * \n",
    "    * * * * * "
   ]
  },
  {
   "cell_type": "markdown",
   "id": "097ba341",
   "metadata": {},
   "source": [
    "    Finding dificulty to solve ?\n",
    "check out my YouTube channel: https://www.youtube.com/@MaheshJaviniki where you can find the solution and complete python tutorials and tutorials for data science."
   ]
  }
 ],
 "metadata": {
  "kernelspec": {
   "display_name": "Python 3 (ipykernel)",
   "language": "python",
   "name": "python3"
  },
  "language_info": {
   "codemirror_mode": {
    "name": "ipython",
    "version": 3
   },
   "file_extension": ".py",
   "mimetype": "text/x-python",
   "name": "python",
   "nbconvert_exporter": "python",
   "pygments_lexer": "ipython3",
   "version": "3.9.12"
  }
 },
 "nbformat": 4,
 "nbformat_minor": 5
}
