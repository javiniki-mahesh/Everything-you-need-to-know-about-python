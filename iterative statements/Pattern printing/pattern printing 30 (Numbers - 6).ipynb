{
 "cells": [
  {
   "cell_type": "markdown",
   "id": "76407261",
   "metadata": {},
   "source": [
    "# Everything you need to know about python:\n",
    "## In simplest possible way"
   ]
  },
  {
   "cell_type": "markdown",
   "id": "e7aa9c3e",
   "metadata": {},
   "source": [
    "# Pattern printing - 30 (Numbers - 6)"
   ]
  },
  {
   "cell_type": "markdown",
   "id": "ea98785f",
   "metadata": {},
   "source": [
    "    5 5 5 5 5 \n",
    "      4 4 4 4 \n",
    "        3 3 3 \n",
    "          2 2 \n",
    "            1 "
   ]
  },
  {
   "cell_type": "code",
   "execution_count": 9,
   "id": "704ce140",
   "metadata": {},
   "outputs": [
    {
     "name": "stdout",
     "output_type": "stream",
     "text": [
      "Enter any number: 7\n",
      "7 7 7 7 7 7 7 \n",
      "  6 6 6 6 6 6 \n",
      "    5 5 5 5 5 \n",
      "      4 4 4 4 \n",
      "        3 3 3 \n",
      "          2 2 \n",
      "            1 \n"
     ]
    }
   ],
   "source": [
    "rows = int(input('Enter any number: '))\n",
    "spaces = 0\n",
    "for i in range(rows, 0, -1):\n",
    "    print(' ' * spaces, end = '')\n",
    "    for j in range(1, i + 1):\n",
    "        print(i, end = ' ')\n",
    "    print()\n",
    "    spaces += 2"
   ]
  },
  {
   "cell_type": "markdown",
   "id": "1acfc74d",
   "metadata": {},
   "source": [
    "    Exercise for you to solve the below pattern"
   ]
  },
  {
   "cell_type": "markdown",
   "id": "2462501f",
   "metadata": {},
   "source": [
    "        1 \n",
    "       2 2 \n",
    "      3 3 3 \n",
    "     4 4 4 4 \n",
    "    5 5 5 5 5 \n",
    "     4 4 4 4 \n",
    "      3 3 3 \n",
    "       2 2 \n",
    "        1 "
   ]
  },
  {
   "cell_type": "markdown",
   "id": "e015d492",
   "metadata": {},
   "source": [
    "    Finding dificulty to solve ?\n",
    "check out my YouTube channel: https://www.youtube.com/@MaheshJaviniki where you can find the solution and complete python tutorials and tutorials for data science."
   ]
  }
 ],
 "metadata": {
  "kernelspec": {
   "display_name": "Python 3 (ipykernel)",
   "language": "python",
   "name": "python3"
  },
  "language_info": {
   "codemirror_mode": {
    "name": "ipython",
    "version": 3
   },
   "file_extension": ".py",
   "mimetype": "text/x-python",
   "name": "python",
   "nbconvert_exporter": "python",
   "pygments_lexer": "ipython3",
   "version": "3.9.12"
  }
 },
 "nbformat": 4,
 "nbformat_minor": 5
}
