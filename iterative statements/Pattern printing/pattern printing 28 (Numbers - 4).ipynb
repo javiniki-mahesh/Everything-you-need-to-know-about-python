{
 "cells": [
  {
   "cell_type": "markdown",
   "id": "a17ae8de",
   "metadata": {},
   "source": [
    "# Everything you need to know about python:\n",
    "## In simplest possible way"
   ]
  },
  {
   "cell_type": "markdown",
   "id": "29fbc7e9",
   "metadata": {},
   "source": [
    "# Pattern printing - 28 (Numbers - 4)"
   ]
  },
  {
   "cell_type": "markdown",
   "id": "fedf0f3e",
   "metadata": {},
   "source": [
    "    5 5 5 5 5 \n",
    "    4 4 4 4 \n",
    "    3 3 3 \n",
    "    2 2 \n",
    "    1"
   ]
  },
  {
   "cell_type": "code",
   "execution_count": 1,
   "id": "19dfd923",
   "metadata": {},
   "outputs": [
    {
     "name": "stdout",
     "output_type": "stream",
     "text": [
      "Enter rows: 5\n",
      "5 5 5 5 5 \n",
      "4 4 4 4 \n",
      "3 3 3 \n",
      "2 2 \n",
      "1 \n"
     ]
    }
   ],
   "source": [
    "rows = int(input('Enter rows: '))\n",
    "for i in range(rows, 0, -1):\n",
    "    for j in range(1, i+1):\n",
    "        print(i, end = ' ')\n",
    "    print()"
   ]
  },
  {
   "cell_type": "markdown",
   "id": "c1ae67fe",
   "metadata": {},
   "source": [
    "    Exercise for you to solve the below pattern"
   ]
  },
  {
   "cell_type": "markdown",
   "id": "46c83441",
   "metadata": {},
   "source": [
    "    5 5 5 5 5 \n",
    "     4 4 4 4 \n",
    "      3 3 3 \n",
    "       2 2 \n",
    "        1 "
   ]
  },
  {
   "cell_type": "markdown",
   "id": "eac6c6da",
   "metadata": {},
   "source": [
    "    Finding dificulty to solve ?\n",
    "check out my YouTube channel: https://www.youtube.com/@MaheshJaviniki where you can find the solution and complete python tutorials and tutorials for data science."
   ]
  }
 ],
 "metadata": {
  "kernelspec": {
   "display_name": "Python 3 (ipykernel)",
   "language": "python",
   "name": "python3"
  },
  "language_info": {
   "codemirror_mode": {
    "name": "ipython",
    "version": 3
   },
   "file_extension": ".py",
   "mimetype": "text/x-python",
   "name": "python",
   "nbconvert_exporter": "python",
   "pygments_lexer": "ipython3",
   "version": "3.9.12"
  }
 },
 "nbformat": 4,
 "nbformat_minor": 5
}
