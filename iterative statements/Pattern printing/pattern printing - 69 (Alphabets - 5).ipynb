{
 "cells": [
  {
   "cell_type": "markdown",
   "id": "c7dcb89b",
   "metadata": {},
   "source": [
    "# Everything you need to know about python:\n",
    "## In simplest possible way"
   ]
  },
  {
   "cell_type": "markdown",
   "id": "0c5fe232",
   "metadata": {},
   "source": [
    "# Pattern printing - 69 (Alphabets - 5)"
   ]
  },
  {
   "cell_type": "markdown",
   "id": "252284b4",
   "metadata": {},
   "source": [
    "        A \n",
    "       B B \n",
    "      C C C \n",
    "     D D D D \n",
    "    E E E E E "
   ]
  },
  {
   "cell_type": "code",
   "execution_count": 1,
   "id": "272f41fc",
   "metadata": {},
   "outputs": [
    {
     "name": "stdout",
     "output_type": "stream",
     "text": [
      "Enter rows: 5\n",
      "    A \n",
      "   B B \n",
      "  C C C \n",
      " D D D D \n",
      "E E E E E \n"
     ]
    }
   ],
   "source": [
    "rows = int(input('Enter rows: '))\n",
    "spaces = rows - 1\n",
    "alpha = ord('A')\n",
    "for i in range(1, rows + 1):\n",
    "    print(' '*spaces, end= '')\n",
    "    for j in range(1, i+ 1):\n",
    "        print(chr(alpha), end = ' ')\n",
    "    print()\n",
    "    alpha +=1 \n",
    "    spaces -= 1"
   ]
  },
  {
   "cell_type": "markdown",
   "id": "8798f5a2",
   "metadata": {},
   "source": [
    "    Exercise for you to solve the below pattern"
   ]
  },
  {
   "cell_type": "markdown",
   "id": "66864e26",
   "metadata": {},
   "source": [
    "            A \n",
    "          B B \n",
    "        C C C \n",
    "      D D D D \n",
    "    E E E E E"
   ]
  },
  {
   "cell_type": "markdown",
   "id": "2fa73833",
   "metadata": {},
   "source": [
    "    Finding dificulty to solve ?\n",
    "check out my YouTube channel: https://www.youtube.com/@MaheshJaviniki where you can find the solution and complete python tutorials and tutorials for data science."
   ]
  }
 ],
 "metadata": {
  "kernelspec": {
   "display_name": "Python 3 (ipykernel)",
   "language": "python",
   "name": "python3"
  },
  "language_info": {
   "codemirror_mode": {
    "name": "ipython",
    "version": 3
   },
   "file_extension": ".py",
   "mimetype": "text/x-python",
   "name": "python",
   "nbconvert_exporter": "python",
   "pygments_lexer": "ipython3",
   "version": "3.9.12"
  }
 },
 "nbformat": 4,
 "nbformat_minor": 5
}
