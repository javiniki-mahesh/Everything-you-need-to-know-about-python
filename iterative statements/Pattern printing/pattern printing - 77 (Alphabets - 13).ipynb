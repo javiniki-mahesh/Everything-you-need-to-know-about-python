{
 "cells": [
  {
   "cell_type": "markdown",
   "id": "db6c87b9",
   "metadata": {},
   "source": [
    "# Everything you need to know about python:\n",
    "## In simplest possible way"
   ]
  },
  {
   "cell_type": "markdown",
   "id": "7ddcfa0a",
   "metadata": {},
   "source": [
    "# Pattern printing - 77 (Alphabets - 13)"
   ]
  },
  {
   "cell_type": "markdown",
   "id": "ee9b2783",
   "metadata": {},
   "source": [
    "        A \n",
    "       A B \n",
    "      A B C \n",
    "     A B C D \n",
    "    A B C D E \n",
    "     A B C D \n",
    "      A B C \n",
    "       A B \n",
    "        A"
   ]
  },
  {
   "cell_type": "code",
   "execution_count": 1,
   "id": "11b00e52",
   "metadata": {},
   "outputs": [
    {
     "name": "stdout",
     "output_type": "stream",
     "text": [
      "Enter rows: 5\n",
      "    A \n",
      "   A B \n",
      "  A B C \n",
      " A B C D \n",
      "A B C D E \n",
      " A B C D \n",
      "  A B C \n",
      "   A B \n",
      "    A \n"
     ]
    }
   ],
   "source": [
    "rows = int(input('Enter rows: '))\n",
    "spaces = rows - 1\n",
    "\n",
    "for i in range(1, rows + 1):\n",
    "    alpha = ord('A')\n",
    "    print(' '*spaces, end= '')\n",
    "    for j in range(1, i + 1):\n",
    "        print(chr(alpha), end = ' ')\n",
    "        alpha += 1\n",
    "    print()\n",
    "    spaces -= 1\n",
    "spaces += 2\n",
    "for k in range(rows - 1, 0, -1):\n",
    "    print(' ' * spaces, end = '')\n",
    "    alpha = ord('A')\n",
    "    for l in range(1, k + 1):\n",
    "        print(chr(alpha), end = ' ')\n",
    "        alpha += 1\n",
    "    print()\n",
    "    spaces += 1"
   ]
  },
  {
   "cell_type": "markdown",
   "id": "0e1e6495",
   "metadata": {},
   "source": [
    "    Exercise for you to solve the below pattern"
   ]
  },
  {
   "cell_type": "markdown",
   "id": "fbc056d8",
   "metadata": {},
   "source": [
    "    A A A A A \n",
    "    B B B B \n",
    "    C C C \n",
    "    D D \n",
    "    E"
   ]
  },
  {
   "cell_type": "markdown",
   "id": "a39705b9",
   "metadata": {},
   "source": [
    "    Finding dificulty to solve ?\n",
    "check out my YouTube channel: https://www.youtube.com/@MaheshJaviniki where you can find the solution and complete python tutorials and tutorials for data science."
   ]
  }
 ],
 "metadata": {
  "kernelspec": {
   "display_name": "Python 3 (ipykernel)",
   "language": "python",
   "name": "python3"
  },
  "language_info": {
   "codemirror_mode": {
    "name": "ipython",
    "version": 3
   },
   "file_extension": ".py",
   "mimetype": "text/x-python",
   "name": "python",
   "nbconvert_exporter": "python",
   "pygments_lexer": "ipython3",
   "version": "3.9.12"
  }
 },
 "nbformat": 4,
 "nbformat_minor": 5
}
