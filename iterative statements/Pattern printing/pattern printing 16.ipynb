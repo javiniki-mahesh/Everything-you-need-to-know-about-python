{
 "cells": [
  {
   "cell_type": "markdown",
   "id": "c778feb1",
   "metadata": {},
   "source": [
    "# Everything you need to know about python:\n",
    "## In simplest possible way"
   ]
  },
  {
   "cell_type": "markdown",
   "id": "5a6048b7",
   "metadata": {},
   "source": [
    "# Pattern printing - 16"
   ]
  },
  {
   "cell_type": "markdown",
   "id": "74e9e61c",
   "metadata": {},
   "source": [
    "    * * * * * \n",
    "    *       * \n",
    "    *       * \n",
    "    *       * \n",
    "    * * * * * "
   ]
  },
  {
   "cell_type": "code",
   "execution_count": 1,
   "id": "34283620",
   "metadata": {},
   "outputs": [
    {
     "name": "stdout",
     "output_type": "stream",
     "text": [
      "Enter any number: 5\n",
      "* * * * * \n",
      "*       *\n",
      "*       *\n",
      "*       *\n",
      "* * * * * \n"
     ]
    }
   ],
   "source": [
    "rows = int(input('Enter any number: '))\n",
    "\n",
    "for i in range(1, rows + 1):\n",
    "    if i == 1 or i == rows:\n",
    "        print('* ' * rows)\n",
    "    else:\n",
    "        print('*' + ' '*(2*rows-3) + '*')"
   ]
  },
  {
   "cell_type": "markdown",
   "id": "6ee97349",
   "metadata": {},
   "source": [
    "    Exercise for you to solve the below pattern"
   ]
  },
  {
   "cell_type": "markdown",
   "id": "88a0b02a",
   "metadata": {},
   "source": [
    "    *\n",
    "    **\n",
    "    * *\n",
    "    *  *\n",
    "    *****"
   ]
  },
  {
   "cell_type": "markdown",
   "id": "b0297e25",
   "metadata": {},
   "source": [
    "    Finding dificulty to solve ?\n",
    "check out my YouTube channel: https://www.youtube.com/@MaheshJaviniki where you can find the solution and complete python tutorials and tutorials for data science."
   ]
  }
 ],
 "metadata": {
  "kernelspec": {
   "display_name": "Python 3 (ipykernel)",
   "language": "python",
   "name": "python3"
  },
  "language_info": {
   "codemirror_mode": {
    "name": "ipython",
    "version": 3
   },
   "file_extension": ".py",
   "mimetype": "text/x-python",
   "name": "python",
   "nbconvert_exporter": "python",
   "pygments_lexer": "ipython3",
   "version": "3.9.12"
  }
 },
 "nbformat": 4,
 "nbformat_minor": 5
}
