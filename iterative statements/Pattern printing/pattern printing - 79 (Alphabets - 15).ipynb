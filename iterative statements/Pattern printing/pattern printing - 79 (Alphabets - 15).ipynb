{
 "cells": [
  {
   "cell_type": "markdown",
   "id": "9a809e25",
   "metadata": {},
   "source": [
    "# Everything you need to know about python:\n",
    "## In simplest possible way"
   ]
  },
  {
   "cell_type": "markdown",
   "id": "1dc7fa69",
   "metadata": {},
   "source": [
    "# Pattern printing - 79 (Alphabets - 15)"
   ]
  },
  {
   "cell_type": "markdown",
   "id": "052087bb",
   "metadata": {},
   "source": [
    "    A A A A A \n",
    "     B B B B \n",
    "      C C C \n",
    "       D D \n",
    "        E "
   ]
  },
  {
   "cell_type": "code",
   "execution_count": 1,
   "id": "c688719f",
   "metadata": {},
   "outputs": [
    {
     "name": "stdout",
     "output_type": "stream",
     "text": [
      "Enter rows: 5\n",
      "A A A A A \n",
      " B B B B \n",
      "  C C C \n",
      "   D D \n",
      "    E \n"
     ]
    }
   ],
   "source": [
    "rows = int(input('Enter rows: '))\n",
    "spaces = 0\n",
    "alpha = ord('A')\n",
    "for i in range(rows, 0, -1):\n",
    "    print(' '*spaces, end = '')\n",
    "    for j in range(1, i+1):\n",
    "        print(chr(alpha), end = ' ')\n",
    "    alpha += 1\n",
    "    print()\n",
    "    spaces += 1"
   ]
  },
  {
   "cell_type": "markdown",
   "id": "5e9e3b7d",
   "metadata": {},
   "source": [
    "    Exercise for you to solve the below pattern"
   ]
  },
  {
   "cell_type": "markdown",
   "id": "7302b420",
   "metadata": {},
   "source": [
    "    A A A A A \n",
    "      B B B B \n",
    "        C C C \n",
    "          D D \n",
    "            E "
   ]
  },
  {
   "cell_type": "markdown",
   "id": "e0c33297",
   "metadata": {},
   "source": [
    "    Finding dificulty to solve ?\n",
    "check out my YouTube channel: https://www.youtube.com/@MaheshJaviniki where you can find the solution and complete python tutorials and tutorials for data science."
   ]
  }
 ],
 "metadata": {
  "kernelspec": {
   "display_name": "Python 3 (ipykernel)",
   "language": "python",
   "name": "python3"
  },
  "language_info": {
   "codemirror_mode": {
    "name": "ipython",
    "version": 3
   },
   "file_extension": ".py",
   "mimetype": "text/x-python",
   "name": "python",
   "nbconvert_exporter": "python",
   "pygments_lexer": "ipython3",
   "version": "3.9.12"
  }
 },
 "nbformat": 4,
 "nbformat_minor": 5
}
