{
 "cells": [
  {
   "cell_type": "markdown",
   "id": "f6d5f5d9",
   "metadata": {},
   "source": [
    "# Everything you need to know about python:\n",
    "## In simplest possible way"
   ]
  },
  {
   "cell_type": "markdown",
   "id": "73491bf7",
   "metadata": {},
   "source": [
    "# Pattern printing - 40 (Numbers - 16)"
   ]
  },
  {
   "cell_type": "markdown",
   "id": "081bd9e2",
   "metadata": {},
   "source": [
    "    1 2 3 4 5 \n",
    "     1 2 3 4 \n",
    "      1 2 3 \n",
    "       1 2 \n",
    "        1 \n",
    "       1 2 \n",
    "      1 2 3 \n",
    "     1 2 3 4 \n",
    "    1 2 3 4 5 "
   ]
  },
  {
   "cell_type": "code",
   "execution_count": 1,
   "id": "5b81eee9",
   "metadata": {},
   "outputs": [
    {
     "name": "stdout",
     "output_type": "stream",
     "text": [
      "Enter rows: 5\n",
      "1 2 3 4 5 \n",
      " 1 2 3 4 \n",
      "  1 2 3 \n",
      "   1 2 \n",
      "    1 \n",
      "   1 2 \n",
      "  1 2 3 \n",
      " 1 2 3 4 \n",
      "1 2 3 4 5 \n"
     ]
    }
   ],
   "source": [
    "rows = int(input('Enter rows: '))\n",
    "spaces = 0\n",
    "for i in range(rows, 0, -1):\n",
    "    print(' '*spaces, end = '')\n",
    "    for j in range(1, i+1):\n",
    "        print(j, end= ' ')\n",
    "    print()\n",
    "    spaces += 1\n",
    "spaces -= 2\n",
    "for k in range(2, rows+1):\n",
    "    print(' ' * spaces, end = '')\n",
    "    for l in range(1, k+1):\n",
    "        print(l, end = ' ')\n",
    "    print()\n",
    "    spaces -= 1"
   ]
  },
  {
   "cell_type": "markdown",
   "id": "ada473f7",
   "metadata": {},
   "source": [
    "    Exercise for you to solve the below pattern"
   ]
  },
  {
   "cell_type": "markdown",
   "id": "1b8fa2c0",
   "metadata": {},
   "source": [
    "        5 \n",
    "       4 5 \n",
    "      3 4 5 \n",
    "     2 3 4 5 \n",
    "    1 2 3 4 5 "
   ]
  },
  {
   "cell_type": "markdown",
   "id": "dd8ce819",
   "metadata": {},
   "source": [
    "    Finding dificulty to solve ?\n",
    "check out my YouTube channel: https://www.youtube.com/@MaheshJaviniki where you can find the solution and complete python tutorials and tutorials for data science."
   ]
  }
 ],
 "metadata": {
  "kernelspec": {
   "display_name": "Python 3 (ipykernel)",
   "language": "python",
   "name": "python3"
  },
  "language_info": {
   "codemirror_mode": {
    "name": "ipython",
    "version": 3
   },
   "file_extension": ".py",
   "mimetype": "text/x-python",
   "name": "python",
   "nbconvert_exporter": "python",
   "pygments_lexer": "ipython3",
   "version": "3.9.12"
  }
 },
 "nbformat": 4,
 "nbformat_minor": 5
}
