{
 "cells": [
  {
   "cell_type": "markdown",
   "id": "c4f033d5",
   "metadata": {},
   "source": [
    "# Everything you need to know about python:\n",
    "## In simplest possible way"
   ]
  },
  {
   "cell_type": "markdown",
   "id": "190f204b",
   "metadata": {},
   "source": [
    "# Nested while loop"
   ]
  },
  {
   "cell_type": "markdown",
   "id": "8c02af6a",
   "metadata": {},
   "source": [
    "Nested while loops in Python are a construct where one while loop (inner loop) is placed inside another while loop (outer loop). This allows you to perform repetitive tasks with more complexity, where the inner loop runs multiple times for each iteration of the outer loop. Nested while loops are useful for working with multi-dimensional data, handling nested structures like lists of lists, and solving certain types of problems that require examining combinations or permutations.\n",
    "\n",
    "The basic syntax of nested while loops in Python is as follows:\n",
    "\n",
    "```python\n",
    "# Outer loop initialization\n",
    "while outer_condition:\n",
    "    # Outer loop code block\n",
    "    \n",
    "    # Inner loop initialization\n",
    "    while inner_condition:\n",
    "        # Inner loop code block\n",
    "        # Inner loop update\n",
    "        \n",
    "    # Code after the inner loop (still inside the outer loop)\n",
    "    # Outer loop update\n",
    "```\n",
    "\n",
    "Here's a more comprehensive explanation:\n",
    "\n",
    "1. **Outer Loop**: The outer loop is responsible for controlling the overall iterations. It checks the `outer_condition` and executes the inner loop code block for each iteration where the condition evaluates to `True`.\n",
    "\n",
    "2. **Inner Loop**: The inner loop is inside the outer loop and executes its code block as long as the `inner_condition` is `True`. It completes its full cycle for each iteration of the outer loop.\n",
    "\n",
    "3. **Initialization and Update**: Both the outer and inner loops have initialization and update statements. The initialization is executed once at the beginning of the loop, and the update is executed after each iteration of the loop to potentially modify the loop variables and check the loop conditions.\n",
    "\n",
    "\n",
    "Nested while loops can be extended to more than two levels, although they might become harder to read and maintain as the complexity increases. Therefore, it's essential to use them judiciously and consider alternatives if they become overly complex.\n",
    "\n",
    "Keep in mind that nested while loops can potentially lead to infinite loops if the loop conditions are not properly managed. Be sure to include loop termination conditions and update the loop variables correctly to ensure the loops eventually end.\n",
    "\n",
    "Nested while loops are a powerful construct in programming, enabling you to handle complex tasks that involve multi-dimensional data structures and various iterations. However, as with any programming concept, it's essential to use them judiciously and consider the readability, performance, and maintainability of your code."
   ]
  },
  {
   "cell_type": "markdown",
   "id": "1fd2ad63",
   "metadata": {},
   "source": [
    "## Examples"
   ]
  },
  {
   "cell_type": "markdown",
   "id": "f343ef9a",
   "metadata": {},
   "source": [
    "    If we want to print below numbers\n",
    "    1 2 3 .. 10"
   ]
  },
  {
   "cell_type": "code",
   "execution_count": 30,
   "id": "e2a1a666",
   "metadata": {},
   "outputs": [
    {
     "name": "stdout",
     "output_type": "stream",
     "text": [
      "1 2 3 4 5 6 7 8 9 10 "
     ]
    }
   ],
   "source": [
    "initial = 1\n",
    "while initial <= 10:\n",
    "    print(initial, end = ' ')\n",
    "    initial += 1"
   ]
  },
  {
   "cell_type": "markdown",
   "id": "799e88bd",
   "metadata": {},
   "source": [
    "    1 2 3 4 5 6 7 8 9 10\n",
    "    1 2 3 4 5 6 7 8 9 10\n",
    "    1 2 3 4 5 6 7 8 9 10\n",
    "    1 2 3 4 5 6 7 8 9 10\n",
    "    1 2 3 4 5 6 7 8 9 10"
   ]
  },
  {
   "cell_type": "code",
   "execution_count": 35,
   "id": "09338d94",
   "metadata": {},
   "outputs": [
    {
     "name": "stdout",
     "output_type": "stream",
     "text": [
      "1 2 3 4 5 6 7 8 9 10 1\n",
      "1 2 3 4 5 6 7 8 9 10 2\n",
      "1 2 3 4 5 6 7 8 9 10 3\n",
      "1 2 3 4 5 6 7 8 9 10 4\n",
      "1 2 3 4 5 6 7 8 9 10 5\n",
      "6\n"
     ]
    }
   ],
   "source": [
    "outer = 1\n",
    "while outer <= 5:\n",
    "    initial = 1\n",
    "    while initial <= 10:\n",
    "        print(initial, end = ' ')\n",
    "        initial += 1\n",
    "    print(outer) # for each outer value the inner loop executes 10 times\n",
    "    outer += 1\n",
    "print(outer) # atlast the outer value 6 which does not satisfy the condition"
   ]
  },
  {
   "cell_type": "markdown",
   "id": "793fecc1",
   "metadata": {},
   "source": [
    "    If we want to print the multiplication table as like\n",
    "    1 * 1 = 1\n",
    "    .\n",
    "    .\n",
    "    .\n",
    "    10 * 10 = 100"
   ]
  },
  {
   "cell_type": "code",
   "execution_count": 36,
   "id": "0e796ba0",
   "metadata": {
    "scrolled": true
   },
   "outputs": [
    {
     "name": "stdout",
     "output_type": "stream",
     "text": [
      "1 * 1 = 1\n",
      "1 * 2 = 2\n",
      "1 * 3 = 3\n",
      "1 * 4 = 4\n",
      "1 * 5 = 5\n",
      "1 * 6 = 6\n",
      "1 * 7 = 7\n",
      "1 * 8 = 8\n",
      "1 * 9 = 9\n",
      "1 * 10 = 10\n",
      "2 * 1 = 2\n",
      "2 * 2 = 4\n",
      "2 * 3 = 6\n",
      "2 * 4 = 8\n",
      "2 * 5 = 10\n",
      "2 * 6 = 12\n",
      "2 * 7 = 14\n",
      "2 * 8 = 16\n",
      "2 * 9 = 18\n",
      "2 * 10 = 20\n",
      "3 * 1 = 3\n",
      "3 * 2 = 6\n",
      "3 * 3 = 9\n",
      "3 * 4 = 12\n",
      "3 * 5 = 15\n",
      "3 * 6 = 18\n",
      "3 * 7 = 21\n",
      "3 * 8 = 24\n",
      "3 * 9 = 27\n",
      "3 * 10 = 30\n",
      "4 * 1 = 4\n",
      "4 * 2 = 8\n",
      "4 * 3 = 12\n",
      "4 * 4 = 16\n",
      "4 * 5 = 20\n",
      "4 * 6 = 24\n",
      "4 * 7 = 28\n",
      "4 * 8 = 32\n",
      "4 * 9 = 36\n",
      "4 * 10 = 40\n",
      "5 * 1 = 5\n",
      "5 * 2 = 10\n",
      "5 * 3 = 15\n",
      "5 * 4 = 20\n",
      "5 * 5 = 25\n",
      "5 * 6 = 30\n",
      "5 * 7 = 35\n",
      "5 * 8 = 40\n",
      "5 * 9 = 45\n",
      "5 * 10 = 50\n",
      "6 * 1 = 6\n",
      "6 * 2 = 12\n",
      "6 * 3 = 18\n",
      "6 * 4 = 24\n",
      "6 * 5 = 30\n",
      "6 * 6 = 36\n",
      "6 * 7 = 42\n",
      "6 * 8 = 48\n",
      "6 * 9 = 54\n",
      "6 * 10 = 60\n",
      "7 * 1 = 7\n",
      "7 * 2 = 14\n",
      "7 * 3 = 21\n",
      "7 * 4 = 28\n",
      "7 * 5 = 35\n",
      "7 * 6 = 42\n",
      "7 * 7 = 49\n",
      "7 * 8 = 56\n",
      "7 * 9 = 63\n",
      "7 * 10 = 70\n",
      "8 * 1 = 8\n",
      "8 * 2 = 16\n",
      "8 * 3 = 24\n",
      "8 * 4 = 32\n",
      "8 * 5 = 40\n",
      "8 * 6 = 48\n",
      "8 * 7 = 56\n",
      "8 * 8 = 64\n",
      "8 * 9 = 72\n",
      "8 * 10 = 80\n",
      "9 * 1 = 9\n",
      "9 * 2 = 18\n",
      "9 * 3 = 27\n",
      "9 * 4 = 36\n",
      "9 * 5 = 45\n",
      "9 * 6 = 54\n",
      "9 * 7 = 63\n",
      "9 * 8 = 72\n",
      "9 * 9 = 81\n",
      "9 * 10 = 90\n",
      "10 * 1 = 10\n",
      "10 * 2 = 20\n",
      "10 * 3 = 30\n",
      "10 * 4 = 40\n",
      "10 * 5 = 50\n",
      "10 * 6 = 60\n",
      "10 * 7 = 70\n",
      "10 * 8 = 80\n",
      "10 * 9 = 90\n",
      "10 * 10 = 100\n"
     ]
    }
   ],
   "source": [
    "outer = 1\n",
    "while outer <= 10:\n",
    "    inner = 1\n",
    "    while inner <= 10:\n",
    "        print(f'{outer} * {inner} = {outer * inner}')\n",
    "        inner += 1\n",
    "    outer += 1"
   ]
  },
  {
   "cell_type": "markdown",
   "id": "8353883e",
   "metadata": {},
   "source": [
    "If you find this content interesting and for more of this kind of content explore my YTChannel: https://www.youtube.com/@MaheshJaviniki"
   ]
  }
 ],
 "metadata": {
  "kernelspec": {
   "display_name": "Python 3 (ipykernel)",
   "language": "python",
   "name": "python3"
  },
  "language_info": {
   "codemirror_mode": {
    "name": "ipython",
    "version": 3
   },
   "file_extension": ".py",
   "mimetype": "text/x-python",
   "name": "python",
   "nbconvert_exporter": "python",
   "pygments_lexer": "ipython3",
   "version": "3.9.12"
  }
 },
 "nbformat": 4,
 "nbformat_minor": 5
}
