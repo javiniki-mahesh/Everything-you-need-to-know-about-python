{
 "cells": [
  {
   "cell_type": "markdown",
   "id": "406bbe36",
   "metadata": {},
   "source": [
    "# Everything you need to know about python:\n",
    "## In simplest possible way"
   ]
  },
  {
   "cell_type": "markdown",
   "id": "7a9d60c0",
   "metadata": {},
   "source": [
    "# Nested for loop"
   ]
  },
  {
   "cell_type": "markdown",
   "id": "7712eebf",
   "metadata": {},
   "source": [
    "In general whenever we want to execute a block of more number of times we will mention that block in loop,\n",
    "\n",
    "Simillarly when the loop itself repeating more number of times we will that block inside of another loop and that will become nested loop.\n",
    "\n",
    "A loop inside another loop --> nested loop"
   ]
  },
  {
   "cell_type": "markdown",
   "id": "ae56d1cd",
   "metadata": {},
   "source": [
    "Nested loops in Python refer to the concept of having one loop (inner loop) inside another loop (outer loop). This allows you to perform repetitive tasks with more complexity, where the inner loop runs multiple times for each iteration of the outer loop. Nested loops are useful for working with multi-dimensional data, traversing matrices, handling nested structures like lists of lists, and solving certain types of problems that require examining combinations or permutations.\n",
    "\n",
    "### The basic syntax of nested for  loops in Python is as follows:\n",
    "\n",
    "```python\n",
    "for outer_item in outer_sequence:\n",
    "    # Outer loop code block\n",
    "    \n",
    "    for inner_item in inner_sequence:\n",
    "        # Inner loop code block\n",
    "        \n",
    "    # Code after the inner loop (still inside the outer loop)\n",
    "```\n",
    "\n",
    "Here's a more comprehensive explanation:\n",
    "\n",
    "1. **Outer Loop**: The outer loop is responsible for controlling the overall iterations. It takes elements from the outer sequence one by one and executes the inner loop code block for each of those elements.\n",
    "\n",
    "2. **Inner Loop**: The inner loop is inside the outer loop and executes its code block for each element of the inner sequence. It completes its full cycle for each iteration of the outer loop.\n",
    "\n",
    "3. **Indentation**: In Python, indentation plays a crucial role in defining the block scope. The code inside the inner loop must be indented relative to the code inside the outer loop to indicate that it belongs to the inner loop.\n",
    "\n",
    "\n",
    "Keep in mind that nested loops can potentially lead to performance issues, especially for large datasets. In such cases, optimizing the code or considering alternative approaches might be necessary.\n"
   ]
  },
  {
   "cell_type": "markdown",
   "id": "5d83f33f",
   "metadata": {},
   "source": [
    "## Examples"
   ]
  },
  {
   "cell_type": "markdown",
   "id": "4914b263",
   "metadata": {},
   "source": [
    "```python\n",
    "1 2 3 ... 10\n",
    "1 2 3 ... 10\n",
    "1 2 3 ... 10\n",
    "1 2 3 ... 10\n",
    "1 2 3 ... 10\n",
    "```\n",
    "if I want to print the above pattern I will used nested loops like below"
   ]
  },
  {
   "cell_type": "code",
   "execution_count": 21,
   "id": "5e206ca9",
   "metadata": {
    "scrolled": true
   },
   "outputs": [
    {
     "name": "stdout",
     "output_type": "stream",
     "text": [
      "1 2 3 4 5 6 7 8 9 10 1\n",
      "1 2 3 4 5 6 7 8 9 10 2\n",
      "1 2 3 4 5 6 7 8 9 10 3\n",
      "1 2 3 4 5 6 7 8 9 10 4\n",
      "1 2 3 4 5 6 7 8 9 10 5\n",
      "loop is completed\n"
     ]
    }
   ],
   "source": [
    "for outer in range(1,6):\n",
    "    for inner in range(1,11):\n",
    "        print(inner,end = ' ')\n",
    "    print(outer)\n",
    "print('loop is completed')"
   ]
  },
  {
   "cell_type": "code",
   "execution_count": 26,
   "id": "750e697d",
   "metadata": {
    "scrolled": false
   },
   "outputs": [
    {
     "name": "stdout",
     "output_type": "stream",
     "text": [
      "1\n",
      "2\n",
      "3\n",
      "4\n",
      "4\n",
      "5\n"
     ]
    }
   ],
   "source": [
    "l = [[1,2],[3,4],[4,5]] # This is one of the example for multi-dimentional data\n",
    "# To access the actual integer elements in this multi-dimentional data we require nested loops\n",
    "\n",
    "for i in l:\n",
    "    for j in i:\n",
    "        print(j)"
   ]
  },
  {
   "cell_type": "markdown",
   "id": "58ea041e",
   "metadata": {},
   "source": [
    "    Now we will print multiplication table from\n",
    "    1 * 1 = 1\n",
    "    .\n",
    "    .\n",
    "    ..\n",
    "    10 * 10 = 100"
   ]
  },
  {
   "cell_type": "code",
   "execution_count": 27,
   "id": "1bcee32d",
   "metadata": {},
   "outputs": [
    {
     "name": "stdout",
     "output_type": "stream",
     "text": [
      "1 * 1 = 1\n",
      "1 * 2 = 2\n",
      "1 * 3 = 3\n",
      "1 * 4 = 4\n",
      "1 * 5 = 5\n",
      "1 * 6 = 6\n",
      "1 * 7 = 7\n",
      "1 * 8 = 8\n",
      "1 * 9 = 9\n",
      "1 * 10 = 10\n",
      "2 * 1 = 2\n",
      "2 * 2 = 4\n",
      "2 * 3 = 6\n",
      "2 * 4 = 8\n",
      "2 * 5 = 10\n",
      "2 * 6 = 12\n",
      "2 * 7 = 14\n",
      "2 * 8 = 16\n",
      "2 * 9 = 18\n",
      "2 * 10 = 20\n",
      "3 * 1 = 3\n",
      "3 * 2 = 6\n",
      "3 * 3 = 9\n",
      "3 * 4 = 12\n",
      "3 * 5 = 15\n",
      "3 * 6 = 18\n",
      "3 * 7 = 21\n",
      "3 * 8 = 24\n",
      "3 * 9 = 27\n",
      "3 * 10 = 30\n",
      "4 * 1 = 4\n",
      "4 * 2 = 8\n",
      "4 * 3 = 12\n",
      "4 * 4 = 16\n",
      "4 * 5 = 20\n",
      "4 * 6 = 24\n",
      "4 * 7 = 28\n",
      "4 * 8 = 32\n",
      "4 * 9 = 36\n",
      "4 * 10 = 40\n",
      "5 * 1 = 5\n",
      "5 * 2 = 10\n",
      "5 * 3 = 15\n",
      "5 * 4 = 20\n",
      "5 * 5 = 25\n",
      "5 * 6 = 30\n",
      "5 * 7 = 35\n",
      "5 * 8 = 40\n",
      "5 * 9 = 45\n",
      "5 * 10 = 50\n",
      "6 * 1 = 6\n",
      "6 * 2 = 12\n",
      "6 * 3 = 18\n",
      "6 * 4 = 24\n",
      "6 * 5 = 30\n",
      "6 * 6 = 36\n",
      "6 * 7 = 42\n",
      "6 * 8 = 48\n",
      "6 * 9 = 54\n",
      "6 * 10 = 60\n",
      "7 * 1 = 7\n",
      "7 * 2 = 14\n",
      "7 * 3 = 21\n",
      "7 * 4 = 28\n",
      "7 * 5 = 35\n",
      "7 * 6 = 42\n",
      "7 * 7 = 49\n",
      "7 * 8 = 56\n",
      "7 * 9 = 63\n",
      "7 * 10 = 70\n",
      "8 * 1 = 8\n",
      "8 * 2 = 16\n",
      "8 * 3 = 24\n",
      "8 * 4 = 32\n",
      "8 * 5 = 40\n",
      "8 * 6 = 48\n",
      "8 * 7 = 56\n",
      "8 * 8 = 64\n",
      "8 * 9 = 72\n",
      "8 * 10 = 80\n",
      "9 * 1 = 9\n",
      "9 * 2 = 18\n",
      "9 * 3 = 27\n",
      "9 * 4 = 36\n",
      "9 * 5 = 45\n",
      "9 * 6 = 54\n",
      "9 * 7 = 63\n",
      "9 * 8 = 72\n",
      "9 * 9 = 81\n",
      "9 * 10 = 90\n",
      "10 * 1 = 10\n",
      "10 * 2 = 20\n",
      "10 * 3 = 30\n",
      "10 * 4 = 40\n",
      "10 * 5 = 50\n",
      "10 * 6 = 60\n",
      "10 * 7 = 70\n",
      "10 * 8 = 80\n",
      "10 * 9 = 90\n",
      "10 * 10 = 100\n"
     ]
    }
   ],
   "source": [
    "for i in range(1,11):\n",
    "    for j in range(1,11):\n",
    "        print(f'{i} * {j} = {i*j}')"
   ]
  },
  {
   "cell_type": "markdown",
   "id": "ead60a33",
   "metadata": {},
   "source": [
    "If you find this content interesting and for more of this kind of content explore my YTChannel: https://www.youtube.com/@MaheshJaviniki"
   ]
  },
  {
   "cell_type": "code",
   "execution_count": null,
   "id": "76dfc7ef",
   "metadata": {},
   "outputs": [],
   "source": []
  }
 ],
 "metadata": {
  "kernelspec": {
   "display_name": "Python 3 (ipykernel)",
   "language": "python",
   "name": "python3"
  },
  "language_info": {
   "codemirror_mode": {
    "name": "ipython",
    "version": 3
   },
   "file_extension": ".py",
   "mimetype": "text/x-python",
   "name": "python",
   "nbconvert_exporter": "python",
   "pygments_lexer": "ipython3",
   "version": "3.9.12"
  }
 },
 "nbformat": 4,
 "nbformat_minor": 5
}
