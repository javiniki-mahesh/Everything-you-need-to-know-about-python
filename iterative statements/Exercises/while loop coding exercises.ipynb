{
 "cells": [
  {
   "cell_type": "markdown",
   "id": "0c8545f8",
   "metadata": {},
   "source": [
    "# Everything you need to know about python:\n",
    "## In simplest possible way"
   ]
  },
  {
   "cell_type": "markdown",
   "id": "4bae101f",
   "metadata": {},
   "source": [
    "# while loop coding exercise"
   ]
  },
  {
   "cell_type": "markdown",
   "id": "0ef0f7c0",
   "metadata": {},
   "source": [
    "# 1. Implementing a simple countdown timer."
   ]
  },
  {
   "cell_type": "markdown",
   "id": "7e96f82c",
   "metadata": {},
   "source": [
    "Problem Statement: Implementing a simple countdown timer using while loop.\n",
    "\n",
    "Write a Python program to create a countdown timer. Prompt the user to input the countdown time in seconds. The program should then use a \"while\" loop to count down from the given time and display each remaining second on the screen. It should pause for one second between each countdown using the `sleep()` function from the `time` module. Finally, display \"STOP\" after the countdown reaches zero.\n",
    "\n",
    "Description:\n",
    "1. Prompt the user to input the countdown time in seconds.\n",
    "2. Initialize a variable `countdown` with the user input value to keep track of the remaining time.\n",
    "3. Option: While Loop Approach\n",
    "   - Use a \"while\" loop with the condition `countdown > 0` to execute the countdown.\n",
    "   - Inside the loop, print the current value of `countdown` to display the remaining seconds.\n",
    "   - Pause the program for one second using the `sleep(1)` function from the `time` module to create the countdown effect.\n",
    "   - Decrement the value of `countdown` by 1 in each iteration to update the remaining time.\n",
    "   - Continue with the next iteration of the loop until the value of `countdown` reaches zero.\n",
    "   - After the loop finishes, display \"STOP\" to indicate the end of the countdown.\n",
    "  \n",
    "Sample Input 1:\n",
    "```\n",
    "Enter countdown: 5\n",
    "```\n",
    "Sample Output 1:\n",
    "```\n",
    "5\n",
    "4\n",
    "3\n",
    "2\n",
    "1\n",
    "STOP\n",
    "```\n",
    "\n",
    "Sample Input 2:\n",
    "```\n",
    "Enter countdown: 10\n",
    "```\n",
    "Sample Output 2:\n",
    "```\n",
    "10\n",
    "9\n",
    "8\n",
    "7\n",
    "6\n",
    "5\n",
    "4\n",
    "3\n",
    "2\n",
    "1\n",
    "STOP\n",
    "```\n"
   ]
  },
  {
   "cell_type": "code",
   "execution_count": 4,
   "id": "32ad5f3c",
   "metadata": {},
   "outputs": [
    {
     "name": "stdout",
     "output_type": "stream",
     "text": [
      "Enter countdown: 10\n",
      "10\n",
      "9\n",
      "8\n",
      "7\n",
      "6\n",
      "5\n",
      "4\n",
      "3\n",
      "2\n",
      "1\n",
      "STOP\n"
     ]
    }
   ],
   "source": [
    "from time import sleep\n",
    "\n",
    "countdown = int(input('Enter countdown: '))\n",
    "\n",
    "while countdown > 0:\n",
    "    print(countdown)\n",
    "    sleep(1)\n",
    "    countdown -= 1\n",
    "print('STOP')"
   ]
  },
  {
   "cell_type": "markdown",
   "id": "32940a2d",
   "metadata": {},
   "source": [
    "# 2. Calculating the sum of digits of a given number."
   ]
  },
  {
   "cell_type": "markdown",
   "id": "9630ecb8",
   "metadata": {},
   "source": [
    "Problem Statement: Calculating the sum of digits of a given number using while loop.\n",
    "\n",
    "Write a Python program to calculate the sum of digits in a given positive integer. Prompt the user to input a number. The program should then use a \"while\" loop to extract each digit from the number and add them together to find the sum. Finally, display the sum of digits found in the given number.\n",
    "\n",
    "Description:\n",
    "1. Prompt the user to input a positive integer as the number for which the sum of digits will be calculated.\n",
    "2. Initialize a variable `addition` with the value 0 to store the sum of digits in the number.\n",
    "3. Option: While Loop Approach\n",
    "   - Use a \"while\" loop with the condition `number > 0` to extract digits from the given number.\n",
    "   - Inside the loop, extract the last digit of the number using the operation `number % 10`. This will give us the rightmost digit of the number.\n",
    "   - Add the extracted digit to the current sum `addition`.\n",
    "   - Reduce the number by removing its last digit using the operation `number //= 10`. This will effectively truncate the last digit from the number.\n",
    "   - Continue with the next iteration of the loop until all digits in the number are processed.\n",
    "   - After the loop finishes, `addition` will hold the sum of digits in the given number.\n",
    "\n",
    "\n",
    "\n",
    "Sample Input 1:\n",
    "```\n",
    "Enter a number: 12345\n",
    "```\n",
    "Sample Output 1:\n",
    "```\n",
    "15\n",
    "```\n",
    "\n",
    "Sample Input 2:\n",
    "```\n",
    "Enter a number: 9876\n",
    "```\n",
    "Sample Output 2:\n",
    "```\n",
    "30\n",
    "```\n"
   ]
  },
  {
   "cell_type": "code",
   "execution_count": 13,
   "id": "31f336e8",
   "metadata": {},
   "outputs": [
    {
     "name": "stdout",
     "output_type": "stream",
     "text": [
      "Enter a number : 456\n",
      "15\n"
     ]
    }
   ],
   "source": [
    "number = int(input('Enter a number : '))  \n",
    "addition = 0\n",
    "\n",
    "while number > 0:\n",
    "    digit = number % 10\n",
    "    addition += digit\n",
    "    number //=10\n",
    "print(addition)"
   ]
  },
  {
   "cell_type": "markdown",
   "id": "75b276f9",
   "metadata": {},
   "source": [
    "# 3. Reversing the digits of a given number."
   ]
  },
  {
   "cell_type": "markdown",
   "id": "00cf61a6",
   "metadata": {},
   "source": [
    "Problem Statement: Reversing the Digits of a Number using While Loop\n",
    "\n",
    "Write a Python program to reverse the digits of a given positive integer. Prompt the user to input a number. The program should then use a \"while\" loop to extract each digit from the number in reverse order and concatenate them together to form the reversed number. Finally, display the reversed number obtained from the given input.\n",
    "\n",
    "Description:\n",
    "1. Prompt the user to input a positive integer as the number to be reversed.\n",
    "2. Initialize a variable `reverse` with the value 0 to store the reversed number.\n",
    "3. Option: While Loop Approach\n",
    "   - Use a \"while\" loop with the condition `number > 0` to extract digits from the given number.\n",
    "   - Inside the loop, extract the last digit of the number using the operation `number % 10`. This will give us the rightmost digit of the number.\n",
    "   - Update the `reverse` variable by multiplying it by 10 and then adding the extracted digit. This will effectively reverse the digits of the number and form the reversed number.\n",
    "   - Reduce the number by removing its last digit using the operation `number //= 10`. This will effectively truncate the last digit from the number.\n",
    "   - Continue with the next iteration of the loop until all digits in the number are processed.\n",
    "   - After the loop finishes, `reverse` will hold the reversed number.\n",
    "\n",
    "Sample Input 1:\n",
    "```\n",
    "Enter the number: 12345\n",
    "```\n",
    "Sample Output 1:\n",
    "```\n",
    "54321\n",
    "```\n",
    "\n",
    "Sample Input 2:\n",
    "```\n",
    "Enter the number: 9876543210\n",
    "```\n",
    "Sample Output 2:\n",
    "```\n",
    "123456789\n",
    "```\n"
   ]
  },
  {
   "cell_type": "code",
   "execution_count": 18,
   "id": "300327f5",
   "metadata": {},
   "outputs": [
    {
     "name": "stdout",
     "output_type": "stream",
     "text": [
      "Enter the number: 1357\n",
      "7531\n"
     ]
    }
   ],
   "source": [
    "number = int(input('Enter the number: '))\n",
    "reverse = 0\n",
    "\n",
    "while number > 0:\n",
    "    digit = number % 10\n",
    "    reverse = reverse * 10 + digit\n",
    "    number //= 10\n",
    "print(reverse)"
   ]
  },
  {
   "cell_type": "markdown",
   "id": "8541a2e4",
   "metadata": {},
   "source": [
    "If you find this content interesting and for more of this kind of content explore my YTChannel: https://www.youtube.com/@MaheshJaviniki"
   ]
  },
  {
   "cell_type": "code",
   "execution_count": null,
   "id": "78b17f7e",
   "metadata": {},
   "outputs": [],
   "source": []
  }
 ],
 "metadata": {
  "kernelspec": {
   "display_name": "Python 3 (ipykernel)",
   "language": "python",
   "name": "python3"
  },
  "language_info": {
   "codemirror_mode": {
    "name": "ipython",
    "version": 3
   },
   "file_extension": ".py",
   "mimetype": "text/x-python",
   "name": "python",
   "nbconvert_exporter": "python",
   "pygments_lexer": "ipython3",
   "version": "3.9.12"
  }
 },
 "nbformat": 4,
 "nbformat_minor": 5
}
