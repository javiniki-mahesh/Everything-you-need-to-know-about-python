{
 "cells": [
  {
   "cell_type": "markdown",
   "id": "eb2a6a50",
   "metadata": {},
   "source": [
    "# Everything you need to know about python:\n",
    "## In simplest possible way"
   ]
  },
  {
   "cell_type": "markdown",
   "id": "2b8db936",
   "metadata": {},
   "source": [
    "# for loop coding exercise"
   ]
  },
  {
   "cell_type": "markdown",
   "id": "562108f0",
   "metadata": {},
   "source": [
    "## 1.Average marks of a student"
   ]
  },
  {
   "cell_type": "markdown",
   "id": "ca31976d",
   "metadata": {},
   "source": [
    "Problem Statement: Calculating the Average Marks using For Loop\n",
    "\n",
    "Write a Python program to calculate the average marks from a list of exam scores. Prompt the user to input the marks separated by commas. The program should then use a \"for\" loop to iterate through the list of marks, sum them, and calculate the average. Finally, display the average marks obtained from the given input.\n",
    "\n",
    "Description:\n",
    "1. Prompt the user to input the marks for each student separated by commas.\n",
    "2. Convert the input string into a list of integers using the `map()` function and `split()` method.\n",
    "3. Initialize a variable `addition` with the value 0 to store the sum of all marks in the list.\n",
    "4. Option: For Loop Approach\n",
    "   - Use a \"for\" loop to iterate through each element `marks` in the list of marks.\n",
    "   - Inside the loop, add the current `marks` to the current sum `addition`.\n",
    "   - Continue with the next iteration of the loop until all marks in the list are processed.\n",
    "   - After the loop finishes, `addition` will hold the sum of all marks.\n",
    "\n",
    "5. Calculate the average by dividing the sum (`addition`) by the number of elements in the list (length of the list of marks).\n",
    "6. Display the average marks as the output.\n",
    "\n",
    "\n",
    "\n",
    "Sample Input 1:\n",
    "```\n",
    "Enter the marks separated by comma(,): 80,70,90,85,75\n",
    "```\n",
    "Sample Output 1:\n",
    "```\n",
    "80.0\n",
    "```\n",
    "\n",
    "Sample Input 2:\n",
    "```\n",
    "Enter the marks separated by comma(,): 95,88,78,92,85,90\n",
    "```\n",
    "Sample Output 2:\n",
    "```\n",
    "88.0\n",
    "```"
   ]
  },
  {
   "cell_type": "code",
   "execution_count": 6,
   "id": "1addbbdd",
   "metadata": {},
   "outputs": [
    {
     "name": "stdout",
     "output_type": "stream",
     "text": [
      "Enter the marks seperated by comma(,): 4,3,5\n",
      "4.0\n"
     ]
    }
   ],
   "source": [
    "list_marks = list(map(int, input('Enter the marks seperated by comma(,): ').split(',')))\n",
    "\n",
    "addition = 0\n",
    "\n",
    "for marks in list_marks:\n",
    "    addition += marks\n",
    "average = addition / len(list_marks)\n",
    "print(average)"
   ]
  },
  {
   "cell_type": "markdown",
   "id": "bdc6b21d",
   "metadata": {},
   "source": [
    "## 2.Printing the characters of a string in reverse order"
   ]
  },
  {
   "cell_type": "markdown",
   "id": "cc14c042",
   "metadata": {},
   "source": [
    "Problem Statement: Reversing a String using For Loop\n",
    "\n",
    "Write a Python program to reverse a given string. Prompt the user to input a string. The program should then use a \"for\" loop to iterate through each character of the string and construct the reversed string. Finally, display the reversed string obtained from the given input.\n",
    "\n",
    "Description:\n",
    "1. Prompt the user to input a string that needs to be reversed.\n",
    "2. Initialize a variable `rev` with an empty string to store the reversed string.\n",
    "3. Option: For Loop Approach\n",
    "   - Use a \"for\" loop to iterate through each character `char` in the input string.\n",
    "   - Inside the loop, prepend the current `char` to the existing value of `rev`. This will effectively reverse the characters in the string.\n",
    "   - Continue with the next iteration of the loop until all characters in the input string are processed.\n",
    "   - After the loop finishes, `rev` will hold the reversed string.\n",
    "\n",
    "4. Display the reversed string `rev` as the output.\n",
    "\n",
    "\n",
    "Sample Input 1:\n",
    "```\n",
    "Enter the string to reverse: Hello\n",
    "```\n",
    "Sample Output 1:\n",
    "```\n",
    "olleH\n",
    "```\n",
    "\n",
    "Sample Input 2:\n",
    "```\n",
    "Enter the string to reverse: Python\n",
    "```\n",
    "Sample Output 2:\n",
    "```\n",
    "nohtyP\n",
    "```\n"
   ]
  },
  {
   "cell_type": "code",
   "execution_count": 8,
   "id": "99f6f8dd",
   "metadata": {},
   "outputs": [
    {
     "name": "stdout",
     "output_type": "stream",
     "text": [
      "Enter the string to reverse: welcome to my channel\n",
      "lennahc ym ot emoclew\n"
     ]
    }
   ],
   "source": [
    "string = input('Enter the string to reverse: ')\n",
    "rev = ''\n",
    "\n",
    "for char in string:\n",
    "    rev = char + rev\n",
    "print(rev)"
   ]
  },
  {
   "cell_type": "markdown",
   "id": "d6d374cb",
   "metadata": {},
   "source": [
    "## 3. Creating a list of even numbers between user input values"
   ]
  },
  {
   "cell_type": "markdown",
   "id": "99294617",
   "metadata": {},
   "source": [
    "Problem Statement: Generating List of Even Numbers using For Loop\n",
    "\n",
    "Write a Python program to generate a list of even numbers within a given range. Prompt the user to input the start and stop values for the range. The program should then use a \"for\" loop to iterate through the range and identify all even numbers. Finally, display the list of even numbers obtained from the given range.\n",
    "\n",
    "Description:\n",
    "1. Prompt the user to input the start value (`start`) and stop value (`stop`) for the range.\n",
    "2. Initialize an empty list `even_list` to store the even numbers within the range.\n",
    "3. Option: For Loop Approach\n",
    "   - Use a \"for\" loop with the range `range(start, stop+1)` to iterate through the range of numbers.\n",
    "   - Inside the loop, check if the current number (`value`) is even by using the condition `value % 2 == 0`.\n",
    "   - If the current number is even, append it to the list `even_list`.\n",
    "   - Continue with the next iteration of the loop until all numbers in the range are processed.\n",
    "   - After the loop finishes, `even_list` will hold all the even numbers within the given range.\n",
    "\n",
    "4. Display the list `even_list` as the output.\n",
    "\n",
    "\n",
    "Sample Input 1:\n",
    "```\n",
    "Enter start value: 1\n",
    "Enter stop value: 10\n",
    "```\n",
    "Sample Output 1:\n",
    "```\n",
    "[2, 4, 6, 8, 10]\n",
    "```\n",
    "\n",
    "Sample Input 2:\n",
    "```\n",
    "Enter start value: 20\n",
    "Enter stop value: 30\n",
    "```\n",
    "Sample Output 2:\n",
    "```\n",
    "[20, 22, 24, 26, 28, 30]\n",
    "```\n"
   ]
  },
  {
   "cell_type": "code",
   "execution_count": 12,
   "id": "49ef03f7",
   "metadata": {
    "scrolled": true
   },
   "outputs": [
    {
     "name": "stdout",
     "output_type": "stream",
     "text": [
      "Enter start value: 2\n",
      "Enter stop value: 24\n",
      "[2, 4, 6, 8, 10, 12, 14, 16, 18, 20, 22, 24]\n"
     ]
    }
   ],
   "source": [
    "start = int(input('Enter start value: '))\n",
    "stop = int(input('Enter stop value: '))\n",
    "\n",
    "even_list = []\n",
    "for value in range(start, stop+1):\n",
    "    if value % 2 == 0:\n",
    "        even_list.append(value)\n",
    "print(even_list)"
   ]
  },
  {
   "cell_type": "markdown",
   "id": "f749c42e",
   "metadata": {},
   "source": [
    "If you find this content interesting and for more of this kind of content explore my YTChannel: https://www.youtube.com/@MaheshJaviniki"
   ]
  },
  {
   "cell_type": "code",
   "execution_count": null,
   "id": "9f740743",
   "metadata": {},
   "outputs": [],
   "source": []
  }
 ],
 "metadata": {
  "kernelspec": {
   "display_name": "Python 3 (ipykernel)",
   "language": "python",
   "name": "python3"
  },
  "language_info": {
   "codemirror_mode": {
    "name": "ipython",
    "version": 3
   },
   "file_extension": ".py",
   "mimetype": "text/x-python",
   "name": "python",
   "nbconvert_exporter": "python",
   "pygments_lexer": "ipython3",
   "version": "3.9.12"
  }
 },
 "nbformat": 4,
 "nbformat_minor": 5
}
