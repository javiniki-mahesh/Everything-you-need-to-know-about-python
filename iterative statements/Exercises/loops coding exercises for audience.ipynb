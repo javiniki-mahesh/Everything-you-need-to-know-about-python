{
 "cells": [
  {
   "cell_type": "markdown",
   "id": "088accda",
   "metadata": {},
   "source": [
    "# Everything you need to know about python:\n",
    "## In simplest possible way"
   ]
  },
  {
   "cell_type": "markdown",
   "id": "39396b62",
   "metadata": {},
   "source": [
    "# Exercises for you (Sovle using while & for loops)"
   ]
  },
  {
   "cell_type": "markdown",
   "id": "30aeedb1",
   "metadata": {},
   "source": [
    "# 1. Counting no.of vowels in a string\n",
    "\n",
    "Problem Statement:Counting no.of vowels in a string using for loop or while loop\n",
    "\n",
    "Write a Python program to count the number of vowels in a given text using either a \"for\" loop or a \"while\" loop, or both if desired. Prompt the user to enter a text string. The program should then use the chosen loop approach(es) to iterate through each character in the string. For each character, the program should check if it is a vowel (regardless of the case) and increment the count if it is. Additionally, the program should print each vowel found in the text, along with the total count of vowels.\n",
    "\n",
    "Description:\n",
    "1. Prompt the user to input a text string using the `input()` function and store it in a variable called `user_input`.\n",
    "\n",
    "2. Initialize a variable `vowels` with the string `'aeiou'`. This string contains all lowercase vowels, and we'll use it to check if a character is a vowel.\n",
    "\n",
    "3. (Option 1: For Loop Approach)\n",
    "   - Initialize a variable `count_for` with 0 to keep track of the number of vowels found using the \"for\" loop.\n",
    "   - Use a \"for\" loop to iterate through each character `char` in `user_input`.\n",
    "   - Convert the character to lowercase using `char.lower()` to handle both uppercase and lowercase vowels.\n",
    "   - Use an \"if\" statement to check if the lowercase character is in the `vowels` string. If it is, then it is a vowel, and we increment the `count_for` variable by 1.\n",
    "   - Optionally, print the vowel found in the string using `print(\"The vowel is:\", char)`.\n",
    "   - Continue with the next iteration of the loop.\n",
    "   - After the loop finishes, print the total count of vowels found in the given text using `print(\"Total number of vowels using for loop:\", count_for)`.\n",
    "\n",
    "4. (Option 2: While Loop Approach)\n",
    "   - Initialize a variable `count_while` with 0 to keep track of the number of vowels found using the \"while\" loop.\n",
    "   - Initialize a variable `index` with 0. This variable will keep track of the current index in the `user_input` while iterating through it.\n",
    "   - Initialize a variable `length` with the length of the `user_input` using the `len()` function. This will help us know where to stop incrementing the index.\n",
    "   - Use a \"while\" loop with the condition `index < length`. This ensures that we only loop through the characters of the string.\n",
    "   - Inside the loop, access the character at the current index using `user_input[index]`.\n",
    "   - Convert the character to lowercase using `user_input[index].lower()` to handle both uppercase and lowercase vowels.\n",
    "   - Use an \"if\" statement to check if the lowercase character is in the `vowels` string. If it is, then it is a vowel, and we increment the `count_while` variable by 1.\n",
    "   - Optionally, print the vowel found in the string using `print(\"The vowel is:\", user_input[index])`.\n",
    "   - Increment the `index` by 1 to move to the next character in the string.\n",
    "   - Continue with the next iteration of the loop.\n",
    "   - After the loop finishes, print the total count of vowels found in the given text using `print(\"Total number of vowels using while loop:\", count_while)`.\n",
    "\n",
    "5. (Option 3: Both Loops)\n",
    "   - Follow steps 3 and 4 for both the \"for\" loop and the \"while\" loop to calculate and print the total count of vowels using both approaches.\n",
    "\n"
   ]
  },
  {
   "cell_type": "code",
   "execution_count": 1,
   "id": "ab6331ef",
   "metadata": {},
   "outputs": [
    {
     "name": "stdout",
     "output_type": "stream",
     "text": [
      "Enter text to find no.of vowels: Good Evening\n",
      "The vowel is:  o\n",
      "The vowel is:  o\n",
      "The vowel is:  E\n",
      "The vowel is:  e\n",
      "The vowel is:  i\n",
      "Total number of vowels are:  5\n"
     ]
    }
   ],
   "source": [
    "# using for loop\n",
    "user_input = input('Enter text to find no.of vowels: ')\n",
    "vowels = 'aeiou'\n",
    "count_for = 0\n",
    "for char in user_input:\n",
    "    if char.lower() in vowels:\n",
    "        print(\"The vowel is: \",char)\n",
    "        count_for += 1\n",
    "print(\"Total number of vowels are: \",count_for)"
   ]
  },
  {
   "cell_type": "code",
   "execution_count": 3,
   "id": "488a1353",
   "metadata": {},
   "outputs": [
    {
     "name": "stdout",
     "output_type": "stream",
     "text": [
      "Enter text to find no.of vowels: Good Afternoon\n",
      "The vowel is:  o\n",
      "The vowel is:  o\n",
      "The vowel is:  A\n",
      "The vowel is:  e\n",
      "The vowel is:  o\n",
      "The vowel is:  o\n",
      "Total number of vowels are:  6\n"
     ]
    }
   ],
   "source": [
    "# using while loop\n",
    "user_input = input('Enter text to find no.of vowels: ')\n",
    "vowels = 'aeiou'\n",
    "\n",
    "index = 0 # to iterate though user_input\n",
    "length = len(user_input) # to know where to stop incrementing the index\n",
    "count_while = 0 \n",
    "\n",
    "while index < length:\n",
    "    if user_input[index].lower() in vowels:\n",
    "        print(\"The vowel is: \",user_input[index])\n",
    "        count_while += 1\n",
    "    index += 1\n",
    "print(\"Total number of vowels are: \",count_while)"
   ]
  },
  {
   "cell_type": "markdown",
   "id": "5bd5e066",
   "metadata": {},
   "source": [
    "# 2. Finding the largest element in a list.\n",
    "\n",
    "Problem Statement: Finding the largest element in a list using for loop or while loop\n",
    "\n",
    "Write a Python program to find the largest number in a list of integers. Prompt the user to enter the numbers separated by commas. The program should then use either a \"for\" loop, a \"while\" loop, or both to iterate through the list and determine the largest number. Finally, display the largest number found in the list.\n",
    "\n",
    "Description:\n",
    "1. Prompt the user to input a list of integers separated by commas.\n",
    "2. Convert the input string into a list of integers.\n",
    "3. (Option 1: For Loop Approach)\n",
    "   - Initialize a variable `largest_for` with the first number from the list (`numbers[0]`).\n",
    "   - Use a \"for\" loop to iterate through each number `num` in the list.\n",
    "   - Inside the loop, compare the current number `num` with the current largest value `largest_for`.\n",
    "   - If `num` is greater than `largest_for`, update the value of `largest_for` to `num`.\n",
    "   - Continue with the next iteration of the loop.\n",
    "   - After the loop finishes, `largest_for` will hold the largest number found in the list using the \"for\" loop approach.\n",
    "\n",
    "4. (Option 2: While Loop Approach)\n",
    "   - Initialize a variable `largest_while` with the first number from the list (`numbers[0]`).\n",
    "   - Initialize a variable `index` with 0 to keep track of the current index in the list.\n",
    "   - Initialize a variable `length` with the length of the list using the `len()` function. This will help us know where to stop iterating.\n",
    "   - Use a \"while\" loop with the condition `index < length` to iterate through the list.\n",
    "   - Inside the loop, access the number at the current index using `numbers[index]`.\n",
    "   - Compare the current number with the current largest value `largest_while`.\n",
    "   - If the current number is greater than `largest_while`, update the value of `largest_while` to the current number.\n",
    "   - Increment the `index` by 1 to move to the next element in the list.\n",
    "   - Continue with the next iteration of the loop.\n",
    "   - After the loop finishes, `largest_while` will hold the largest number found in the list using the \"while\" loop approach.\n",
    "\n",
    "5. (Option 3: Both Loops)\n",
    "   - Follow steps 3 and 4 for both the \"for\" loop and the \"while\" loop to calculate and display the largest number using both approaches.\n"
   ]
  },
  {
   "cell_type": "code",
   "execution_count": 4,
   "id": "bc6ccfcb",
   "metadata": {},
   "outputs": [
    {
     "name": "stdout",
     "output_type": "stream",
     "text": [
      "Enter numbers seperated by comma(,): 3, 4, 11, 34, 23\n",
      "The largest number is:  34\n"
     ]
    }
   ],
   "source": [
    "# using for loop\n",
    "numbers = list(map(int, input('Enter numbers seperated by comma(,): ').split(',')))\n",
    "largest_for = numbers[0]\n",
    "\n",
    "for num in numbers:\n",
    "    if num > largest_for:\n",
    "        largest_for = num\n",
    "print(\"The largest number is: \",largest_for)"
   ]
  },
  {
   "cell_type": "code",
   "execution_count": 5,
   "id": "811f1d07",
   "metadata": {},
   "outputs": [
    {
     "name": "stdout",
     "output_type": "stream",
     "text": [
      "Enter numbers seperated by comma(,): 6, 44, 32, 75, 980, 23, 232, 2324\n",
      "The largest value is:  2324\n"
     ]
    }
   ],
   "source": [
    "# using while loop\n",
    "numbers = list(map(int, input('Enter numbers seperated by comma(,): ').split(',')))\n",
    "largest_while = numbers[0]\n",
    "\n",
    "index = 0 # index to iterate through numbers list\n",
    "length = len(numbers) # to know where to stop iterating \n",
    "\n",
    "while index < length:\n",
    "    if numbers[index] > largest_while:\n",
    "        largest_while = numbers[index]\n",
    "    index += 1\n",
    "print(\"The largest value is: \",largest_while)\n"
   ]
  },
  {
   "cell_type": "markdown",
   "id": "40406904",
   "metadata": {},
   "source": [
    "# 3. Finding the sum of element in a list of numbers.\n",
    "\n",
    "Problem Statement:Finding the sum of element in a list of numbers using For Loop or While Loop\n",
    "\n",
    "Write a Python program to calculate the sum of numbers in a list of integers. Prompt the user to enter a list of numbers separated by commas. The program should then provide the option for the programmer to choose between using a \"for\" loop or a \"while\" loop, or both, to iterate through the list and calculate the sum. Finally, display the sum of all the numbers in the list based on the chosen loop approach.\n",
    "\n",
    "Description:\n",
    "1. Prompt the user to input a list of numbers separated by commas.\n",
    "2. Convert the input string into a list of integers.\n",
    "3. (Option 1: For Loop Approach)\n",
    "   - Initialize a variable `addition_for` with 0 to store the sum of the numbers using the \"for\" loop approach.\n",
    "   - Use a \"for\" loop to iterate through each number `num` in the list.\n",
    "   - Inside the loop, add the current number `num` to the current sum `addition_for`.\n",
    "   - Continue with the next iteration of the loop.\n",
    "   - After the loop finishes, `addition_for` will hold the sum of all the numbers in the list using the \"for\" loop approach.\n",
    "   - Finally the result should be printed as \"The sum of all numbers in the list is: addition_for\"\n",
    "\n",
    "4. (Option 2: While Loop Approach)\n",
    "   - Initialize a variable `addition_while` with 0 to store the sum of the numbers using the \"while\" loop approach.\n",
    "   - Initialize a variable `index` with 0 to keep track of the current index in the list.\n",
    "   - Initialize a variable `length` with the length of the list using the `len()` function. This will help us know where to stop iterating.\n",
    "   - Use a \"while\" loop with the condition `index < length` to iterate through the list.\n",
    "   - Inside the loop, access the number at the current index using `numbers[index]`.\n",
    "   - Add the current number to the current sum `addition_while`.\n",
    "   - Increment the `index` by 1 to move to the next element in the list.\n",
    "   - Continue with the next iteration of the loop.\n",
    "   - After the loop finishes, `addition_while` will hold the sum of all the numbers in the list using the \"while\" loop approach.\n",
    "   - Finally the result should be printed as \"The sum of all numbers in the list is: addition_while\"\n",
    "\n",
    "5. (Option 3: Both Loops)\n",
    "   - Follow steps 3 and 4 for both the \"for\" loop and the \"while\" loop to calculate and display the sum of the numbers using both approaches.\n"
   ]
  },
  {
   "cell_type": "code",
   "execution_count": 6,
   "id": "4980ea36",
   "metadata": {},
   "outputs": [
    {
     "name": "stdout",
     "output_type": "stream",
     "text": [
      "Enter numbers seperated by comma(,): 2, 4, 5\n",
      "The sum of all numbers in the list is:  11\n"
     ]
    }
   ],
   "source": [
    "# Using for loop\n",
    "numbers = list(map(int, input('Enter numbers seperated by comma(,): ').split(',')))\n",
    "addition_for = 0\n",
    "\n",
    "for num in numbers:\n",
    "    addition_for += num\n",
    "print(\"The sum of all numbers in the list is: \",addition_for)"
   ]
  },
  {
   "cell_type": "code",
   "execution_count": 7,
   "id": "09a41f83",
   "metadata": {},
   "outputs": [
    {
     "name": "stdout",
     "output_type": "stream",
     "text": [
      "Enter numbers seperated by comma(,): 1,2,3,4,5,4,3,2,1\n",
      "The sum of all the numbers in the list is:  25\n"
     ]
    }
   ],
   "source": [
    "# Using while loop\n",
    "numbers = list(map(int, input('Enter numbers seperated by comma(,): ').split(',')))\n",
    "addition_while = 0\n",
    "\n",
    "index = 0 # index to iterate through numbers list\n",
    "length = len(numbers) # to know where to stop iterating \n",
    "\n",
    "while index < length:\n",
    "    addition_while += numbers[index]\n",
    "    index += 1\n",
    "print(\"The sum of all the numbers in the list is: \",addition_while)"
   ]
  },
  {
   "cell_type": "markdown",
   "id": "6b58370e",
   "metadata": {},
   "source": [
    "# 4. Calculating Factorial of a Number\n",
    "\n",
    "Problem Statement: Calculating Factorial of a Number using For Loop or While Loop\n",
    "\n",
    "Write a Python program to calculate the factorial of a given positive integer. Prompt the user to enter a number. The program should then provide the option for the programmer to choose between using a \"for\" loop or a \"while\" loop, or both, to calculate the factorial. Finally, display the factorial of the given number based on the chosen loop approach.\n",
    "\n",
    "Description:\n",
    "1. Prompt the user to input a positive integer as the number for which the factorial will be calculated.\n",
    "2. Initialize a variable `fact` with the value 1 to store the factorial of the given number.\n",
    "3. (Option 1: For Loop Approach)\n",
    "   - Initialize a variable `number` with the user input integer.\n",
    "   - Use a \"for\" loop with the range `range(1, number+1)` to calculate the factorial.\n",
    "   - Inside the loop, multiply the current `fact` with the current loop variable `i`.\n",
    "   - The loop variable `i` will take values from 1 to `number` (inclusive) in each iteration.\n",
    "   - Continue with the next iteration of the loop until the loop variable reaches `number+1`.\n",
    "   - After the loop finishes, `fact` will hold the factorial of the given number using the \"for\" loop approach.\n",
    "4. (Option 2: While Loop Approach)\n",
    "   - Initialize a variable `number` with the user input integer.\n",
    "   - Use a \"while\" loop with the condition `number > 0` to calculate the factorial.\n",
    "   - Inside the loop, multiply the current `fact` with the value of `number`.\n",
    "   - Decrement the value of `number` by 1 in each iteration.\n",
    "   - Continue with the next iteration of the loop until `number` becomes 0.\n",
    "   - After the loop finishes, `fact` will hold the factorial of the given number using the \"while\" loop approach.\n",
    "\n",
    "\n",
    "5. (Option 3: Both Loops)\n",
    "   - Follow steps 3 and 4 for both the \"while\" loop and the \"for\" loop to calculate and display the factorial of the given number using both approaches.\n",
    "\n"
   ]
  },
  {
   "cell_type": "code",
   "execution_count": 8,
   "id": "3b8d2900",
   "metadata": {},
   "outputs": [
    {
     "name": "stdout",
     "output_type": "stream",
     "text": [
      "Enter number5\n",
      "Factorial of given number is:  120\n"
     ]
    }
   ],
   "source": [
    "# using for loop\n",
    "number = int(input('Enter number'))\n",
    "fact = 1 # assigning the initial factorial value to 1\n",
    "for i in range(1,number+1):\n",
    "    fact *= i\n",
    "print(\"Factorial of given number is: \",fact)"
   ]
  },
  {
   "cell_type": "code",
   "execution_count": 9,
   "id": "ab49fe02",
   "metadata": {},
   "outputs": [
    {
     "name": "stdout",
     "output_type": "stream",
     "text": [
      "Enter number12\n",
      "Factorial of given number is:  479001600\n"
     ]
    }
   ],
   "source": [
    "# using while loop\n",
    "number = int(input('Enter number'))\n",
    "\n",
    "fact = 1 # assigning the initial factorial value to 1\n",
    "\n",
    "while number > 0:\n",
    "    fact *= number\n",
    "    number -= 1\n",
    "print(\"Factorial of given number is: \",fact)"
   ]
  },
  {
   "cell_type": "markdown",
   "id": "b698ff91",
   "metadata": {},
   "source": [
    "# 5. Calculating Sum of Even Numbers in a Range\n",
    "\n",
    "Problem Statement: Calculating Sum of Even Numbers in a Range using For Loop or While Loop\n",
    "\n",
    "Write a Python program to calculate the sum of even numbers within a given range of integers. Prompt the user to enter the start and end numbers for the range. The program should then provide the option for the programmer to choose between using a \"for\" loop or a \"while\" loop, or both, to iterate through the range and calculate the sum of even numbers. Finally, display the sum of even numbers within the given range based on the chosen loop approach.\n",
    "\n",
    "Description:\n",
    "1. Prompt the user to input the start and end numbers for the range.\n",
    "2. Initialize a variable `even_sum` with 0 to store the sum of even numbers within the range.\n",
    "3. (Option 1: For Loop Approach)\n",
    "   - Use a \"for\" loop with the range `range(start, end+1)` to iterate through the range of numbers.\n",
    "   - Inside the loop, check if the current number (`num`) is even by using the condition `num % 2 == 0`.\n",
    "   - If the current number is even, add it to the current sum `even_sum`.\n",
    "   - Continue with the next iteration of the loop until all numbers in the range are processed.\n",
    "   - After the loop finishes, `even_sum` will hold the sum of even numbers within the given range using the \"for\" loop approach.\n",
    "   - At last print the result using f-string format f\"Sum of even numbers between {start} and {end} is {even_sum}\"\n",
    "\n",
    "4. (Option 2: While Loop Approach)\n",
    "   - Initialize a variable `temp` with the value of `start`.\n",
    "   - Use a \"while\" loop with the condition `temp <= end` to iterate through the range of numbers.\n",
    "   - Inside the loop, check if the current number (`temp`) is even by using the condition `temp % 2 == 0`.\n",
    "   - If the current number is even, add it to the current sum `even_sum`.\n",
    "   - Increment the value of `temp` by 1 in each iteration to move to the next number in the range.\n",
    "   - Continue with the next iteration of the loop until the value of `temp` exceeds `end`.\n",
    "   - After the loop finishes, `even_sum` will hold the sum of even numbers within the given range using the \"while\" loop approach.\n",
    "   - At last print the result using f-string format f\"Sum of even numbers between {start} and {end} is {even_sum}\"\n",
    "\n",
    "5. (Option 3: Both Loops)\n",
    "   - Follow steps 3 and 4 for both the \"for\" loop and the \"while\" loop to calculate and display the sum of even numbers within the given range using both approaches.\n",
    "\n",
    "    "
   ]
  },
  {
   "cell_type": "code",
   "execution_count": 10,
   "id": "2e7f8fe5",
   "metadata": {},
   "outputs": [
    {
     "name": "stdout",
     "output_type": "stream",
     "text": [
      "Enter start number: 2\n",
      "Enter end number: 5\n",
      "Sum of even numbers between 2 and 5 is 6\n"
     ]
    }
   ],
   "source": [
    "# uisng for loop\n",
    "start = int(input(\"Enter start number: \"))\n",
    "end = int(input('Enter end number: '))\n",
    "\n",
    "even_sum = 0\n",
    "for num in range(start, end+1):\n",
    "    if num % 2 == 0:\n",
    "        even_sum += num\n",
    "print(f\"Sum of even numbers between {start} and {end} is {even_sum}\")"
   ]
  },
  {
   "cell_type": "code",
   "execution_count": 11,
   "id": "8189e960",
   "metadata": {
    "scrolled": true
   },
   "outputs": [
    {
     "name": "stdout",
     "output_type": "stream",
     "text": [
      "Enter start number: 4\n",
      "Enter end number: 12\n",
      "Sum of even numbers between 4 and 12 is 40\n"
     ]
    }
   ],
   "source": [
    "# using while loop\n",
    "start = int(input(\"Enter start number: \"))\n",
    "end = int(input('Enter end number: '))\n",
    "even_sum = 0\n",
    "\n",
    "temp = start\n",
    "while temp <= end:\n",
    "    if temp % 2 == 0:\n",
    "        even_sum += temp\n",
    "    temp += 1\n",
    "print(f\"Sum of even numbers between {start} and {end} is {even_sum}\")"
   ]
  },
  {
   "cell_type": "markdown",
   "id": "f5de0c03",
   "metadata": {},
   "source": [
    "If you find this content interesting and for more of this kind of content explore my YTChannel: https://www.youtube.com/@MaheshJaviniki"
   ]
  },
  {
   "cell_type": "code",
   "execution_count": null,
   "id": "bfb7d87e",
   "metadata": {},
   "outputs": [],
   "source": []
  }
 ],
 "metadata": {
  "kernelspec": {
   "display_name": "Python 3 (ipykernel)",
   "language": "python",
   "name": "python3"
  },
  "language_info": {
   "codemirror_mode": {
    "name": "ipython",
    "version": 3
   },
   "file_extension": ".py",
   "mimetype": "text/x-python",
   "name": "python",
   "nbconvert_exporter": "python",
   "pygments_lexer": "ipython3",
   "version": "3.9.12"
  }
 },
 "nbformat": 4,
 "nbformat_minor": 5
}
