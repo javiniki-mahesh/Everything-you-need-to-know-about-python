{
 "cells": [
  {
   "cell_type": "markdown",
   "id": "164aefbc",
   "metadata": {},
   "source": [
    "# Everything you need to know about python\n",
    "## In simplest possible way"
   ]
  },
  {
   "cell_type": "markdown",
   "id": "ca7b1bcd",
   "metadata": {},
   "source": [
    "# List Introduction & List creation"
   ]
  },
  {
   "cell_type": "markdown",
   "id": "42512259",
   "metadata": {},
   "source": [
    "## 1. Collection of elements as a single entity\n",
    "## 2. Insertion order is preserved.\n",
    "## 3. You can have any type of data in list\n",
    "## 4. No fixed size\n",
    "## 5. Lists are mutable"
   ]
  },
  {
   "cell_type": "markdown",
   "id": "d5a40d86",
   "metadata": {},
   "source": [
    "# List Creation"
   ]
  },
  {
   "cell_type": "markdown",
   "id": "7fc30faa",
   "metadata": {},
   "source": [
    "- We can create a list in two differnt ways\n",
    "    - Using []\n",
    "    - Using list() method"
   ]
  },
  {
   "cell_type": "markdown",
   "id": "2365b137",
   "metadata": {},
   "source": [
    "## Using[]"
   ]
  },
  {
   "cell_type": "markdown",
   "id": "eb462e08",
   "metadata": {},
   "source": [
    "- Creating an empty list"
   ]
  },
  {
   "cell_type": "code",
   "execution_count": 4,
   "id": "e2c858fb",
   "metadata": {
    "scrolled": true
   },
   "outputs": [
    {
     "name": "stdout",
     "output_type": "stream",
     "text": [
      " The type is  <class 'list'>\n"
     ]
    }
   ],
   "source": [
    "bmy_list = []\n",
    "print(' The type is ', type(my_list))"
   ]
  },
  {
   "cell_type": "markdown",
   "id": "c3c61bf1",
   "metadata": {},
   "source": [
    "- Creating a list with some elements\n",
    "    - Lists can have the elements of different type"
   ]
  },
  {
   "cell_type": "code",
   "execution_count": 6,
   "id": "c67fe0f5",
   "metadata": {},
   "outputs": [
    {
     "name": "stdout",
     "output_type": "stream",
     "text": [
      "[10, 20, 30, 'like', [], (1, 2)]\n",
      "<class 'list'>\n"
     ]
    }
   ],
   "source": [
    "my_list1 = [10, 20, 30, 'like', [], (1,2)]\n",
    "print(my_list1)\n",
    "print(type(my_list1))"
   ]
  },
  {
   "cell_type": "markdown",
   "id": "b9347893",
   "metadata": {},
   "source": [
    "## Using list()"
   ]
  },
  {
   "cell_type": "markdown",
   "id": "f0a5c12a",
   "metadata": {},
   "source": [
    "- We can create list using list() method, to do that we need to pass and iterable to it."
   ]
  },
  {
   "cell_type": "code",
   "execution_count": 7,
   "id": "0d6c6999",
   "metadata": {},
   "outputs": [
    {
     "name": "stdout",
     "output_type": "stream",
     "text": [
      "['l', 'i', 'k', 'e']\n",
      "<class 'list'>\n"
     ]
    }
   ],
   "source": [
    "like_str = list('like')\n",
    "print(like_str)\n",
    "print(type(like_str))"
   ]
  },
  {
   "cell_type": "markdown",
   "id": "bdeddf46",
   "metadata": {},
   "source": [
    "    string is an iterable, when we pass the strint to list(), we are getting a list with each character inside of the list."
   ]
  },
  {
   "cell_type": "code",
   "execution_count": 8,
   "id": "9fa4e568",
   "metadata": {
    "scrolled": true
   },
   "outputs": [
    {
     "name": "stdout",
     "output_type": "stream",
     "text": [
      "[1, 2, 3]\n"
     ]
    }
   ],
   "source": [
    "print(list([1,2,3]))"
   ]
  },
  {
   "cell_type": "markdown",
   "id": "b099a5f4",
   "metadata": {},
   "source": [
    "    passing a list to list() method"
   ]
  },
  {
   "cell_type": "code",
   "execution_count": 9,
   "id": "d7aea689",
   "metadata": {},
   "outputs": [
    {
     "name": "stdout",
     "output_type": "stream",
     "text": [
      "[1, 2, 3]\n"
     ]
    }
   ],
   "source": [
    "print(list((1,2,3)))"
   ]
  },
  {
   "cell_type": "markdown",
   "id": "dd8648b6",
   "metadata": {},
   "source": [
    "    Passing a tuple to list"
   ]
  },
  {
   "cell_type": "code",
   "execution_count": 10,
   "id": "37e3d885",
   "metadata": {},
   "outputs": [
    {
     "name": "stdout",
     "output_type": "stream",
     "text": [
      "[]\n"
     ]
    }
   ],
   "source": [
    "print(list([]))"
   ]
  },
  {
   "cell_type": "markdown",
   "id": "93d333e0",
   "metadata": {},
   "source": [
    "    Passing an empty list"
   ]
  },
  {
   "cell_type": "code",
   "execution_count": 11,
   "id": "66d085d3",
   "metadata": {},
   "outputs": [
    {
     "name": "stdout",
     "output_type": "stream",
     "text": [
      "[]\n"
     ]
    }
   ],
   "source": [
    "print(list(''))"
   ]
  },
  {
   "cell_type": "markdown",
   "id": "ce3b37f5",
   "metadata": {},
   "source": [
    "    Passing an empty string resulted an empty list"
   ]
  },
  {
   "cell_type": "code",
   "execution_count": 12,
   "id": "f2581f7b",
   "metadata": {},
   "outputs": [
    {
     "name": "stdout",
     "output_type": "stream",
     "text": [
      "[]\n"
     ]
    }
   ],
   "source": [
    "print(list())"
   ]
  },
  {
   "cell_type": "markdown",
   "id": "4f94bdd3",
   "metadata": {},
   "source": [
    "    If we don't pass anything to it we will still get an empty list"
   ]
  },
  {
   "cell_type": "code",
   "execution_count": 12,
   "id": "c30e0352",
   "metadata": {},
   "outputs": [
    {
     "ename": "TypeError",
     "evalue": "'int' object is not iterable",
     "output_type": "error",
     "traceback": [
      "\u001b[1;31m---------------------------------------------------------------------------\u001b[0m",
      "\u001b[1;31mTypeError\u001b[0m                                 Traceback (most recent call last)",
      "Input \u001b[1;32mIn [12]\u001b[0m, in \u001b[0;36m<cell line: 1>\u001b[1;34m()\u001b[0m\n\u001b[1;32m----> 1\u001b[0m \u001b[38;5;28mprint\u001b[39m(\u001b[38;5;28;43mlist\u001b[39;49m\u001b[43m(\u001b[49m\u001b[38;5;241;43m5\u001b[39;49m\u001b[43m)\u001b[49m)\n",
      "\u001b[1;31mTypeError\u001b[0m: 'int' object is not iterable"
     ]
    }
   ],
   "source": [
    "print(list(5))"
   ]
  },
  {
   "cell_type": "markdown",
   "id": "3fad856e",
   "metadata": {},
   "source": [
    "    If we pass a non iterable we well get an error"
   ]
  },
  {
   "cell_type": "markdown",
   "id": "2da31b26",
   "metadata": {},
   "source": [
    "For more this kind of content subscribe https://www.youtube.com/@MaheshJaviniki"
   ]
  }
 ],
 "metadata": {
  "kernelspec": {
   "display_name": "Python 3 (ipykernel)",
   "language": "python",
   "name": "python3"
  },
  "language_info": {
   "codemirror_mode": {
    "name": "ipython",
    "version": 3
   },
   "file_extension": ".py",
   "mimetype": "text/x-python",
   "name": "python",
   "nbconvert_exporter": "python",
   "pygments_lexer": "ipython3",
   "version": "3.9.12"
  }
 },
 "nbformat": 4,
 "nbformat_minor": 5
}
