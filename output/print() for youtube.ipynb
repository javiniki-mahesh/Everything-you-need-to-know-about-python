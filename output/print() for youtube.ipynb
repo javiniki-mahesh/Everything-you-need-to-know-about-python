{
 "cells": [
  {
   "cell_type": "markdown",
   "id": "56e99904",
   "metadata": {},
   "source": [
    "# Everything you need to know about python:\n",
    "## In simplest possible way"
   ]
  },
  {
   "cell_type": "markdown",
   "id": "a202f12f",
   "metadata": {},
   "source": [
    "# Print()"
   ]
  },
  {
   "cell_type": "markdown",
   "id": "e53c5183",
   "metadata": {},
   "source": [
    "    print() function is used to display output to the console or terminal. It allows you to print various types of data, such as strings, numbers, and variables. The print() function is one of the most commonly used functions in Python and is essential for debugging, logging, and displaying information to users."
   ]
  },
  {
   "cell_type": "code",
   "execution_count": 18,
   "id": "4586d387",
   "metadata": {},
   "outputs": [
    {
     "name": "stdout",
     "output_type": "stream",
     "text": [
      "Mahesh\n"
     ]
    }
   ],
   "source": [
    "print(\"Mahesh\") # we can pass the message in double quotes(\"\")"
   ]
  },
  {
   "cell_type": "code",
   "execution_count": 19,
   "id": "a6d1bcd3",
   "metadata": {},
   "outputs": [
    {
     "name": "stdout",
     "output_type": "stream",
     "text": [
      "Mahesh\n"
     ]
    }
   ],
   "source": [
    "print('Mahesh') # we can pass the message in single quotes('')"
   ]
  },
  {
   "cell_type": "code",
   "execution_count": 20,
   "id": "7d2ac7a5",
   "metadata": {},
   "outputs": [
    {
     "name": "stdout",
     "output_type": "stream",
     "text": [
      "Mahesh\n"
     ]
    }
   ],
   "source": [
    "print('''Mahesh''') # we can pass the message in combination of 3 double or single quotes"
   ]
  },
  {
   "cell_type": "code",
   "execution_count": 4,
   "id": "b8f7a534",
   "metadata": {},
   "outputs": [],
   "source": [
    "# let us these variables to understand print in a better way\n",
    "name = \"Mahesh\"\n",
    "age = 21\n",
    "location = \"India\""
   ]
  },
  {
   "cell_type": "markdown",
   "id": "f94189e2",
   "metadata": {},
   "source": [
    "```python\n",
    "print(value, ..., sep=' ', end='\\n', file=sys.stdout, flush=False)\n",
    "print parameters\n",
    "```"
   ]
  },
  {
   "cell_type": "markdown",
   "id": "8e0fc747",
   "metadata": {},
   "source": [
    "## end"
   ]
  },
  {
   "cell_type": "code",
   "execution_count": 5,
   "id": "6cf3b913",
   "metadata": {},
   "outputs": [
    {
     "name": "stdout",
     "output_type": "stream",
     "text": [
      "Mahesh\n",
      "21\n",
      "India\n"
     ]
    }
   ],
   "source": [
    "print(name)\n",
    "print(age)\n",
    "print(location)"
   ]
  },
  {
   "cell_type": "markdown",
   "id": "b6f174e5",
   "metadata": {},
   "source": [
    "    By default when we pass variables to print in different line it takes the end argument as '\\n'"
   ]
  },
  {
   "cell_type": "code",
   "execution_count": 6,
   "id": "42d3be9c",
   "metadata": {},
   "outputs": [
    {
     "name": "stdout",
     "output_type": "stream",
     "text": [
      "Mahesh 21 India "
     ]
    }
   ],
   "source": [
    "print(name,end = ' ')\n",
    "print(age, end = ' ')\n",
    "print(location, end = ' ')"
   ]
  },
  {
   "cell_type": "markdown",
   "id": "3327594c",
   "metadata": {},
   "source": [
    "    We can override that by out own interesting character for ex: I have passed a single space ' ' above"
   ]
  },
  {
   "cell_type": "markdown",
   "id": "58f994b9",
   "metadata": {},
   "source": [
    "## sep"
   ]
  },
  {
   "cell_type": "code",
   "execution_count": 8,
   "id": "00f941cb",
   "metadata": {},
   "outputs": [
    {
     "name": "stdout",
     "output_type": "stream",
     "text": [
      "Mahesh 21 India\n"
     ]
    }
   ],
   "source": [
    "print(name, age, location)"
   ]
  },
  {
   "cell_type": "markdown",
   "id": "8b6591df",
   "metadata": {},
   "source": [
    "    By default when we pass all arguments in single line the deafault sep argument is a single space ' '"
   ]
  },
  {
   "cell_type": "code",
   "execution_count": 10,
   "id": "91f52f3c",
   "metadata": {},
   "outputs": [
    {
     "name": "stdout",
     "output_type": "stream",
     "text": [
      "Mahesh\n",
      "21\n",
      "India\n"
     ]
    }
   ],
   "source": [
    "print(name, age, location,sep = '\\n')"
   ]
  },
  {
   "cell_type": "markdown",
   "id": "9049924d",
   "metadata": {},
   "source": [
    "    We can override with out own interested character, here I have given a new line character '\\n'"
   ]
  },
  {
   "cell_type": "markdown",
   "id": "2b958363",
   "metadata": {},
   "source": [
    "## output formatting"
   ]
  },
  {
   "cell_type": "markdown",
   "id": "820c322e",
   "metadata": {},
   "source": [
    "```python\n",
    "If we want to print a meaningful statement like below\n",
    "Name is Mahesh, age is 21 and location is India\n",
    "```"
   ]
  },
  {
   "cell_type": "code",
   "execution_count": 32,
   "id": "792a8891",
   "metadata": {},
   "outputs": [
    {
     "name": "stdout",
     "output_type": "stream",
     "text": [
      "Name is Mahesh , age is  21  and location is  India\n"
     ]
    }
   ],
   "source": [
    "# we can use this approach, but it is not so good, for the reason everytime we need to put commas and place the variables properly\n",
    "print('Name is', name,', age is ',age,' and location is ',location)"
   ]
  },
  {
   "cell_type": "markdown",
   "id": "d3978ecf",
   "metadata": {},
   "source": [
    "    We have some good approaches than this to print a meaningful information as output"
   ]
  },
  {
   "cell_type": "markdown",
   "id": "b3244d59",
   "metadata": {},
   "source": [
    "That we have discussed in our youtube channel : https://www.youtube.com/@MaheshJaviniki subscribe for more of python tutorials"
   ]
  },
  {
   "cell_type": "code",
   "execution_count": null,
   "id": "a8adcd4c",
   "metadata": {},
   "outputs": [],
   "source": []
  }
 ],
 "metadata": {
  "kernelspec": {
   "display_name": "Python 3 (ipykernel)",
   "language": "python",
   "name": "python3"
  },
  "language_info": {
   "codemirror_mode": {
    "name": "ipython",
    "version": 3
   },
   "file_extension": ".py",
   "mimetype": "text/x-python",
   "name": "python",
   "nbconvert_exporter": "python",
   "pygments_lexer": "ipython3",
   "version": "3.9.12"
  }
 },
 "nbformat": 4,
 "nbformat_minor": 5
}
